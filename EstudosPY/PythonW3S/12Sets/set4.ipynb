{
 "cells": [
  {
   "cell_type": "markdown",
   "metadata": {},
   "source": [
    "# Remover itens de conjunto \n",
    "\n",
    "#### Remover item \n",
    "\n",
    "Para remover um item em um conjunto, use o método `remove()` ou o `discard()`\n",
    "\n"
   ]
  },
  {
   "cell_type": "code",
   "execution_count": 1,
   "metadata": {},
   "outputs": [
    {
     "name": "stdout",
     "output_type": "stream",
     "text": [
      "{44, 52, 23}\n"
     ]
    }
   ],
   "source": [
    "set_numbers = {23,44,52,12}\n",
    "set_numbers.remove(12)\n",
    "print(set_numbers)"
   ]
  },
  {
   "cell_type": "markdown",
   "metadata": {},
   "source": [
    "se o item a ser removido não existir, gerará um erro `remove()`\n",
    "\n",
    "Voce também pode usar o método `pop()` para remover um item, mas esse método removerá um item aleatório, portanto, você não pode ter certeza de qual item será removido. \n",
    "\n",
    "O valor de retorno do métodom `pop()` é o item removido."
   ]
  },
  {
   "cell_type": "code",
   "execution_count": 2,
   "metadata": {},
   "outputs": [
    {
     "name": "stdout",
     "output_type": "stream",
     "text": [
      "44\n",
      "{12, 52, 23}\n"
     ]
    }
   ],
   "source": [
    "set_numbers = {23,44,52,12}\n",
    "remover_num = set_numbers.pop()\n",
    "\n",
    "print(remover_num)\n",
    "\n",
    "print(set_numbers)"
   ]
  },
  {
   "cell_type": "markdown",
   "metadata": {},
   "source": [
    "Os conjuntos não são ordenados , portanto, ao usar o método `pop()`, você não sabe qual item é removido."
   ]
  },
  {
   "cell_type": "markdown",
   "metadata": {},
   "source": [
    "O método clear() esvazia o conjunto:"
   ]
  },
  {
   "cell_type": "code",
   "execution_count": 3,
   "metadata": {},
   "outputs": [
    {
     "name": "stdout",
     "output_type": "stream",
     "text": [
      "set()\n"
     ]
    }
   ],
   "source": [
    "set_numbers = {23,44,52,12}\n",
    "set_numbers.clear()\n",
    "print(set_numbers)"
   ]
  },
  {
   "cell_type": "markdown",
   "metadata": {},
   "source": [
    "A palavra-chave `del` escluirá o cojunto completamente.\n",
    "\n"
   ]
  },
  {
   "cell_type": "code",
   "execution_count": null,
   "metadata": {},
   "outputs": [],
   "source": [
    "set_numbers = {23,44,52,12}\n",
    "del set_numbers \n",
    "print(set_numbers)"
   ]
  }
 ],
 "metadata": {
  "kernelspec": {
   "display_name": "Python 3",
   "language": "python",
   "name": "python3"
  },
  "language_info": {
   "codemirror_mode": {
    "name": "ipython",
    "version": 3
   },
   "file_extension": ".py",
   "mimetype": "text/x-python",
   "name": "python",
   "nbconvert_exporter": "python",
   "pygments_lexer": "ipython3",
   "version": "3.11.9"
  }
 },
 "nbformat": 4,
 "nbformat_minor": 2
}
