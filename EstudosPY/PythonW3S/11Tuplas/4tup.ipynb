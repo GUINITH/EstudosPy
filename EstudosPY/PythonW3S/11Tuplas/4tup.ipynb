{
 "cells": [
  {
   "cell_type": "markdown",
   "metadata": {},
   "source": [
    "# Descompacte Tuplas \n",
    "\n",
    "### Desempacotando uma Tupla \n",
    "\n",
    "Quando criamos uma tupla, normalmente atribuimos valores a ela. Isso é chamado de 'empacotar' uma tupla: \n",
    "\n",
    "##### Exemplo:\n"
   ]
  },
  {
   "cell_type": "code",
   "execution_count": 1,
   "metadata": {},
   "outputs": [],
   "source": [
    "frutas = ('Amora', 'Morango', 'Laranja')"
   ]
  }
 ],
 "metadata": {
  "kernelspec": {
   "display_name": "Python 3",
   "language": "python",
   "name": "python3"
  },
  "language_info": {
   "codemirror_mode": {
    "name": "ipython",
    "version": 3
   },
   "file_extension": ".py",
   "mimetype": "text/x-python",
   "name": "python",
   "nbconvert_exporter": "python",
   "pygments_lexer": "ipython3",
   "version": "3.11.9"
  }
 },
 "nbformat": 4,
 "nbformat_minor": 2
}
