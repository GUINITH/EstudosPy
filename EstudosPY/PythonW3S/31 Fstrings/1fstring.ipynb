{
 "cells": [
  {
   "cell_type": "markdown",
   "metadata": {},
   "source": [
    "# Formatação de cadeia de caracteres Python \n",
    "\n",
    "F-String foi introduzido em Python 3.6, e agora é a maneira preferida de formatar cadeias de caracteres.\n",
    "\n",
    "Antes do Python 3.6 tinhamos que usar o método `format()`\n",
    "\n",
    "## F-string\n",
    "\n",
    "F-string permite formatar partes selecionadas de uma cadeia de caracteres. \n",
    "\n",
    "Para especificar uma cadeia de caracterers como uma cadeia de caracteres f, basta colocar um na frente da cadeia de caracteres literal, assim: `f`\n",
    "\n",
    "Crie uma cadeia de caracteres f: \n",
    "\n"
   ]
  },
  {
   "cell_type": "code",
   "execution_count": 1,
   "metadata": {},
   "outputs": [
    {
     "name": "stdout",
     "output_type": "stream",
     "text": [
      "Bom dia a todos!\n"
     ]
    }
   ],
   "source": [
    "txt = f'Bom dia a todos!'\n",
    "print(txt)\n"
   ]
  },
  {
   "cell_type": "markdown",
   "metadata": {},
   "source": [
    "## Espaçocs reservados e modificadores \n",
    "\n",
    "Para formatar valores em uma cadeia de caracters f, adicione espaços reservados, um espaço reservado pode conter variáveis, operações, funções modificadores para formatar o valor ``{}``.\n",
    "\n",
    "adicione um espaço reservado para variavel `idade`:"
   ]
  },
  {
   "cell_type": "code",
   "execution_count": 2,
   "metadata": {},
   "outputs": [
    {
     "name": "stdout",
     "output_type": "stream",
     "text": [
      "quantos anos você tem? 34 anos\n"
     ]
    }
   ],
   "source": [
    "idade = 34 \n",
    "\n",
    "txt = f'quantos anos você tem? {idade} anos'\n",
    "print(txt)"
   ]
  },
  {
   "cell_type": "markdown",
   "metadata": {},
   "source": [
    "Um espaço reservado também pode incluir um modificiador para formatar o valor. \n",
    "\n",
    "Um modificador é incluído adicionado odis pontos seguido por um tipo de formatação legal, como o que significa número de ponto fixo com 2 decimais: \n",
    "\n"
   ]
  },
  {
   "cell_type": "code",
   "execution_count": 3,
   "metadata": {},
   "outputs": [
    {
     "name": "stdout",
     "output_type": "stream",
     "text": [
      "A banana está custando 34.00 reais\n"
     ]
    }
   ],
   "source": [
    "preço = 34 \n",
    "\n",
    "txt = f'A banana está custando {idade:.2f} reais'\n",
    "print(txt)"
   ]
  },
  {
   "cell_type": "markdown",
   "metadata": {},
   "source": [
    "Você também pode formatar um valor diretamente sem mantêlo em uma variável: \n",
    "\n",
    "exiba um valor com 2 decimais:"
   ]
  },
  {
   "cell_type": "code",
   "execution_count": 9,
   "metadata": {},
   "outputs": [
    {
     "name": "stdout",
     "output_type": "stream",
     "text": [
      "Tenho apenas 50.00 reais no pix\n"
     ]
    }
   ],
   "source": [
    "txt = f'Tenho apenas {50:.2f} reais no pix'\n",
    "print(txt)"
   ]
  },
  {
   "cell_type": "markdown",
   "metadata": {},
   "source": [
    "## Executar operaçoes em f-strings \n",
    "\n",
    "Você pode executar operações Python dentro dos espaços reservados. \n",
    "\n",
    "Você pode fazer operações matemáticas: \n",
    "\n",
    "Execute uma operação matemática no espeaço reservado e retorne o resultado: "
   ]
  },
  {
   "cell_type": "code",
   "execution_count": 10,
   "metadata": {},
   "outputs": [
    {
     "data": {
      "text/plain": [
       "'eu preciso gastar em torno de  1000 reais'"
      ]
     },
     "execution_count": 10,
     "metadata": {},
     "output_type": "execute_result"
    }
   ],
   "source": [
    "txt = f'eu preciso gastar em torno de  {20 * 50} reais'\n",
    "txt "
   ]
  },
  {
   "cell_type": "markdown",
   "metadata": {},
   "source": [
    "Você pode executar operações matemáticas com variáveis também: \n"
   ]
  },
  {
   "cell_type": "code",
   "execution_count": 11,
   "metadata": {},
   "outputs": [
    {
     "data": {
      "text/plain": [
       "'O litro da gasolina com os impostas inclusos é: 89 reais'"
      ]
     },
     "execution_count": 11,
     "metadata": {},
     "output_type": "execute_result"
    }
   ],
   "source": [
    "valor1,valor2 = 34, 55 \n",
    "txt = f'O litro da gasolina com os impostas inclusos é: {valor1 + valor2} reais'\n",
    "txt "
   ]
  },
  {
   "cell_type": "markdown",
   "metadata": {},
   "source": [
    "retorne 'caro' se o valor for superio a 50, caso contrário retorne barato: \n"
   ]
  },
  {
   "cell_type": "code",
   "execution_count": 4,
   "metadata": {},
   "outputs": [
    {
     "data": {
      "text/plain": [
       "'Os kg do frango Barato'"
      ]
     },
     "execution_count": 4,
     "metadata": {},
     "output_type": "execute_result"
    }
   ],
   "source": [
    "valor = 49 \n",
    "txt = f\"Os kg do frango {'Caro' if valor>50 else 'Barato'}\"\n",
    "txt"
   ]
  },
  {
   "cell_type": "markdown",
   "metadata": {},
   "source": [
    "## Executar funções em F-Strings \n",
    "\n",
    "Você póde executar funçõies dentro do espaço reservado: \n",
    "\n",
    "Use o método string upper() para converter um valor em letras maiusculas: \n"
   ]
  },
  {
   "cell_type": "code",
   "execution_count": 5,
   "metadata": {},
   "outputs": [
    {
     "name": "stdout",
     "output_type": "stream",
     "text": [
      "Eu amo MAÇÃ\n"
     ]
    }
   ],
   "source": [
    "frutas = 'maçã'\n",
    "txt = f'Eu amo {frutas.upper()}'\n",
    "print(txt)"
   ]
  },
  {
   "cell_type": "markdown",
   "metadata": {},
   "source": [
    "A função não precisa ser um método Python embutido, você pode criar suas proprias funções e usá-las: "
   ]
  },
  {
   "cell_type": "code",
   "execution_count": 9,
   "metadata": {},
   "outputs": [
    {
     "name": "stdout",
     "output_type": "stream",
     "text": [
      "O número 20 é um número par? Sim 20 é um numero par\n"
     ]
    }
   ],
   "source": [
    "def verificar_numeros_pares(x):\n",
    "    if x % 2 == 0: \n",
    "        return f'Sim {x} é um numero par'\n",
    "    else:\n",
    "        return f'{x} não é um numero par'\n",
    "\n",
    "txt = f'O número 20 é um número par? {verificar_numeros_pares(20)}'\n",
    "print(txt)\n",
    "    "
   ]
  },
  {
   "cell_type": "markdown",
   "metadata": {},
   "source": [
    "## Mais modificadores \n",
    "\n",
    "No inicio deste capitulo, explicamos como usar o modificador para formate um número em um número de ponto fixo com 2 decimais: `x2f`\n",
    "\n",
    "Existem vários outros modificaroes que podem ser usados para formatar valores: \n",
    "\n",
    "Use uma virgula como separador de mil: \n"
   ]
  },
  {
   "cell_type": "code",
   "execution_count": 10,
   "metadata": {},
   "outputs": [
    {
     "name": "stdout",
     "output_type": "stream",
     "text": [
      "O preço da casa custa 60,000 reais\n"
     ]
    }
   ],
   "source": [
    "preco = 60000 \n",
    "txt = f'O preço da casa custa {preco:,} reais'\n",
    "print(txt)\n"
   ]
  },
  {
   "cell_type": "markdown",
   "metadata": {},
   "source": [
    "Aqui está uma lista de todos os tipos de formatação. \n",
    "\n",
    "\n",
    "1. **String**: `{}` ou `{:s}`\n",
    "2. **Inteiro**: `{:d}`\n",
    "3. **Float**: `{:f}`\n",
    "4. **Representação geral**: `{:g}`\n",
    "5. **Hexadecimal**: `{:x}` ou `{:X}`\n",
    "6. **Octal**: `{:o}`\n",
    "7. **Binário**: `{:b}`\n",
    "8. **Exponencial**: `{:e}` ou `{:E}`\n",
    "9. **Representação como String com cotações**: `{:!r}`\n",
    "10. **Percentagem**: `{: %}`\n",
    "11. **Preenchimento e alinhamento**:\n",
    "    - Esquerda: `{:<}`\n",
    "    - Direita: `{:>}`\n",
    "    - Centralizado: `{:^}`\n",
    "    - Sinal de mais: `{:+}`\n",
    "    - Espaço antes de números positivos: `{: }`\n",
    "12. **Comprimento mínimo do campo**: `{:N}` (onde `N` é o comprimento)\n",
    "13. **Precisão**: `{:.P}` (onde `P` é o número de casas decimais)\n",
    "\n",
    "Aqui estão os restantes tipos e opções de formatação com f-strings em Python, incluindo alguns exemplos de uso:\n",
    "\n",
    "14. **Preenchimento com caracteres**:\n",
    "    - Preenchimento com zero: `{:0N}` (onde `N` é o comprimento)\n",
    "    - Preenchimento com qualquer caractere: `{:{char}N}` (por exemplo, `{:*^10}` para preencher com asteriscos e centralizar)\n",
    "\n",
    "15. **Formatação de números com vírgula como separador de milhares**:\n",
    "    - `{:,}`\n",
    "\n",
    "16. **Formatação de números com separador de milhar personalizado**:\n",
    "    - `{:_}` (usa underline como separador de milhar)\n",
    "\n",
    "17. **Formatação de moeda**:\n",
    "    - `{:,.2f}` (formata com vírgulas e duas casas decimais)\n",
    "\n",
    "18. **Formatação de data e hora**:\n",
    "    - Para objetos datetime, usar métodos de formatação específicos: `datetime.now():%Y-%m-%d %H:%M:%S`\n",
    "\n",
    "19. **Representação alternativa (para binário, octal e hexadecimal)**:\n",
    "    - `{: #b}`, `{: #o}`, `{: #x}`\n",
    "\n",
    "20. **Formatação em notação científica com um número específico de dígitos significativos**:\n",
    "    - `{: .Ne}` (onde `N` é o número de dígitos significativos)\n",
    "\n",
    "21. **Formatação com parênteses para números negativos**:\n",
    "    - `{: (d)}`\n",
    "\n",
    "22. **Formatação personalizada usando `__format__`**:\n",
    "    - Implementação personalizada do método `__format__` em classes definidas pelo usuário."
   ]
  },
  {
   "cell_type": "markdown",
   "metadata": {},
   "source": [
    "    '## Formatação de cadeia de caracteres() \n",
    "\n",
    "Antes do Python 3.6 usávamos o método de `format()` para formatar strings. \n",
    "\n",
    "O método ainda pode ser usado, mas as cadeias de caracteres fg são rápidas e a maneira preferida de formatar cadeias de caracteres com ``format()``.\n",
    "\n",
    "Os próximos exemplos nesta página demostram como formatar cadeias de caracteres com método ``format()``. \n",
    "\n",
    "'O método também usa colchetes como espaços reservados, mas a sint  axe é ligeiramente diferente do ``formate() {}``.\n",
    "\n",
    "Adicione um espaço reservado onde deseja exibir o valor do peixe: "
   ]
  },
  {
   "cell_type": "code",
   "execution_count": 13,
   "metadata": {},
   "outputs": [
    {
     "name": "stdout",
     "output_type": "stream",
     "text": [
      "o peixe tá custando 34 reais\n"
     ]
    }
   ],
   "source": [
    "preco = 34 \n",
    "txt = \"o peixe tá custando {} reais\"\n",
    "print(txt.format(preco)) \n"
   ]
  },
  {
   "cell_type": "markdown",
   "metadata": {},
   "source": [
    "voce pode adicionar parâmetros dentro dos colchetes para especificar como converter o valor: \n",
    "\n",
    "Formate o preço a ser exibido como um número com duas casas decimais: \n"
   ]
  },
  {
   "cell_type": "code",
   "execution_count": 16,
   "metadata": {},
   "outputs": [
    {
     "name": "stdout",
     "output_type": "stream",
     "text": [
      "o preço é 34.00 reais\n"
     ]
    }
   ],
   "source": [
    "preco = 34 \n",
    "txt =  'o preço é {:.2f} reais'\n",
    "print(txt.format(preco)) "
   ]
  },
  {
   "cell_type": "markdown",
   "metadata": {},
   "source": [
    "## Valores Mútiplos \n",
    "\n",
    "Se você quiser usar valores, basta adicionar mais valores ao método format():\n"
   ]
  },
  {
   "cell_type": "code",
   "execution_count": 17,
   "metadata": {},
   "outputs": [
    {
     "name": "stdout",
     "output_type": "stream",
     "text": [
      "temos 4 caixas com itens de 300 unidades e o valor será 50.00 reais para queimar stock\n"
     ]
    }
   ],
   "source": [
    "qtd = 4\n",
    "itens = 300\n",
    "preço = 50 \n",
    "\n",
    "verificacao = \"temos {} caixas com itens de {} unidades e o valor será {:.2f} reais para queimar stock\"\n",
    "print(verificacao.format(qtd, itens, preço))\n"
   ]
  },
  {
   "cell_type": "markdown",
   "metadata": {},
   "source": [
    "## Numero do índice \n",
    "\n",
    "Você pode usar números de índice {um número dentro dos colchetes} ára ter certeza de que os valores são colocados nos espaços reservados corretos:"
   ]
  },
  {
   "cell_type": "code",
   "execution_count": 18,
   "metadata": {},
   "outputs": [
    {
     "name": "stdout",
     "output_type": "stream",
     "text": [
      "temos 4 caixas com itens de 300 unidades e o valor será 50.00 reais para queimar stock\n"
     ]
    }
   ],
   "source": [
    "qtd = 4\n",
    "itens = 300\n",
    "preço = 50 \n",
    "\n",
    "verificacao = \"temos {0} caixas com itens de {1} unidades e o valor será {2:.2f} reais para queimar stock\"\n",
    "print(verificacao.format(qtd, itens, preço))"
   ]
  },
  {
   "cell_type": "markdown",
   "metadata": {},
   "source": [
    "Além disso, se você quiser fazer referência ao mesmo valor mais de uma vez, use o número de índice: "
   ]
  },
  {
   "cell_type": "code",
   "execution_count": 21,
   "metadata": {},
   "outputs": [
    {
     "name": "stdout",
     "output_type": "stream",
     "text": [
      "Olá meu nome é Carlos. Carlos tem 25 anos!\n"
     ]
    }
   ],
   "source": [
    "idade = 25 \n",
    "nome = 'Carlos'\n",
    "apresentacao = 'Olá meu nome é {1}. {1} tem {0} anos!'\n",
    "print(apresentacao.format(idade, nome))"
   ]
  },
  {
   "cell_type": "markdown",
   "metadata": {},
   "source": [
    "## Indices nomeados \n",
    "\n",
    "Você também pode usar indices nomeados inserindo um nome dentro dos colchetes, mas então você deve usar nomes quando você passar os valores de parâmetro: ``{carname} txt.format(carname = 'fusca')``\n",
    "\n"
   ]
  },
  {
   "cell_type": "code",
   "execution_count": 22,
   "metadata": {},
   "outputs": [
    {
     "name": "stdout",
     "output_type": "stream",
     "text": [
      "Meu vô tem um Volkswagem, do modelo Fusca\n"
     ]
    }
   ],
   "source": [
    "carro = 'Meu vô tem um {carname}, do modelo {model}'\n",
    "print(carro.format(carname= 'Volkswagem', model = 'Fusca'))\n"
   ]
  }
 ],
 "metadata": {
  "kernelspec": {
   "display_name": "Python 3",
   "language": "python",
   "name": "python3"
  },
  "language_info": {
   "codemirror_mode": {
    "name": "ipython",
    "version": 3
   },
   "file_extension": ".py",
   "mimetype": "text/x-python",
   "name": "python",
   "nbconvert_exporter": "python",
   "pygments_lexer": "ipython3",
   "version": "3.11.9"
  }
 },
 "nbformat": 4,
 "nbformat_minor": 2
}
