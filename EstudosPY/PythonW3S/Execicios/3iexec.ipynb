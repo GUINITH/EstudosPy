{
 "cells": [
  {
   "cell_type": "markdown",
   "metadata": {},
   "source": [
    "Claro, aqui estão alguns exercícios para praticar com tuplas em Python:\n",
    "\n",
    "### Exercício 1: Criação e Acesso Básico\n",
    "1. Crie uma tupla chamada `frutas` contendo as seguintes frutas: \"maçã\", \"banana\", \"cereja\".\n",
    "2. Imprima a tupla completa.\n",
    "3. Acesse e imprima a primeira fruta da tupla.\n",
    "4. Acesse e imprima a última fruta da tupla."
   ]
  },
  {
   "cell_type": "code",
   "execution_count": 1,
   "metadata": {},
   "outputs": [
    {
     "name": "stdout",
     "output_type": "stream",
     "text": [
      "('banana', 'maçã', 'cereja')\n",
      "banana\n",
      "cereja\n"
     ]
    }
   ],
   "source": [
    "frutas = ('banana','maçã','cereja')\n",
    "print(frutas)\n",
    "print(frutas[0])\n",
    "print(frutas[2])"
   ]
  },
  {
   "cell_type": "markdown",
   "metadata": {},
   "source": [
    "### Exercício 2: Fatiamento de Tuplas\n",
    "1. Crie uma tupla chamada `numeros` contendo os números de 1 a 10.\n",
    "2. Imprima os primeiros 3 números da tupla.\n",
    "3. Imprima os últimos 3 números da tupla.\n",
    "4. Imprima os números do índice 3 ao 6 (inclusive)."
   ]
  },
  {
   "cell_type": "code",
   "execution_count": 7,
   "metadata": {},
   "outputs": [
    {
     "name": "stdout",
     "output_type": "stream",
     "text": [
      "(1, 2, 3, 4, 5, 6, 7, 8, 9, 10)\n",
      "(1, 2, 3)\n",
      "(8, 9, 10)\n",
      "(4, 5, 6, 7)\n"
     ]
    }
   ],
   "source": [
    "numeros = tuple(range(1,11))\n",
    "print(numeros)\n",
    "\n",
    "# imprimindo os 3 primeiros valores \n",
    "tres_primeiros_valores = numeros[:3]\n",
    "print(tres_primeiros_valores)\n",
    "\n",
    "# imprimindo os 3 últimos valores \n",
    "tres_ultimos_valores = numeros[-3:]\n",
    "print(tres_ultimos_valores)\n",
    "\n",
    "# imprimindo os numeros do indice 3 ao 6:\n",
    "indices = numeros[3:7]\n",
    "print(indices)"
   ]
  },
  {
   "cell_type": "markdown",
   "metadata": {},
   "source": [
    "### Exercício 3: Desempacotamento de Tuplas\n",
    "1. Crie uma tupla chamada `pessoa` contendo o nome, idade e cidade de uma pessoa (por exemplo: (\"João\", 25, \"São Paulo\")).\n",
    "2. Desempacote a tupla em variáveis separadas `nome`, `idade` e `cidade`.\n",
    "3. Imprima as variáveis separadamente."
   ]
  },
  {
   "cell_type": "code",
   "execution_count": 8,
   "metadata": {},
   "outputs": [
    {
     "name": "stdout",
     "output_type": "stream",
     "text": [
      "João 25 São Paulo\n"
     ]
    }
   ],
   "source": [
    "pessoa = (\"João\", 25, \"São Paulo\")\n",
    "nome,idade,cidade = pessoa\n",
    "print(nome,idade,cidade)"
   ]
  },
  {
   "cell_type": "markdown",
   "metadata": {},
   "source": [
    "### Exercício 4: Verificação de Existência\n",
    "1. Crie uma tupla chamada `cores` contendo as cores: \"vermelho\", \"verde\", \"azul\", \"amarelo\".\n",
    "2. Verifique se a cor \"verde\" está na tupla e imprima o resultado.\n",
    "3. Verifique se a cor \"roxo\" está na tupla e imprima o resultado."
   ]
  },
  {
   "cell_type": "code",
   "execution_count": 9,
   "metadata": {},
   "outputs": [
    {
     "name": "stdout",
     "output_type": "stream",
     "text": [
      "Sim, existe\n"
     ]
    }
   ],
   "source": [
    "cores =(\"vermelho\", \"verde\", \"azul\", \"amarelo\")\n",
    "\n",
    "if 'verde' in cores:\n",
    "    print('Sim, existe')\n"
   ]
  },
  {
   "cell_type": "code",
   "execution_count": 10,
   "metadata": {},
   "outputs": [
    {
     "name": "stdout",
     "output_type": "stream",
     "text": [
      "Não existe\n"
     ]
    }
   ],
   "source": [
    "cores =(\"vermelho\", \"verde\", \"azul\", \"amarelo\")\n",
    "\n",
    "if 'roxe' in cores:\n",
    "    print('Sim, existe')\n",
    "else:\n",
    "    print('Não existe')"
   ]
  },
  {
   "cell_type": "markdown",
   "metadata": {},
   "source": [
    "### Exercício 5: Contagem e Índice\n",
    "1. Crie uma tupla chamada `alunos` contendo os nomes de alunos: \"Ana\", \"Carlos\", \"Maria\", \"Carlos\", \"José\".\n",
    "2. Conte quantas vezes o nome \"Carlos\" aparece na tupla e imprima o resultado.\n",
    "3. Encontre o índice da primeira ocorrência do nome \"Maria\" e imprima o resultado."
   ]
  },
  {
   "cell_type": "code",
   "execution_count": 12,
   "metadata": {},
   "outputs": [
    {
     "name": "stdout",
     "output_type": "stream",
     "text": [
      "2\n",
      "2\n"
     ]
    }
   ],
   "source": [
    "alunos = (\"Ana\", \"Carlos\", \"Maria\", \"Carlos\", \"José\")\n",
    "print(alunos.count('Carlos'))\n",
    "print(alunos.index('Maria'))\n"
   ]
  },
  {
   "cell_type": "markdown",
   "metadata": {},
   "source": [
    "### Exercício 6: Concatenando Tuplas\n",
    "1. Crie duas tuplas: `tupla1` contendo os números 1, 2, 3 e `tupla2` contendo os números 4, 5, 6.\n",
    "2. Concatene as duas tuplas em uma nova tupla chamada `tupla3`.\n",
    "3. Imprima a tupla resultante `tupla3`."
   ]
  },
  {
   "cell_type": "code",
   "execution_count": 16,
   "metadata": {},
   "outputs": [
    {
     "name": "stdout",
     "output_type": "stream",
     "text": [
      "(1, 2, 3, 4, 5, 6)\n"
     ]
    }
   ],
   "source": [
    "tupla1 = (1,2,3) \n",
    "tupla2 = (4,5,6)\n",
    "tupla3 = tupla1 + tupla2\n",
    "print(tupla3)"
   ]
  },
  {
   "cell_type": "markdown",
   "metadata": {},
   "source": [
    "### Exercício 7: Tuplas Aninhadas\n",
    "1. Crie uma tupla chamada `turmas` contendo duas tuplas internas: (\"Turma A\", 30 alunos) e (\"Turma B\", 25 alunos).\n",
    "2. Acesse e imprima a quantidade de alunos na \"Turma A\".\n",
    "3. Acesse e imprima a quantidade de alunos na \"Turma B\"."
   ]
  },
  {
   "cell_type": "code",
   "execution_count": 20,
   "metadata": {},
   "outputs": [
    {
     "name": "stdout",
     "output_type": "stream",
     "text": [
      "30 alunos\n",
      "25 alunos\n"
     ]
    }
   ],
   "source": [
    "turmas = ((\"Turma A\", '30 alunos'),(\"Turma B\", '25 alunos'))\n",
    "print(turmas[0][1])\n",
    "print(turmas[1][1])"
   ]
  },
  {
   "cell_type": "markdown",
   "metadata": {},
   "source": [
    "### Exercício 8: Conversão de Lista para Tupla\n",
    "1. Crie uma lista chamada `animais` contendo os seguintes animais: \"gato\", \"cachorro\", \"coelho\".\n",
    "2. Converta a lista `animais` em uma tupla chamada `tupla_animais`.\n",
    "3. Imprima a tupla resultante `tupla_animais`."
   ]
  },
  {
   "cell_type": "code",
   "execution_count": 21,
   "metadata": {},
   "outputs": [
    {
     "name": "stdout",
     "output_type": "stream",
     "text": [
      "('gato', 'cachorro', 'coelho')\n"
     ]
    }
   ],
   "source": [
    "animais = [\"gato\", \"cachorro\", \"coelho\"]\n",
    "tupla_animals = tuple(animais)\n",
    "print(tupla_animals)"
   ]
  },
  {
   "cell_type": "markdown",
   "metadata": {},
   "source": [
    "### Exercício 9: Comprimento da Tupla\n",
    "1. Crie uma tupla chamada `planetas` contendo os nomes dos planetas do Sistema Solar.\n",
    "2. Calcule e imprima o comprimento da tupla `planetas`."
   ]
  },
  {
   "cell_type": "code",
   "execution_count": 22,
   "metadata": {},
   "outputs": [
    {
     "name": "stdout",
     "output_type": "stream",
     "text": [
      "('Terra', 'Plutão', 'Marte')\n"
     ]
    }
   ],
   "source": [
    "planetas = ('Terra','Plutão','Marte')\n",
    "comprimento = len(planetas)\n",
    "print(planetas)"
   ]
  },
  {
   "cell_type": "markdown",
   "metadata": {},
   "source": [
    "### Exercício 10: Imutabilidade das Tuplas\n",
    "1. Crie uma tupla chamada `livros` contendo os títulos: \"1984\", \"Admirável Mundo Novo\", \"Fahrenheit 451\".\n",
    "2. Tente alterar o segundo elemento da tupla para \"Brave New Wo\"rld e observe o que acontece (comentando no código).\n",
    "3. Explique em um comentário por que a alteração não é permitida."
   ]
  },
  {
   "cell_type": "code",
   "execution_count": null,
   "metadata": {},
   "outputs": [],
   "source": [
    "livros = (\"1984\", \"Admirável Mundo Novo\", \"Fahrenheit 451\")\n",
    "livros[2] = tuple('Brave New World')\n",
    "print(livros)\n",
    "\n",
    "# Vai da erro porquê é impossivel alterar trupla dessa forma, para alterar precisa fazer conversão de tipo de dados, alterar e retornar a ser uma tupla novamente"
   ]
  }
 ],
 "metadata": {
  "kernelspec": {
   "display_name": "Python 3",
   "language": "python",
   "name": "python3"
  },
  "language_info": {
   "codemirror_mode": {
    "name": "ipython",
    "version": 3
   },
   "file_extension": ".py",
   "mimetype": "text/x-python",
   "name": "python",
   "nbconvert_exporter": "python",
   "pygments_lexer": "ipython3",
   "version": "3.11.9"
  }
 },
 "nbformat": 4,
 "nbformat_minor": 2
}
