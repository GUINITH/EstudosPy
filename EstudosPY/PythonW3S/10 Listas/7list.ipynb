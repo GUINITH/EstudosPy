{
 "cells": [
  {
   "cell_type": "markdown",
   "metadata": {},
   "source": [
    "# Python - compreensão de lista \n",
    "\n",
    "# Compreesão de lista \n",
    "\n",
    "A compreensão de lista oferece uma sintaxe mais curta quando você deseja criar uma nova lista com base nos valores de uma lista existente. \n",
    "\n",
    "##### Exemplo: \n",
    "\n",
    "Com base em uma lista de frutas, deseja-se uma nova lista, contendo apenas as frutas com a letra 'a' no nome. \n",
    "\n",
    "Sem compreêsão da lista você terá que escrever uma for declaração com um teste condicional dentro: \n",
    "\n",
    "##### Exemplo"
   ]
  },
  {
   "cell_type": "code",
   "execution_count": 1,
   "metadata": {},
   "outputs": [
    {
     "name": "stdout",
     "output_type": "stream",
     "text": [
      "['abacaxi', 'pera', 'maçã']\n"
     ]
    }
   ],
   "source": [
    "frutas = ['abacaxi', 'pera','maçã']\n",
    "nova_lista = []\n",
    "\n",
    "for fruta in frutas: \n",
    "    if 'a' in fruta:\n",
    "        nova_lista.append(fruta)\n",
    "\n",
    "print(nova_lista)"
   ]
  },
  {
   "cell_type": "markdown",
   "metadata": {},
   "source": [
    "Com a compreensão de listas você pode fazer tudo isso com apenas uma linha de código:\n",
    "\n",
    "Exemplo"
   ]
  },
  {
   "cell_type": "code",
   "execution_count": 3,
   "metadata": {},
   "outputs": [
    {
     "name": "stdout",
     "output_type": "stream",
     "text": [
      "['abacaxi', 'pera', 'maçã']\n"
     ]
    }
   ],
   "source": [
    "frutas = ['abacaxi', 'pera','maçã']\n",
    "nova_lista = [fruta for fruta in frutas if 'a' in fruta]\n",
    "print(nova_lista)"
   ]
  },
  {
   "cell_type": "code",
   "execution_count": 4,
   "metadata": {},
   "outputs": [
    {
     "name": "stdout",
     "output_type": "stream",
     "text": [
      "['abacaxi', 'pera', 'maçã']\n"
     ]
    }
   ],
   "source": [
    "frutas = ['abacaxi', 'pera','maçã'] \n",
    "\n",
    "frutas2 = [fruta for fruta in frutas if 'm' in frutas]\n",
    "print(nova_lista)"
   ]
  },
  {
   "cell_type": "markdown",
   "metadata": {},
   "source": [
    "# A Sintaxe\n",
    "\n",
    "``newlist = [expression for item in iterable if condition == True]``\n",
    "\n",
    "O valor de retorno é uma nova lista, deixando a lista antiga inalterada.\n",
    "\n",
    "Doença\n",
    "\n",
    "A condição é como um filtro que aceita apenas os itens com valor igual a ``True``.\n",
    "\n",
    "#### Exemplo \n",
    "\n"
   ]
  },
  {
   "cell_type": "code",
   "execution_count": 8,
   "metadata": {},
   "outputs": [],
   "source": [
    "fruits = [\"apple\", \"banana\", \"cherry\", \"kiwi\", \"mango\"]"
   ]
  },
  {
   "cell_type": "code",
   "execution_count": 10,
   "metadata": {},
   "outputs": [
    {
     "name": "stdout",
     "output_type": "stream",
     "text": [
      "['banana', 'cherry', 'kiwi', 'mango']\n"
     ]
    }
   ],
   "source": [
    "newlist = [x for x in fruits if x != \"apple\"]\n",
    "print(newlist)"
   ]
  },
  {
   "cell_type": "markdown",
   "metadata": {},
   "source": [
    "A condição if x != \"apple\"  retornará Truepara todos os elementos exceto \"maçã\", fazendo com que a nova lista contenha todas as frutas, exceto \"maçã\".\n",
    "\n",
    "A condição é opcional e pode ser omitida:\n",
    "\n",
    "#### Exemplo\n",
    "\n",
    "Sem ifdeclaração:"
   ]
  },
  {
   "cell_type": "code",
   "execution_count": 12,
   "metadata": {},
   "outputs": [
    {
     "data": {
      "text/plain": [
       "['apple', 'banana', 'cherry', 'kiwi', 'mango']"
      ]
     },
     "execution_count": 12,
     "metadata": {},
     "output_type": "execute_result"
    }
   ],
   "source": [
    "newlist = [x for x in fruits]\n",
    "newlist"
   ]
  },
  {
   "cell_type": "markdown",
   "metadata": {},
   "source": [
    "# Iterável\n",
    "\n",
    "O iterável pode ser qualquer objeto iterável, como uma lista, tupla, conjunto etc.\n",
    "\n",
    "#### Exemplo\n",
    "\n",
    "Você pode usar a range()função para criar um iterável:"
   ]
  },
  {
   "cell_type": "code",
   "execution_count": 14,
   "metadata": {},
   "outputs": [
    {
     "data": {
      "text/plain": [
       "[0, 1, 2, 3, 4]"
      ]
     },
     "execution_count": 14,
     "metadata": {},
     "output_type": "execute_result"
    }
   ],
   "source": [
    "newlist = [x for x in range(10) if x < 5]\n",
    "newlist"
   ]
  },
  {
   "cell_type": "markdown",
   "metadata": {},
   "source": [
    "Mesmo exemplo, mas com uma condição:\n",
    "\n",
    "# Exemplo\n",
    "\n",
    "Aceite apenas números menores que 5:"
   ]
  },
  {
   "cell_type": "code",
   "execution_count": 16,
   "metadata": {},
   "outputs": [
    {
     "data": {
      "text/plain": [
       "[0, 1, 2, 3, 4]"
      ]
     },
     "execution_count": 16,
     "metadata": {},
     "output_type": "execute_result"
    }
   ],
   "source": [
    "newlist = [x for x in range(10) if x < 5]\n",
    "newlist"
   ]
  },
  {
   "cell_type": "code",
   "execution_count": 20,
   "metadata": {},
   "outputs": [
    {
     "name": "stdout",
     "output_type": "stream",
     "text": [
      "[10, 20, 30, 40, 50]\n"
     ]
    }
   ],
   "source": [
    "lista = [num  for num in range(10,51,10) if num < 60]\n",
    "print(lista)"
   ]
  },
  {
   "cell_type": "markdown",
   "metadata": {},
   "source": [
    "# Expressão\n",
    "\n",
    "A expressão é o item atual na iteração, mas também é o resultado, que você pode manipular antes que acabe como um item de lista na nova lista:\n",
    "\n",
    "#### Exemplo\n",
    "\n",
    "Defina os valores na nova lista para letras maiúsculas:"
   ]
  },
  {
   "cell_type": "code",
   "execution_count": 22,
   "metadata": {},
   "outputs": [
    {
     "name": "stdout",
     "output_type": "stream",
     "text": [
      "['BARABARA', 'PEDRO', 'CAMILA']\n"
     ]
    }
   ],
   "source": [
    "nomes = ['barabara','pedro','camila']\n",
    "\n",
    "jovens = [nome.upper() for nome in nomes]\n",
    "print(jovens)\n"
   ]
  },
  {
   "cell_type": "markdown",
   "metadata": {},
   "source": [
    "Você pode definir o resultado como quiser:\n",
    "\n",
    "# Exemplo\n",
    "Defina todos os valores na nova lista como 'hello':"
   ]
  },
  {
   "cell_type": "code",
   "execution_count": 24,
   "metadata": {},
   "outputs": [
    {
     "data": {
      "text/plain": [
       "['hello', 'hello', 'hello', 'hello', 'hello']"
      ]
     },
     "execution_count": 24,
     "metadata": {},
     "output_type": "execute_result"
    }
   ],
   "source": [
    "newlist = ['hello' for x in fruits]\n",
    "newlist"
   ]
  },
  {
   "cell_type": "markdown",
   "metadata": {},
   "source": [
    "A expressão também pode conter condições, não como um filtro, mas como uma forma de manipular o resultado: \n",
    "\n",
    "#### Exemplo\n",
    "Retorne \"laranja\" em vez de \"banana\":"
   ]
  },
  {
   "cell_type": "code",
   "execution_count": 25,
   "metadata": {},
   "outputs": [
    {
     "data": {
      "text/plain": [
       "['apple', 'orage', 'cherry', 'kiwi', 'mango']"
      ]
     },
     "execution_count": 25,
     "metadata": {},
     "output_type": "execute_result"
    }
   ],
   "source": [
    "newlist = [fruta if fruta != 'banana' else 'orage' for fruta in fruits]\n",
    "newlist"
   ]
  },
  {
   "cell_type": "markdown",
   "metadata": {},
   "source": [
    "A expressão no exemplo acima diz:\n",
    "\n",
    "“Devolva o item se não for banana, se for banana devolva laranja”."
   ]
  }
 ],
 "metadata": {
  "kernelspec": {
   "display_name": "Python 3",
   "language": "python",
   "name": "python3"
  },
  "language_info": {
   "codemirror_mode": {
    "name": "ipython",
    "version": 3
   },
   "file_extension": ".py",
   "mimetype": "text/x-python",
   "name": "python",
   "nbconvert_exporter": "python",
   "pygments_lexer": "ipython3",
   "version": "3.11.9"
  }
 },
 "nbformat": 4,
 "nbformat_minor": 2
}
