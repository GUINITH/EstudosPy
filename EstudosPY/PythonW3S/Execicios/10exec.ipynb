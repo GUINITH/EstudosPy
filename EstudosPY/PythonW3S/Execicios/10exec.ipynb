{
 "cells": [
  {
   "cell_type": "markdown",
   "metadata": {},
   "source": [
    "\n",
    "### 1. Variáveis e Tipos de Dados\n",
    "\n",
    "#### Exercício 1: Trabalhando com Variáveis\n",
    "1. Crie variáveis para armazenar seu nome, idade e altura.\n",
    "2. Imprima essas variáveis.\n",
    "\n",
    "#### Exercício 2: Tipos de Dados\n",
    "1. Crie variáveis com diferentes tipos de dados: `int`, `float`, `str`, e `bool`.\n",
    "2. Use a função `type()` para verificar o tipo de cada variável.\n",
    "\n",
    "#### Exercício 3: Casting\n",
    "1. Crie uma variável `numero` com o valor `3.14` (float).\n",
    "2. Converta `numero` para um inteiro e imprima o resultado.\n",
    "\n",
    "\n",
    "\n",
    "\n",
    "\n",
    "\n",
    "\n",
    "\n",
    "\n",
    "\n",
    "\n"
   ]
  },
  {
   "cell_type": "code",
   "execution_count": 1,
   "metadata": {},
   "outputs": [
    {
     "name": "stdout",
     "output_type": "stream",
     "text": [
      "Olá, eu sou Guilherme! Tenho 24 anos e possuo uma altura de 1.8cm.\n"
     ]
    }
   ],
   "source": [
    "# Exec1 \n",
    "nome = 'Guilherme'\n",
    "idade = 24 \n",
    "altura = 1.80 \n",
    "print(f'Olá, eu sou {nome}! Tenho {idade} anos e possuo uma altura de {altura}cm.')"
   ]
  },
  {
   "cell_type": "code",
   "execution_count": null,
   "metadata": {},
   "outputs": [],
   "source": [
    "# Exec2 \n",
    "str = 'Olá mundo'\n",
    "num_int = 20 \n",
    "num_float = 1.5 \n",
    "booleano = True\n",
    "\n",
    "print(type(str))\n",
    "print(type(num_int))\n",
    "print(type(num_float))\n",
    "print(type(booleano))"
   ]
  },
  {
   "cell_type": "code",
   "execution_count": 3,
   "metadata": {},
   "outputs": [
    {
     "name": "stdout",
     "output_type": "stream",
     "text": [
      "3\n"
     ]
    }
   ],
   "source": [
    "#Exec3 \n",
    "\n",
    "numero = 3.14\n",
    "print(int(numero)) \n"
   ]
  },
  {
   "cell_type": "markdown",
   "metadata": {},
   "source": [
    "\n",
    "### 2. Operadores\n",
    "\n",
    "#### Exercício 4: Operadores Aritméticos\n",
    "1. Crie duas variáveis `a` e `b` com valores 10 e 5, respectivamente.\n",
    "2. Realize as operações de adição, subtração, multiplicação, e divisão entre `a` e `b` e imprima os resultados.\n",
    "\n",
    "#### Exercício 5: Operadores de Comparação\n",
    "1. Use operadores de comparação para verificar se `a` é maior que `b`, se `a` é igual a `b`, e se `a` é menor ou igual a `b`.\n",
    "2. Imprima os resultados.\n",
    "\n",
    "#### Exercício 6: Operadores Lógicos\n",
    "1. Crie variáveis `x` e `y` com valores `True` e `False`, respectivamente.\n",
    "2. Use operadores lógicos (`and`, `or`, `not`) para combinar `x` e `y` e imprima os resultados.\n"
   ]
  },
  {
   "cell_type": "code",
   "execution_count": 8,
   "metadata": {},
   "outputs": [
    {
     "name": "stdout",
     "output_type": "stream",
     "text": [
      "Adicição: 15\n",
      "Subtração: 5\n",
      "Multiplicação: 50\n",
      "Divisão: 2\n"
     ]
    }
   ],
   "source": [
    "#exec4 \n",
    "a = 10 \n",
    "b = 5 \n",
    "\n",
    "somar = a + b \n",
    "subtrair = a - b\n",
    "multiplicar = a * b \n",
    "dividir =  a//b\n",
    "\n",
    "print(f'Adicição: {somar}')\n",
    "print(f'Subtração: {subtrair}')\n",
    "print(f'Multiplicação: {multiplicar}')\n",
    "print(f'Divisão: {dividir}')"
   ]
  },
  {
   "cell_type": "markdown",
   "metadata": {},
   "source": [
    "\n",
    "### 3. Strings\n",
    "\n",
    "#### Exercício 7: Manipulação de Strings\n",
    "1. Crie uma string chamada `mensagem` com o valor \"Olá, Mundo!\".\n",
    "2. Imprima o comprimento da string.\n",
    "3. Converta a string para maiúsculas e imprima o resultado.\n",
    "\n",
    "#### Exercício 8: Indexação e Slicing\n",
    "1. Use a string `mensagem`.\n",
    "2. Imprima o primeiro caractere, os três primeiros caracteres e a string de trás para frente.\n"
   ]
  },
  {
   "cell_type": "code",
   "execution_count": 49,
   "metadata": {},
   "outputs": [
    {
     "name": "stdout",
     "output_type": "stream",
     "text": [
      "11\n",
      "OLÁ, MUNDO!\n",
      "O\n",
      "Olá\n",
      "!odnuM ,álO\n"
     ]
    }
   ],
   "source": [
    "#Exec7\n",
    "mensagem = 'Olá, Mundo!'\n",
    "print(len(mensagem))\n",
    "print(mensagem.upper())\n",
    "\n",
    "#Exec8\n",
    "primeiro_caracter = mensagem[0]\n",
    "print(primeiro_caracter)\n",
    "\n",
    "tres_primeiros_caracteres = mensagem[:3]\n",
    "print(tres_primeiros_caracteres)\n",
    "\n",
    "txt_traz_pra_frente = mensagem[::-1]\n",
    "print(txt_traz_pra_frente)\n"
   ]
  },
  {
   "cell_type": "markdown",
   "metadata": {},
   "source": [
    "\n",
    "### 4. Listas, Tuplas e Dicionários\n",
    "\n",
    "#### Exercício 9: Listas\n",
    "1. Crie uma lista chamada `numeros` com os números de 1 a 5.\n",
    "2. Adicione o número 6 ao final da lista.\n",
    "3. Remova o número 3 da lista.\n",
    "4. Imprima a lista resultante.\n",
    "\n",
    "#### Exercício 10: Tuplas\n",
    "1. Crie uma tupla chamada `cores` com as cores \"vermelho\", \"azul\" e \"verde\".\n",
    "2. Tente adicionar uma nova cor à tupla e observe o erro.\n",
    "3. Imprima a tupla.\n",
    "\n",
    "#### Exercício 11: Dicionários\n",
    "1. Crie um dicionário chamado `aluno` com as chaves \"nome\", \"idade\" e \"curso\".\n",
    "2. Adicione uma nova chave \"nota\" com o valor 9.5.\n",
    "3. Imprima o dicionário."
   ]
  },
  {
   "cell_type": "code",
   "execution_count": 54,
   "metadata": {},
   "outputs": [
    {
     "name": "stdout",
     "output_type": "stream",
     "text": [
      "[1, 2, 4, 5, 6]\n"
     ]
    }
   ],
   "source": [
    "# Exec9 \n",
    "numeros = list(range(1,6))\n",
    "numeros.append(6)\n",
    "numeros.remove(3)\n",
    "print(numeros)"
   ]
  },
  {
   "cell_type": "code",
   "execution_count": null,
   "metadata": {},
   "outputs": [],
   "source": [
    "#Exec10 \n",
    "cores = ('vermelho', 'azul', 'verde')\n",
    "cores.append('Preto') # Erro pois não podemos atribuir valor a uma tuplas dessa maneira pois elas são imutaveis\n",
    "print(cores)"
   ]
  },
  {
   "cell_type": "code",
   "execution_count": 61,
   "metadata": {},
   "outputs": [
    {
     "name": "stdout",
     "output_type": "stream",
     "text": [
      "{'nome': 'Guilherme', 'idade': 24, 'curso': 'Analise de Sistemas', 'nota': 9.5}\n"
     ]
    }
   ],
   "source": [
    "#Exec11 \n",
    "aluno = {\n",
    "    \"nome\": 'Guilherme', \n",
    "    \"idade\": 24, \n",
    "    \"curso\": 'Analise de Sistemas',\n",
    "}\n",
    "aluno['nota'] = 9.5 \n",
    "print(aluno)"
   ]
  },
  {
   "cell_type": "markdown",
   "metadata": {},
   "source": [
    "### 5. Estruturas de Controle\n",
    "\n",
    "#### Exercício 12: Condicionais (if/else)\n",
    "1. Peça ao usuário para digitar um número.\n",
    "2. Verifique se o número é positivo, negativo ou zero e imprima uma mensagem correspondente.\n",
    "\n",
    "#### Exercício 13: Laço de Repetição (for)\n",
    "1. Crie uma lista com os números de 1 a 10.\n",
    "2. Use um loop `for` para iterar sobre a lista e imprimir cada número.\n",
    "\n",
    "#### Exercício 14: Laço de Repetição (while)\n",
    "1. Use um loop `while` para imprimir os números de 1 a 5."
   ]
  },
  {
   "cell_type": "code",
   "execution_count": 65,
   "metadata": {},
   "outputs": [
    {
     "name": "stdout",
     "output_type": "stream",
     "text": [
      "numero positivo\n"
     ]
    }
   ],
   "source": [
    "#Exec12 \n",
    "numero_do_usuario = int(input('Digite um número: '))\n",
    "\n",
    "if numero_do_usuario >=1:\n",
    "    print('Numero positivo')\n",
    "elif numero_do_usuario == 0:\n",
    "    print('Numero digitado é zero')\n",
    "\n",
    "else:\n",
    "    print('Numero negativo!')\n",
    "\n"
   ]
  },
  {
   "cell_type": "code",
   "execution_count": 67,
   "metadata": {},
   "outputs": [
    {
     "name": "stdout",
     "output_type": "stream",
     "text": [
      "1\n",
      "2\n",
      "3\n",
      "4\n",
      "5\n",
      "6\n",
      "7\n",
      "8\n",
      "9\n",
      "10\n"
     ]
    }
   ],
   "source": [
    "numeros = list(range(1,11))\n",
    "for num in numeros:\n",
    "    print(num)\n"
   ]
  },
  {
   "cell_type": "code",
   "execution_count": 70,
   "metadata": {},
   "outputs": [
    {
     "name": "stdout",
     "output_type": "stream",
     "text": [
      "1\n",
      "2\n",
      "3\n",
      "4\n",
      "5\n"
     ]
    }
   ],
   "source": [
    "count = 1\n",
    "while count < 6:\n",
    "    print(count)\n",
    "    count+=1\n"
   ]
  },
  {
   "cell_type": "markdown",
   "metadata": {},
   "source": [
    "\n",
    "### 6. Funções\n",
    "\n",
    "#### Exercício 15: Função Básica\n",
    "1. Crie uma função chamada `saudacao` que recebe um nome como parâmetro e imprime \"Olá, [nome]!\".\n",
    "2. Chame a função com o seu nome.\n",
    "\n",
    "#### Exercício 16: Função com Retorno\n",
    "1. Crie uma função chamada `soma` que recebe dois números como parâmetros e retorna a soma deles.\n",
    "2. Chame a função e imprima o resultado."
   ]
  },
  {
   "cell_type": "code",
   "execution_count": 71,
   "metadata": {},
   "outputs": [
    {
     "data": {
      "text/plain": [
       "'Olá Guilherme!'"
      ]
     },
     "execution_count": 71,
     "metadata": {},
     "output_type": "execute_result"
    }
   ],
   "source": [
    "#exec15\n",
    "def saudacao(nome):\n",
    "    return f'Olá {nome}!'\n",
    "\n",
    "saudacao('Guilherme')"
   ]
  },
  {
   "cell_type": "code",
   "execution_count": 72,
   "metadata": {},
   "outputs": [
    {
     "data": {
      "text/plain": [
       "53"
      ]
     },
     "execution_count": 72,
     "metadata": {},
     "output_type": "execute_result"
    }
   ],
   "source": [
    "#exec16\n",
    "def soma(numero1, numero2):\n",
    "    somar_numeros = numero1+numero2\n",
    "    return somar_numeros\n",
    "\n",
    "soma(23,30)\n"
   ]
  },
  {
   "cell_type": "markdown",
   "metadata": {},
   "source": [
    "### 7. Programação Orientada a Objetos\n",
    "\n",
    "#### Exercício 17: Classes e Objetos\n",
    "1. Crie uma classe chamada `Carro`.\n",
    "2. A classe deve ter os atributos `marca`, `modelo` e `ano`.\n",
    "3. Crie um método `descrever` que imprime as informações do carro.\n",
    "4. Crie um objeto da classe `Carro` e chame o método `descrever`.\n",
    "\n",
    "#### Exercício 18: Herança\n",
    "1. Crie uma classe `Veiculo` com os atributos `marca` e `ano`.\n",
    "2. Crie uma classe `Moto` que herda de `Veiculo` e adiciona o atributo `cilindradas`.\n",
    "3. Crie um objeto da classe `Moto` e imprima as informações.\n",
    "\n",
    "#### Exercício 19: Polimorfismo\n",
    "1. Crie uma classe `Animal` com um método `falar`.\n",
    "2. Crie duas subclasses `Cachorro` e `Gato` que sobrescrevem o método `falar`.\n",
    "3. Crie objetos de `Cachorro` e `Gato` e chame o método `falar` para cada um."
   ]
  },
  {
   "cell_type": "code",
   "execution_count": 77,
   "metadata": {},
   "outputs": [
    {
     "name": "stdout",
     "output_type": "stream",
     "text": [
      " \n",
      "        Carro: Gol Pró\n",
      "        Marca: Volkswagem\n",
      "        Ano de Lançamento: 2021\n",
      "        \n"
     ]
    }
   ],
   "source": [
    "#Exec17\n",
    "\n",
    "class Carro: \n",
    "    def __init__(self, marca, modelo, ano):\n",
    "        self.marca = marca\n",
    "        self.modelo = modelo\n",
    "        self.ano = ano\n",
    "\n",
    "    \n",
    "    def descrever_carro(self): \n",
    "        descricao = f''' \n",
    "        Carro: {self.modelo}\n",
    "        Marca: {self.marca}\n",
    "        Ano de Lançamento: {self.ano}\n",
    "        '''\n",
    "        return descricao \n",
    "    \n",
    "\n",
    "meu_carro = Carro('Volkswagem', 'Gol Pró', 2021)\n",
    "print(meu_carro.descrever_carro())"
   ]
  },
  {
   "cell_type": "code",
   "execution_count": null,
   "metadata": {},
   "outputs": [],
   "source": []
  },
  {
   "cell_type": "markdown",
   "metadata": {},
   "source": [
    "### 8. Trabalhando com Arquivos\n",
    "\n",
    "#### Exercício 20: Leitura de Arquivo\n",
    "1. Crie um arquivo de texto chamado `dados.txt` contendo algumas linhas de texto.\n",
    "2. Escreva um script em Python que lê o conteúdo do arquivo e o imprime na tela.\n",
    "\n",
    "#### Exercício 21: Escrita em Arquivo\n",
    "1. Escreva um script em Python que pede ao usuário para digitar algumas frases.\n",
    "2. Grave essas frases em um arquivo chamado `saida.txt`.\n"
   ]
  },
  {
   "cell_type": "code",
   "execution_count": null,
   "metadata": {},
   "outputs": [],
   "source": []
  },
  {
   "cell_type": "markdown",
   "metadata": {},
   "source": [
    "### 9. Módulos e Pacotes\n",
    "\n",
    "#### Exercício 22: Usando Módulos\n",
    "1. Importe o módulo `math` e use a função `sqrt` para calcular a raiz quadrada de um número.\n"
   ]
  },
  {
   "cell_type": "code",
   "execution_count": null,
   "metadata": {},
   "outputs": [],
   "source": []
  },
  {
   "cell_type": "markdown",
   "metadata": {},
   "source": [
    "### 10. Manipulação de Exceções\n",
    "\n",
    "#### Exercício 23: Tratamento de Exceções\n",
    "1. Escreva um código que tenta dividir um número por zero.\n",
    "2. Use um bloco `try/except` para capturar a exceção e imprimir uma mensagem de erro."
   ]
  },
  {
   "cell_type": "code",
   "execution_count": null,
   "metadata": {},
   "outputs": [],
   "source": []
  },
  {
   "cell_type": "markdown",
   "metadata": {},
   "source": [
    "\n",
    "### 11. List Comprehensions\n",
    "\n",
    "#### Exercício 24: Compreensão de Lista\n",
    "1. Crie uma lista contendo os quadrados dos números de 1 a 10 usando uma compreensão de lista.\n",
    "2. Imprima a lista resultante."
   ]
  },
  {
   "cell_type": "code",
   "execution_count": 4,
   "metadata": {},
   "outputs": [
    {
     "name": "stdout",
     "output_type": "stream",
     "text": [
      "[1, 2, 3, 4, 5, 6, 7, 8, 9, 10]\n"
     ]
    }
   ],
   "source": [
    "numeros = list(range(1,11))\n",
    "print(numeros)"
   ]
  },
  {
   "cell_type": "markdown",
   "metadata": {},
   "source": [
    "### 12. Funções Lambda\n",
    "#### Exercício 25: Lambda Básico\n",
    "1. Crie uma função lambda que recebe dois números e retorna a soma deles.\n",
    "2. Use a função lambda para somar os números 10 e 5 e imprima o resultado."
   ]
  },
  {
   "cell_type": "code",
   "execution_count": null,
   "metadata": {},
   "outputs": [],
   "source": []
  }
 ],
 "metadata": {
  "kernelspec": {
   "display_name": "Python 3",
   "language": "python",
   "name": "python3"
  },
  "language_info": {
   "codemirror_mode": {
    "name": "ipython",
    "version": 3
   },
   "file_extension": ".py",
   "mimetype": "text/x-python",
   "name": "python",
   "nbconvert_exporter": "python",
   "pygments_lexer": "ipython3",
   "version": "3.11.9"
  }
 },
 "nbformat": 4,
 "nbformat_minor": 2
}
