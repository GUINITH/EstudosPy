{
 "cells": [
  {
   "cell_type": "markdown",
   "metadata": {},
   "source": [
    "# Lista Python \n",
    "\n",
    "#### Lista \n",
    "\n",
    "As listas são usadas para armazenar vários itens em uma única variável.\n",
    "\n",
    "Listas são um dos 4 tipos de dados integrados em Python usados para armazenar colções de dados, ooutros 3 são Tuple, Set, Dicionario, todos com qualidades e usos diferentes. \n",
    "\n",
    "As listas são criadas por colchetes: \n",
    "\n",
    "\n",
    "#### Exemplo \n",
    "\n",
    "crie uma lista: \n",
    "\n"
   ]
  },
  {
   "cell_type": "code",
   "execution_count": 1,
   "metadata": {},
   "outputs": [
    {
     "name": "stdout",
     "output_type": "stream",
     "text": [
      "['Rélogio', 'Tv', 'Sofá']\n"
     ]
    }
   ],
   "source": [
    "my_lista = ['Rélogio', 'Tv', 'Sofá']\n",
    "print(my_lista)"
   ]
  },
  {
   "cell_type": "markdown",
   "metadata": {},
   "source": [
    "# lista de itens\n",
    "\n",
    "Os itens da lista são ordenados, alteráveis ​​e permitem valores duplicados.\n",
    "\n",
    "Os itens da lista são indexados, o primeiro item possui index ``[0]``, o segundo item possui index ``[1]``etc.\n",
    "\n"
   ]
  },
  {
   "cell_type": "markdown",
   "metadata": {},
   "source": [
    "# Ordenando\n",
    "\n",
    "Quando dizemos que as listas são ordenadas, significa que os itens têm uma ordem definida e essa ordem não mudará.\n",
    "\n",
    "Se você adicionar novos itens a uma lista, os novos itens serão colocados no final da lista.\n",
    "\n",
    "Nota: Existem alguns métodos de lista que irão alterar a ordem, mas em geral: a ordem dos itens não será alterada."
   ]
  },
  {
   "cell_type": "markdown",
   "metadata": {},
   "source": [
    "# Mutável\n",
    "\n",
    "A lista é mutável, o que significa que podemos alterar, adicionar e remover itens de uma lista após ela ter sido criada."
   ]
  },
  {
   "cell_type": "markdown",
   "metadata": {},
   "source": [
    "# Permitir duplicatas\n",
    "\n",
    "Como as listas são indexadas, as listas podem ter itens com o mesmo valor:\n",
    "\n",
    "#### Exemplo\n",
    "\n",
    "As listas permitem valores duplicados:"
   ]
  },
  {
   "cell_type": "code",
   "execution_count": 2,
   "metadata": {},
   "outputs": [
    {
     "name": "stdout",
     "output_type": "stream",
     "text": [
      "['Banana', 'Banana', 'Pera', 'Pera']\n"
     ]
    }
   ],
   "source": [
    "lista_duplicada = ['Banana', 'Banana', 'Pera', 'Pera']\n",
    "print(lista_duplicada)"
   ]
  },
  {
   "cell_type": "markdown",
   "metadata": {},
   "source": [
    "# Comprimento da lista \n",
    "\n",
    "Para determinar quantos intens uma lista possui, use a `len()` function: \n",
    "\n",
    "#### Exemplo \n",
    "\n",
    "Imprima o número de itens da lista: \n",
    "\n"
   ]
  },
  {
   "cell_type": "code",
   "execution_count": 3,
   "metadata": {},
   "outputs": [
    {
     "name": "stdout",
     "output_type": "stream",
     "text": [
      "3\n"
     ]
    }
   ],
   "source": [
    "frutas = ['Abacaxi', 'Banana', 'Maçã']\n",
    "print(len(frutas))"
   ]
  },
  {
   "cell_type": "markdown",
   "metadata": {},
   "source": [
    "# Itens de lista - Tipos de dados\n",
    "\n",
    "Os itens da lista podem ser de qualquer tipo de dados:\n",
    "\n",
    "#### Exemplo:\n",
    "\n",
    "Tipos de dados string, int e booleanos: \n"
   ]
  },
  {
   "cell_type": "code",
   "execution_count": 4,
   "metadata": {},
   "outputs": [],
   "source": [
    "list1 = [\"apple\", \"banana\", \"cherry\"]\n",
    "list2 = [1, 5, 7, 9, 3]\n",
    "list3 = [True, False, False]"
   ]
  },
  {
   "cell_type": "markdown",
   "metadata": {},
   "source": [
    "Uma lista pode conter diferentes tipos de dados:\n",
    "\n",
    "##### Exemplo\n",
    "\n",
    "Uma lista com strings, inteiros e valores booleanos:"
   ]
  },
  {
   "cell_type": "code",
   "execution_count": 5,
   "metadata": {},
   "outputs": [],
   "source": [
    "list1 = [\"abc\", 34, True, 40, \"male\"]"
   ]
  },
  {
   "cell_type": "markdown",
   "metadata": {},
   "source": [
    "# Type() \n",
    "\n",
    "Da pespectiva do Python, as listas são definidas como objetos com o tipo de dados ‘lista’:\n",
    "\n",
    "`<class 'list'>`"
   ]
  },
  {
   "cell_type": "code",
   "execution_count": 6,
   "metadata": {},
   "outputs": [
    {
     "name": "stdout",
     "output_type": "stream",
     "text": [
      "<class 'list'>\n"
     ]
    }
   ],
   "source": [
    "print(type(list1))"
   ]
  },
  {
   "cell_type": "markdown",
   "metadata": {},
   "source": [
    "# O construtor ``list()``\n",
    "\n",
    "Também é possível usar o construtor list() ao criar uma nova lista.\n",
    "\n",
    "##### Exemplo\n",
    "Usando o list()construtor para fazer uma lista:\n",
    "\n"
   ]
  },
  {
   "cell_type": "code",
   "execution_count": 8,
   "metadata": {},
   "outputs": [
    {
     "name": "stdout",
     "output_type": "stream",
     "text": [
      "['apple', 'banana', 'cherry']\n"
     ]
    }
   ],
   "source": [
    "my_list = list((\"apple\", \"banana\", \"cherry\"))\n",
    "print(my_list)"
   ]
  },
  {
   "cell_type": "markdown",
   "metadata": {},
   "source": [
    "# Coleções Python (matrizes) \n",
    "\n",
    "Existem quatro tipos de dados de coleta na linguagem de programação Python:\n",
    "\n",
    "- Lista é uma coleção ordenada e mutável. Permite membros duplicados.\n",
    "- Tupla é uma coleção ordenada e imutável. Permite membros duplicados.\n",
    "- Set é uma coleção não ordenada, imutável* e não indexada. Nenhum membro duplicado.\n",
    "- Dicionário é uma coleção ordenada** e mutável. Nenhum membro duplicado.\n",
    "\n",
    "`Atenção`: Ao escolher um tipo de coleção, é útil compreender as propriedades desse tipo. Escolher o tipo certo para um determinado conjunto de dados pode significar retenção de significado e um aumento na eficiência ou segurança.\n",
    "\n",
    "\n"
   ]
  }
 ],
 "metadata": {
  "kernelspec": {
   "display_name": "Python 3",
   "language": "python",
   "name": "python3"
  },
  "language_info": {
   "codemirror_mode": {
    "name": "ipython",
    "version": 3
   },
   "file_extension": ".py",
   "mimetype": "text/x-python",
   "name": "python",
   "nbconvert_exporter": "python",
   "pygments_lexer": "ipython3",
   "version": "3.11.9"
  }
 },
 "nbformat": 4,
 "nbformat_minor": 2
}
