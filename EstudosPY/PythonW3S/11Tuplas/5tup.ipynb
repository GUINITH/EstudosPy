{
 "cells": [
  {
   "cell_type": "markdown",
   "metadata": {},
   "source": [
    "# Tuplas de Loop \n",
    "\n",
    "#### Loop através de uma tupla \n",
    "\n",
    "Você pode percorrer os itens da tupla usando for loop. \n",
    "\n",
    "Itere pelos itenes e imrpima os valores: \n",
    "\n"
   ]
  },
  {
   "cell_type": "code",
   "execution_count": 1,
   "metadata": {},
   "outputs": [
    {
     "name": "stdout",
     "output_type": "stream",
     "text": [
      "Rafael\n",
      "Miguel\n",
      "Micaelly\n"
     ]
    }
   ],
   "source": [
    "nomes= ('Rafael', 'Miguel', 'Micaelly')\n",
    "for nome in nomes: \n",
    "    print(nome)\n",
    "    "
   ]
  },
  {
   "cell_type": "markdown",
   "metadata": {},
   "source": [
    "# Percorrer os números de índice \n",
    "\n",
    "Você também pode percorrer os itens da tupla consultando seu número de índice. \n",
    "\n",
    "Use as funções range() e len() para criar um iterável adequado. \n",
    "\n",
    "Imprima todos os itens referindo-se ao seu número de índice: "
   ]
  },
  {
   "cell_type": "code",
   "execution_count": 4,
   "metadata": {},
   "outputs": [
    {
     "name": "stdout",
     "output_type": "stream",
     "text": [
      "Azul\n",
      "Amarelo\n",
      "Laranja\n"
     ]
    }
   ],
   "source": [
    "cores = ('Azul', 'Amarelo', 'Laranja')\n",
    "for i in range(len(cores)):\n",
    "    print(cores[i])"
   ]
  },
  {
   "cell_type": "markdown",
   "metadata": {},
   "source": [
    "# Usando um loop while \n",
    "\n",
    "Você pode percorrer os itens da tupla usando um while loop.\n",
    "\n",
    "Use a função `len()` para determinar o comprimento da tupla, então comece em 0 e percorra os itens da tupla consultando seus índices. \n",
    "\n",
    "Lembre-se de aumentar o índice em 1 após cada iteração. \n",
    "\n",
    "\n",
    "Imprima todos os itens, usando um loop while para percorrer todos os números de índices: \n",
    "\n"
   ]
  },
  {
   "cell_type": "code",
   "execution_count": 5,
   "metadata": {},
   "outputs": [
    {
     "name": "stdout",
     "output_type": "stream",
     "text": [
      "Azul\n",
      "Amarelo\n",
      "Laranja\n"
     ]
    }
   ],
   "source": [
    "cores = ('Azul', 'Amarelo', 'Laranja')\n",
    "count = 0 \n",
    "while count < len(cores): \n",
    "    print(cores[count])\n",
    "    count +=1 \n"
   ]
  }
 ],
 "metadata": {
  "kernelspec": {
   "display_name": "Python 3",
   "language": "python",
   "name": "python3"
  },
  "language_info": {
   "codemirror_mode": {
    "name": "ipython",
    "version": 3
   },
   "file_extension": ".py",
   "mimetype": "text/x-python",
   "name": "python",
   "nbconvert_exporter": "python",
   "pygments_lexer": "ipython3",
   "version": "3.11.9"
  }
 },
 "nbformat": 4,
 "nbformat_minor": 2
}
