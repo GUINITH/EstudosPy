{
 "cells": [
  {
   "cell_type": "markdown",
   "metadata": {},
   "source": [
    "# Dicionários de Loop \n",
    "\n",
    "### Percorrrer um dicionário \n",
    "\n",
    "Você pode percorrer um dicionário usando um loop `for`.\n",
    "Ao percorrer um dicionário, o valor de retorno são as chaves do dicionário, mas também existem métodos para retornar os valores. \n",
    "\n",
    "Imprimas todos os nomes de chaves no dicionário, um por um: "
   ]
  },
  {
   "cell_type": "code",
   "execution_count": 3,
   "metadata": {},
   "outputs": [
    {
     "name": "stdout",
     "output_type": "stream",
     "text": [
      "nome1\n",
      "nome2\n",
      "nome3\n"
     ]
    }
   ],
   "source": [
    "alunos = {\n",
    "    'nome1': 'Pedro',\n",
    "    'nome2': 'Natalie',\n",
    "    'nome3': 'Marcos'\n",
    "}\n",
    "\n",
    "for aluno in alunos:\n",
    "    print(aluno)\n"
   ]
  },
  {
   "cell_type": "markdown",
   "metadata": {},
   "source": [
    "Imprima todos os valores do dicionário, um por um:"
   ]
  },
  {
   "cell_type": "code",
   "execution_count": 4,
   "metadata": {},
   "outputs": [
    {
     "name": "stdout",
     "output_type": "stream",
     "text": [
      "Pedro\n",
      "Natalie\n",
      "Marcos\n"
     ]
    }
   ],
   "source": [
    "alunos = {\n",
    "    'nome1': 'Pedro',\n",
    "    'nome2': 'Natalie',\n",
    "    'nome3': 'Marcos'\n",
    "}\n",
    "\n",
    "for aluno in alunos:\n",
    "    print(alunos[aluno])\n"
   ]
  },
  {
   "cell_type": "markdown",
   "metadata": {},
   "source": [
    "Você também pode usar o método `values()` para retornar valores de um dicionário:"
   ]
  },
  {
   "cell_type": "code",
   "execution_count": 6,
   "metadata": {},
   "outputs": [
    {
     "name": "stdout",
     "output_type": "stream",
     "text": [
      "Pedro\n",
      "Natalie\n",
      "Marcos\n"
     ]
    }
   ],
   "source": [
    "alunos = {\n",
    "    'nome1': 'Pedro',\n",
    "    'nome2': 'Natalie',\n",
    "    'nome3': 'Marcos'\n",
    "}\n",
    "\n",
    "for aluno in alunos.values():\n",
    "    print(aluno)\n"
   ]
  },
  {
   "cell_type": "markdown",
   "metadata": {},
   "source": [
    "Você pode usar o método `keys()` para retornar as chaves de um dicionário:"
   ]
  },
  {
   "cell_type": "code",
   "execution_count": 7,
   "metadata": {},
   "outputs": [
    {
     "name": "stdout",
     "output_type": "stream",
     "text": [
      "nome1\n",
      "nome2\n",
      "nome3\n"
     ]
    }
   ],
   "source": [
    "for aluno in alunos.keys():\n",
    "    print(aluno)"
   ]
  },
  {
   "cell_type": "markdown",
   "metadata": {},
   "source": [
    "Faça um loop por chaves e valores , usando o método ``items()``:"
   ]
  },
  {
   "cell_type": "code",
   "execution_count": 8,
   "metadata": {},
   "outputs": [
    {
     "name": "stdout",
     "output_type": "stream",
     "text": [
      "nome1 Pedro\n",
      "nome2 Natalie\n",
      "nome3 Marcos\n"
     ]
    }
   ],
   "source": [
    "for x,y in alunos.items():\n",
    "    print(x,y)"
   ]
  }
 ],
 "metadata": {
  "kernelspec": {
   "display_name": "Python 3",
   "language": "python",
   "name": "python3"
  },
  "language_info": {
   "codemirror_mode": {
    "name": "ipython",
    "version": 3
   },
   "file_extension": ".py",
   "mimetype": "text/x-python",
   "name": "python",
   "nbconvert_exporter": "python",
   "pygments_lexer": "ipython3",
   "version": "3.11.9"
  }
 },
 "nbformat": 4,
 "nbformat_minor": 2
}
