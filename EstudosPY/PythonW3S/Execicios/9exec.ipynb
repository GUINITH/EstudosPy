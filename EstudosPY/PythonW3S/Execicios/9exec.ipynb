{
 "cells": [
  {
   "cell_type": "markdown",
   "metadata": {},
   "source": [
    "### Exercícios sobre Classes\n",
    "\n",
    "#### Exercício 1: Definição de uma Classe\n",
    "1. Crie uma classe chamada `Cachorro` com os atributos `nome` e `idade`.\n",
    "2. Adicione um método chamado `latir` que imprime \"Woof!\".\n",
    "\n",
    "\n",
    "\n"
   ]
  },
  {
   "cell_type": "code",
   "execution_count": 10,
   "metadata": {},
   "outputs": [],
   "source": [
    "class  Cachorro: \n",
    "    def __init__(self, nome, idade):\n",
    "        self.nome = nome \n",
    "        self.idade = idade \n",
    "    \n",
    "    def latir(self):\n",
    "        print(f'{self.nome} Woof!')"
   ]
  },
  {
   "cell_type": "markdown",
   "metadata": {},
   "source": [
    "#### Exercício 2: Instanciação de Objetos\n",
    "1. Usando a classe `Cachorro` do exercício anterior, crie um objeto chamado `meu_cachorro` com o nome \"Rex\" e idade 5.\n",
    "2. Chame o método `latir` do objeto `meu_cachorro`."
   ]
  },
  {
   "cell_type": "code",
   "execution_count": 13,
   "metadata": {},
   "outputs": [
    {
     "name": "stdout",
     "output_type": "stream",
     "text": [
      "Rex Woof!\n"
     ]
    }
   ],
   "source": [
    "class Cachorro: \n",
    "    def __init__(self, nome, idade):\n",
    "        self.nome = nome \n",
    "        self.idade = idade \n",
    "    \n",
    "    def latir(self):\n",
    "        print(f'{self.nome} Woof!')\n",
    "\n",
    "\n",
    "meu_cachorro = Cachorro('Rex', 5)\n",
    "meu_cachorro.latir()\n"
   ]
  },
  {
   "cell_type": "markdown",
   "metadata": {},
   "source": [
    "### Exercícios sobre Herança\n",
    "\n",
    "#### Exercício 3: Herança Simples\n",
    "1. Crie uma classe base chamada `Animal` com os atributos `nome` e `idade`.\n",
    "2. Adicione um método chamado `falar` que imprime \"Som de animal\".\n",
    "3. Crie uma classe derivada chamada `Gato` que herda de `Animal` e sobrescreve o método `falar` para imprimir \"Miau!\".\n",
    "\n",
    "\n",
    "\n",
    "\n",
    "\n"
   ]
  },
  {
   "cell_type": "code",
   "execution_count": 18,
   "metadata": {},
   "outputs": [
    {
     "name": "stdout",
     "output_type": "stream",
     "text": [
      "Miau!!\n"
     ]
    }
   ],
   "source": [
    "class Animal:\n",
    "    def __init__(self, nome, idade):\n",
    "        self.nome=nome \n",
    "        self.idade=idade \n",
    "    \n",
    "    def falar(self):\n",
    "        print('Som do Animal')\n",
    "\n",
    "class Gato(Animal): \n",
    "    def falar(self):\n",
    "        print(f'Miau!!')\n",
    "\n",
    "xana = Gato('Xana', 36)\n",
    "\n",
    "xana.falar()\n"
   ]
  },
  {
   "cell_type": "markdown",
   "metadata": {},
   "source": [
    "#### Exercício 4: Herança Múltipla\n",
    "1. Crie uma segunda classe chamada `Brincalhao` com um método chamado `brincar` que imprime \"Estou brincando!\".\n",
    "2. Faça a classe `Gato` herdar também da classe `Brincalhao`.\n",
    "3. Crie um objeto da classe `Gato` e chame os métodos `falar` e `brincar`."
   ]
  },
  {
   "cell_type": "code",
   "execution_count": 19,
   "metadata": {},
   "outputs": [
    {
     "name": "stdout",
     "output_type": "stream",
     "text": [
      "Miau!!\n"
     ]
    },
    {
     "data": {
      "text/plain": [
       "'Xana está brincando'"
      ]
     },
     "execution_count": 19,
     "metadata": {},
     "output_type": "execute_result"
    }
   ],
   "source": [
    "class Animal:\n",
    "    def __init__(self, nome, idade):\n",
    "        self.nome=nome \n",
    "        self.idade=idade \n",
    "    \n",
    "    def falar(self):\n",
    "        print('Som do Animal')\n",
    "\n",
    "class Brincalhao:\n",
    "    def __init__(self):\n",
    "        pass \n",
    "\n",
    "    def brincar(self): \n",
    "        print('Estou brincando! ')\n",
    "    \n",
    "\n",
    "class Gato(Animal, Brincalhao): \n",
    "    def falar(self):\n",
    "        print(f'Miau!!')\n",
    "\n",
    "    def brincar(self):\n",
    "        return f'{self.nome} está brincando'        \n",
    "\n",
    "xana = Gato('Xana', 36)\n",
    "\n",
    "xana.falar()\n",
    "xana.brincar()"
   ]
  },
  {
   "cell_type": "markdown",
   "metadata": {},
   "source": [
    "\n",
    "### Exercícios sobre Objetos\n",
    "\n",
    "#### Exercício 5: Manipulação de Objetos\n",
    "1. Crie uma classe chamada `Pessoa` com os atributos `nome` e `idade`.\n",
    "2. Adicione um método chamado `aniversario` que aumenta a idade em 1.\n",
    "3. Crie um objeto da classe `Pessoa`, chame o método `aniversario` e imprima a nova idade."
   ]
  },
  {
   "cell_type": "code",
   "execution_count": 30,
   "metadata": {},
   "outputs": [
    {
     "data": {
      "text/plain": [
       "30"
      ]
     },
     "execution_count": 30,
     "metadata": {},
     "output_type": "execute_result"
    }
   ],
   "source": [
    "class Pessoa:\n",
    "    def __init__(self, nome, idade):\n",
    "        self.nome = nome \n",
    "        self.idade = idade \n",
    "    \n",
    "    def aniversario(self):\n",
    "        idade = self.idade \n",
    "        aumentar_idade = idade + 1\n",
    "        return aumentar_idade \n",
    "    \n",
    "\n",
    "pessoa1 = Pessoa('Maria', 29)\n",
    "pessoa1.aniversario()"
   ]
  },
  {
   "cell_type": "markdown",
   "metadata": {},
   "source": [
    "### Exercícios sobre Polimorfismo\n",
    "\n",
    "#### Exercício 6: Polimorfismo com Métodos\n",
    "1. Crie uma classe base chamada `Forma` com um método chamado `area` que imprime \"Área desconhecida\".\n",
    "2. Crie duas classes derivadas, `Quadrado` e `Circulo`, que sobrescrevem o método `area`.\n",
    "   - `Quadrado` deve ter um atributo `lado` e o método `area` deve imprimir a área do quadrado.\n",
    "   - `Circulo` deve ter um atributo `raio` e o método `area` deve imprimir a área do círculo.\n",
    "3. Crie objetos de ambas as classes e chame o método `area`.\n",
    "\n"
   ]
  },
  {
   "cell_type": "code",
   "execution_count": 33,
   "metadata": {},
   "outputs": [
    {
     "name": "stdout",
     "output_type": "stream",
     "text": [
      "A área do quadrado é: 16\n",
      "A área do círculo é: 28.274333882308138\n"
     ]
    }
   ],
   "source": [
    "class Forma:\n",
    "    def __init__(self) -> None:\n",
    "        pass \n",
    "    \n",
    "    def area(self): \n",
    "        print('Area desconhecida')\n",
    "    \n",
    "class Quadrado(Forma):\n",
    "    def __init__(self, lado): \n",
    "        self.lado = lado \n",
    "    def area(self): \n",
    "        area = self.lado ** 2 \n",
    "        print(f'A área do quadrado é: {area}')  \n",
    "    \n",
    "class Circulo(Forma):\n",
    "    def __init__(self, raio):\n",
    "        self.raio = raio\n",
    "\n",
    "    def area(self): \n",
    "        import math \n",
    "        area = math.pi * (self.raio ** 2)\n",
    "        print(f\"A área do círculo é: {area}\")\n",
    "\n",
    "quadrado = Quadrado(4)\n",
    "circulo = Circulo(3)\n",
    "\n",
    "quadrado.area()\n",
    "circulo.area()"
   ]
  },
  {
   "cell_type": "markdown",
   "metadata": {},
   "source": [
    "#### Exercício 7: Polimorfismo com Funções\n",
    "1. Crie uma função chamada `imprimir_area` que recebe um objeto da classe `Forma` e chama o método `area`.\n",
    "2. Crie objetos das classes `Quadrado` e `Circulo` e passe-os para a função `imprimir_area`."
   ]
  },
  {
   "cell_type": "code",
   "execution_count": 36,
   "metadata": {},
   "outputs": [
    {
     "name": "stdout",
     "output_type": "stream",
     "text": [
      "A área do quadrado é: 16\n",
      "A área do círculo é: 28.274333882308138\n"
     ]
    }
   ],
   "source": [
    "class Forma:\n",
    "    def __init__(self) -> None:\n",
    "        pass \n",
    "    \n",
    "    def area(self): \n",
    "        print('Area desconhecida')\n",
    "\n",
    "    \n",
    "class Quadrado(Forma):\n",
    "    def __init__(self, lado): \n",
    "        self.lado = lado \n",
    "    def area(self): \n",
    "        area = self.lado ** 2 \n",
    "        print(f'A área do quadrado é: {area}')  \n",
    "    \n",
    "class Circulo(Forma):\n",
    "    def __init__(self, raio):\n",
    "        self.raio = raio\n",
    "\n",
    "    def area(self): \n",
    "        import math \n",
    "        area = math.pi * (self.raio ** 2)\n",
    "        print(f\"A área do círculo é: {area}\")\n",
    "\n",
    "\n",
    "def imprimir_Area(Forma):\n",
    "    Forma.area() \n",
    "    \n",
    "\n",
    "    \n",
    "quadrado = Quadrado(4)\n",
    "circulo = Circulo(3)\n",
    "\n",
    "imprimir_Area(quadrado)\n",
    "imprimir_Area(circulo)"
   ]
  },
  {
   "cell_type": "markdown",
   "metadata": {},
   "source": [
    "### Exercícios Combinados\n",
    "\n",
    "#### Exercício 8: Herança e Polimorfismo\n",
    "1. Crie uma classe base chamada `Veiculo` com um método chamado `mover` que imprime \"O veículo está se movendo\".\n",
    "2. Crie duas classes derivadas, `Carro` e `Bicicleta`, que sobrescrevem o método `mover`:\n",
    "   - `Carro` deve imprimir \"O carro está dirigindo\".\n",
    "   - `Bicicleta` deve imprimir \"A bicicleta está pedalando\".\n",
    "3. Crie uma lista contendo objetos das classes `Carro` e `Bicicleta`.\n",
    "4. Itere sobre a lista e chame o método `mover` de cada objeto.\n"
   ]
  },
  {
   "cell_type": "code",
   "execution_count": 39,
   "metadata": {},
   "outputs": [
    {
     "name": "stdout",
     "output_type": "stream",
     "text": [
      "O Carro está andando\n",
      "O Carro está andando\n",
      "A Bicicleta está andando\n",
      "A Bicicleta está andando\n"
     ]
    }
   ],
   "source": [
    "class Veiculo: \n",
    "    def __init__(self) -> None: \n",
    "        pass \n",
    "    \n",
    "    def mover(self): \n",
    "        print('Movendo veiculo')\n",
    "    \n",
    "class Carro(Veiculo): \n",
    "    def __init__(self) -> None:\n",
    "        pass \n",
    "    \n",
    "    def mover(self):\n",
    "        return f'O Carro está andando'\n",
    "    \n",
    "class Bicicleta(Veiculo):\n",
    "    def __init__(self) -> None:\n",
    "        pass \n",
    "    \n",
    "    def mover(self):\n",
    "        return 'A Bicicleta está andando'\n",
    "    \n",
    "\n",
    "carro1 = Carro() \n",
    "carro2 = Carro()\n",
    "bike1 = Bicicleta()\n",
    "bike2 = Bicicleta()\n",
    "\n",
    "veiculos = [carro1, carro2, bike1, bike2]\n",
    "\n",
    "\n",
    "for veiculo in veiculos: \n",
    "    print(veiculo.mover())\n",
    "    \n"
   ]
  },
  {
   "cell_type": "markdown",
   "metadata": {},
   "source": [
    "#### Exercício 9: Métodos Especiais\n",
    "1. Crie uma classe chamada `Fracao` que representa uma fração com numerador e denominador.\n",
    "2. Adicione métodos especiais `__add__`, `__sub__`, `__mul__` e `__truediv__` para realizar as operações aritméticas básicas.\n",
    "3. Crie dois objetos da classe `Fracao` e realize operações de soma, subtração, multiplicação e divisão entre eles.\n",
    "\n"
   ]
  },
  {
   "cell_type": "code",
   "execution_count": 41,
   "metadata": {},
   "outputs": [
    {
     "name": "stdout",
     "output_type": "stream",
     "text": [
      "Soma: 14/5\n",
      "Subtração: 6/5\n",
      "Multiplicação: 8/5\n",
      "Divisão: 5/2\n"
     ]
    }
   ],
   "source": [
    "import math\n",
    "\n",
    "class Fracao:\n",
    "    def __init__(self, numerador, denominador):\n",
    "        self.numerador = numerador\n",
    "        self.denominador = denominador\n",
    "        self.simplificar()\n",
    "    \n",
    "    def simplificar(self):\n",
    "        gcd = math.gcd(self.numerador, self.denominador)\n",
    "        self.numerador //= gcd\n",
    "        self.denominador //= gcd\n",
    "\n",
    "    def __add__(self, outra):\n",
    "        novo_num = self.numerador * outra.denominador + outra.numerador * self.denominador\n",
    "        novo_den = self.denominador * outra.denominador\n",
    "        return Fracao(novo_num, novo_den)\n",
    "\n",
    "    def __sub__(self, outra):\n",
    "        novo_num = self.numerador * outra.denominador - outra.numerador * self.denominador\n",
    "        novo_den = self.denominador * outra.denominador\n",
    "        return Fracao(novo_num, novo_den)\n",
    "\n",
    "    def __mul__(self, outra):\n",
    "        novo_num = self.numerador * outra.numerador\n",
    "        novo_den = self.denominador * outra.denominador\n",
    "        return Fracao(novo_num, novo_den)\n",
    "\n",
    "    def __truediv__(self, outra):\n",
    "        novo_num = self.numerador * outra.denominador\n",
    "        novo_den = self.denominador * outra.numerador\n",
    "        return Fracao(novo_num, novo_den)\n",
    "    \n",
    "    def __str__(self):\n",
    "        return f\"{self.numerador}/{self.denominador}\"\n",
    "\n",
    "# Criando dois objetos da classe Fracao\n",
    "fracao1 = Fracao(22, 11)\n",
    "fracao2 = Fracao(12, 15)\n",
    "\n",
    "# Realizando operações de soma, subtração, multiplicação e divisão\n",
    "soma = fracao1 + fracao2\n",
    "subtracao = fracao1 - fracao2\n",
    "multiplicacao = fracao1 * fracao2\n",
    "divisao = fracao1 / fracao2\n",
    "\n",
    "# Imprimindo os resultados\n",
    "print(f\"Soma: {soma}\")\n",
    "print(f\"Subtração: {subtracao}\")\n",
    "print(f\"Multiplicação: {multiplicacao}\")\n",
    "print(f\"Divisão: {divisao}\")\n"
   ]
  },
  {
   "cell_type": "markdown",
   "metadata": {},
   "source": [
    "#### Exercício 10: Classe Abstrata\n",
    "1. Importe o módulo `ABC` e `abstractmethod` do pacote `abc`.\n",
    "2. Crie uma classe abstrata chamada `InstrumentoMusical` com um método abstrato chamado `tocar`.\n",
    "3. Crie duas classes derivadas, `Violao` e `Piano`, que implementam o método `tocar`.\n",
    "4. Crie objetos das classes `Violao` e `Piano` e chame o método `tocar`."
   ]
  },
  {
   "cell_type": "code",
   "execution_count": 44,
   "metadata": {},
   "outputs": [
    {
     "name": "stdout",
     "output_type": "stream",
     "text": [
      "Tocar violão\n",
      "Tocar Piano\n"
     ]
    }
   ],
   "source": [
    "from abc import ABC, abstractclassmethod   \n",
    "\n",
    "class InstrumentoMusical:\n",
    "    @abstractclassmethod \n",
    "    def tocar(self):\n",
    "        print('Tocando')\n",
    "\n",
    "class Violao(InstrumentoMusical):\n",
    "      def tocar(self):\n",
    "           print('Tocar violão')\n",
    "\n",
    "\n",
    "class Piano(InstrumentoMusical):   \n",
    "    def tocar(self):\n",
    "           print('Tocar Piano')\n",
    "\n",
    "violao = Violao()\n",
    "piano =Piano()\n",
    "\n",
    "\n",
    "violao.tocar()\n",
    "piano.tocar()\n",
    "\n",
    "\n"
   ]
  }
 ],
 "metadata": {
  "kernelspec": {
   "display_name": "Python 3",
   "language": "python",
   "name": "python3"
  },
  "language_info": {
   "codemirror_mode": {
    "name": "ipython",
    "version": 3
   },
   "file_extension": ".py",
   "mimetype": "text/x-python",
   "name": "python",
   "nbconvert_exporter": "python",
   "pygments_lexer": "ipython3",
   "version": "3.11.9"
  }
 },
 "nbformat": 4,
 "nbformat_minor": 2
}
