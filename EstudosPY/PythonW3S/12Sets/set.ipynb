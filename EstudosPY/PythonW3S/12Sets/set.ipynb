{
 "cells": [
  {
   "cell_type": "markdown",
   "metadata": {},
   "source": [
    "# Conjuntos Python \n",
    "\n"
   ]
  },
  {
   "cell_type": "code",
   "execution_count": 1,
   "metadata": {},
   "outputs": [
    {
     "name": "stdout",
     "output_type": "stream",
     "text": [
      "{1, 2, 3}\n",
      "<class 'set'>\n"
     ]
    }
   ],
   "source": [
    "meu_set = {1,2,3}\n",
    "print(meu_set)\n",
    "print(type(meu_set))"
   ]
  },
  {
   "cell_type": "markdown",
   "metadata": {},
   "source": [
    "# Definição \n",
    "\n",
    "Conjuntos são usados para armazenar vários itens em uma única variável. \n",
    "\n",
    "Set é um dos 4 tipo de estruturas de dados integrados ao Python, usados para armazenar coleções de dados, os outros 3 são Lista, Tupla, Dicionário.\n",
    "\n",
    "- Os itens do conjuntos não podem ser alterados, mas você pode remover itens e adicionar novos itens. \n",
    "\n",
    "Os conjuntos são escritos entre colchetes: \n"
   ]
  },
  {
   "cell_type": "code",
   "execution_count": 3,
   "metadata": {},
   "outputs": [
    {
     "name": "stdout",
     "output_type": "stream",
     "text": [
      "{'Maçã', 'Amora', 'Laranja'}\n"
     ]
    }
   ],
   "source": [
    "# criando um conjunto: \n",
    "set_frutas = {'Amora', 'Maçã','Laranja'}\n",
    "print(set_frutas)"
   ]
  },
  {
   "cell_type": "markdown",
   "metadata": {},
   "source": [
    "Os conjuntos não estão ordenados, portanto você não pode ter certeza da ordem em que os itens aparecerão. \n",
    "\n",
    "\n"
   ]
  },
  {
   "cell_type": "markdown",
   "metadata": {},
   "source": [
    "### Definir Itens \n",
    "\n",
    "Os itens definidos são desordenados, imutáveis e não permitem valores duplicados. \n",
    "\n",
    "### Não ordenado \n",
    "\n",
    "Não ordenado significa que os itens de um conjunto não possuem uma ordem definida. \n",
    "\n",
    "Os itens do conjunto podem aparecer em uma ordem diferente sempre que você os utiliza e não podem ser referenciados por índice ou chave. \n",
    "\n",
    "### Imutável \n",
    "\n",
    "Os itens do conjunto não podem ser alterados, o que significa que não podemos alterá-los após a criação do conjunto. \n",
    "\n",
    "Depois que um conjunto é criado, você não pode alterar seus itens, mas pode remover itens e adicionar novos itens. \n",
    "\n",
    "\n",
    "### Duplicatas não permitidas \n",
    "\n",
    "Os conjuntos não podem ter dois itens com o mesmo valor. \n",
    "\n",
    "Valores duplicados serão ignorados: "
   ]
  },
  {
   "cell_type": "code",
   "execution_count": 4,
   "metadata": {},
   "outputs": [
    {
     "name": "stdout",
     "output_type": "stream",
     "text": [
      "{1, 2, 3, 4}\n"
     ]
    }
   ],
   "source": [
    "sets_de_numeros = {1,2,4,3,4}\n",
    "print(sets_de_numeros)"
   ]
  },
  {
   "cell_type": "markdown",
   "metadata": {},
   "source": [
    "Os valores True e 1são considerados o mesmo valor em conjuntos e são tratados como duplicados:\n",
    "\n",
    "True e 1é considerado o mesmo valor:"
   ]
  },
  {
   "cell_type": "code",
   "execution_count": 5,
   "metadata": {},
   "outputs": [
    {
     "name": "stdout",
     "output_type": "stream",
     "text": [
      "{'apple', True, 2, 'cherry', 'banana'}\n"
     ]
    }
   ],
   "source": [
    "thisset = {\"apple\", \"banana\", \"cherry\", True, 1, 2}\n",
    "\n",
    "print(thisset)"
   ]
  },
  {
   "cell_type": "code",
   "execution_count": 9,
   "metadata": {},
   "outputs": [
    {
     "name": "stdout",
     "output_type": "stream",
     "text": [
      "{True, 2}\n"
     ]
    }
   ],
   "source": [
    "testando = {True, 1,2}\n",
    "print(testando)"
   ]
  },
  {
   "cell_type": "markdown",
   "metadata": {},
   "source": [
    "Os valores False e 0 são considerados o mesmo valor em conjuntos e são tratados como duplicados:\n",
    "\n",
    "False e 0é considerado o mesmo valor:"
   ]
  },
  {
   "cell_type": "code",
   "execution_count": 8,
   "metadata": {},
   "outputs": [
    {
     "name": "stdout",
     "output_type": "stream",
     "text": [
      "{False, 1}\n"
     ]
    }
   ],
   "source": [
    "testando = {False, 0,1}\n",
    "print(testando)"
   ]
  },
  {
   "cell_type": "code",
   "execution_count": 6,
   "metadata": {},
   "outputs": [
    {
     "name": "stdout",
     "output_type": "stream",
     "text": [
      "{'apple', False, True, 'cherry', 'banana'}\n"
     ]
    }
   ],
   "source": [
    "thisset = {\"apple\", \"banana\", \"cherry\", False, True, 0}\n",
    "\n",
    "print(thisset)"
   ]
  },
  {
   "cell_type": "markdown",
   "metadata": {},
   "source": [
    "### Obtenha o comprimento de um conjunto \n",
    "\n",
    "Para determinar quantos itens um conjunto possui, use a função `len()`\n",
    "\n",
    "Obetenha o número de itens em um conjunto: "
   ]
  },
  {
   "cell_type": "code",
   "execution_count": 10,
   "metadata": {},
   "outputs": [
    {
     "name": "stdout",
     "output_type": "stream",
     "text": [
      "5\n"
     ]
    }
   ],
   "source": [
    "thisset = {\"apple\", \"banana\", \"cherry\", False, True, 0}\n",
    "\n",
    "print(len(thisset))"
   ]
  },
  {
   "cell_type": "markdown",
   "metadata": {},
   "source": [
    "# Obtendo o tipo de dados de um conjunto \n",
    "\n",
    "Para determinar qual tipo de dados de um conjunto, basta utilizar a função `type()`\n"
   ]
  },
  {
   "cell_type": "code",
   "execution_count": 11,
   "metadata": {},
   "outputs": [
    {
     "name": "stdout",
     "output_type": "stream",
     "text": [
      "<class 'set'>\n"
     ]
    }
   ],
   "source": [
    "thisset = {\"apple\", \"banana\", \"cherry\", False, True, 0}\n",
    "\n",
    "print(type(thisset))"
   ]
  }
 ],
 "metadata": {
  "kernelspec": {
   "display_name": "Python 3",
   "language": "python",
   "name": "python3"
  },
  "language_info": {
   "codemirror_mode": {
    "name": "ipython",
    "version": 3
   },
   "file_extension": ".py",
   "mimetype": "text/x-python",
   "name": "python",
   "nbconvert_exporter": "python",
   "pygments_lexer": "ipython3",
   "version": "3.11.9"
  }
 },
 "nbformat": 4,
 "nbformat_minor": 2
}
