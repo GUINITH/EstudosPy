{
 "cells": [
  {
   "cell_type": "markdown",
   "metadata": {},
   "source": [
    "# Excluir um arquivo \n",
    "\n",
    "Para excluir um arquivo, você deve importar o módulo do distema operacional e executar suafunção  ``os.remove()``\n",
    "\n",
    "Remova o ``arquive.txt``"
   ]
  },
  {
   "cell_type": "code",
   "execution_count": 1,
   "metadata": {},
   "outputs": [],
   "source": [
    "import os \n",
    "os.remove(\"arquive2.txt\")"
   ]
  },
  {
   "cell_type": "code",
   "execution_count": 3,
   "metadata": {},
   "outputs": [],
   "source": [
    "with open('arquivotest.txt','w') as file: \n",
    "    file.write('Escrevendo no arquivo teste')\n",
    "    file.close()"
   ]
  },
  {
   "cell_type": "markdown",
   "metadata": {},
   "source": [
    "## Verifique se o arquivo existe: \n",
    "\n",
    "Para ecitar um erro, você pode verificar se o arquivo existe antes de tentar excluí-lo: \n",
    "\n",
    "Verifique se o arquivo existe e exclua-o: \n"
   ]
  },
  {
   "cell_type": "code",
   "execution_count": 5,
   "metadata": {},
   "outputs": [
    {
     "name": "stdout",
     "output_type": "stream",
     "text": [
      "O Arquivo não existe\n"
     ]
    }
   ],
   "source": [
    "if os.path.exists('arquivotest.txt'): \n",
    "    os.remove('arquivotest.txt')\n",
    "else: \n",
    "    print('O Arquivo não existe')\n"
   ]
  },
  {
   "cell_type": "markdown",
   "metadata": {},
   "source": [
    "## Excluir pasta \n",
    "\n",
    "Para excluir uma pasta inteira, use o método `os.rmdir()`\n",
    "\n",
    "Remova a pasta \"arquivo2.txt\" "
   ]
  },
  {
   "cell_type": "code",
   "execution_count": null,
   "metadata": {},
   "outputs": [],
   "source": [
    "import os \n",
    "os.rmdir('exemplo')"
   ]
  }
 ],
 "metadata": {
  "kernelspec": {
   "display_name": "Python 3",
   "language": "python",
   "name": "python3"
  },
  "language_info": {
   "codemirror_mode": {
    "name": "ipython",
    "version": 3
   },
   "file_extension": ".py",
   "mimetype": "text/x-python",
   "name": "python",
   "nbconvert_exporter": "python",
   "pygments_lexer": "ipython3",
   "version": "3.11.9"
  }
 },
 "nbformat": 4,
 "nbformat_minor": 2
}
