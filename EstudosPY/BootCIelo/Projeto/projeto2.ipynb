{
 "cells": [
  {
   "cell_type": "code",
   "execution_count": 6,
   "metadata": {},
   "outputs": [],
   "source": [
    "import csv"
   ]
  },
  {
   "cell_type": "code",
   "execution_count": 9,
   "metadata": {},
   "outputs": [],
   "source": [
    "def ler_registro():\n",
    "    with open('C:\\Cielo1\\ztest\\Aulas_ADA\\Projeto\\projetocsv\\dados.csv', 'r',encoding='utf-8') as arquivo:\n",
    "        dados = csv.reader(arquivo, delimiter=';', lineterminator='\\n')\n",
    "        tabela_dados = []\n",
    "        for linha in dados:\n",
    "            tabela_dados.append(linha)\n",
    "    return tabela_dados"
   ]
  },
  {
   "cell_type": "code",
   "execution_count": 10,
   "metadata": {},
   "outputs": [],
   "source": [
    "tabela_dados = ler_registro()"
   ]
  },
  {
   "cell_type": "code",
   "execution_count": 2,
   "metadata": {},
   "outputs": [],
   "source": [
    "def criar_registro(dados, novo_registro):\n",
    "    dados.append(novo_registro)\n",
    "    return dados"
   ]
  },
  {
   "cell_type": "code",
   "execution_count": 3,
   "metadata": {},
   "outputs": [],
   "source": [
    "def delete_registros(dados, indice):\n",
    "    dados.pop(indice)\n",
    "    return dados"
   ]
  },
  {
   "cell_type": "code",
   "execution_count": 4,
   "metadata": {},
   "outputs": [],
   "source": [
    "def atualizar_registro(dados, id_indice, coluna, novo_valor):\n",
    "    for i, linha in enumerate(dados):\n",
    "        if i == id_indice:\n",
    "            elementos = linha[0].split(',')\n",
    "            if coluna < len(elementos):\n",
    "                elementos[coluna] = novo_valor\n",
    "            dados[i] = [','.join(elementos)]\n",
    "            break\n",
    "    return dados"
   ]
  },
  {
   "cell_type": "code",
   "execution_count": 27,
   "metadata": {},
   "outputs": [],
   "source": [
    "def listar_registros(dados, indice):\n",
    "    for i, _ in enumerate(tabela_dados):\n",
    "        if i == indice:\n",
    "                mostrar_reg = dados[i]\n",
    "    return mostrar_reg            "
   ]
  },
  {
   "cell_type": "code",
   "execution_count": null,
   "metadata": {},
   "outputs": [],
   "source": [
    "def salvar_em_csv(dados, arquivo):\n",
    "    with open(arquivo, 'w', newline='') as file:\n",
    "        writer = csv.writer(file)\n",
    "        writer.writerows(dados)\n",
    "\n",
    "arquivo_csv = 'C:\\Cielo1\\ztest\\Aulas_ADA\\Projeto\\projetocsv\\dados.csv'        \n",
    "salvar_em_csv(tabela_dados, arquivo_csv)"
   ]
  }
 ],
 "metadata": {
  "kernelspec": {
   "display_name": "Python 3",
   "language": "python",
   "name": "python3"
  },
  "language_info": {
   "codemirror_mode": {
    "name": "ipython",
    "version": 3
   },
   "file_extension": ".py",
   "mimetype": "text/x-python",
   "name": "python",
   "nbconvert_exporter": "python",
   "pygments_lexer": "ipython3",
   "version": "3.10.0"
  }
 },
 "nbformat": 4,
 "nbformat_minor": 2
}
