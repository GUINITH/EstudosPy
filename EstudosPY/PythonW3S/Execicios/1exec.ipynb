{
 "cells": [
  {
   "cell_type": "markdown",
   "metadata": {},
   "source": [
    "# Exercício 1: Variáveis e Tipos de Dados\n",
    "- Crie uma variável nome e atribua seu nome a ela.\n",
    "\n",
    "- Crie uma variável idade e atribua sua idade a ela.\n",
    "\n",
    "- Crie uma variável altura e atribua sua altura (em metros) a ela.\n",
    "- Imprima uma frase que diga \"Meu nome é [nome], tenho [idade] anos e [altura] metros de altura.\""
   ]
  },
  {
   "cell_type": "code",
   "execution_count": 1,
   "metadata": {},
   "outputs": [
    {
     "name": "stdout",
     "output_type": "stream",
     "text": [
      "Meu nome é Thayna, tenho 23 anos e 1.73 metros de altura. \n"
     ]
    }
   ],
   "source": [
    "# Crie uma variável nome e atribua seu nome a ela.\n",
    "nome = 'Thayna'\n",
    "# Crie uma variável idade e atribua sua idade a ela. \n",
    "idade = 23 \n",
    "# Crie uma variável altura e atribua sua altura (em metros) a ela.\n",
    "altura = 1.73 \n",
    "\n",
    "# Imprima uma frase que diga \"Meu nome é [nome], tenho [idade] anos e [altura] metros de altura. \n",
    "\n",
    "print(f'Meu nome é {nome}, tenho {idade} anos e {altura} metros de altura. ')"
   ]
  },
  {
   "cell_type": "markdown",
   "metadata": {},
   "source": [
    "# Exercício 2: Números e Operadores\n",
    "- Crie duas variáveis a e b e atribua números inteiros a elas.\n",
    "- Calcule e imprima a soma, subtração, multiplicação e divisão de a e b."
   ]
  },
  {
   "cell_type": "code",
   "execution_count": 8,
   "metadata": {},
   "outputs": [
    {
     "name": "stdout",
     "output_type": "stream",
     "text": [
      "Os números são: 234 e 455. soma: 689, subtração: -221, mutiplicação: 106470, divisao: 0 \n"
     ]
    }
   ],
   "source": [
    "# Crie duas variáveis a e b e atribua números inteiros a elas.\n",
    "a = 234 \n",
    "b = 455 \n",
    "\n",
    "# Calcule e imprima a soma, subtração, multiplicação e divisão de a e b.\n",
    "adiçao = a + b\n",
    "subtracao = a - b \n",
    "multiplicacao = a * b \n",
    "divisao = a // b \n",
    "print(f'Os números são: {a} e {b}. soma: {adiçao}, subtração: {subtracao}, mutiplicação: {multiplicacao}, divisao: {divisao} ')\n"
   ]
  },
  {
   "cell_type": "markdown",
   "metadata": {},
   "source": [
    "# Exercício 3: Casting\n",
    "- Crie uma variável num_str e atribua uma string representando um número, por exemplo, \"10\".\n",
    "\n",
    "- Converta num_str para um número inteiro e armazene na variável num_int.\n",
    "- Converta num_str para um número float e armazene na variável num_float.\n",
    "- Imprima os valores e tipos de num_int e num_float."
   ]
  },
  {
   "cell_type": "code",
   "execution_count": 10,
   "metadata": {},
   "outputs": [
    {
     "name": "stdout",
     "output_type": "stream",
     "text": [
      "23 23.0\n"
     ]
    }
   ],
   "source": [
    "# Crie uma variável num_str e atribua uma string representando um número, por exemplo, \"10\". \n",
    "num_str = \"23\"\n",
    "# Converta num_str para um número inteiro e armazene na variável num_int. \n",
    "num_int = int(num_str)\n",
    "# Converta num_str para um número float e armazene na variável num_float.\n",
    "num_float = float(num_str)\n",
    "# Imprima os valores e tipos de num_int e num_float. \n",
    "print(num_int, num_float)"
   ]
  },
  {
   "cell_type": "markdown",
   "metadata": {},
   "source": [
    "# Exercício 4: Strings\n",
    "- Crie uma variável frase e atribua uma frase a ela.\n",
    "Imprima o comprimento da frase.\n",
    "\n",
    "- Converta a frase para maiúsculas e imprima.\n",
    "\n",
    "- Converta a frase para minúsculas e imprima.\n",
    "\n",
    "- Imprima os primeiros 5 caracteres da frase."
   ]
  },
  {
   "cell_type": "code",
   "execution_count": 21,
   "metadata": {},
   "outputs": [
    {
     "name": "stdout",
     "output_type": "stream",
     "text": [
      "21\n",
      "HOJE TEM FLAMENGOO!!!\n",
      "hoje tem flamengoo!!!\n",
      "Hoje t\n"
     ]
    }
   ],
   "source": [
    "# Crie uma variável frase e atribua uma frase a ela. Imprima o comprimento da frase.\n",
    "frase = 'Hoje tem flamengoo!!!'\n",
    "print(len(frase))\n",
    "\n",
    "# Converta a frase para maiúsculas e imprima.\n",
    "print(frase.upper())\n",
    "\n",
    "# Converta a frase para minúsculas e imprima.\n",
    "print(frase.lower())\n",
    "\n",
    "# Imprima os primeiros 5 caracteres da frase.\n",
    "print(frase[0:6])\n"
   ]
  },
  {
   "cell_type": "markdown",
   "metadata": {},
   "source": [
    "# Exercício 5: Booleanos e Operadores Lógicos\n",
    "- Crie duas variáveis booleanas x e y com valores True e False, respectivamente.\n",
    "- Imprima o resultado das operações lógicas and, or e not entre x e y."
   ]
  },
  {
   "cell_type": "code",
   "execution_count": 23,
   "metadata": {},
   "outputs": [
    {
     "name": "stdout",
     "output_type": "stream",
     "text": [
      "True\n"
     ]
    }
   ],
   "source": [
    "x = True \n",
    "y = False \n",
    "\n",
    "if 23 > 18 and 50 < 95: \n",
    "    print(x)\n",
    "else: \n",
    "    print(y)"
   ]
  },
  {
   "cell_type": "code",
   "execution_count": 29,
   "metadata": {},
   "outputs": [
    {
     "name": "stdout",
     "output_type": "stream",
     "text": [
      "True\n"
     ]
    }
   ],
   "source": [
    "a = 33 \n",
    "b = 76\n",
    "\n",
    "if not a > (b*2) or b < (a*2): \n",
    "    print(x)\n",
    "else: \n",
    "    print(y)"
   ]
  },
  {
   "cell_type": "markdown",
   "metadata": {},
   "source": [
    "# Exercício 6: Listas\n",
    "- Crie uma lista chamada frutas contendo pelo menos 5 tipos de frutas.\n",
    "\n",
    "- Adicione uma nova fruta ao final da lista.\n",
    "Remova a segunda fruta da lista.\n",
    "\n",
    "- Imprima a lista completa e o número de frutas na lista."
   ]
  },
  {
   "cell_type": "code",
   "execution_count": 34,
   "metadata": {},
   "outputs": [
    {
     "name": "stdout",
     "output_type": "stream",
     "text": [
      "['abacaxi', 'maçã', 'pera', 'amora', 'laranja']\n"
     ]
    }
   ],
   "source": [
    "# criar uma lista e atribuir 5 valres \n",
    "frutas = ['abacaxi','morango','maçã','pera', 'amora']\n",
    "# adicionar uma nova fruta e remover segundo item da lista\n",
    "frutas.append('laranja')\n",
    "frutas.pop(1)\n",
    "# imprimir a lista\n",
    "print(frutas)"
   ]
  },
  {
   "cell_type": "markdown",
   "metadata": {},
   "source": [
    "# Exercício 7: Tuplas\n",
    "- Crie uma tupla chamada cores contendo pelo menos 3 cores.\n",
    "- Imprima a tupla completa.\n",
    "- Acesse e imprima a primeira e a última cor da tupla.\n"
   ]
  },
  {
   "cell_type": "code",
   "execution_count": 72,
   "metadata": {},
   "outputs": [
    {
     "name": "stdout",
     "output_type": "stream",
     "text": [
      "('azul', 'amarelo', 'verde')\n",
      "azul verde\n"
     ]
    }
   ],
   "source": [
    "# criar uma tupla com três valores \n",
    "my_tuple = ('azul', 'amarelo', 'verde')\n",
    "\n",
    "# imprimindo a tupla \n",
    "print(my_tuple)\n",
    "\n",
    "# acessando tupla, na primeira e ultma cor da tupla \n",
    "print(my_tuple[0], my_tuple[-1])"
   ]
  },
  {
   "cell_type": "markdown",
   "metadata": {},
   "source": [
    "# Exercício 8: Dicionários\n",
    "\n",
    "- Crie um dicionário chamado aluno com chaves nome, idade e nota.\n",
    "Atribua valores apropriados a essas chaves.\n",
    "\n",
    "- Adicione uma nova chave curso ao dicionário com um valor de sua escolha.\n",
    "\n",
    "- Imprima o dicionário completo."
   ]
  },
  {
   "cell_type": "code",
   "execution_count": 80,
   "metadata": {},
   "outputs": [
    {
     "name": "stdout",
     "output_type": "stream",
     "text": [
      "{'aluno1': {'nome': 'Pedro', 'idade': 15, 'notas': [10, 6, 7, 8], 'curso': 'TI'}, 'aluno2': {'nome': 'Maria', 'idade': 16, 'notas': [8, 5, 9, 6], 'curso': 'TI'}, 'aluno3': {'nome': 'Clara', 'idade': 17, 'notas': [10, 9, 7, 8], 'curso': 'TI'}, 'aluno4': {'nome': 'Marcio', 'idade': 16, 'notas': [10, 10, 8, 5], 'curso': 'TI'}}\n"
     ]
    }
   ],
   "source": [
    "alunos = {'aluno1':{'nome': 'Pedro', 'idade': 15, 'notas': [10,6,7,8]},\n",
    "          'aluno2':{'nome': 'Maria', 'idade': 16, 'notas': [8,5,9,6]},\n",
    "          'aluno3':{'nome': 'Clara', 'idade': 17, 'notas': [10,9,7,8]},\n",
    "          'aluno4':{'nome': 'Marcio', 'idade': 16, 'notas': [10,10,8,5]}\n",
    "          }\n",
    "for aluno in alunos.values():\n",
    "    aluno['curso']= 'TI'\n",
    "print(alunos)"
   ]
  },
  {
   "cell_type": "markdown",
   "metadata": {},
   "source": [
    "\n",
    "# Exercício 9: Operadores Relacionais\n",
    "- Crie duas variáveis a e b com valores numéricos.\n",
    "- Use operadores relacionais (>, <, >=, <=, ==, !=) para comparar a e b e imprima os resultados."
   ]
  },
  {
   "cell_type": "code",
   "execution_count": 8,
   "metadata": {},
   "outputs": [
    {
     "name": "stdout",
     "output_type": "stream",
     "text": [
      "500 é maior do que 455\n"
     ]
    }
   ],
   "source": [
    "a = 500\n",
    "b = 455\n",
    "comparando = '' \n",
    "\n",
    "if a > b: \n",
    "    comparando = f'{a} é maior do que {b}'\n",
    "    print(comparando)\n",
    "elif b > a: \n",
    "    comparando = f\"{b} é maior que {a}\"\n",
    "    print(comparando)\n",
    "else: \n",
    "    comparando = f\"{a} e {b} são números iguais\"\n",
    "    print(comparando)"
   ]
  },
  {
   "cell_type": "markdown",
   "metadata": {},
   "source": [
    "# Exercício 10: Combinando Estruturas\n",
    "- Crie uma lista de dicionários, onde cada dicionário representa um aluno com as chaves nome, idade e nota.\n",
    "\n",
    "- Adicione pelo menos 3 alunos à lista.\n",
    "\n",
    "- Calcule e imprima a média das notas dos alunos.\n",
    "\n",
    "- Encontre e imprima o nome do aluno com a maior nota."
   ]
  },
  {
   "cell_type": "code",
   "execution_count": 11,
   "metadata": {},
   "outputs": [
    {
     "name": "stdout",
     "output_type": "stream",
     "text": [
      "Média das notas dos alunos: 7.88\n",
      "Aluno com a maior nota: Clara\n"
     ]
    }
   ],
   "source": [
    "# Lista de dicionários representando os alunos\n",
    "alunos = [\n",
    "    {'nome': 'Pedro', 'idade': 15, 'nota': 7.75},\n",
    "    {'nome': 'Maria', 'idade': 16, 'nota': 7.0},\n",
    "    {'nome': 'Clara', 'idade': 17, 'nota': 8.5},\n",
    "    {'nome': 'Marcio', 'idade': 16, 'nota': 8.25}\n",
    "]\n",
    "\n",
    "# Calcula a média das notas dos alunos\n",
    "def calcular_media(alunos):\n",
    "    soma_notas = 0\n",
    "    for aluno in alunos:\n",
    "        soma_notas += aluno['nota']\n",
    "    media = soma_notas / len(alunos)\n",
    "    return media\n",
    "\n",
    "# Encontra o nome do aluno com a maior nota\n",
    "def aluno_com_maior_nota(alunos):\n",
    "    maior_nota = -1\n",
    "    nome_do_aluno = \"\"\n",
    "    for aluno in alunos:\n",
    "        if aluno['nota'] > maior_nota:\n",
    "            maior_nota = aluno['nota']\n",
    "            nome_do_aluno = aluno['nome']\n",
    "    return nome_do_aluno\n",
    "\n",
    "# Calcula e imprime a média das notas\n",
    "media_notas = calcular_media(alunos)\n",
    "print(f\"Média das notas dos alunos: {media_notas:.2f}\")\n",
    "\n",
    "# Encontra e imprime o nome do aluno com a maior nota\n",
    "nome_maior_nota = aluno_com_maior_nota(alunos)\n",
    "print(f\"Aluno com a maior nota: {nome_maior_nota}\")\n",
    "\n"
   ]
  }
 ],
 "metadata": {
  "kernelspec": {
   "display_name": "Python 3",
   "language": "python",
   "name": "python3"
  },
  "language_info": {
   "codemirror_mode": {
    "name": "ipython",
    "version": 3
   },
   "file_extension": ".py",
   "mimetype": "text/x-python",
   "name": "python",
   "nbconvert_exporter": "python",
   "pygments_lexer": "ipython3",
   "version": "3.11.9"
  }
 },
 "nbformat": 4,
 "nbformat_minor": 2
}
