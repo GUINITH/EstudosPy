{
 "cells": [
  {
   "cell_type": "markdown",
   "metadata": {},
   "source": [
    "# Python - Lists de Junção \n",
    "\n",
    "## Junte-se a duas listas \n",
    "\n",
    "Existem várias manieras de unir ou concatenar duas ou mais listas em Python. \n",
    "\n",
    "Uma das maneiras mais fáceis é usar o + operador. \n",
    "\n",
    "\n",
    "#### Exemplo:\n",
    "\n",
    "Junte-se  a duas listas: \n"
   ]
  },
  {
   "cell_type": "code",
   "execution_count": 6,
   "metadata": {},
   "outputs": [
    {
     "name": "stdout",
     "output_type": "stream",
     "text": [
      "['a', 'b', 'c', 1, 2, 3]\n"
     ]
    }
   ],
   "source": [
    "letras = ['a','b','c']\n",
    "numeros = [1,2,3]\n",
    "nova_lista = letras + numeros\n",
    "print(nova_lista)"
   ]
  },
  {
   "cell_type": "markdown",
   "metadata": {},
   "source": [
    "Outra forma de unir duas listas é adicionar todos os itens da lista numeros a lista letras, um por um: "
   ]
  },
  {
   "cell_type": "code",
   "execution_count": 3,
   "metadata": {},
   "outputs": [
    {
     "name": "stdout",
     "output_type": "stream",
     "text": [
      "['a', 'b', 'c', 1, 2, 3]\n"
     ]
    }
   ],
   "source": [
    "for num in numeros:\n",
    "    letras.append(num)\n",
    "\n",
    "print(letras)"
   ]
  },
  {
   "cell_type": "markdown",
   "metadata": {},
   "source": [
    "Ou você pode usar o `extend()` método, onde o objetivo é adicionar elementos de uma lista a outra lista: \n",
    "\n",
    "\n",
    "#### Exemplo: \n",
    "\n",
    "Use o´método `extend()` para adicionar a lista numeros, na lista letras.\n"
   ]
  },
  {
   "cell_type": "code",
   "execution_count": 8,
   "metadata": {},
   "outputs": [
    {
     "name": "stdout",
     "output_type": "stream",
     "text": [
      "['a', 'b', 'c', 1, 2, 3]\n"
     ]
    }
   ],
   "source": [
    "letras = ['a','b','c']\n",
    "numeros = [1,2,3] \n",
    "letras.extend(numeros)\n",
    "print(letras)"
   ]
  }
 ],
 "metadata": {
  "kernelspec": {
   "display_name": "Python 3",
   "language": "python",
   "name": "python3"
  },
  "language_info": {
   "codemirror_mode": {
    "name": "ipython",
    "version": 3
   },
   "file_extension": ".py",
   "mimetype": "text/x-python",
   "name": "python",
   "nbconvert_exporter": "python",
   "pygments_lexer": "ipython3",
   "version": "3.11.9"
  }
 },
 "nbformat": 4,
 "nbformat_minor": 2
}
