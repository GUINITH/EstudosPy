{
 "cells": [
  {
   "cell_type": "markdown",
   "metadata": {},
   "source": [
    "# Python - Concatenação de Strings \n",
    "\n",
    "Concatenação de Strings \n",
    "\n",
    "Para concatenar ou combinar duas strings você pode usar o operador +. \n",
    "\n",
    "#### Exemplo \n",
    "\n",
    "Mesclar variável `a` com variável `b` em variável `c`: \n",
    "\n"
   ]
  },
  {
   "cell_type": "code",
   "execution_count": 1,
   "metadata": {},
   "outputs": [
    {
     "name": "stdout",
     "output_type": "stream",
     "text": [
      "MariaRosária\n"
     ]
    }
   ],
   "source": [
    "a = 'Maria'\n",
    "b = 'Rosária' \n",
    "c = a + b\n",
    "print(c)"
   ]
  },
  {
   "cell_type": "markdown",
   "metadata": {},
   "source": [
    "Note que está junto só que precisamos separar certo? \n",
    "\n",
    "#### Exemplo: \n",
    "\n",
    "Para adicionar um espaço entre eles, adicione um '': \n",
    "\n",
    "\n"
   ]
  },
  {
   "cell_type": "code",
   "execution_count": 3,
   "metadata": {},
   "outputs": [
    {
     "name": "stdout",
     "output_type": "stream",
     "text": [
      "Maria Rosária\n"
     ]
    }
   ],
   "source": [
    "a = 'Maria'\n",
    "b = 'Rosária' \n",
    "c = a + ' '+  b\n",
    "print(c)"
   ]
  }
 ],
 "metadata": {
  "kernelspec": {
   "display_name": "Python 3",
   "language": "python",
   "name": "python3"
  },
  "language_info": {
   "codemirror_mode": {
    "name": "ipython",
    "version": 3
   },
   "file_extension": ".py",
   "mimetype": "text/x-python",
   "name": "python",
   "nbconvert_exporter": "python",
   "pygments_lexer": "ipython3",
   "version": "3.11.9"
  }
 },
 "nbformat": 4,
 "nbformat_minor": 2
}
