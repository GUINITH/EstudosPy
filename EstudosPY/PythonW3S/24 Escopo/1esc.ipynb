{
 "cells": [
  {
   "cell_type": "markdown",
   "metadata": {},
   "source": [
    "Uma variávei só está disponivel dentro da região em que se encontra Criada. Iso é chamado de escopo. \n",
    "\n",
    "As variáveis globais estão disponiveis em qualquer escopo, global e local.\n",
    "\n",
    "Uma variável criada fora de uma função é global e pode ser usada por alguém: \n",
    "\n"
   ]
  },
  {
   "cell_type": "code",
   "execution_count": 1,
   "metadata": {},
   "outputs": [
    {
     "name": "stdout",
     "output_type": "stream",
     "text": [
      "1000\n",
      "1000\n"
     ]
    }
   ],
   "source": [
    "x = 1000 \n",
    "\n",
    "def minha_funcao(): \n",
    "    print(x)\n",
    "\n",
    "minha_funcao()\n",
    "\n",
    "print(x)\n"
   ]
  },
  {
   "cell_type": "markdown",
   "metadata": {},
   "source": [
    "## Nomeando Variáveis\n",
    "\n",
    "Se você operar com o mesmo nome de variável dentro e fora de uma função, o Python os tratará como dois variáveis separadas, um disponível no ecopo global(fora da função) e um disponivel no escopo local (dentro da função): \n",
    "\n",
    "\n",
    "A função imprimirá o local `x` e em seguida, o  código imprimirá o global ``x``:\n",
    "\n"
   ]
  },
  {
   "cell_type": "code",
   "execution_count": 4,
   "metadata": {},
   "outputs": [
    {
     "name": "stdout",
     "output_type": "stream",
     "text": [
      "1000\n",
      "1000\n"
     ]
    }
   ],
   "source": [
    "x = 1000 \n",
    "\n",
    "def minha_funcao(): \n",
    "    X = 300 \n",
    "    print(x)\n",
    "\n",
    "\n",
    "minha_funcao()\n",
    "\n",
    "print(x)"
   ]
  },
  {
   "cell_type": "markdown",
   "metadata": {},
   "source": [
    "## Palavra-chave global \n",
    "\n",
    "Se você precisar criar uma variável global, mas estiver preso no escopo local, poderá usar a palavra-chave `global`.\n",
    "\n",
    "A palavra-chave torna a variável globaa. \n",
    "\n",
    "Se você usar a palavra-chave, a variável pertencerá ao escopo global: ``global``"
   ]
  },
  {
   "cell_type": "code",
   "execution_count": 11,
   "metadata": {},
   "outputs": [
    {
     "name": "stdout",
     "output_type": "stream",
     "text": [
      "400\n"
     ]
    }
   ],
   "source": [
    "def minha_funcao(): \n",
    "    global x  \n",
    "    x = 400 \n",
    "\n",
    "\n",
    "\n",
    "minha_funcao()\n",
    "print(x)"
   ]
  },
  {
   "cell_type": "markdown",
   "metadata": {},
   "source": [
    "Além disso, use a palavra-chave `global` se desejar Faça uma alteração em uma varável global dentro de uma função.\n",
    "\n",
    "Para alterar o valor de uma variável global dentro de uma função, consulte o usando a palavra-chavel: `global`\n",
    "\n"
   ]
  },
  {
   "cell_type": "code",
   "execution_count": 12,
   "metadata": {},
   "outputs": [
    {
     "name": "stdout",
     "output_type": "stream",
     "text": [
      "400\n"
     ]
    }
   ],
   "source": [
    "x = 1000 \n",
    "def minha_funcao(): \n",
    "    global x  \n",
    "    x = 400 \n",
    "\n",
    "\n",
    "\n",
    "minha_funcao()\n",
    "print(x)"
   ]
  },
  {
   "cell_type": "markdown",
   "metadata": {},
   "source": [
    "## Palavra-chave Não local \n",
    "\n",
    "A palavra-chave `nonlocal` é usada para trabalhar com varáveis  dentro de funções aninhadas.\n",
    "\n",
    "A palavra-chave `nonlocal` faz com que a varável pertencerá a função externa. "
   ]
  },
  {
   "cell_type": "code",
   "execution_count": 13,
   "metadata": {},
   "outputs": [
    {
     "name": "stdout",
     "output_type": "stream",
     "text": [
      "400\n"
     ]
    }
   ],
   "source": [
    "def minha_funcao1():\n",
    "    x = 1000 \n",
    "\n",
    "    def minha_funcao2(): \n",
    "        nonlocal x   \n",
    "        x = 400 \n",
    "\n",
    "    minha_funcao2()\n",
    "    return x \n",
    "print(minha_funcao1())\n"
   ]
  }
 ],
 "metadata": {
  "kernelspec": {
   "display_name": "Python 3",
   "language": "python",
   "name": "python3"
  },
  "language_info": {
   "codemirror_mode": {
    "name": "ipython",
    "version": 3
   },
   "file_extension": ".py",
   "mimetype": "text/x-python",
   "name": "python",
   "nbconvert_exporter": "python",
   "pygments_lexer": "ipython3",
   "version": "3.11.9"
  }
 },
 "nbformat": 4,
 "nbformat_minor": 2
}
