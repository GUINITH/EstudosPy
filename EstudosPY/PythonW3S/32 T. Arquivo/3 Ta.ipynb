{
 "cells": [
  {
   "cell_type": "markdown",
   "metadata": {},
   "source": [
    "## Gravação de Arquivo Python \n",
    "\n",
    "# Escrever em um arquivo existente \n",
    "\n",
    "Para gravar em um arquivo existente, você deve adicionar um parâmetro à função `open()`:\n",
    "`a` - Acrescentar - será anexado ao final do arquivo \n",
    "\n",
    "`\"w\"` - Escrever - Substituirá qualquer conteúdo existente. \n"
   ]
  },
  {
   "cell_type": "code",
   "execution_count": 1,
   "metadata": {},
   "outputs": [],
   "source": [
    "with open(r'C:\\Users\\guigu\\OneDrive\\Documents\\GitHub\\EstudosPython\\EstudosPy\\teste2.txt', 'a') as file: \n",
    "    file.write('Amo flamengo desde de menor')\n",
    "    file.close"
   ]
  },
  {
   "cell_type": "code",
   "execution_count": 4,
   "metadata": {},
   "outputs": [
    {
     "name": "stdout",
     "output_type": "stream",
     "text": [
      "Guilherme é torcedor do Flamengo\n"
     ]
    }
   ],
   "source": [
    "with open(r'C:\\Users\\guigu\\OneDrive\\Documents\\GitHub\\EstudosPython\\EstudosPy\\teste2.txt', 'r') as file:\n",
    "    print(file.read())\n",
    "    file.close()\n",
    "\n"
   ]
  },
  {
   "cell_type": "markdown",
   "metadata": {},
   "source": [
    "Abra o arquivo e sobrescre o conteúdo"
   ]
  },
  {
   "cell_type": "code",
   "execution_count": 2,
   "metadata": {},
   "outputs": [],
   "source": [
    "with open(r'C:\\Users\\guigu\\OneDrive\\Documents\\GitHub\\EstudosPython\\EstudosPy\\teste2.txt', 'w') as file:\n",
    "    file.write('Guilherme é torcedor do Flamengo')\n",
    "    file.close()"
   ]
  },
  {
   "cell_type": "code",
   "execution_count": 3,
   "metadata": {},
   "outputs": [
    {
     "name": "stdout",
     "output_type": "stream",
     "text": [
      "Guilherme é torcedor do Flamengo\n"
     ]
    }
   ],
   "source": [
    "with open(r'C:\\Users\\guigu\\OneDrive\\Documents\\GitHub\\EstudosPython\\EstudosPy\\teste2.txt', 'r') as file:\n",
    "    print(file.read())"
   ]
  },
  {
   "cell_type": "markdown",
   "metadata": {},
   "source": [
    "O método \"w\" sustituirá o arquivo inteiro. \n",
    "\n",
    "## Criar um novo arquivo \n",
    "\n",
    "Para criar um novo arquivo em Python, use o método ``open()``, com um dos seguintes parâmetros: \n",
    "\n",
    "\"x\" - Criar - criará um novo arquivo, retornará um erro se o arquivo existir. \n",
    "\n",
    "\"a\" - Acrescentar - criará um arquivo se o arquivo especificado não existir \n",
    "\n",
    "\"w\" - Escrever - cria´ra um arquivo se o arquivo especificado não existir \n",
    "\n"
   ]
  },
  {
   "cell_type": "code",
   "execution_count": 5,
   "metadata": {},
   "outputs": [],
   "source": [
    "with open(r'arquive.txt', 'x') as file: \n",
    "    file.write('Hoje tem flamengo')\n",
    "    file.close()"
   ]
  },
  {
   "cell_type": "code",
   "execution_count": 8,
   "metadata": {},
   "outputs": [
    {
     "name": "stdout",
     "output_type": "stream",
     "text": [
      "Hoje tem flamengo\n"
     ]
    }
   ],
   "source": [
    "with open(r'arquive.txt', 'r') as file:\n",
    "    print(file.read())\n",
    "    file.close()"
   ]
  },
  {
   "cell_type": "code",
   "execution_count": 7,
   "metadata": {},
   "outputs": [],
   "source": [
    "with open(r'arquive2.txt', 'w') as file:\n",
    "    file.write('Novo teste')\n",
    "    file.close()"
   ]
  }
 ],
 "metadata": {
  "kernelspec": {
   "display_name": "Python 3",
   "language": "python",
   "name": "python3"
  },
  "language_info": {
   "codemirror_mode": {
    "name": "ipython",
    "version": 3
   },
   "file_extension": ".py",
   "mimetype": "text/x-python",
   "name": "python",
   "nbconvert_exporter": "python",
   "pygments_lexer": "ipython3",
   "version": "3.11.9"
  }
 },
 "nbformat": 4,
 "nbformat_minor": 2
}
