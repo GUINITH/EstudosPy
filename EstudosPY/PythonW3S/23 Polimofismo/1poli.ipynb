{
 "cells": [
  {
   "cell_type": "markdown",
   "metadata": {},
   "source": [
    "# Polimofismo Python \n",
    "\n",
    "A palavra   'Polimorfismo' significa 'muitas formas' e, em programação, refere-se a métodos/funcões/operadores com o mesmo nome que podem ser executados em muitos objetos ou classes. \n",
    "\n",
    "## Polimorfismo de função \n",
    "\n",
    "Um exemplo de uma função Python que pode ser usada em diferentes objetos é a função len(). \n",
    "\n",
    "## String \n",
    "\n",
    "Para strings `len()` retorna o número de caracteres: \n",
    "\n"
   ]
  },
  {
   "cell_type": "code",
   "execution_count": 1,
   "metadata": {},
   "outputs": [
    {
     "name": "stdout",
     "output_type": "stream",
     "text": [
      "4\n"
     ]
    }
   ],
   "source": [
    "cor = 'Azul'\n",
    "print(len(cor))\n"
   ]
  },
  {
   "cell_type": "markdown",
   "metadata": {},
   "source": [
    "## Tupla \n",
    "\n",
    "Para tuplas `len()` retorna o número de itens na tupla: \n"
   ]
  },
  {
   "cell_type": "code",
   "execution_count": 2,
   "metadata": {},
   "outputs": [
    {
     "name": "stdout",
     "output_type": "stream",
     "text": [
      "10\n"
     ]
    }
   ],
   "source": [
    "numeros = tuple(range(1,11))\n",
    "print(len(numeros))"
   ]
  },
  {
   "cell_type": "markdown",
   "metadata": {},
   "source": [
    "## Dicionário \n",
    "\n",
    "Para dicionário, `len()` retorna o número de pares chave/valor no dicionário: \n",
    "\n"
   ]
  },
  {
   "cell_type": "code",
   "execution_count": 3,
   "metadata": {},
   "outputs": [
    {
     "name": "stdout",
     "output_type": "stream",
     "text": [
      "3\n"
     ]
    }
   ],
   "source": [
    "carro = {\n",
    "  \"brand\": \"Ford\",\n",
    "  \"model\": \"Mustang\",\n",
    "  \"year\": 1964\n",
    "}\n",
    "\n",
    "print(len(carro))"
   ]
  },
  {
   "cell_type": "markdown",
   "metadata": {},
   "source": [
    "## Polimorfismo de Clase \n",
    "\n",
    "O polimofismo é frequentemente usadoi em métodos de classe, onde podemos ter várias classes com o mesmo nome de método. \n",
    "\n",
    "Por exemplo, digamos que temos três classes: `carro`, `barco`, e `avião`, e todos eles têm um método chamado `mova_se()`:\n",
    " \n",
    "\n"
   ]
  },
  {
   "cell_type": "code",
   "execution_count": 6,
   "metadata": {},
   "outputs": [
    {
     "name": "stdout",
     "output_type": "stream",
     "text": [
      "Uno acelerando\n",
      "Touring 20 navegando\n",
      "Boeing Vooanmdo\n"
     ]
    }
   ],
   "source": [
    "class Carro: \n",
    "    def __init__(self, marca, modelo):\n",
    "        self.marca = marca \n",
    "        self.modelo = modelo \n",
    "\n",
    "    def mova_se(self):\n",
    "        print(f'{self.modelo} acelerando')\n",
    "\n",
    "class Barco: \n",
    "    def __init__(self, marca, modelo): \n",
    "        self.marca = marca \n",
    "        self.modelo = modelo \n",
    "    \n",
    "    def mova_se(self):\n",
    "        print(f'{self.modelo} navegando')\n",
    "    \n",
    "class Aviao: \n",
    "    def __init__(self, marca, modelo): \n",
    "        self.marca = marca \n",
    "        self.modelo = modelo\n",
    "    def mova_se(self): \n",
    "        print(f'{self.marca} Vooanmdo')\n",
    "    \n",
    "\n",
    "car = Carro('Fiat', 'Uno')\n",
    "boat = Barco('Ibiza', 'Touring 20')\n",
    "plane = Aviao('Boeing', '747')\n",
    "\n",
    "for trasport in (car,boat, plane): \n",
    "    trasport.mova_se()"
   ]
  },
  {
   "cell_type": "markdown",
   "metadata": {},
   "source": [
    "Olhe para o loop for no final. Por causa do polimorfismo, podemos executar o mesmo método para toda as três classes.\n",
    "\n",
    "## Polimorfismo de Classe de Herança \n",
    "\n",
    "E quanto a classses com classes filhas com o mesmo nome? Podemos usar polimorfismo aí? \n",
    "\n",
    "Sim. Se usarmos o exemplo acima e fizermos uma clase pai chamada `Veiculo`, e fizermos `Carro`, `Barco`, `Aviao`"
   ]
  }
 ],
 "metadata": {
  "kernelspec": {
   "display_name": "Python 3",
   "language": "python",
   "name": "python3"
  },
  "language_info": {
   "codemirror_mode": {
    "name": "ipython",
    "version": 3
   },
   "file_extension": ".py",
   "mimetype": "text/x-python",
   "name": "python",
   "nbconvert_exporter": "python",
   "pygments_lexer": "ipython3",
   "version": "3.11.9"
  }
 },
 "nbformat": 4,
 "nbformat_minor": 2
}
