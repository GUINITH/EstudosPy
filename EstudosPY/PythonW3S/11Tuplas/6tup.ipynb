{
 "cells": [
  {
   "cell_type": "markdown",
   "metadata": {},
   "source": [
    "# Juntando as tuplas \n",
    "\n",
    "#### Junte duas tuplas \n",
    "\n",
    "Para juntar duas ou mais tuplas você pode usar o operador +: \n",
    "\n",
    "junte duas tuplas: "
   ]
  },
  {
   "cell_type": "code",
   "execution_count": 2,
   "metadata": {},
   "outputs": [
    {
     "name": "stdout",
     "output_type": "stream",
     "text": [
      "('a', 'b', 'c', 1, 2, 3)\n"
     ]
    }
   ],
   "source": [
    "tupla1 = ('a', 'b','c')\n",
    "tupla2 = (1,2,3)\n",
    "tupla3 = tupla1+tupla2\n",
    "print(tupla3)"
   ]
  },
  {
   "cell_type": "markdown",
   "metadata": {},
   "source": [
    "# Multiplicar tuplas\n",
    "\n",
    "Se quiser multiplar o conteúdo de uma tupla um determinado número de vezes, você pode usar o operador `*`\n",
    "\n",
    "Multiplique a tupla de frutas por 2: \n"
   ]
  },
  {
   "cell_type": "code",
   "execution_count": 3,
   "metadata": {},
   "outputs": [
    {
     "name": "stdout",
     "output_type": "stream",
     "text": [
      "('amora', 'maçã', 'pera', 'amora', 'maçã', 'pera')\n"
     ]
    }
   ],
   "source": [
    "frutas = ('amora', 'maçã', 'pera')\n",
    "mult = frutas * 2 \n",
    "print(mult)\n"
   ]
  },
  {
   "cell_type": "markdown",
   "metadata": {},
   "source": [
    "# Métodos de tupla \n",
    "\n",
    "Python possui dois métodos integrados que você pode usar em tuplas. \n"
   ]
  },
  {
   "cell_type": "markdown",
   "metadata": {},
   "source": [
    "#### Método Python Tuple count() \n",
    "\n",
    "Retorne o número de vezes que o valor 5 aparece na tupla: \n"
   ]
  },
  {
   "cell_type": "code",
   "execution_count": 4,
   "metadata": {},
   "outputs": [
    {
     "name": "stdout",
     "output_type": "stream",
     "text": [
      "2\n"
     ]
    }
   ],
   "source": [
    "numeros = (1,3,6,8,5,4,6,8,5)\n",
    "amostra = numeros.count(5)\n",
    "print(amostra)"
   ]
  },
  {
   "cell_type": "markdown",
   "metadata": {},
   "source": [
    "#### Definição e uso \n",
    "\n",
    "O método `count()` reotnra o número de vezes que um valor especificado aparece na tupla. \n"
   ]
  },
  {
   "cell_type": "markdown",
   "metadata": {},
   "source": [
    "# Método Index() \n",
    "\n",
    "#### Definição de uso: \n",
    "\n",
    "O index() método encontra a primeira ocorrência do valor especificado.\n",
    "\n",
    "O index() método gera uma exceção se o valor não for encontrado.\n",
    "\n"
   ]
  },
  {
   "cell_type": "code",
   "execution_count": 5,
   "metadata": {},
   "outputs": [
    {
     "name": "stdout",
     "output_type": "stream",
     "text": [
      "3\n"
     ]
    }
   ],
   "source": [
    "numeros = (1,3,6,8,5,4,6,8,5)\n",
    "amostra = numeros.index(8)\n",
    "print(amostra)"
   ]
  }
 ],
 "metadata": {
  "kernelspec": {
   "display_name": "Python 3",
   "language": "python",
   "name": "python3"
  },
  "language_info": {
   "codemirror_mode": {
    "name": "ipython",
    "version": 3
   },
   "file_extension": ".py",
   "mimetype": "text/x-python",
   "name": "python",
   "nbconvert_exporter": "python",
   "pygments_lexer": "ipython3",
   "version": "3.11.9"
  }
 },
 "nbformat": 4,
 "nbformat_minor": 2
}
