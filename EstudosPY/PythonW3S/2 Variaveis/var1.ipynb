{
 "cells": [
  {
   "cell_type": "markdown",
   "metadata": {},
   "source": [
    "# Variáveis Python \n",
    "\n",
    "- Em Python, variáveis são criadas quando você atribui um valor a elas: "
   ]
  },
  {
   "cell_type": "code",
   "execution_count": 3,
   "metadata": {},
   "outputs": [
    {
     "name": "stdout",
     "output_type": "stream",
     "text": [
      "Hello World\n"
     ]
    }
   ],
   "source": [
    "# Exemplo de Variáveis em Python\n",
    "x = 5 \n",
    "y = 10 \n",
    "if x < y:\n",
    "    print('Hello World')"
   ]
  },
  {
   "cell_type": "markdown",
   "metadata": {},
   "source": [
    "Python não possui comando para declarar uma variável."
   ]
  },
  {
   "cell_type": "markdown",
   "metadata": {},
   "source": [
    "# Variáveis \n",
    "\n",
    "- Variaveis são como caixas para armazenar valores de dados. \n",
    "\n",
    "# Criando Variáveis \n",
    "\n",
    "- Python não possui comando para declarar uma variável.\n",
    "\n",
    "- Uma variável é criada no momento em que você atribui um valor a ela pela primeira vez. \n",
    "\n",
    "## Exemplo: \n",
    "\n"
   ]
  },
  {
   "cell_type": "code",
   "execution_count": 4,
   "metadata": {},
   "outputs": [
    {
     "name": "stdout",
     "output_type": "stream",
     "text": [
      "21\n",
      "45\n"
     ]
    }
   ],
   "source": [
    "x = 21 \n",
    "y = 45 \n",
    "print(x)\n",
    "print(y)"
   ]
  },
  {
   "cell_type": "markdown",
   "metadata": {},
   "source": [
    "Variáveis não precisam ser declaradas com nenhum tipo específico e podem até mudar de tipo depois de terem sido definidas. "
   ]
  },
  {
   "cell_type": "code",
   "execution_count": 7,
   "metadata": {},
   "outputs": [
    {
     "name": "stdout",
     "output_type": "stream",
     "text": [
      "25\n",
      "Olá\n"
     ]
    }
   ],
   "source": [
    "# Exemplo: \n",
    "x = 25 \n",
    "print(x)\n",
    "x = \"Olá\"\n",
    "print(x)"
   ]
  },
  {
   "cell_type": "markdown",
   "metadata": {},
   "source": [
    "# Casting: Fundição \n",
    "\n",
    "- Se você quiser especificar o tipo de dados de uma variável, isso pode ser feito com conversão. \n",
    "\n",
    "### Exemplo: "
   ]
  },
  {
   "cell_type": "code",
   "execution_count": 11,
   "metadata": {},
   "outputs": [
    {
     "data": {
      "text/plain": [
       "('4', 4, 3.0)"
      ]
     },
     "execution_count": 11,
     "metadata": {},
     "output_type": "execute_result"
    }
   ],
   "source": [
    "x = str(4)\n",
    "y = int(4.5)\n",
    "z = float(3)\n",
    "\n",
    "x,y,z"
   ]
  },
  {
   "cell_type": "markdown",
   "metadata": {},
   "source": [
    "# Obtendo o tipo \n",
    "\n",
    "- Você pode obter o tipo de dados de uma variável com a função: ``type()``\n",
    "\n",
    "### exemplo:"
   ]
  },
  {
   "cell_type": "code",
   "execution_count": 12,
   "metadata": {},
   "outputs": [
    {
     "name": "stdout",
     "output_type": "stream",
     "text": [
      "<class 'str'>\n",
      "<class 'int'>\n",
      "<class 'float'>\n"
     ]
    }
   ],
   "source": [
    "print(type(x))\n",
    "print(type(y))\n",
    "print(type(z))"
   ]
  },
  {
   "cell_type": "markdown",
   "metadata": {},
   "source": [
    "# Aspas simples ou duplas? \n",
    "\n",
    "Varioáveis de string podem ser declaradas usando aspas simples ou duplas: \n",
    "\n",
    "### Exemplo \n"
   ]
  },
  {
   "cell_type": "code",
   "execution_count": 16,
   "metadata": {},
   "outputs": [
    {
     "name": "stdout",
     "output_type": "stream",
     "text": [
      "Rafael Rafael\n"
     ]
    }
   ],
   "source": [
    "x = 'Rafael'\n",
    "# São a mesma coisa que\n",
    "x = \"Rafael\"\n",
    "print(x, x)"
   ]
  },
  {
   "cell_type": "markdown",
   "metadata": {},
   "source": [
    "# Maiúsculas e minúsculas \n",
    "\n",
    "Os nomes das variaveis diferenciam maiúsculas de minúsculas. \n",
    "\n",
    "### Exemplo \n",
    "\n",
    "Isso criará duas variáveis diferentes:"
   ]
  },
  {
   "cell_type": "code",
   "execution_count": 18,
   "metadata": {},
   "outputs": [
    {
     "name": "stdout",
     "output_type": "stream",
     "text": [
      "4 Suellem\n"
     ]
    }
   ],
   "source": [
    "a = 4 \n",
    "A = 'Suellem'\n",
    "print(a,A)"
   ]
  }
 ],
 "metadata": {
  "kernelspec": {
   "display_name": "Python 3",
   "language": "python",
   "name": "python3"
  },
  "language_info": {
   "codemirror_mode": {
    "name": "ipython",
    "version": 3
   },
   "file_extension": ".py",
   "mimetype": "text/x-python",
   "name": "python",
   "nbconvert_exporter": "python",
   "pygments_lexer": "ipython3",
   "version": "3.11.9"
  }
 },
 "nbformat": 4,
 "nbformat_minor": 2
}
