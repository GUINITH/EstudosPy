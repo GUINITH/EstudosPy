{
 "cells": [
  {
   "cell_type": "markdown",
   "metadata": {},
   "source": [
    "# Dicionários Python \n",
    "\n",
    "Dicionários são usados para armazenar valores de dados em pares de chave: valor. Um dicionário é uma coleção ordenada, mutável e que não permite duplicatas. \n",
    "\n",
    "Os Dicionários são escritos entre chaves e possuem chaves e valores: \n"
   ]
  },
  {
   "cell_type": "code",
   "execution_count": 1,
   "metadata": {},
   "outputs": [
    {
     "name": "stdout",
     "output_type": "stream",
     "text": [
      "{'car_name': 'Brasília Amarela', 'Marca': 'Ford', 'ano': 1978}\n"
     ]
    }
   ],
   "source": [
    "my_dict = {\n",
    "    'car_name': 'Brasília Amarela',\n",
    "    'Marca': 'Ford',\n",
    "    'ano' : 1978\n",
    "}\n",
    "\n",
    "print(my_dict)"
   ]
  },
  {
   "cell_type": "markdown",
   "metadata": {},
   "source": [
    "# Itens do dicionário \n",
    "\n",
    "Os itens do dicionário são ordenados, alteráveis e não permitem duplicatas. \n",
    "\n",
    "Os itens do dicionário são apresentados em pares chave:valor e podem ser referenciados usando o nome da chave: \n"
   ]
  },
  {
   "cell_type": "code",
   "execution_count": 2,
   "metadata": {},
   "outputs": [
    {
     "name": "stdout",
     "output_type": "stream",
     "text": [
      "Ford\n"
     ]
    }
   ],
   "source": [
    "my_dict = {\n",
    "    'car_name': 'Brasília Amarela',\n",
    "    'Marca': 'Ford',\n",
    "    'ano' : 1978\n",
    "}\n",
    "\n",
    "print(my_dict['Marca'])"
   ]
  },
  {
   "cell_type": "markdown",
   "metadata": {},
   "source": [
    "# Encomendado ou não ordenado?\n",
    "\n",
    "Quando dizemos que os dicionários estão ordenados, significa que os itens tem uma ordem definida e essa ordem não mudará. \n",
    "\n",
    "Não ordenado significa que os itens não possuem uma ordem definida, você não pode ser referir a um item usando um índice.\n",
    "\n",
    "\n",
    "# Mutável\n",
    "\n",
    "Os dicionários são mutáveis, o que significa que podemos alterar, adicionar ou remover itens após a criação do dicionário. \n",
    "\n",
    "## Duplicatas não são permitidas \n",
    "\n",
    "Os dicionários não ppodem ter dois itens com a mesma chave: \n",
    "\n"
   ]
  },
  {
   "cell_type": "code",
   "execution_count": 4,
   "metadata": {},
   "outputs": [
    {
     "name": "stdout",
     "output_type": "stream",
     "text": [
      "{'Cor1': 'Amarelo', 'Cor2': 'Verde', 'Cor3': 'Preto'}\n"
     ]
    }
   ],
   "source": [
    "cores = {\n",
    "    'Cor1': 'Amarelo',\n",
    "    'Cor2': 'Verde',\n",
    "    'Cor3': 'Preto',\n",
    "    'Cor1': 'Amarelo'\n",
    "}\n",
    "print(cores)"
   ]
  },
  {
   "cell_type": "markdown",
   "metadata": {},
   "source": [
    "# Comprimento do dicionário \n",
    "\n",
    "Para determinar  quantos itens um dicionário opossui, use a função `len()`:\n"
   ]
  },
  {
   "cell_type": "code",
   "execution_count": 5,
   "metadata": {},
   "outputs": [
    {
     "name": "stdout",
     "output_type": "stream",
     "text": [
      "3\n"
     ]
    }
   ],
   "source": [
    "print(len(cores))"
   ]
  },
  {
   "cell_type": "markdown",
   "metadata": {},
   "source": [
    "## Itens de Dicionário -  Tipo de Dados \n",
    "\n",
    "Os valores nos itens do dicionário podem ser qualquer tipo de dados: \n"
   ]
  },
  {
   "cell_type": "code",
   "execution_count": 7,
   "metadata": {},
   "outputs": [
    {
     "data": {
      "text/plain": [
       "{'brand': 'Ford',\n",
       " 'electric': False,\n",
       " 'year': 1964,\n",
       " 'colors': ['red', 'white', 'blue']}"
      ]
     },
     "execution_count": 7,
     "metadata": {},
     "output_type": "execute_result"
    }
   ],
   "source": [
    "carro = {\n",
    "  \"brand\": \"Ford\",\n",
    "  \"electric\": False,\n",
    "  \"year\": 1964,\n",
    "  \"colors\": [\"red\", \"white\", \"blue\"]\n",
    "}\n",
    "\n",
    "carro"
   ]
  },
  {
   "cell_type": "markdown",
   "metadata": {},
   "source": [
    "# Tipo \n",
    "\n",
    "Da perspectiva do Python, os dicionários são definidos como objetos com tipo de dados `dict`: \n"
   ]
  },
  {
   "cell_type": "code",
   "execution_count": 8,
   "metadata": {},
   "outputs": [
    {
     "name": "stdout",
     "output_type": "stream",
     "text": [
      "<class 'dict'>\n"
     ]
    }
   ],
   "source": [
    "print(type(carro))"
   ]
  },
  {
   "cell_type": "markdown",
   "metadata": {},
   "source": [
    "# O construtor dict()\n",
    "\n",
    "Também é possível usar o construtor dict() para fazer um dicionário."
   ]
  },
  {
   "cell_type": "code",
   "execution_count": 9,
   "metadata": {},
   "outputs": [
    {
     "name": "stdout",
     "output_type": "stream",
     "text": [
      "{'name': 'Maria', 'idade': 21}\n"
     ]
    }
   ],
   "source": [
    "dados = dict(name = 'Maria', idade = 21)\n",
    "print(dados)"
   ]
  },
  {
   "cell_type": "markdown",
   "metadata": {},
   "source": [
    "# Coleções Python (matrizes)\n",
    "\n",
    "Existem quatro tipos de dados de coleta na linguagem de programação Python:\n",
    "\n",
    "- Lista é uma coleção ordenada e mutável. Permite membros duplicados.\n",
    "- Tupla é uma coleção ordenada e imutável. Permite membros duplicados.\n",
    "- Set é uma coleção não ordenada, imutável* e não indexada. Nenhum membro duplicado.\n",
    "- Dicionário é uma coleção ordenada** e mutável. Nenhum membro duplicado.\n",
    "\n",
    "Ao escolher um tipo de coleção, é útil compreender as propriedades desse tipo. Escolher o tipo certo para um determinado conjunto de dados pode significar retenção de significado e um aumento na eficiência ou segurança."
   ]
  }
 ],
 "metadata": {
  "kernelspec": {
   "display_name": "Python 3",
   "language": "python",
   "name": "python3"
  },
  "language_info": {
   "codemirror_mode": {
    "name": "ipython",
    "version": 3
   },
   "file_extension": ".py",
   "mimetype": "text/x-python",
   "name": "python",
   "nbconvert_exporter": "python",
   "pygments_lexer": "ipython3",
   "version": "3.11.9"
  }
 },
 "nbformat": 4,
 "nbformat_minor": 2
}
