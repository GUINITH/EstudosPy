{
 "cells": [
  {
   "cell_type": "markdown",
   "metadata": {},
   "source": [
    "# Python - Nomes de Variáveis \n",
    "\n",
    "### Nomes de variáveis \n",
    "\n",
    "Uma variáveis pode ter um nome curto (como x e y) ou um nome mais descritivo (idade, nome do carro, volume_total).\n",
    "\n",
    "#### Regras para variáveis em Python \n",
    "\n",
    "- O nome de uma variável deve começar com uma letra sublinhado\n",
    "- Um nome de variável não pode começar com um número \n",
    "-  Um nome de variável só pode conter caractere alfabuméricos e sublinhados (Az, 0-9 e _) \n",
    "- Os nomes das variáveis diferenciam maipusculas de minúsculas(idade, Idade e IDAADE são três variáveis diferentes)\n",
    "\n",
    "- Um nome de variável não pode ser nenjuma das palavras reservadas em python: def, print, if, else,True,exit,etc..\n",
    "\n",
    "#### Exemplo: "
   ]
  },
  {
   "cell_type": "code",
   "execution_count": 1,
   "metadata": {},
   "outputs": [],
   "source": [
    "myvar = \"John\"\n",
    "my_var = \"John\"\n",
    "_my_var = \"John\"\n",
    "myVar = \"John\"\n",
    "MYVAR = \"John\"\n",
    "myvar2 = \"John\""
   ]
  },
  {
   "cell_type": "code",
   "execution_count": null,
   "metadata": {},
   "outputs": [],
   "source": [
    "# Nomes de variáveis ​​ilegais:\n",
    "''''\n",
    "2myvar = \"John\"\n",
    "my-var = \"John\"\n",
    "my var = \"John\"\n",
    "\n",
    "-> Lembre-se de que os nomes das variáveis ​​diferenciam maiúsculas de minúsculas\n",
    "''' "
   ]
  },
  {
   "cell_type": "markdown",
   "metadata": {},
   "source": [
    "# Nomes de variáveis com múltiplas palavras \n",
    "\n",
    "Nomes de variáveis com mais de uma palavra podem ser dificeis de ler. \n",
    "\n",
    "Existem várias técnicas que você pode usar para torná-los mais legíveis: \n",
    "\n",
    "### Camel Case\n",
    "Cada palavra, eceto a primeira, começa com letras maiúscula: \n",
    "```myVariableName='Pedro'```\n",
    "\n",
    "### Pascal Case \n",
    "\n",
    "Cada palavra começa com letra maiúscula: \n",
    "``` MyVariableName = \"John\"```\n",
    "\n",
    "### Snake Case -> Padrão do Python\n",
    "Cada palavra é separada por um caractere de sublinhado: \n",
    "``` my_variable_name = \"Marcia\"```"
   ]
  }
 ],
 "metadata": {
  "kernelspec": {
   "display_name": "Python 3",
   "language": "python",
   "name": "python3"
  },
  "language_info": {
   "codemirror_mode": {
    "name": "ipython",
    "version": 3
   },
   "file_extension": ".py",
   "mimetype": "text/x-python",
   "name": "python",
   "nbconvert_exporter": "python",
   "pygments_lexer": "ipython3",
   "version": "3.11.9"
  }
 },
 "nbformat": 4,
 "nbformat_minor": 2
}
