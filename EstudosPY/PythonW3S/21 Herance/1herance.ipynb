{
 "cells": [
  {
   "cell_type": "markdown",
   "metadata": {},
   "source": [
    "# Herança Python \n",
    "\n",
    "A herança nos permite definir uma classe que herda todos os métodos e propriedades de outra classe.\n",
    "\n",
    "Classe Pai é a classe da qual está sendo herdada, também chamada de classe base. \n",
    "\n",
    "Classe filha é a classe que herda de outra classe, também chamada de classe derivada. \n",
    "\n",
    "\n",
    "## Crie uma clase pai \n",
    "\n",
    "Qualquer classe pode ser uma classe pai, então a sintaxe é a mesma da criação de qualquer outra classe: \n",
    "\n",
    "\n",
    "#### Exemplo:\n",
    "\n",
    "Crie uma clase chamada Person, com propriedades e e um firstname método: lastname printname \n"
   ]
  },
  {
   "cell_type": "code",
   "execution_count": 47,
   "metadata": {},
   "outputs": [
    {
     "name": "stdout",
     "output_type": "stream",
     "text": [
      "Maria Clark\n"
     ]
    }
   ],
   "source": [
    "class Person:\n",
    "    \n",
    "    def __init__(self, fname, lname): \n",
    "        self.firstname = fname \n",
    "        self.lastname = lname\n",
    "\n",
    "    def printname(self):\n",
    "            print(self.firstname, self.lastname)\n",
    "    \n",
    "\n",
    "x = Person('Maria', 'Clark')\n",
    "x.printname()"
   ]
  },
  {
   "cell_type": "markdown",
   "metadata": {},
   "source": [
    "## Crie uma classe filha \n",
    "\n",
    "Para criar uma classe que herda a funcionalidade de outra classe, envie a classe pai como um parâmetro ao criar a classe filho: \n",
    "\n",
    "crie uma classe chamada `strudent`, que herdará as pprorpiedades e metodos de de `Person`:\n"
   ]
  },
  {
   "cell_type": "code",
   "execution_count": 48,
   "metadata": {},
   "outputs": [],
   "source": [
    "class Student(Person):\n",
    "    pass "
   ]
  },
  {
   "cell_type": "markdown",
   "metadata": {},
   "source": [
    "obs: Use a palavra-chave `pass` quando não quiser adicionar outras propriedades ou métodos a class. \n",
    "\n"
   ]
  },
  {
   "cell_type": "markdown",
   "metadata": {},
   "source": [
    "Agora, a classe Student tem as mesmas propriedades e métodos que a classe Person. \n",
    "\n",
    "\n",
    "Use a classe `Student` para criar um objeto, e, em seguida, execute  o método ``printname``:"
   ]
  },
  {
   "cell_type": "code",
   "execution_count": 49,
   "metadata": {},
   "outputs": [
    {
     "name": "stdout",
     "output_type": "stream",
     "text": [
      "Michael Gomes\n"
     ]
    }
   ],
   "source": [
    "aluno1 = Student('Michael', 'Gomes')\n",
    "aluno1.printname()"
   ]
  },
  {
   "cell_type": "markdown",
   "metadata": {},
   "source": [
    "## Adicionar a função __init__() \n",
    "\n",
    "Até agora, criamos uma classe filho que herda as prorpiedades e os métodos de seu Pai. \n",
    "\n",
    "Queremos adicionar a __init__() função à clase filha(em vez da palavra-chave ``pass``).\n",
    "\n",
    "\n",
    "obs: A função `__init__()` é chamada automaticamente toda vez que a classe é usada para criar um novo objeto. \n",
    "\n",
    "Adicione a função `__init__()` a class `Aluno`:\n",
    "\n",
    "\n",
    "\n"
   ]
  },
  {
   "cell_type": "code",
   "execution_count": 51,
   "metadata": {},
   "outputs": [],
   "source": [
    "class  Aluno(Person):\n",
    "    def __init__(self, fname, lname):\n",
    "        pass\n",
    "    "
   ]
  },
  {
   "cell_type": "markdown",
   "metadata": {},
   "source": [
    "Quando você adiciona a função `__init__()`, a classe filha não herdará mais a `__init__()` da classe pai. \n",
    "\n",
    "obs:A função __init__() da classe filha substitui a herança da __init__() função dos pais. \n",
    "\n",
    "Para manter a herança da classe pai na função __init__(), adicione uma chamada à função pai __init__()\n"
   ]
  },
  {
   "cell_type": "code",
   "execution_count": 53,
   "metadata": {},
   "outputs": [],
   "source": [
    "class  Aluno(Person):\n",
    "    def __init__(self, fname, lname):\n",
    "        Person.__init__(self, fname, lname)"
   ]
  },
  {
   "cell_type": "markdown",
   "metadata": {},
   "source": [
    "Agora adicionamos com sucesso a função __init__() e mantivemos a herança da classe pai, e estamos prontos para dicionar funcionalidade na função `__init__()`"
   ]
  },
  {
   "cell_type": "markdown",
   "metadata": {},
   "source": [
    "## Use a função super() \n",
    "\n",
    "Python também tem a função `super()` que fará com que a clase filha herde todos os métoso e prorpriedades de sua classe pai: \n"
   ]
  },
  {
   "cell_type": "code",
   "execution_count": 54,
   "metadata": {},
   "outputs": [],
   "source": [
    "class  Aluno(Person):\n",
    "    def __init__(self, fname, lname):\n",
    "        super().__init__(fname, lname)\n",
    "        "
   ]
  },
  {
   "cell_type": "markdown",
   "metadata": {},
   "source": [
    "Ao usar a função `super()`, você não precisa usar o nome do elemento pai, ele herdará automaticamente os métodos e prorpriedades do seu pai. \n",
    "\n",
    "## Adicione Propriedades \n",
    "\n",
    "Adicione uma propriedade chamada ``graduationyer``\n",
    "\n"
   ]
  },
  {
   "cell_type": "code",
   "execution_count": 64,
   "metadata": {},
   "outputs": [],
   "source": [
    "class Aluno(Person):\n",
    "  def __init__(self, fname, lname, year):\n",
    "    super().__init__(fname, lname)\n",
    "    self.graduationyear = 2024"
   ]
  },
  {
   "cell_type": "markdown",
   "metadata": {},
   "source": [
    "No exemplo abaixo, o ano 2024 deve ser uma variável, e passado para classe Aluno ao criar objetos de aluno. Para fazer isso, adicione outro parâmetro na função __init__(): \n",
    "\n",
    "Adicione um parâmetro `year` e pass o ano correto ao criar objetos: "
   ]
  },
  {
   "cell_type": "code",
   "execution_count": 65,
   "metadata": {},
   "outputs": [
    {
     "name": "stdout",
     "output_type": "stream",
     "text": [
      "Guilherme Santos\n"
     ]
    }
   ],
   "source": [
    "class Aluno(Person):\n",
    "  def __init__(self, fname, lname, year):\n",
    "    super().__init__(fname, lname)\n",
    "    self.graduationyear = year\n",
    "\n",
    "\n",
    "an1 = Aluno('Guilherme','Santos', 2024)\n",
    "an1.printname()"
   ]
  },
  {
   "cell_type": "markdown",
   "metadata": {},
   "source": [
    "## Adicionar métodos \n",
    "\n",
    "Adicione um método chamado welcome à classe Aluno: \n"
   ]
  },
  {
   "cell_type": "code",
   "execution_count": 68,
   "metadata": {},
   "outputs": [
    {
     "name": "stdout",
     "output_type": "stream",
     "text": [
      "Bem-vindo, Guilherme Santos a classe dos formando de 2024\n"
     ]
    }
   ],
   "source": [
    "class Aluno(Person):\n",
    "  def __init__(self, fname, lname, year):\n",
    "    super().__init__(fname, lname)\n",
    "    self.graduationyear = year\n",
    "\n",
    "  def welcome(self):\n",
    "    print(f'Bem-vindo, {self.firstname} {self.lastname} a classe dos formando de {self.graduationyear}')  \n",
    "\n",
    "\n",
    "an1 = Aluno('Guilherme','Santos', 2024)\n",
    "an1.welcome()"
   ]
  },
  {
   "cell_type": "markdown",
   "metadata": {},
   "source": [
    "Se você adicionar um método na classe filha com o mesmo nome de uma função na clase Pai, a herança do método será substituída. \n"
   ]
  }
 ],
 "metadata": {
  "kernelspec": {
   "display_name": "Python 3",
   "language": "python",
   "name": "python3"
  },
  "language_info": {
   "codemirror_mode": {
    "name": "ipython",
    "version": 3
   },
   "file_extension": ".py",
   "mimetype": "text/x-python",
   "name": "python",
   "nbconvert_exporter": "python",
   "pygments_lexer": "ipython3",
   "version": "3.11.9"
  }
 },
 "nbformat": 4,
 "nbformat_minor": 2
}
