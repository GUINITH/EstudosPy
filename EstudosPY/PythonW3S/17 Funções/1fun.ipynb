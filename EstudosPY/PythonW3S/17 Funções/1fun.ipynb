{
 "cells": [
  {
   "cell_type": "markdown",
   "metadata": {},
   "source": [
    "# Funções Python \n",
    "\n",
    "Uma função é um bloco de código que só é executado quando é chamado.\n",
    "\n",
    "Você pode passar dados, conhecidos como parâmetros, para uma função. \n",
    "\n",
    "Uma função pode retornar dados como resultado. \n",
    "\n",
    "## Criando uma função \n",
    "\n",
    "Em Python, uma função é definida usando a palavra-chave ``def``:\n",
    "\n"
   ]
  },
  {
   "cell_type": "code",
   "execution_count": 2,
   "metadata": {},
   "outputs": [],
   "source": [
    "def my_function(): \n",
    "    print('Amo Python')"
   ]
  },
  {
   "cell_type": "markdown",
   "metadata": {},
   "source": [
    "## Chamando uma função \n",
    "\n",
    "Para chamar uma função, use nome da função seguido de parênteses: \n"
   ]
  },
  {
   "cell_type": "code",
   "execution_count": 3,
   "metadata": {},
   "outputs": [
    {
     "name": "stdout",
     "output_type": "stream",
     "text": [
      "Isso é uma função \n"
     ]
    }
   ],
   "source": [
    "def my_function():\n",
    "    print('Isso é uma função ')\n",
    "my_function()"
   ]
  },
  {
   "cell_type": "markdown",
   "metadata": {},
   "source": [
    "##  Argumentos\n",
    "\n",
    "As informações podem ser passadas para funções como argumentos. \n",
    "\n",
    "Os argumentos são especificados após o nome da função, dentro dos parênteses. Você pode adicionar quantos argumentos quiser, basta separá-los com uma vírgula.\n",
    "\n",
    "O exemplo a seguir possui uma função com um arguimento(name). Quando a função é chamada, passamos um primeiro nome, que é usado dentro da função para imprimir o nome comppleto: \n"
   ]
  },
  {
   "cell_type": "code",
   "execution_count": 5,
   "metadata": {},
   "outputs": [
    {
     "name": "stdout",
     "output_type": "stream",
     "text": [
      "Guilherme Souza\n",
      "Pedro Souza\n"
     ]
    }
   ],
   "source": [
    "def pessoa(name):\n",
    "    print(name + ' Souza')\n",
    "pessoa('Guilherme')\n",
    "pessoa('Pedro')\n"
   ]
  },
  {
   "cell_type": "markdown",
   "metadata": {},
   "source": [
    "Os argumentos são frequentemente abreviados para args nas documentações do Python. \n",
    "\n"
   ]
  }
 ],
 "metadata": {
  "kernelspec": {
   "display_name": "Python 3",
   "language": "python",
   "name": "python3"
  },
  "language_info": {
   "codemirror_mode": {
    "name": "ipython",
    "version": 3
   },
   "file_extension": ".py",
   "mimetype": "text/x-python",
   "name": "python",
   "nbconvert_exporter": "python",
   "pygments_lexer": "ipython3",
   "version": "3.11.9"
  }
 },
 "nbformat": 4,
 "nbformat_minor": 2
}
