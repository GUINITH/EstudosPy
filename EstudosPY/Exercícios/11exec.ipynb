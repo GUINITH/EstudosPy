{
 "cells": [
  {
   "cell_type": "code",
   "execution_count": 1,
   "metadata": {},
   "outputs": [
    {
     "name": "stdout",
     "output_type": "stream",
     "text": [
      "Meu nome é Guilherme e eu tenho 24 anos.\n"
     ]
    }
   ],
   "source": [
    "# Crie duas variáveis: uma chamada 'nome' e outra chamada 'idade'. \n",
    "# Atribua a elas um nome fictício e uma idade. \n",
    "# Depois, imprima uma frase dizendo: \"Meu nome é [nome] e eu tenho [idade] anos.\"\n",
    "\n",
    "# Dica 1: Use a função `input()` para pedir o nome e a idade ao usuário.\n",
    "# Dica 2: Para concatenar strings e variáveis, use f-strings ou a função `format()`.\n",
    "# Dica 3: Lembre-se de converter a idade para um número inteiro se for realizar operações matemáticas.\n",
    "\n",
    "nome_user = 'Guilherme'\n",
    "age_user = 24 \n",
    "print(f'Meu nome é {nome_user} e eu tenho {age_user} anos.')"
   ]
  },
  {
   "cell_type": "code",
   "execution_count": 6,
   "metadata": {},
   "outputs": [
    {
     "name": "stdout",
     "output_type": "stream",
     "text": [
      "Você é idoso\n"
     ]
    }
   ],
   "source": [
    "# Escreva um programa que pergunte a idade do usuário e diga se ele é menor de idade, maior de idade ou idoso (considerando 60 anos ou mais como idoso).\n",
    "\n",
    "# Dica 1: Use a estrutura condicional `if`, `elif` e `else`.\n",
    "# Dica 2: Utilize operadores de comparação como `>`, `<` e `>=`.\n",
    "# Dica 3: Certifique-se de testar com diferentes idades para verificar se o código funciona corretamente.\n",
    "\n",
    "idade_user = int(input(\"Digite sua idade: \"))\n",
    "\n",
    "if idade_user >= 18 and idade_user < 60:\n",
    "    print('Você é de adulto')\n",
    "elif idade_user >= 60:\n",
    "    print('Você é idoso')\n",
    "else:\n",
    "    print('Você é de menor')\n"
   ]
  },
  {
   "cell_type": "code",
   "execution_count": 8,
   "metadata": {},
   "outputs": [
    {
     "name": "stdout",
     "output_type": "stream",
     "text": [
      "1\n",
      "2\n",
      "3\n",
      "4\n",
      "5\n",
      "6\n",
      "7\n",
      "8\n",
      "9\n",
      "10\n"
     ]
    }
   ],
   "source": [
    "# Crie um programa que imprima os números de 1 a 10 usando um laço `for` e depois um laço `while`.\n",
    "\n",
    "# Dica 1: Para o `for`, use a função `range()`.\n",
    "# Dica 2: No laço `while`, controle o loop usando uma variável inicializada com 1.\n",
    "# Dica 3: Lembre-se de incrementar a variável dentro do loop para evitar loops infinitos.\n",
    "\n",
    "\n",
    "lista_numeros = list(range(1,11))\n",
    "for numeros in lista_numeros:\n",
    "    print(numeros)\n"
   ]
  },
  {
   "cell_type": "code",
   "execution_count": 10,
   "metadata": {},
   "outputs": [
    {
     "name": "stdout",
     "output_type": "stream",
     "text": [
      "1\n",
      "2\n",
      "3\n",
      "4\n",
      "5\n",
      "6\n",
      "7\n",
      "8\n",
      "9\n",
      "10\n"
     ]
    }
   ],
   "source": [
    "contador = 1\n",
    "while contador <11:\n",
    "    print(contador)\n",
    "    contador += 1"
   ]
  },
  {
   "cell_type": "code",
   "execution_count": 12,
   "metadata": {},
   "outputs": [
    {
     "name": "stdout",
     "output_type": "stream",
     "text": [
      "[1, 2, 3, 4, 5] 15 5 1 [5, 4, 3, 2, 1]\n"
     ]
    }
   ],
   "source": [
    "# Crie uma lista com 5 números de sua escolha. Em seguida, escreva um programa que:\n",
    "# a) Some todos os números.\n",
    "# b) Encontre o maior e o menor número.\n",
    "# c) Imprima a lista em ordem inversa.\n",
    "\n",
    "# Dica 1: Use a função `sum()` para somar os números.\n",
    "# Dica 2: Use as funções `max()` e `min()` para encontrar o maior e o menor número.\n",
    "# Dica 3: Para inverter a lista, use o método `.reverse()` ou slicing `[::-1]`.\n",
    "\n",
    "numeros = [1,2,3,4,5]\n",
    "\n",
    "somar_numeros = sum(numeros)\n",
    "maior_numero = max(numeros)\n",
    "menor_numero = min(numeros)\n",
    "lista_reversa = numeros[::-1]\n",
    "\n",
    "print(numeros, somar_numeros, maior_numero, menor_numero, lista_reversa)"
   ]
  },
  {
   "cell_type": "code",
   "execution_count": 15,
   "metadata": {},
   "outputs": [
    {
     "name": "stdout",
     "output_type": "stream",
     "text": [
      "Olá Guilherme! Seja muito bem-vindo!\n",
      "67\n"
     ]
    }
   ],
   "source": [
    "# Escreva uma função chamada `saudacao` que receba um nome como parâmetro e imprima \"Olá, [nome]!\". \n",
    "# Depois, crie outra função chamada `soma` que receba dois números e retorne a soma deles.\n",
    "\n",
    "# Dica 1: Defina uma função com a palavra-chave `def`.\n",
    "# Dica 2: Use a palavra-chave `return` para retornar valores de uma função.\n",
    "# Dica 3: Teste suas funções chamando-as após a definição.\n",
    "\n",
    "def saudacao(nome): \n",
    "    mensagem = f'Olá {nome}! Seja muito bem-vindo!'\n",
    "    return mensagem\n",
    "\n",
    "pessoa1 = saudacao('Guilherme')\n",
    "print(pessoa1)\n",
    "\n",
    "def soma_numeros(num1, num2):\n",
    "    somar = num1 + num2 \n",
    "    return somar \n",
    "\n",
    "add_numeros = soma_numeros(23,44)\n",
    "print(add_numeros) "
   ]
  },
  {
   "cell_type": "code",
   "execution_count": 16,
   "metadata": {},
   "outputs": [
    {
     "name": "stdout",
     "output_type": "stream",
     "text": [
      "{'nome': 'Guilherme', 'idade': 24, 'nota': 9.0, 'Curso': 'Analise e Desenvolvimento de Sistemas'}\n"
     ]
    }
   ],
   "source": [
    "# Crie um dicionário chamado `estudante` com as chaves: \"nome\", \"idade\" e \"nota\". \n",
    "# Atribua valores fictícios a essas chaves. Depois, adicione uma nova chave chamada \"curso\" ao dicionário.\n",
    "\n",
    "# Dica 1: Dicionários são definidos usando `{}` e pares chave-valor.\n",
    "# Dica 2: Para acessar ou modificar um valor, use `dicionario[chave]`.\n",
    "# Dica 3: Para adicionar uma nova chave, basta atribuir um valor a uma chave inexistente.\n",
    "\n",
    "estudante = {\n",
    "    'nome': 'Guilherme', \n",
    "    'idade': 24, \n",
    "    'nota': 9.0\n",
    "}\n",
    "\n",
    "estudante['Curso'] = 'Analise e Desenvolvimento de Sistemas'\n",
    "print(estudante)\n"
   ]
  },
  {
   "cell_type": "code",
   "execution_count": 2,
   "metadata": {},
   "outputs": [
    {
     "name": "stdout",
     "output_type": "stream",
     "text": [
      "ala o menor 11 2 ALA O MENOR\n"
     ]
    }
   ],
   "source": [
    "# Escreva um programa que peça ao usuário para inserir uma frase. \n",
    "# O programa deve:\n",
    "# a) Contar quantos caracteres a frase tem (incluindo espaços).\n",
    "# b) Contar quantas vezes a letra \"a\" aparece.\n",
    "# c) Imprimir a frase em maiúsculas.\n",
    "\n",
    "# Dica 1: Use a função `len()` para contar os caracteres.\n",
    "# Dica 2: Use o método `.count()` para contar a letra \"a\".\n",
    "# Dica 3: Use o método `.upper()` para transformar a frase em maiúsculas.\n",
    "\n",
    "frase_user = input('Digite uma frase: ')\n",
    "\n",
    "total_caracteres = len(frase_user)\n",
    "\n",
    "contar_letra_a = frase_user.count('a')\n",
    "\n",
    "frase_maiuscula = frase_user.upper()\n",
    "\n",
    "print(frase_user, total_caracteres, contar_letra_a, frase_maiuscula)\n"
   ]
  },
  {
   "cell_type": "code",
   "execution_count": 2,
   "metadata": {},
   "outputs": [
    {
     "name": "stdout",
     "output_type": "stream",
     "text": [
      "Não é possivel dividir um numero por 0\n"
     ]
    }
   ],
   "source": [
    "# Escreva um programa que peça ao usuário para inserir dois números e tente dividi-los. \n",
    "# Se o segundo número for zero, mostre uma mensagem de erro \"Divisão por zero não é permitida\".\n",
    "\n",
    "# Dica 1: Use `try` e `except` para tratar possíveis erros.\n",
    "# Dica 2: Lembre-se de capturar a exceção `ZeroDivisionError`.\n",
    "# Dica 3: Mostre uma mensagem amigável ao usuário se ocorrer um erro.\n",
    "\n",
    "numero1 = int(input('Digite um numero: ')) \n",
    "numero2 = int(input('Digite um numero: ')) \n",
    "\n",
    "try: \n",
    "    dividir_numeros = numero1 / numero2 \n",
    "    print(dividir_numeros)\n",
    "except ZeroDivisionError:\n",
    "    print('Não é possivel dividir um numero por 0') \n",
    "\n"
   ]
  },
  {
   "cell_type": "code",
   "execution_count": 9,
   "metadata": {},
   "outputs": [
    {
     "name": "stdout",
     "output_type": "stream",
     "text": [
      "[1, 2, 3, 4, 5, 6, 7, 8, 9, 10]\n"
     ]
    }
   ],
   "source": [
    "# Escreva uma compreensão de lista para criar uma lista com os quadrados dos números de 1 a 10.\n",
    "\n",
    "# Dica 1: Compreensões de lista são uma forma concisa de criar listas.\n",
    "# Dica 2: A sintaxe básica é: `[expressão for item in iterável]`.\n",
    "# Dica 3: Teste o resultado imprimindo a lista gerada.\n",
    "\n",
    "numeros_quadrados = [numero for  numero in range(1,11) if numeros ** 2]\n",
    "print(numeros_quadrados)"
   ]
  },
  {
   "cell_type": "code",
   "execution_count": null,
   "metadata": {},
   "outputs": [],
   "source": [
    "# Crie um programa que abra um arquivo chamado \"dados.txt\", escreva \"Olá, mundo!\" nele e depois o feche. \n",
    "# Em seguida, abra o arquivo novamente e leia o que foi escrito.\n",
    "\n",
    "# Dica 1: Use `with open(\"nome_do_arquivo\", \"modo\")` para abrir o arquivo.\n",
    "# Dica 2: No modo de escrita, use `\"w\"` e para leitura, use `\"r\"`.\n",
    "# Dica 3: Lembre-se de que o método `write()` não adiciona quebras de linha automaticamente.\n"
   ]
  }
 ],
 "metadata": {
  "kernelspec": {
   "display_name": "Python 3",
   "language": "python",
   "name": "python3"
  },
  "language_info": {
   "codemirror_mode": {
    "name": "ipython",
    "version": 3
   },
   "file_extension": ".py",
   "mimetype": "text/x-python",
   "name": "python",
   "nbconvert_exporter": "python",
   "pygments_lexer": "ipython3",
   "version": "3.11.9"
  }
 },
 "nbformat": 4,
 "nbformat_minor": 2
}
