{
 "cells": [
  {
   "cell_type": "markdown",
   "metadata": {},
   "source": [
    "## Abrir um arquivo no Servidor \n",
    "\n",
    "Suponha que temos o seguinte arquivo, localizado na mesma pasta do Python: \n",
    "\n",
    "``````\n",
    "arquivo demo.txt\n",
    "\n",
    "Hello! Welcome to demofile.txt\n",
    "This file is for testing purposes.\n",
    "Good Luck!\n",
    "````````\n",
    "\n",
    "Para abrir o arquivo, use a função integrada `open()`\n",
    "\n",
    "A função `open()` retorna um objeto de arquivo, que possui um método`read()` para ler o conteúido do arquivo: \n",
    "\n"
   ]
  },
  {
   "cell_type": "code",
   "execution_count": 22,
   "metadata": {},
   "outputs": [
    {
     "name": "stdout",
     "output_type": "stream",
     "text": [
      "Guilherme Felipe\n",
      "Dos Santos\n"
     ]
    }
   ],
   "source": [
    "arquivo = open(r'C:\\Users\\guigu\\OneDrive\\Documents\\GitHub\\EstudosPython\\EstudosPy\\teste2.txt', 'r')\n",
    "print(arquivo.read())"
   ]
  },
  {
   "cell_type": "code",
   "execution_count": 4,
   "metadata": {},
   "outputs": [],
   "source": [
    "arquivo.close()"
   ]
  },
  {
   "cell_type": "markdown",
   "metadata": {},
   "source": [
    "## Gerenciador de Contexto \n",
    "\n",
    "Uma forma alternativa \"mais segura\" de trabalhar com arquivos utilizando um gerenciador de contextos. O gerenciador de contextos é, de maneira resumida, um pequeno bloco de código que realiza algumas tarefas e tratamento de erro de maneira automatizada. \n",
    "\n",
    "Com ele não precisamos nos preocupar em fechar o arquivo ao final da manipulação, pois ele faz isto automaticamentente, ao final do bloco. \n",
    "\n"
   ]
  },
  {
   "cell_type": "code",
   "execution_count": 10,
   "metadata": {},
   "outputs": [
    {
     "name": "stdout",
     "output_type": "stream",
     "text": [
      "Guilherme Felipe\n",
      "Dos Santos\n"
     ]
    }
   ],
   "source": [
    "with open(r'C:\\Users\\guigu\\OneDrive\\Documents\\GitHub\\EstudosPython\\EstudosPy\\teste2.txt','r') as file:\n",
    "    print(file.read())\n"
   ]
  },
  {
   "cell_type": "markdown",
   "metadata": {},
   "source": [
    "## Ler Somoente partes do arquivo \n",
    "\n",
    "Por padrão, o método`read()` retorna o texot inteiro, mas você também pode especificar quantos caracteres deseja retornar: \n",
    "\n",
    "Retorne as 5 primeiros caracteres do arquivo: "
   ]
  },
  {
   "cell_type": "code",
   "execution_count": 11,
   "metadata": {},
   "outputs": [
    {
     "name": "stdout",
     "output_type": "stream",
     "text": [
      "Guilh\n"
     ]
    }
   ],
   "source": [
    "with open(r'C:\\Users\\guigu\\OneDrive\\Documents\\GitHub\\EstudosPython\\EstudosPy\\teste2.txt','r') as file:\n",
    "    print(file.read(5))"
   ]
  },
  {
   "cell_type": "markdown",
   "metadata": {},
   "source": [
    "## Ler linhas \n",
    "\n",
    "Você pode retornar uma linha usando o método ``readline()``\n",
    "\n",
    "Leia linha uma linha do arquivo: \n"
   ]
  },
  {
   "cell_type": "code",
   "execution_count": 12,
   "metadata": {},
   "outputs": [
    {
     "name": "stdout",
     "output_type": "stream",
     "text": [
      "Guilherme Felipe\n",
      "\n"
     ]
    }
   ],
   "source": [
    "with open(r'C:\\Users\\guigu\\OneDrive\\Documents\\GitHub\\EstudosPython\\EstudosPy\\teste2.txt','r') as file:\n",
    "    print(file.readline())"
   ]
  },
  {
   "cell_type": "markdown",
   "metadata": {},
   "source": [
    "Chamando o `readline()` duas vezes, você pode ler as duas primeiras linhas:\n",
    "\n",
    "Leia as duas primeiras linhas do arquivo: "
   ]
  },
  {
   "cell_type": "code",
   "execution_count": 13,
   "metadata": {},
   "outputs": [
    {
     "name": "stdout",
     "output_type": "stream",
     "text": [
      "Guilherme Felipe\n",
      "\n",
      "Dos Santos\n"
     ]
    }
   ],
   "source": [
    "with open(r'C:\\Users\\guigu\\OneDrive\\Documents\\GitHub\\EstudosPython\\EstudosPy\\teste2.txt','r') as file:\n",
    "    print(file.readline())\n",
    "    print(file.readline())"
   ]
  },
  {
   "cell_type": "markdown",
   "metadata": {},
   "source": [
    "Ao percorrer as linhas do arquivo, você pode ler o arquivo inteiro, linha por linha \n",
    "\n",
    "Percorra o arquivo linha por linha: \n"
   ]
  },
  {
   "cell_type": "code",
   "execution_count": 23,
   "metadata": {},
   "outputs": [],
   "source": [
    "with open(r'C:\\Users\\guigu\\OneDrive\\Documents\\GitHub\\EstudosPython\\EstudosPy\\teste2.txt','r') as file:\n",
    "   for x in arquivo: \n",
    "      print(x.readline())\n",
    "      "
   ]
  },
  {
   "cell_type": "markdown",
   "metadata": {},
   "source": [
    "## Fechar arquivos \n",
    "\n",
    "É uma boa prática sempre fechar o arquivo quando terminar de usá-lo. \n",
    "\n",
    "Feche o arquivo quando terminar de usá-lo: \n",
    "\n"
   ]
  },
  {
   "cell_type": "code",
   "execution_count": 25,
   "metadata": {},
   "outputs": [
    {
     "name": "stdout",
     "output_type": "stream",
     "text": [
      "Guilherme Felipe\n",
      "\n"
     ]
    }
   ],
   "source": [
    "with open(r'C:\\Users\\guigu\\OneDrive\\Documents\\GitHub\\EstudosPython\\EstudosPy\\teste2.txt','r') as file:\n",
    "    print(file.readline())\n",
    "\n",
    "file.close() \n",
    "\n"
   ]
  },
  {
   "cell_type": "markdown",
   "metadata": {},
   "source": [
    "Observação: você deve sempre fechar seus arquivos. Em alguns casos, devido ao buffer, as alterações feitas em um arquivo podem não ser exibidas até que você o feche."
   ]
  }
 ],
 "metadata": {
  "kernelspec": {
   "display_name": "Python 3",
   "language": "python",
   "name": "python3"
  },
  "language_info": {
   "codemirror_mode": {
    "name": "ipython",
    "version": 3
   },
   "file_extension": ".py",
   "mimetype": "text/x-python",
   "name": "python",
   "nbconvert_exporter": "python",
   "pygments_lexer": "ipython3",
   "version": "3.11.9"
  }
 },
 "nbformat": 4,
 "nbformat_minor": 2
}
