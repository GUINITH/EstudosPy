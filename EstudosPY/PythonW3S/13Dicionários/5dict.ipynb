{
 "cells": [
  {
   "cell_type": "markdown",
   "metadata": {},
   "source": [
    "# Remover itens do dicionário\n",
    "\n",
    "\n",
    "Existem vários métodos par renover itens de um dicionário: "
   ]
  },
  {
   "cell_type": "markdown",
   "metadata": {},
   "source": [
    "#### pop()\n",
    "\n",
    "O método ``pop()`` remove o item com o nome de chave especificado: \n",
    "\n"
   ]
  },
  {
   "cell_type": "code",
   "execution_count": 2,
   "metadata": {},
   "outputs": [
    {
     "data": {
      "text/plain": [
       "{'pm': 'B550M AORUS ELITE',\n",
       " 'cpu': 'AMD SÉRIES Ryzen 5600G',\n",
       " 'mémoria': '16gb Hyperx 3200mh',\n",
       " 'armazenamento': 'SSD MVME 1tb',\n",
       " 'fonte': 'Gigabyte 700w 80 plus gold',\n",
       " 'Gabinete': 'ASUS FANDER 6 FUNS'}"
      ]
     },
     "execution_count": 2,
     "metadata": {},
     "output_type": "execute_result"
    }
   ],
   "source": [
    "pc = {\n",
    "    'pm': 'B550M AORUS ELITE',\n",
    "    'cpu': 'AMD SÉRIES Ryzen 5600G', \n",
    "    'mémoria': '16gb Hyperx 3200mh',\n",
    "    'gpu': 'AMD RX 6600M',\n",
    "    'armazenamento': 'SSD MVME 1tb',\n",
    "    'fonte': 'Gigabyte 700w 80 plus gold', \n",
    "    'Gabinete': 'ASUS FANDER 6 FUNS'\n",
    "}\n",
    "pc.pop('gpu')\n",
    "pc"
   ]
  },
  {
   "cell_type": "markdown",
   "metadata": {},
   "source": [
    "#### pop()\n",
    "\n",
    "O método `popitem()` remove o último item iserido (em versões anteriores à 3.7, um item aleatório é removido): \n",
    " "
   ]
  },
  {
   "cell_type": "code",
   "execution_count": 3,
   "metadata": {},
   "outputs": [
    {
     "data": {
      "text/plain": [
       "{'pm': 'B550M AORUS ELITE',\n",
       " 'cpu': 'AMD SÉRIES Ryzen 5600G',\n",
       " 'mémoria': '16gb Hyperx 3200mh',\n",
       " 'gpu': 'AMD RX 6600M',\n",
       " 'armazenamento': 'SSD MVME 1tb',\n",
       " 'fonte': 'Gigabyte 700w 80 plus gold'}"
      ]
     },
     "execution_count": 3,
     "metadata": {},
     "output_type": "execute_result"
    }
   ],
   "source": [
    "pc = {\n",
    "    'pm': 'B550M AORUS ELITE',\n",
    "    'cpu': 'AMD SÉRIES Ryzen 5600G', \n",
    "    'mémoria': '16gb Hyperx 3200mh',\n",
    "    'gpu': 'AMD RX 6600M',\n",
    "    'armazenamento': 'SSD MVME 1tb',\n",
    "    'fonte': 'Gigabyte 700w 80 plus gold', \n",
    "    'Gabinete': 'ASUS FANDER 6 FUNS'\n",
    "}\n",
    "pc.popitem()\n",
    "pc"
   ]
  },
  {
   "cell_type": "markdown",
   "metadata": {},
   "source": [
    "#### del\n",
    "\n",
    "A palavra-chave `del` remover o item com o nome de chave especificado: "
   ]
  },
  {
   "cell_type": "code",
   "execution_count": 5,
   "metadata": {},
   "outputs": [
    {
     "data": {
      "text/plain": [
       "{'pm': 'B550M AORUS ELITE',\n",
       " 'cpu': 'AMD SÉRIES Ryzen 5600G',\n",
       " 'mémoria': '16gb Hyperx 3200mh',\n",
       " 'armazenamento': 'SSD MVME 1tb',\n",
       " 'fonte': 'Gigabyte 700w 80 plus gold',\n",
       " 'Gabinete': 'ASUS FANDER 6 FUNS'}"
      ]
     },
     "execution_count": 5,
     "metadata": {},
     "output_type": "execute_result"
    }
   ],
   "source": [
    "pc = {\n",
    "    'pm': 'B550M AORUS ELITE',\n",
    "    'cpu': 'AMD SÉRIES Ryzen 5600G', \n",
    "    'mémoria': '16gb Hyperx 3200mh',\n",
    "    'gpu': 'AMD RX 6600M',\n",
    "    'armazenamento': 'SSD MVME 1tb',\n",
    "    'fonte': 'Gigabyte 700w 80 plus gold', \n",
    "    'Gabinete': 'ASUS FANDER 6 FUNS'\n",
    "}\n",
    "del pc['gpu']\n",
    "pc"
   ]
  },
  {
   "cell_type": "markdown",
   "metadata": {},
   "source": [
    "A palavra-chave `del` também pode excluir completamente o dicionário:"
   ]
  },
  {
   "cell_type": "code",
   "execution_count": 6,
   "metadata": {},
   "outputs": [],
   "source": [
    "pc = {\n",
    "    'pm': 'B550M AORUS ELITE',\n",
    "    'cpu': 'AMD SÉRIES Ryzen 5600G', \n",
    "    'mémoria': '16gb Hyperx 3200mh',\n",
    "    'gpu': 'AMD RX 6600M',\n",
    "    'armazenamento': 'SSD MVME 1tb',\n",
    "    'fonte': 'Gigabyte 700w 80 plus gold', \n",
    "    'Gabinete': 'ASUS FANDER 6 FUNS'\n",
    "}\n",
    "del pc"
   ]
  },
  {
   "cell_type": "markdown",
   "metadata": {},
   "source": [
    "#### clear() \n",
    "\n",
    "O método `clear()` esvazia o dicionário: \n"
   ]
  },
  {
   "cell_type": "code",
   "execution_count": 7,
   "metadata": {},
   "outputs": [
    {
     "data": {
      "text/plain": [
       "{}"
      ]
     },
     "execution_count": 7,
     "metadata": {},
     "output_type": "execute_result"
    }
   ],
   "source": [
    "pc = {\n",
    "    'pm': 'B550M AORUS ELITE',\n",
    "    'cpu': 'AMD SÉRIES Ryzen 5600G', \n",
    "    'mémoria': '16gb Hyperx 3200mh',\n",
    "    'gpu': 'AMD RX 6600M',\n",
    "    'armazenamento': 'SSD MVME 1tb',\n",
    "    'fonte': 'Gigabyte 700w 80 plus gold', \n",
    "    'Gabinete': 'ASUS FANDER 6 FUNS'\n",
    "}\n",
    "pc.clear()\n",
    "pc"
   ]
  }
 ],
 "metadata": {
  "kernelspec": {
   "display_name": "Python 3",
   "language": "python",
   "name": "python3"
  },
  "language_info": {
   "codemirror_mode": {
    "name": "ipython",
    "version": 3
   },
   "file_extension": ".py",
   "mimetype": "text/x-python",
   "name": "python",
   "nbconvert_exporter": "python",
   "pygments_lexer": "ipython3",
   "version": "3.11.9"
  }
 },
 "nbformat": 4,
 "nbformat_minor": 2
}
