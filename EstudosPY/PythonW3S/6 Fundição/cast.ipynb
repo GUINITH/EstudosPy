{
 "cells": [
  {
   "cell_type": "markdown",
   "metadata": {},
   "source": [
    "# Python Fundição(Casting)\n",
    "\n",
    "## Especifique um tipo de variável \n",
    "\n",
    "Pode haver momentos em que você queira especificar um tipo para uma variável. Isso pode ser feito com fundição. Python é uma linguagem orientada a objetos e, como tal, usa classes para definir tipos de dados incluindo seus tipos primitivos. \n",
    "\n",
    "A conversão em Python é, portanto, feita usando funções construtoras: \n",
    "\n",
    "- `int()` - constrói um número inteiro a partir de um literal inteiro, um literal flutuante(removendo todas os decimais) ou um literal de string (desde que a string represente um número inteiro)\n",
    "- `float()` - constrói um número float a partir de um literal inteiro, um literal float ou um literal de string (desde que a string represente um float ou um inteiro)\n",
    "- `str()` - constrói uma string a partir de uma ampla variedade de tipos de dados, incluindo strings, literais inteiros e literais flutuantes"
   ]
  },
  {
   "cell_type": "code",
   "execution_count": 3,
   "metadata": {},
   "outputs": [
    {
     "name": "stdout",
     "output_type": "stream",
     "text": [
      "1 2 3\n"
     ]
    }
   ],
   "source": [
    "# Exemplo: Inteiros \n",
    "\n",
    "x = int(1)   # Ele ja é um inteiro não é necesário converter mas funciona\n",
    "y = int(2.8) # converteu de float para int\n",
    "z = int(\"3\") # string para int\n",
    "\n",
    "print(x,y,z)"
   ]
  },
  {
   "cell_type": "code",
   "execution_count": 5,
   "metadata": {},
   "outputs": [
    {
     "name": "stdout",
     "output_type": "stream",
     "text": [
      "1.0 2.8 3.0 4.2\n"
     ]
    }
   ],
   "source": [
    "# Exemplo: Flutuantes \n",
    "\n",
    "x = float(1)   # int para float\n",
    "y = float(2.8)   # Ja é um float, funciona mesmo convertendo\n",
    "z = float(\"3\")   # string para float \n",
    "w = float(\"4.2\") # string para float\n",
    "\n",
    "print(x,y,z,w)"
   ]
  },
  {
   "cell_type": "code",
   "execution_count": 9,
   "metadata": {},
   "outputs": [
    {
     "name": "stdout",
     "output_type": "stream",
     "text": [
      "('s1', '2', '3.0')\n"
     ]
    }
   ],
   "source": [
    "# Exemplo: Textos(strings)\n",
    "x=str('s1') # Não precisa mas funciona, pois já é uma string \n",
    "y = str(2) # int para str  \n",
    "z = str(3.0) # float para str\n",
    "print(f'{x,y,z}')"
   ]
  }
 ],
 "metadata": {
  "kernelspec": {
   "display_name": "Python 3",
   "language": "python",
   "name": "python3"
  },
  "language_info": {
   "codemirror_mode": {
    "name": "ipython",
    "version": 3
   },
   "file_extension": ".py",
   "mimetype": "text/x-python",
   "name": "python",
   "nbconvert_exporter": "python",
   "pygments_lexer": "ipython3",
   "version": "3.11.9"
  }
 },
 "nbformat": 4,
 "nbformat_minor": 2
}
