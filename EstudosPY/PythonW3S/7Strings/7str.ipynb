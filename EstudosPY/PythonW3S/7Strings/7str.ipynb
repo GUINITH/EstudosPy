{
 "cells": [
  {
   "cell_type": "markdown",
   "metadata": {},
   "source": [
    "# Método Python String capitalize()\n",
    "\n",
    "### Definisão de uso: \n",
    "\n",
    "O ``capitalize()``método retorna uma string onde o primeiro caractere é maiúsculo e o restante é minúsculo.\n",
    "\n",
    "##### Sintaxe \n",
    "string.capitalize()\n",
    "\n",
    "##### Valores de Parâmetros: \n",
    "Sem Parâmetros!\n",
    "\n",
    "#### Exemplo: \n",
    "Maiúscula a primeira letra desta frase: \n",
    "\n",
    "\n"
   ]
  },
  {
   "cell_type": "code",
   "execution_count": 1,
   "metadata": {},
   "outputs": [
    {
     "name": "stdout",
     "output_type": "stream",
     "text": [
      "uma vez Flamengo, sempre Flamengo!\n",
      "Uma vez flamengo, sempre flamengo!\n"
     ]
    }
   ],
   "source": [
    "txt = 'uma vez Flamengo, sempre Flamengo!'\n",
    "upper_one_caracter = txt.capitalize()\n",
    "print(txt)\n",
    "print(upper_one_caracter)"
   ]
  },
  {
   "cell_type": "markdown",
   "metadata": {},
   "source": [
    "# Método Python String casefold() \n",
    "\n",
    "#### Definisão de uso: \n",
    "\n",
    "O casefold()método retorna uma string onde todos os caracteres estão em minúsculas.\n",
    "\n",
    "Este método é semelhante ao método, mas o método é mais forte, mais agressivo, o que significa que ele converterá mais caracteres em minúsculas e encontrará mais correspondências ao comparar duas strings e ambas serão convertidas usando o método. ``lower()``\n",
    "``casefold()``\n",
    "``casefold() ``\n",
    "\n",
    "##### Sintaxe:\n",
    "\n",
    "string.casefold()\n",
    "\n",
    "#### Valores de parâmetros \n",
    "\n",
    "sem parâmetros\n",
    "\n",
    "##### Exemplo: \n",
    "\n",
    "Coloque a string em minúscula:\n"
   ]
  },
  {
   "cell_type": "code",
   "execution_count": 2,
   "metadata": {},
   "outputs": [
    {
     "name": "stdout",
     "output_type": "stream",
     "text": [
      "bem-vindo ao python\n"
     ]
    }
   ],
   "source": [
    "txt = 'BEM-VINDO AO PYTHON'\n",
    "formatar_txt = txt.casefold()\n",
    "print(formatar_txt)"
   ]
  }
 ],
 "metadata": {
  "kernelspec": {
   "display_name": "Python 3",
   "language": "python",
   "name": "python3"
  },
  "language_info": {
   "codemirror_mode": {
    "name": "ipython",
    "version": 3
   },
   "file_extension": ".py",
   "mimetype": "text/x-python",
   "name": "python",
   "nbconvert_exporter": "python",
   "pygments_lexer": "ipython3",
   "version": "3.11.9"
  }
 },
 "nbformat": 4,
 "nbformat_minor": 2
}
