{
 "cells": [
  {
   "cell_type": "markdown",
   "metadata": {},
   "source": [
    "# Arrays Python \n",
    "\n",
    "Obs: O Python não tem suporte integrado para matrizers, mas listas do Python podem ser usadas. \n",
    "\n",
    "## Arrays(Matrizes)\n",
    "\n",
    "Esta página mostra como usar listas como Arrays; no entanto, para trabalhar com arrays em Pythgon, você pode terá que importar uma biblioteca, como a blibioteca do NumPy.\n",
    "\n",
    "Arrays são usadas para armazenar vários valores em uma única variável: \n",
    "\n",
    "Crie uma matriz contendo nome de frutas: \n"
   ]
  },
  {
   "cell_type": "code",
   "execution_count": 2,
   "metadata": {},
   "outputs": [],
   "source": [
    "frutas = ['Uva', 'Maçã', 'Laranja']\n"
   ]
  },
  {
   "cell_type": "markdown",
   "metadata": {},
   "source": [
    "## O que é um Array? \n",
    "\n",
    "Um árray é uma variável especial que pode conter mais de um valor por vez. \n",
    "\n",
    "Se você tiver uma lista de itens (uma lista de nomes de carros, por exemplo),  armazenar as frutas em variáveis únicas poodem ficar assim: "
   ]
  },
  {
   "cell_type": "code",
   "execution_count": 3,
   "metadata": {},
   "outputs": [],
   "source": [
    "fruta1 = 'Uva'\n",
    "fruta2 = 'Maçã'\n",
    "fruta3 = 'Laranja'\n"
   ]
  },
  {
   "cell_type": "markdown",
   "metadata": {},
   "source": [
    "No entanto, e se você quiser percorrer as frutas e encontrar uma específica? E se você não tivesse 3 frutas, mas 300? \n",
    "\n",
    "A solução é um array! \n",
    "\n",
    "Um array pode conter muitos valores sob um único nome, e você pode acessar os valores consultando um número de índice. \n",
    "\n",
    "## Acesse os elemntons de uma matriz \n",
    "\n",
    "Você se refere a um elemento de matriz referindo-se ao número do índice. \n",
    "\n"
   ]
  },
  {
   "cell_type": "code",
   "execution_count": 5,
   "metadata": {},
   "outputs": [
    {
     "data": {
      "text/plain": [
       "'Maçã'"
      ]
     },
     "execution_count": 5,
     "metadata": {},
     "output_type": "execute_result"
    }
   ],
   "source": [
    "frt1 = frutas[1]\n",
    "frt1 "
   ]
  },
  {
   "cell_type": "markdown",
   "metadata": {},
   "source": [
    "Modifique o valor do segundo item da matriz: "
   ]
  },
  {
   "cell_type": "code",
   "execution_count": 6,
   "metadata": {},
   "outputs": [],
   "source": [
    "frutas[1] = 'Melão'"
   ]
  },
  {
   "cell_type": "markdown",
   "metadata": {},
   "source": [
    "## O Comprimento de um Array\n",
    "\n",
    "Use O método `len()` para retornar o comprimento de uma Array(o número de elementos em uma matriz)\n",
    "\n",
    "Retorne o número de elementos na Array `frutas`\n"
   ]
  },
  {
   "cell_type": "code",
   "execution_count": 7,
   "metadata": {},
   "outputs": [
    {
     "data": {
      "text/plain": [
       "3"
      ]
     },
     "execution_count": 7,
     "metadata": {},
     "output_type": "execute_result"
    }
   ],
   "source": [
    "comprimento = len(frutas)\n",
    "comprimento"
   ]
  },
  {
   "cell_type": "markdown",
   "metadata": {},
   "source": [
    "Obs:  O comprimento de uma matriz é sempre uma unidade a mais que o ídice mais alto da matriz. \n"
   ]
  },
  {
   "cell_type": "markdown",
   "metadata": {},
   "source": [
    "## Pecorrendo Arrays com o loop for \n",
    "\n",
    "Você pode usar o `for in` para percorrer todos os elementos de um Array:\n",
    "\n",
    "Imprima cada item da Array  `frutas`:"
   ]
  },
  {
   "cell_type": "code",
   "execution_count": 9,
   "metadata": {},
   "outputs": [
    {
     "name": "stdout",
     "output_type": "stream",
     "text": [
      "Uva\n",
      "Melão\n",
      "Laranja\n"
     ]
    }
   ],
   "source": [
    "for fruta in frutas: \n",
    "    print(fruta)"
   ]
  },
  {
   "cell_type": "markdown",
   "metadata": {},
   "source": [
    "## Adicionando elementos de Arrays \n",
    "\n",
    "Você pode usar o método `append()` para adicionar um elemento a um Array\n",
    "\n",
    "Adicione mais um elemento a Array `frutas`: \n"
   ]
  },
  {
   "cell_type": "code",
   "execution_count": 13,
   "metadata": {},
   "outputs": [],
   "source": [
    "frutas.append('Melão')\n"
   ]
  },
  {
   "cell_type": "markdown",
   "metadata": {},
   "source": [
    "## Removendo elementos do Array \n",
    "\n",
    "Você pode usar o `pop()` método para remover um elemento do Array \n",
    "\n",
    "Exclua o segundo elemento de `frutas`: \n"
   ]
  },
  {
   "cell_type": "code",
   "execution_count": 11,
   "metadata": {},
   "outputs": [
    {
     "data": {
      "text/plain": [
       "'Melão'"
      ]
     },
     "execution_count": 11,
     "metadata": {},
     "output_type": "execute_result"
    }
   ],
   "source": [
    "frutas.pop(1)"
   ]
  },
  {
   "cell_type": "markdown",
   "metadata": {},
   "source": [
    "Você também pode usar o método ``remove()`` método para remover um elemento de Array. "
   ]
  },
  {
   "cell_type": "code",
   "execution_count": 15,
   "metadata": {},
   "outputs": [
    {
     "data": {
      "text/plain": [
       "['Uva', 'Laranja', 'Morango']"
      ]
     },
     "execution_count": 15,
     "metadata": {},
     "output_type": "execute_result"
    }
   ],
   "source": [
    "frutas.remove(\"Morango\")\n",
    "frutas"
   ]
  },
  {
   "cell_type": "markdown",
   "metadata": {},
   "source": [
    "Obeservação: O método da lista ``remove()`` remove apenas a primeira ocorrência do valor especificado. \n"
   ]
  },
  {
   "cell_type": "markdown",
   "metadata": {},
   "source": [
    "O Python tem um conjunto de métodos integrados que você pode usar em listas/arrays."
   ]
  }
 ],
 "metadata": {
  "kernelspec": {
   "display_name": "Python 3",
   "language": "python",
   "name": "python3"
  },
  "language_info": {
   "codemirror_mode": {
    "name": "ipython",
    "version": 3
   },
   "file_extension": ".py",
   "mimetype": "text/x-python",
   "name": "python",
   "nbconvert_exporter": "python",
   "pygments_lexer": "ipython3",
   "version": "3.11.9"
  }
 },
 "nbformat": 4,
 "nbformat_minor": 2
}
