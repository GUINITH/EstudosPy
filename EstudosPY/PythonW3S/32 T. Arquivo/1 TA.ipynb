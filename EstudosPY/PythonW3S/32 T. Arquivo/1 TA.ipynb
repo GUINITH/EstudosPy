{
 "cells": [
  {
   "cell_type": "markdown",
   "metadata": {},
   "source": [
    "## Arquivos Python\n",
    "\n",
    "A manipulação de arquivos é uma parte importante de qualquer aplicativo Web. \n",
    "\n",
    "Python tem varias funções para criar, ler, atualizar e excluindo arquivos.\n",
    "\n",
    "\n",
    "## Tratamento de Arquivos \n",
    "\n",
    "A função-chave para trabalhar com arquivos em Python é a função ``open()``. \n",
    "A função `open()` tem dois parâmetros; nome do arquivo e modo. \n",
    "Existem quatro métodos(modos) diferentes para abrir um arquivo: \n",
    "\n",
    "`\"r\"` - Leitura - Valor padrão. Abre um arquvo para leitura, erro se o arquivo não existir.\n",
    "`\"a\"` - Anexar - Abre um arquivo para anexando,  cria o arquivo se ele não existir. \n",
    "`\"w\"` - Escrever - Abre um arquivo para escrever, cria o arquivo se ele não existir.\n",
    "`\"x\"` - Criar o arquivo especificado, retorna um erro se arquivo existir \n",
    "\n",
    "Além disso, voc^^e pode especificar se o arquivo deve ser manipulado como modo binário ou de texto\n",
    "\n",
    "`\"t\"` - Texto -Valor padrão. Modo de texto\n",
    "`\"b\"` - Binário - Modo binário( por exemplo, imagens)\n",
    "\n",
    "## Sintaxe \n",
    "\n",
    "Para abrir um arquivo para leitura basta especificar o nome do arquivo: \n",
    "\n",
    "\n",
    "\n",
    "\n",
    "\n"
   ]
  },
  {
   "cell_type": "code",
   "execution_count": 4,
   "metadata": {},
   "outputs": [],
   "source": [
    "f = open(r'C:\\Users\\guigu\\OneDrive\\Documents\\GitHub\\EstudosPython\\EstudosPy\\teste2.txt')"
   ]
  },
  {
   "cell_type": "markdown",
   "metadata": {},
   "source": [
    "O código acima é o mesmo que: \n"
   ]
  },
  {
   "cell_type": "code",
   "execution_count": 6,
   "metadata": {},
   "outputs": [],
   "source": [
    "f = open(r'C:\\Users\\guigu\\OneDrive\\Documents\\GitHub\\EstudosPython\\EstudosPy\\teste2.txt', 'rt')\n"
   ]
  },
  {
   "cell_type": "markdown",
   "metadata": {},
   "source": [
    "Como para leitura `\"r\"` e para texto `\"t\"` são valores padrão, você não precisa especificá-los.\n",
    "\n",
    "Verifique se o arquivo existe, caso contrário você receberá um erro. "
   ]
  }
 ],
 "metadata": {
  "kernelspec": {
   "display_name": "Python 3",
   "language": "python",
   "name": "python3"
  },
  "language_info": {
   "codemirror_mode": {
    "name": "ipython",
    "version": 3
   },
   "file_extension": ".py",
   "mimetype": "text/x-python",
   "name": "python",
   "nbconvert_exporter": "python",
   "pygments_lexer": "ipython3",
   "version": "3.11.9"
  }
 },
 "nbformat": 4,
 "nbformat_minor": 2
}
