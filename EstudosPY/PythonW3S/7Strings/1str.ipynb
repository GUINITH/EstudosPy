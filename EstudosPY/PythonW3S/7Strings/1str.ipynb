{
 "cells": [
  {
   "cell_type": "markdown",
   "metadata": {},
   "source": [
    "# Strings Python \n",
    "\n",
    "### Strings\n",
    "\n",
    "Strings em Python são colocadas entre aspas simples ou duplas.\n",
    "\n",
    "'olá' é o mesmo que \"olá\".\n",
    "\n",
    "Você pode exibir uma string literal com a `print()` function:\n",
    "\n",
    "#### Exemplo: \n"
   ]
  },
  {
   "cell_type": "code",
   "execution_count": 1,
   "metadata": {},
   "outputs": [
    {
     "name": "stdout",
     "output_type": "stream",
     "text": [
      "Olá\n",
      "Olá\n"
     ]
    }
   ],
   "source": [
    "print('Olá')\n",
    "print(\"Olá\")"
   ]
  },
  {
   "cell_type": "markdown",
   "metadata": {},
   "source": [
    "# Citações detro de citações \n",
    "\n",
    "Você pode usar aspas dentro de uma string, desde que els não correspondam ás aspas ao redor da string: \n",
    "\n",
    "#### Exemplo:"
   ]
  },
  {
   "cell_type": "code",
   "execution_count": 2,
   "metadata": {},
   "outputs": [
    {
     "name": "stdout",
     "output_type": "stream",
     "text": [
      "Let's go! \n",
      "Vamos comigo \"amigo?\"\n"
     ]
    }
   ],
   "source": [
    "print(\"Let's go! \")\n",
    "print('Vamos comigo \"amigo?\"')"
   ]
  },
  {
   "cell_type": "markdown",
   "metadata": {},
   "source": [
    "# Atribuir String a uma Varável \n",
    "\n",
    "A atribuição de uma string a uma variável é feita com o nome da variável seguido de um sinal de igual e da string: \n",
    "\n",
    "#### Exemplo: \n"
   ]
  },
  {
   "cell_type": "code",
   "execution_count": 3,
   "metadata": {},
   "outputs": [
    {
     "name": "stdout",
     "output_type": "stream",
     "text": [
      "Bem-vindo\n"
     ]
    }
   ],
   "source": [
    "a = \"Bem-vindo\"\n",
    "print(a)"
   ]
  },
  {
   "cell_type": "markdown",
   "metadata": {},
   "source": [
    "# Strings Multilinhas \n",
    "\n",
    "Você pode atribuir uma string multilinha a uma variável usando três aspas: \n",
    "\n",
    "#### Exemplo\n",
    "\n",
    "Você pode usar três aspas duplas:\n",
    "\n"
   ]
  },
  {
   "cell_type": "code",
   "execution_count": 4,
   "metadata": {},
   "outputs": [
    {
     "name": "stdout",
     "output_type": "stream",
     "text": [
      "Lorem ipsum dolor sit amet,\n",
      "consectetur adipiscing elit,\n",
      "sed do eiusmod tempor incididunt\n",
      "ut labore et dolore magna aliqua.\n"
     ]
    }
   ],
   "source": [
    "a = \"\"\"Lorem ipsum dolor sit amet,\n",
    "consectetur adipiscing elit,\n",
    "sed do eiusmod tempor incididunt\n",
    "ut labore et dolore magna aliqua.\"\"\"\n",
    "print(a)"
   ]
  },
  {
   "cell_type": "markdown",
   "metadata": {},
   "source": [
    "Ou três aspas simples: \n",
    "\n",
    "##### Exemplo:"
   ]
  },
  {
   "cell_type": "code",
   "execution_count": 5,
   "metadata": {},
   "outputs": [
    {
     "name": "stdout",
     "output_type": "stream",
     "text": [
      "Lorem ipsum dolor sit amet,\n",
      "consectetur adipiscing elit,\n",
      "sed do eiusmod tempor incididunt\n",
      "ut labore et dolore magna aliqua.\n"
     ]
    }
   ],
   "source": [
    "a = '''Lorem ipsum dolor sit amet,\n",
    "consectetur adipiscing elit,\n",
    "sed do eiusmod tempor incididunt\n",
    "ut labore et dolore magna aliqua.'''\n",
    "print(a)"
   ]
  },
  {
   "cell_type": "markdown",
   "metadata": {},
   "source": [
    "Nota: no resultado, as quebras de linha são inseridas na mesma posição do código"
   ]
  },
  {
   "cell_type": "markdown",
   "metadata": {},
   "source": [
    "# Strings são matrizes \n",
    "\n",
    "Como muitas outras linguagens de programação populares, strings em Python são matrizes de bytes que representam caracteres Unicode.\n",
    "\n",
    "No entanto, Python não possui um tipo de dados de caractere, um único caractere é simplesmente uma string com comprimento 1. \n",
    "\n",
    "Colchetes podem ser usados para acessar elementos da string. \n",
    "\n",
    "#### Exemplo: \n",
    "\n"
   ]
  },
  {
   "cell_type": "markdown",
   "metadata": {},
   "source": [
    "Coloque o caractere na posição 1 (lembre-se que o primeiro caractere tem a posição 0):"
   ]
  },
  {
   "cell_type": "code",
   "execution_count": 6,
   "metadata": {},
   "outputs": [
    {
     "name": "stdout",
     "output_type": "stream",
     "text": [
      "e\n"
     ]
    }
   ],
   "source": [
    "a = \"Hello, World!\"\n",
    "print(a[1])"
   ]
  },
  {
   "cell_type": "markdown",
   "metadata": {},
   "source": [
    "# Loop através de uma string \n",
    "\n",
    "\n",
    "Como strings são arrays, podemos percorrer os caracteres de uma string, com um ``for``loop.\n",
    "\n",
    "#### Exemplo"
   ]
  },
  {
   "cell_type": "code",
   "execution_count": 8,
   "metadata": {},
   "outputs": [
    {
     "name": "stdout",
     "output_type": "stream",
     "text": [
      "b\n",
      "a\n",
      "n\n",
      "a\n",
      "n\n",
      "a\n"
     ]
    }
   ],
   "source": [
    "# Percorra as letras da palavra \"banana\":\n",
    "\n",
    "for x in \"banana\":\n",
    "  print(x)"
   ]
  },
  {
   "cell_type": "markdown",
   "metadata": {},
   "source": [
    "# Comprimento da String \n",
    "\n",
    "Para obter o comprimento de uma string, use a `len()` function. \n",
    "\n",
    "#### Exemplo: \n",
    "\n",
    "A ``len()``função retorna o comprimento de uma string:\n"
   ]
  },
  {
   "cell_type": "code",
   "execution_count": 9,
   "metadata": {},
   "outputs": [
    {
     "name": "stdout",
     "output_type": "stream",
     "text": [
      "13\n"
     ]
    }
   ],
   "source": [
    "a = \"Hello, World!\"\n",
    "print(len(a))"
   ]
  },
  {
   "cell_type": "markdown",
   "metadata": {},
   "source": [
    "# Verifique a sequência\n",
    "\n",
    "Para verificar se determinada frase ou caractere está presente em uma string, podemos utilizar a palavra-chave ``in``.\n",
    "\n",
    "##### Exemplo\n",
    "\n",
    "Verifique se \"Python\" está presente no seguinte texto:"
   ]
  },
  {
   "cell_type": "code",
   "execution_count": 10,
   "metadata": {},
   "outputs": [
    {
     "name": "stdout",
     "output_type": "stream",
     "text": [
      "True\n"
     ]
    }
   ],
   "source": [
    "txt = 'Vamos se tornar um desenvolvedor Python'\n",
    "print('Python' in txt)"
   ]
  },
  {
   "cell_type": "markdown",
   "metadata": {},
   "source": [
    "Use-o em uma ``if`` declaração:"
   ]
  },
  {
   "cell_type": "markdown",
   "metadata": {},
   "source": [
    "# Exemplo \n",
    "\n",
    "Imprima apenas se \"grátis\" estiver presente:"
   ]
  },
  {
   "cell_type": "code",
   "execution_count": 11,
   "metadata": {},
   "outputs": [
    {
     "name": "stdout",
     "output_type": "stream",
     "text": [
      "True\n"
     ]
    }
   ],
   "source": [
    "txt = 'Sou Rubro-Negro'\n",
    "\n",
    "if 'Negro' in txt:\n",
    "    print(True)\n",
    "else:\n",
    "    print(False)"
   ]
  },
  {
   "cell_type": "markdown",
   "metadata": {},
   "source": [
    "# Verifique Se Não\n",
    "\n",
    "Para verificar se determinada frase ou caractere NÃO está presente em uma string, podemos usar a palavra-chave not in. \n"
   ]
  },
  {
   "cell_type": "code",
   "execution_count": 12,
   "metadata": {},
   "outputs": [
    {
     "name": "stdout",
     "output_type": "stream",
     "text": [
      "True\n"
     ]
    }
   ],
   "source": [
    "txt = 'Amo minha mãe e não largo dela'\n",
    "print('amor' not in txt)"
   ]
  },
  {
   "cell_type": "markdown",
   "metadata": {},
   "source": [
    "Use-o em uma ``if`` declaração:\n",
    "\n",
    "#### Exemplo \n",
    "\n",
    "imprima apenas se \"caro\" NÃO estiver presente: \n"
   ]
  },
  {
   "cell_type": "code",
   "execution_count": 13,
   "metadata": {},
   "outputs": [
    {
     "name": "stdout",
     "output_type": "stream",
     "text": [
      "Não existe \"Amor\" na string!\n"
     ]
    }
   ],
   "source": [
    "txt = 'Amo minha mãe e não largo dela'\n",
    "if 'Amor' not in txt: \n",
    "    print('Não existe \"Amor\" na string!')\n",
    "else:\n",
    "    print('Existe Amnor')"
   ]
  }
 ],
 "metadata": {
  "kernelspec": {
   "display_name": "Python 3",
   "language": "python",
   "name": "python3"
  },
  "language_info": {
   "codemirror_mode": {
    "name": "ipython",
    "version": 3
   },
   "file_extension": ".py",
   "mimetype": "text/x-python",
   "name": "python",
   "nbconvert_exporter": "python",
   "pygments_lexer": "ipython3",
   "version": "3.11.9"
  }
 },
 "nbformat": 4,
 "nbformat_minor": 2
}
