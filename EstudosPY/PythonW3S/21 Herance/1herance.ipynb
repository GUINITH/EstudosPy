{
 "cells": [
  {
   "cell_type": "markdown",
   "metadata": {},
   "source": [
    "# Herança Python \n",
    "\n",
    "A herança nos permite definir uma classe que herda todos os métodos e propriedades de outra classe.\n",
    "\n",
    "Classe Pai é a classe da qual está sendo herdada, também chamada de classe base. \n",
    "\n",
    "Classe filha é a classe que herda de outra classe, também chamada de classe derivada. \n",
    "\n",
    "\n",
    "## Crie uma clase pai \n",
    "\n",
    "Qualquer classe pode ser uma classe pai, então a sintaxe é a mesma da criação de qualquer otura classe: \n",
    "\n",
    "\n",
    "#### Exemplo:\n",
    "\n",
    "Crie uma clase chamada Person, com propriedades e e um firstname método: lastname printname \n"
   ]
  },
  {
   "cell_type": "code",
   "execution_count": 1,
   "metadata": {},
   "outputs": [
    {
     "name": "stdout",
     "output_type": "stream",
     "text": [
      "Maria Clark\n"
     ]
    }
   ],
   "source": [
    "class Person:\n",
    "    \n",
    "    def __init__(self, fname, lname): \n",
    "        self.firstname = fname \n",
    "        self.lastname = lname\n",
    "\n",
    "    def printname(self):\n",
    "            print(self.firstname, self.lastname)\n",
    "    \n",
    "\n",
    "x = Person('Maria', 'Clark')\n",
    "x.printname()"
   ]
  },
  {
   "cell_type": "markdown",
   "metadata": {},
   "source": []
  }
 ],
 "metadata": {
  "kernelspec": {
   "display_name": "Python 3",
   "language": "python",
   "name": "python3"
  },
  "language_info": {
   "codemirror_mode": {
    "name": "ipython",
    "version": 3
   },
   "file_extension": ".py",
   "mimetype": "text/x-python",
   "name": "python",
   "nbconvert_exporter": "python",
   "pygments_lexer": "ipython3",
   "version": "3.11.9"
  }
 },
 "nbformat": 4,
 "nbformat_minor": 2
}
