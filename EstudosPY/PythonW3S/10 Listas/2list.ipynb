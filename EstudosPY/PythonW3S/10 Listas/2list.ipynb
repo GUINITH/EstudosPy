{
 "cells": [
  {
   "cell_type": "markdown",
   "metadata": {},
   "source": [
    "# Python - Itens da lista de acesso \n",
    "\n",
    "# Acessar itens \n",
    "\n",
    "Os itens da lista são indexados e você pode acessá-los consultando o número do índice: \n",
    "\n",
    "#### Exemplo \n",
    "\n",
    "Imprima o segundo item da lista:\n"
   ]
  },
  {
   "cell_type": "code",
   "execution_count": 1,
   "metadata": {},
   "outputs": [
    {
     "name": "stdout",
     "output_type": "stream",
     "text": [
      "banana\n"
     ]
    }
   ],
   "source": [
    "thislist = [\"apple\", \"banana\", \"cherry\"]\n",
    "print(thislist[1])"
   ]
  },
  {
   "cell_type": "markdown",
   "metadata": {},
   "source": [
    "Nota: O primeiro item possui índice 0.\n",
    "\n",
    "# Indexação Negativa\n",
    "\n",
    "Indexação negativa significa começar do fim\n",
    "\n",
    "-1refere-se ao último item, -2refere-se ao penúltimo item etc.\n",
    "\n",
    "#### Exemplo\n",
    "\n",
    "Imprima o último item da lista:"
   ]
  },
  {
   "cell_type": "code",
   "execution_count": 2,
   "metadata": {},
   "outputs": [
    {
     "name": "stdout",
     "output_type": "stream",
     "text": [
      "cherry\n"
     ]
    }
   ],
   "source": [
    "thislist = [\"apple\", \"banana\", \"cherry\"]\n",
    "print(thislist[-1])"
   ]
  }
 ],
 "metadata": {
  "kernelspec": {
   "display_name": "Python 3",
   "language": "python",
   "name": "python3"
  },
  "language_info": {
   "codemirror_mode": {
    "name": "ipython",
    "version": 3
   },
   "file_extension": ".py",
   "mimetype": "text/x-python",
   "name": "python",
   "nbconvert_exporter": "python",
   "pygments_lexer": "ipython3",
   "version": "3.11.9"
  }
 },
 "nbformat": 4,
 "nbformat_minor": 2
}
