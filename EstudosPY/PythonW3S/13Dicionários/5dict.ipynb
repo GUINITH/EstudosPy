{
 "cells": [
  {
   "cell_type": "markdown",
   "metadata": {},
   "source": [
    "# Remover itens do dicionário\n",
    "\n",
    "\n",
    "Existem vários métodos par renover itens de um dicionário: "
   ]
  },
  {
   "cell_type": "markdown",
   "metadata": {},
   "source": [
    "O pop()método remove o item com o nome de chave especificado: \n",
    "\n"
   ]
  }
 ],
 "metadata": {
  "language_info": {
   "name": "python"
  }
 },
 "nbformat": 4,
 "nbformat_minor": 2
}
