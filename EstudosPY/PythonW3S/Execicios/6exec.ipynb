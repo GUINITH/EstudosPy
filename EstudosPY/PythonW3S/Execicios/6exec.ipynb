{
 "cells": [
  {
   "cell_type": "markdown",
   "metadata": {},
   "source": [
    "Claro, aqui estão alguns exercícios para você praticar com loops `while` em Python:\n",
    "\n",
    "### Exercício 1: Contagem Simples\n",
    "1. Crie uma variável `contador` e atribua a ela o valor 1.\n",
    "2. Use um loop `while` para imprimir os números de 1 a 10.\n",
    "3. Incremente a variável `contador` em 1 a cada iteração.\n"
   ]
  },
  {
   "cell_type": "code",
   "execution_count": 1,
   "metadata": {},
   "outputs": [
    {
     "name": "stdout",
     "output_type": "stream",
     "text": [
      "1\n",
      "2\n",
      "3\n",
      "4\n",
      "5\n",
      "6\n",
      "7\n",
      "8\n",
      "9\n",
      "10\n"
     ]
    }
   ],
   "source": [
    "contador = 1 \n",
    "while contador < 11:\n",
    "    print(contador)\n",
    "    contador+=1 \n",
    "    "
   ]
  },
  {
   "cell_type": "markdown",
   "metadata": {},
   "source": [
    "\n",
    "### Exercício 2: Soma de Números\n",
    "1. Crie uma variável `soma` e atribua a ela o valor 0.\n",
    "2. Crie uma variável `numero` e atribua a ela o valor 1.\n",
    "3. Use um loop `while` para somar os números de 1 a 100.\n",
    "4. Incremente a variável `numero` em 1 a cada iteração.\n",
    "5. Imprima a soma total após o loop.\n"
   ]
  },
  {
   "cell_type": "code",
   "execution_count": 4,
   "metadata": {},
   "outputs": [
    {
     "name": "stdout",
     "output_type": "stream",
     "text": [
      "2\n",
      "3\n",
      "4\n",
      "5\n",
      "6\n",
      "7\n",
      "8\n",
      "9\n",
      "10\n",
      "11\n",
      "12\n",
      "13\n",
      "14\n",
      "15\n",
      "16\n",
      "17\n",
      "18\n",
      "19\n",
      "20\n",
      "21\n",
      "22\n",
      "23\n",
      "24\n",
      "25\n",
      "26\n",
      "27\n",
      "28\n",
      "29\n",
      "30\n",
      "31\n",
      "32\n",
      "33\n",
      "34\n",
      "35\n",
      "36\n",
      "37\n",
      "38\n",
      "39\n",
      "40\n",
      "41\n",
      "42\n",
      "43\n",
      "44\n",
      "45\n",
      "46\n",
      "47\n",
      "48\n",
      "49\n",
      "50\n",
      "51\n",
      "52\n",
      "53\n",
      "54\n",
      "55\n",
      "56\n",
      "57\n",
      "58\n",
      "59\n",
      "60\n",
      "61\n",
      "62\n",
      "63\n",
      "64\n",
      "65\n",
      "66\n",
      "67\n",
      "68\n",
      "69\n",
      "70\n",
      "71\n",
      "72\n",
      "73\n",
      "74\n",
      "75\n",
      "76\n",
      "77\n",
      "78\n",
      "79\n",
      "80\n",
      "81\n",
      "82\n",
      "83\n",
      "84\n",
      "85\n",
      "86\n",
      "87\n",
      "88\n",
      "89\n",
      "90\n",
      "91\n",
      "92\n",
      "93\n",
      "94\n",
      "95\n",
      "96\n",
      "97\n",
      "98\n",
      "99\n",
      "100\n"
     ]
    }
   ],
   "source": [
    "soma = 0 \n",
    "numero = 1 \n",
    "while numero < 100: \n",
    "    numero +=1\n",
    "    soma =  numero\n",
    "    print(soma)\n",
    "    "
   ]
  },
  {
   "cell_type": "markdown",
   "metadata": {},
   "source": [
    "\n",
    "### Exercício 3: Entrada de Usuário\n",
    "1. Peça ao usuário para digitar um número e armazene em uma variável `numero`.\n",
    "2. Use um loop `while` para continuar pedindo ao usuário para digitar um número até que ele digite 0.\n",
    "3. A cada iteração, imprima o número digitado pelo usuário.\n"
   ]
  },
  {
   "cell_type": "code",
   "execution_count": 7,
   "metadata": {},
   "outputs": [
    {
     "name": "stdout",
     "output_type": "stream",
     "text": [
      "0\n"
     ]
    }
   ],
   "source": [
    "numero = int(input('Digite um número: ' ))\n",
    "saida = 0\n",
    "\n",
    "while True:\n",
    "    if numero == saida: \n",
    "        print(numero)\n",
    "        break\n",
    "    else:\n",
    "        numero = int(input('Digite um número: ' ))\n",
    "        print(numero)\n",
    "        continue\n",
    "\n",
    "\n"
   ]
  },
  {
   "cell_type": "markdown",
   "metadata": {},
   "source": [
    "\n",
    "### Exercício 4: Senha Correta\n",
    "1. Crie uma variável `senha` com um valor predefinido, como \"1234\".\n",
    "2. Peça ao usuário para digitar a senha e armazene na variável `tentativa`.\n",
    "3. Use um loop `while` para continuar pedindo ao usuário para digitar a senha até que ele acerte.\n",
    "4. Quando a senha estiver correta, imprima \"Acesso concedido\".\n",
    "\n"
   ]
  },
  {
   "cell_type": "code",
   "execution_count": 20,
   "metadata": {},
   "outputs": [
    {
     "name": "stdout",
     "output_type": "stream",
     "text": [
      "Errou\n",
      "Errou\n",
      "Errou\n",
      "Acesso permitido\n"
     ]
    }
   ],
   "source": [
    "senha = 123\n",
    "chance = 0\n",
    "\n",
    "while chance < 4:\n",
    "    tentativa = int(input('Digite um número: '))  # Solicitar a senha dentro do loop\n",
    "    if tentativa == senha:\n",
    "        print('Acesso permitido')\n",
    "        break\n",
    "    else:\n",
    "        print('Errou')\n",
    "        chance += 1\n",
    "        continue\n",
    "\n",
    "if chance == 4:\n",
    "    print('Número de tentativas esgotado. Acesso negado.')\n",
    "\n"
   ]
  },
  {
   "cell_type": "markdown",
   "metadata": {},
   "source": [
    "### Exercício 5: Jogo de Adivinhação\n",
    "1. Escolha um número secreto (por exemplo, 7) e armazene na variável `numero_secreto`.\n",
    "2. Peça ao usuário para adivinhar o número e armazene na variável `palpite`.\n",
    "3. Use um loop `while` para continuar pedindo ao usuário para adivinhar até que ele acerte.\n",
    "4. A cada iteração, informe ao usuário se o palpite é maior ou menor que o número secreto.\n",
    "5. Quando o usuário acertar, imprima \"Parabéns! Você adivinhou o número!\".\n",
    "\n"
   ]
  },
  {
   "cell_type": "code",
   "execution_count": 24,
   "metadata": {},
   "outputs": [
    {
     "name": "stdout",
     "output_type": "stream",
     "text": [
      "12 é menor que numero secreto\n",
      "26 é maior que o número secreto\n",
      "0 é menor que numero secreto\n",
      "Acertou 25\n"
     ]
    }
   ],
   "source": [
    "numero_secreto = 25 \n",
    "tentativa  = 0 \n",
    "while tentativa < 6: \n",
    "    palpite = int(input('Digite um número: '))\n",
    "    if palpite == numero_secreto:\n",
    "        print(f'Acertou {palpite}')\n",
    "        break\n",
    "    else:\n",
    "        if palpite > numero_secreto: \n",
    "            print(f'{palpite} é maior que o número secreto')\n",
    "        else:\n",
    "            print(f'{palpite} é menor que numero secreto')\n",
    "        tentativa+=1\n",
    "        continue\n",
    "        "
   ]
  },
  {
   "cell_type": "markdown",
   "metadata": {},
   "source": [
    "### Exercício 8: Validação de Entrada\n",
    "1. Peça ao usuário para digitar um número inteiro entre 1 e 10 e armazene na variável `numero`.\n",
    "2. Use um loop `while` para continuar pedindo ao usuário para digitar um número até que ele insira um valor válido.\n",
    "3. Quando um valor válido for inserido, imprima \"Obrigado!\".\n"
   ]
  },
  {
   "cell_type": "code",
   "execution_count": 1,
   "metadata": {},
   "outputs": [
    {
     "name": "stdout",
     "output_type": "stream",
     "text": [
      "errou\n",
      "errou\n",
      "Obrigado! Encerrando loop!\n"
     ]
    }
   ],
   "source": [
    "while True: \n",
    "    numero = int(input('Digite um numero entre 1  e 10: '))\n",
    "    if numero == 10:\n",
    "        print('Obrigado! Encerrando loop!')\n",
    "        break\n",
    "    else:\n",
    "        print('errou')\n",
    "        continue"
   ]
  },
  {
   "cell_type": "markdown",
   "metadata": {},
   "source": [
    "\n",
    "\n",
    "### Exercício 9: Contagem Regressiva\n",
    "1. Peça ao usuário para digitar um número inteiro positivo e armazene na variável `numero`.\n",
    "2. Use um loop `while` para fazer uma contagem regressiva a partir desse número até 0.\n",
    "3. Imprima \"Feliz Ano Novo!\" quando a contagem regressiva chegar a 0.\n"
   ]
  },
  {
   "cell_type": "code",
   "execution_count": 4,
   "metadata": {},
   "outputs": [
    {
     "name": "stdout",
     "output_type": "stream",
     "text": [
      "7\n",
      "6\n",
      "5\n",
      "4\n",
      "3\n",
      "2\n",
      "1\n",
      "Feliz Ano Novo\n"
     ]
    }
   ],
   "source": [
    "numero = int(input('Digite um numero inteiro: ')) \n",
    "while True:\n",
    "    print(numero)\n",
    "    numero-=1 \n",
    "    if numero == 0:\n",
    "        print('Feliz Ano Novo')\n",
    "        break\n",
    "    \n",
    "    "
   ]
  },
  {
   "cell_type": "markdown",
   "metadata": {},
   "source": [
    "### Exercício 10: Menu Interativo\n",
    "1. Crie um programa que exibe um menu com as seguintes opções:\n",
    "   - 1: Imprimir \"Olá, mundo!\"\n",
    "   - 2: Imprimir a data e hora atuais\n",
    "   - 3: Sair\n",
    "2. Use um loop `while` para continuar exibindo o menu até que o usuário escolha a opção 3.\n",
    "3. Use condicionais para executar a ação correta com base na escolha do usuário.\n",
    "\n"
   ]
  },
  {
   "cell_type": "code",
   "execution_count": 7,
   "metadata": {},
   "outputs": [
    {
     "name": "stdout",
     "output_type": "stream",
     "text": [
      " \n",
      "    - 1: Imprimir \"Olá, mundo!\"\n",
      "   - 2: Imprimir a data e hora atuais\n",
      "   - 3: Sair\n",
      "\n",
      "   \n",
      "Dia 28 de julho, 20:43 da noite\n",
      " \n",
      "    - 1: Imprimir \"Olá, mundo!\"\n",
      "   - 2: Imprimir a data e hora atuais\n",
      "   - 3: Sair\n",
      "\n",
      "   \n",
      "Olá Mundo\n",
      " \n",
      "    - 1: Imprimir \"Olá, mundo!\"\n",
      "   - 2: Imprimir a data e hora atuais\n",
      "   - 3: Sair\n",
      "\n",
      "   \n",
      "Olá Mundo\n",
      " \n",
      "    - 1: Imprimir \"Olá, mundo!\"\n",
      "   - 2: Imprimir a data e hora atuais\n",
      "   - 3: Sair\n",
      "\n",
      "   \n",
      "Obrigado, encerrando programa\n"
     ]
    }
   ],
   "source": [
    "while True:\n",
    "    menu = \"\"\" \n",
    "    - 1: Imprimir \"Olá, mundo!\"\n",
    "   - 2: Imprimir a data e hora atuais\n",
    "   - 3: Sair\n",
    "\n",
    "   \"\"\"\n",
    "    print(menu)\n",
    "    option_user = int(input('Escolha sua opção: '))\n",
    "    if option_user == 3: \n",
    "        print('Obrigado, encerrando programa')\n",
    "        break\n",
    "    elif option_user == 2: \n",
    "        print('Dia 28 de julho, 20:43 da noite')\n",
    "        continue\n",
    "    elif option_user == 1: \n",
    "        print('Olá Mundo')\n",
    "        continue\n",
    "    else:\n",
    "        continue\n",
    "    "
   ]
  }
 ],
 "metadata": {
  "kernelspec": {
   "display_name": "Python 3",
   "language": "python",
   "name": "python3"
  },
  "language_info": {
   "codemirror_mode": {
    "name": "ipython",
    "version": 3
   },
   "file_extension": ".py",
   "mimetype": "text/x-python",
   "name": "python",
   "nbconvert_exporter": "python",
   "pygments_lexer": "ipython3",
   "version": "3.11.9"
  }
 },
 "nbformat": 4,
 "nbformat_minor": 2
}
