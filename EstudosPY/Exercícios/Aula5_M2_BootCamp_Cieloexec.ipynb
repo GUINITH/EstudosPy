{
  "cells": [
    {
      "cell_type": "markdown",
      "metadata": {
        "id": "jMICUGmNr1wf"
      },
      "source": [
        "# Aula 5 - Programação Funcional\n",
        "\n",
        "Na aula de hoje iremos aprender os seguintes tópicos em Python:\n",
        "* Paradigma funcional\n",
        "* Funções como cidadãos de primeira classe\n",
        "* Funções anônimas\n",
        "* Métodos funcionais de coleções"
      ]
    },
    {
      "cell_type": "markdown",
      "metadata": {
        "id": "iz8tA7h8r1wl"
      },
      "source": [
        "**Paradigma:**\n",
        "\n",
        "Paradigma de programação é um meio de se classificar as linguagens de programação baseado em suas funcionalidades.\n",
        "\n",
        "Um paradigma de programação fornece e determina a visão que o programador possui sobre a estruturação e execução do programa."
      ]
    },
    {
      "cell_type": "markdown",
      "metadata": {
        "id": "AAinQmtnr1wn"
      },
      "source": [
        "____\n",
        "## **Caso Real:**\n",
        "\n",
        "**Contexto:**\n",
        "Imagine que você trabalha em uma empresa de comércio eletrônico que precisa processar grandes volumes de dados de transações de clientes. A empresa está buscando otimizar seu sistema de processamento de dados para lidar com a crescente demanda e escalabilidade.\n",
        "\n",
        "**Desafio:**\n",
        "O desafio é implementar um sistema de processamento de dados que possa lidar eficientemente com grandes volumes de transações de clientes, aplicando os princípios do paradigma funcional para melhorar a manutenibilidade e escalabilidade do código.\n"
      ]
    },
    {
      "cell_type": "markdown",
      "metadata": {
        "id": "RXCAo3wgr1wn"
      },
      "source": [
        "_____\n",
        "## Programação Imperativa x Funcional\n",
        "\n",
        "A programação imperativa e funcional são dois paradigmas de programação com abordagens diferentes para resolver problemas computacionais.\n",
        "\n",
        "\n",
        "### Imperativa\n",
        "\n",
        "* É um estilo tradicional que se concentra em descrever passo a passo como um programa deve ser executado, especificando sequências de comandos e alterações de estado.\n",
        "* O foco principal é descrever como o programa deve executar uma série de instruções para atingir um determinado resultado.\n",
        "* As instruções são executadas sequencialmente, e o estado do programa é alterado por meio de atribuições, loops, condicionais e chamadas a sub-rotinas.\n",
        "* Esse paradigma é amplamente utilizado em linguagens como C, Java e Python, oferecendo controle detalhado sobre o fluxo de execução e a manipulação direta do estado.\n",
        "\n",
        "### Funcional\n",
        "\n",
        "* A programação funcional se baseia na avaliação de funções e na manipulação de expressões matemáticas.\n",
        "* O foco está na avaliação de funções e expressões.\n",
        "* As funções são tratadas como cidadãos de primeira classe, o que significa que elas podem ser atribuídas a variáveis, passadas como argumentos para outras funções, retornadas como resultados e armazenadas em estruturas de dados.\n",
        "* O paradigma funcional enfatiza a imutabilidade dos dados, onde as funções não alteram o estado dos objetos, mas sim produzem novos valores a partir dos dados de entrada.\n",
        "* Linguagens como Haskell, Lisp e Erlang são exemplos de linguagens de programação que suportam programação funcional.\n"
      ]
    },
    {
      "cell_type": "markdown",
      "metadata": {
        "id": "yjD9tggKr1wo"
      },
      "source": [
        "---\n",
        "## **1) Atribuição de função a uma variável:**"
      ]
    },
    {
      "cell_type": "markdown",
      "metadata": {
        "id": "m_HcGv6ar1wo"
      },
      "source": [
        "**Funções de ordem superior:**\n",
        "\n",
        "Na programação funcional, as funções são consideradas cidadãos de primeira classe e podem ser tratadas como qualquer outra entidade da linguagem.\n",
        "\n",
        "Funções de ordem superior são aquelas que podem receber outras funções como argumentos e/ou retornar funções como resultados.\n",
        "\n",
        "Isso permite uma maior flexibilidade e modularidade no código, possibilitando a criação de construções complexas e a composição de comportamentos."
      ]
    },
    {
      "cell_type": "code",
      "execution_count": 1,
      "metadata": {
        "id": "-e44_h5xr1wp"
      },
      "outputs": [],
      "source": [
        "#Criar uma função que retorne o quadrado de um número\n",
        "def quadrado(numero):\n",
        "  return numero**2"
      ]
    },
    {
      "cell_type": "code",
      "execution_count": 2,
      "metadata": {
        "id": "2mfgFSfL8sJq"
      },
      "outputs": [],
      "source": [
        "funcao_quadrado = quadrado"
      ]
    },
    {
      "cell_type": "code",
      "execution_count": 6,
      "metadata": {
        "id": "5Q3m90Ui82XX"
      },
      "outputs": [],
      "source": [
        "#Chamar a função através da minha variável\n",
        "resultado = funcao_quadrado(5)"
      ]
    },
    {
      "cell_type": "code",
      "execution_count": 7,
      "metadata": {
        "colab": {
          "base_uri": "https://localhost:8080/"
        },
        "id": "XOZPITTn9hI8",
        "outputId": "468d4966-8b37-47f4-daac-76196d8abea8"
      },
      "outputs": [
        {
          "data": {
            "text/plain": [
              "25"
            ]
          },
          "execution_count": 7,
          "metadata": {},
          "output_type": "execute_result"
        }
      ],
      "source": [
        "resultado"
      ]
    },
    {
      "cell_type": "code",
      "execution_count": 4,
      "metadata": {
        "id": "pbIAV5C89BTu"
      },
      "outputs": [],
      "source": [
        "imprimir = print"
      ]
    },
    {
      "cell_type": "code",
      "execution_count": 5,
      "metadata": {
        "colab": {
          "base_uri": "https://localhost:8080/"
        },
        "id": "VOBCdmQL9DjD",
        "outputId": "1f942cd2-e4d1-4f2a-e9b1-e51a9110fda4"
      },
      "outputs": [
        {
          "name": "stdout",
          "output_type": "stream",
          "text": [
            "Olá, mundo!\n"
          ]
        }
      ],
      "source": [
        "imprimir('Olá, mundo!')"
      ]
    },
    {
      "cell_type": "markdown",
      "metadata": {
        "id": "q7s3dBbbr1wq"
      },
      "source": [
        "Nesse exemplo, a função quadrado é atribuída à variável funcao_quadrado. Podemos então chamar a função através da variável, passando um argumento para obter o resultado."
      ]
    },
    {
      "cell_type": "markdown",
      "metadata": {
        "id": "4IkOR-Dsr1wq"
      },
      "source": [
        "---\n",
        "## **2) Passagem de função como argumento:**"
      ]
    },
    {
      "cell_type": "code",
      "execution_count": 8,
      "metadata": {
        "id": "XI3VYsOmr1wr"
      },
      "outputs": [],
      "source": [
        "def aplicar_funcao(funcao,numero):\n",
        "  return funcao(numero)"
      ]
    },
    {
      "cell_type": "code",
      "execution_count": 10,
      "metadata": {
        "colab": {
          "base_uri": "https://localhost:8080/"
        },
        "id": "n3bJ221B9ywH",
        "outputId": "0a70301f-7164-4438-b676-c8df9d48d383"
      },
      "outputs": [
        {
          "data": {
            "text/plain": [
              "25"
            ]
          },
          "execution_count": 10,
          "metadata": {},
          "output_type": "execute_result"
        }
      ],
      "source": [
        "aplicar_funcao(funcao_quadrado,5)"
      ]
    },
    {
      "cell_type": "markdown",
      "metadata": {
        "id": "TBNWCLdMr1wr"
      },
      "source": [
        "Nesse exemplo, a função aplicar_funcao recebe duas argumentos: funcao e numero.\n",
        "\n",
        "Ela chama a função passada como argumento, passando o numero como parâmetro.\n",
        "\n",
        "No exemplo, passamos a função dobro como argumento e obtemos o resultado da aplicação dessa função ao número 5."
      ]
    },
    {
      "cell_type": "markdown",
      "metadata": {
        "id": "k-0z0Vbjr1wr"
      },
      "source": [
        "---\n",
        "## **3) Retorno de função:**"
      ]
    },
    {
      "cell_type": "code",
      "execution_count": 11,
      "metadata": {
        "id": "8FFlx14jr1ws"
      },
      "outputs": [],
      "source": [
        "def criar_funcao(multiplicador):\n",
        "  def multiplicar(numero):\n",
        "    return multiplicador * numero\n",
        "  return multiplicar"
      ]
    },
    {
      "cell_type": "code",
      "execution_count": 12,
      "metadata": {
        "colab": {
          "base_uri": "https://localhost:8080/"
        },
        "id": "r8ZG5g5O-u6B",
        "outputId": "0179a9e5-3e71-4bb0-9dc1-9edf6f46d078"
      },
      "outputs": [
        {
          "name": "stdout",
          "output_type": "stream",
          "text": [
            "12\n"
          ]
        }
      ],
      "source": [
        "funcao = criar_funcao(3)\n",
        "resultado = funcao(4)\n",
        "print(resultado)"
      ]
    },
    {
      "cell_type": "markdown",
      "metadata": {
        "id": "1RxX6yvHr1ws"
      },
      "source": [
        "Nesse exemplo, a função criar_funcao retorna uma função interna chamada multiplicar.\n",
        "\n",
        "Essa função multiplicará um número pelo valor passado como argumento para criar_funcao.\n",
        "\n",
        "Chamamos criar_funcao(3) para obter a função de multiplicação por 3, que atribuímos à variável funcao. Em seguida, chamamos funcao(4) para aplicar essa função ao número 4."
      ]
    },
    {
      "cell_type": "markdown",
      "metadata": {
        "id": "qLPr_uHnr1wt"
      },
      "source": [
        "---\n",
        "## Recursvidade\n",
        "\n",
        "A recursividade é um conceito importante na programação funcional.\n",
        "\n",
        "É uma técnica em que uma função chama a si mesma para resolver um problema de forma iterativa.\n",
        "\n",
        "Em outras palavras, a recursividade permite que uma função seja definida em termos de si mesma.\n",
        "\n",
        "Quando uma função é chamada, ela pode se dividir em subproblemas menores até chegar a um caso base em que a solução é conhecida.\n",
        "\n",
        "Em seguida, a função pode retornar o resultado parcial e combinar as soluções dos subproblemas para obter a solução final.\n",
        "\n",
        "A **estrutura básica** de uma função recursiva consiste em 2 elementos:\n",
        "* **1) Caso Base:** É a condição que indica quando a recursão deve parar. É o ponto de saída da função recursiva.\n",
        "* **2) Caso Recursivo:** É a chamada recursiva da função dentro dela mesma, com o objetivo de resolver um subproblema menor. A cada chamada recursiva, o problema é dividido em partes menores até chegar ao caso base."
      ]
    },
    {
      "cell_type": "markdown",
      "metadata": {
        "id": "nDbcZU7ur1wt"
      },
      "source": [
        "**Fatorial**\n",
        "\n",
        "Com um laço for em python conseguimos calcular o fatorial de um número."
      ]
    },
    {
      "cell_type": "code",
      "execution_count": 13,
      "metadata": {
        "id": "3PqOxXM_r1wt"
      },
      "outputs": [],
      "source": [
        "#Criar uma função que vai calcular o fatorial de um número\n",
        "def calcular_fatorial(numero):\n",
        "  #fatorial(5) = 5*4*3*2*1\n",
        "  #Como se fosse um \"Caso Base\" fatorial(1) = 1\n",
        "  fatorial = 1\n",
        "  #Percorrer os valores até o meu número que eu quero calcular o fatorial\n",
        "  for num in range(2,numero+1):\n",
        "    fatorial = num*fatorial\n",
        "  return fatorial"
      ]
    },
    {
      "cell_type": "code",
      "execution_count": 15,
      "metadata": {
        "colab": {
          "base_uri": "https://localhost:8080/"
        },
        "id": "J5Id7un3r1wt",
        "outputId": "624642f3-c9a7-46ba-8e0d-199621d0b163"
      },
      "outputs": [
        {
          "data": {
            "text/plain": [
              "120"
            ]
          },
          "execution_count": 15,
          "metadata": {},
          "output_type": "execute_result"
        }
      ],
      "source": [
        "calcular_fatorial(5)"
      ]
    },
    {
      "cell_type": "markdown",
      "metadata": {
        "id": "IGvOmLEJr1wu"
      },
      "source": [
        "Utilizando a recursão:"
      ]
    },
    {
      "cell_type": "code",
      "execution_count": 1,
      "metadata": {
        "id": "2Rr42_VCr1wu"
      },
      "outputs": [],
      "source": [
        "def calcular_fatorial_recursivo(numero):\n",
        "  #Caso Base:\n",
        "  if numero == 0:\n",
        "    return 1\n",
        "  #Caso recursivo\n",
        "  return numero * calcular_fatorial_recursivo(numero - 1)"
      ]
    },
    {
      "cell_type": "code",
      "execution_count": 3,
      "metadata": {
        "id": "tO5wN_COr1wu"
      },
      "outputs": [
        {
          "ename": "SyntaxError",
          "evalue": "'return' outside function (2725402188.py, line 2)",
          "output_type": "error",
          "traceback": [
            "\u001b[1;36m  Cell \u001b[1;32mIn[3], line 2\u001b[1;36m\u001b[0m\n\u001b[1;33m    return 5*calcular_fatorial_recursivo(4)\u001b[0m\n\u001b[1;37m    ^\u001b[0m\n\u001b[1;31mSyntaxError\u001b[0m\u001b[1;31m:\u001b[0m 'return' outside function\n"
          ]
        }
      ],
      "source": [
        "numero = 5\n",
        "return 5*calcular_fatorial_recursivo(4)\n",
        "numero = 4\n",
        "return 4*calcular_fatorial_recursivo(3)\n",
        "numero = 3\n",
        "return 3*calcular_fatorial_recursivo(2)\n",
        "numero = 2\n",
        "return 2*calcular_fatorial_recursivo(1)\n",
        "numero = 1\n",
        "return 1"
      ]
    },
    {
      "cell_type": "code",
      "execution_count": 4,
      "metadata": {
        "colab": {
          "base_uri": "https://localhost:8080/"
        },
        "id": "ZlSpv1-SDPbL",
        "outputId": "fc20277c-aefe-4599-d06d-abacf88962f3"
      },
      "outputs": [
        {
          "data": {
            "text/plain": [
              "24"
            ]
          },
          "execution_count": 4,
          "metadata": {},
          "output_type": "execute_result"
        }
      ],
      "source": [
        "calcular_fatorial_recursivo(4)"
      ]
    },
    {
      "cell_type": "markdown",
      "metadata": {
        "id": "JVr9cKsBr1wu"
      },
      "source": [
        "Vamos entender o que está acontecendo.\n",
        "* O primeiro if é o caso base, sem ele a função seria executada eternamente.\n",
        "* A segunda parte é que realmente faz o cálculo. Vamos entender o que acontece na função se passarmos o valor 5 para ela:"
      ]
    },
    {
      "cell_type": "markdown",
      "metadata": {
        "id": "QYfwwu58r1wu"
      },
      "source": [
        "![imagem](https://lh5.googleusercontent.com/proxy/TS_5SjFMQVWuHbwU666yv4nh-PoOHYpXBmpzlEKZzNjnW9pog721Gc9vO270-JtHUTk9NyRbJjkmK6nscyH2D-k_VKIMQBlUaQhpwn8Sz1-1PYtZu7A1ygLv_k5fcBO4_Jre2s8SzH6bqAJ63-3yag4Fe-Y)"
      ]
    },
    {
      "cell_type": "markdown",
      "metadata": {
        "id": "nN0LI8HBEmjq"
      },
      "source": [
        "[0,1, 1, 2, 3, 5, 8, 13, 21, 34]"
      ]
    },
    {
      "cell_type": "code",
      "execution_count": 21,
      "metadata": {
        "id": "pXcTOMtnr1wv"
      },
      "outputs": [],
      "source": [
        "def fibonacci(posicao):\n",
        "  #Caso Base:\n",
        "  if posicao < 2:\n",
        "    return posicao\n",
        "  #Caso recursivo\n",
        "  return fibonacci(posicao - 1) + fibonacci(posicao - 2)"
      ]
    },
    {
      "cell_type": "code",
      "execution_count": 22,
      "metadata": {
        "colab": {
          "base_uri": "https://localhost:8080/"
        },
        "id": "B3YqNnVGr1wv",
        "outputId": "ac0f52f7-eec2-4457-dab8-2da8f8bdb39b"
      },
      "outputs": [
        {
          "data": {
            "text/plain": [
              "8"
            ]
          },
          "execution_count": 22,
          "metadata": {},
          "output_type": "execute_result"
        }
      ],
      "source": [
        "fibonacci(6)"
      ]
    },
    {
      "cell_type": "markdown",
      "metadata": {
        "id": "DqTFfojur1wv"
      },
      "source": [
        "* A recursividade é uma técnica poderosa, mas é importante ter cuidado ao utilizá-la.\n",
        "\n",
        "* É necessário garantir que a recursão sempre chegue ao caso base, caso contrário, ocorrerá um loop infinito.\n",
        "\n",
        "* Além disso, é importante considerar a eficiência, pois a recursividade pode exigir mais recursos de memória e tempo de execução em comparação com abordagens iterativas.\n",
        "\n",
        "* Em resumo, a recursividade é uma técnica que permite resolver problemas dividindo-os em subproblemas menores até atingir um caso base.\n",
        "\n",
        "* Ela é útil quando a solução de um problema pode ser expressa em termos da própria função, facilitando a implementação de algoritmos mais elegantes e expressivos."
      ]
    },
    {
      "cell_type": "markdown",
      "metadata": {
        "id": "dHa-aYvtr1w3"
      },
      "source": [
        "---\n",
        "## **Conclusão:**\n",
        "\n",
        "Esses exemplos ilustram a capacidade da programação funcional de tratar funções como cidadãos de primeira classe, permitindo a flexibilidade na manipulação de código e a criação de abstrações poderosas.\n",
        "\n",
        "Além disso, a programação funcional também utiliza conceitos como funções puras, imutabilidade de dados e métodos funcionais de coleções (como map, filter e reduce)."
      ]
    },
    {
      "cell_type": "markdown",
      "metadata": {
        "id": "fVj5X26Hr1w4"
      },
      "source": [
        "# Funções Anônimas (Lambda):\n",
        "\n",
        "As funções anônimas, também conhecidas como funções lambda, são funções sem nome que podem ser usadas em situações em que uma função simples é necessária, mas não é necessário atribuí-la a uma variável.\n",
        "\n",
        "Elas são expressões que retornam um valor quando chamadas."
      ]
    },
    {
      "cell_type": "markdown",
      "metadata": {
        "id": "7SJ9M5lpr1w4"
      },
      "source": [
        "**Sintaxe Básica:**\n",
        "\n",
        "```python\n",
        "lambda argumentos (parâmetros): retorno (expressao)\n",
        "```"
      ]
    },
    {
      "cell_type": "code",
      "execution_count": 23,
      "metadata": {
        "colab": {
          "base_uri": "https://localhost:8080/"
        },
        "id": "OxyN2QzUr1w5",
        "outputId": "2b8a39de-276e-4517-b36b-8949795ae330"
      },
      "outputs": [
        {
          "data": {
            "text/plain": [
              "9"
            ]
          },
          "execution_count": 23,
          "metadata": {},
          "output_type": "execute_result"
        }
      ],
      "source": [
        "#Somar um número com 2\n",
        "soma_dois = lambda num: num + 2\n",
        "soma_dois(7)"
      ]
    },
    {
      "cell_type": "code",
      "execution_count": 24,
      "metadata": {
        "colab": {
          "base_uri": "https://localhost:8080/"
        },
        "id": "gM6RK0_Or1w6",
        "outputId": "a44189f1-a90f-4fb2-9099-1555825df8a9"
      },
      "outputs": [
        {
          "data": {
            "text/plain": [
              "7"
            ]
          },
          "execution_count": 24,
          "metadata": {},
          "output_type": "execute_result"
        }
      ],
      "source": [
        "#Exemplo: Somar 2 números\n",
        "soma = lambda num1,num2: num1+num2\n",
        "soma(5,2)"
      ]
    },
    {
      "cell_type": "markdown",
      "metadata": {
        "id": "Bsig7hEMr1w6"
      },
      "source": [
        "Nesse exemplo, criamos uma função lambda que recebe dois argumentos, x e y, e retorna a soma desses valores."
      ]
    },
    {
      "cell_type": "code",
      "execution_count": 25,
      "metadata": {
        "colab": {
          "base_uri": "https://localhost:8080/"
        },
        "id": "YBDHkE05r1w7",
        "outputId": "b864d820-c6f7-4e0c-8dff-210979f2be62"
      },
      "outputs": [
        {
          "data": {
            "text/plain": [
              "12"
            ]
          },
          "execution_count": 25,
          "metadata": {},
          "output_type": "execute_result"
        }
      ],
      "source": [
        "#Calcular uma área\n",
        "calculo_area = lambda x, y: x*y\n",
        "calculo_area(3,4)"
      ]
    },
    {
      "cell_type": "markdown",
      "metadata": {
        "id": "H32UzuGQr1w7"
      },
      "source": [
        "**Exemplo:** Ordenação de uma lista de strings pelo comprimento das palavras:"
      ]
    },
    {
      "cell_type": "code",
      "execution_count": 33,
      "metadata": {
        "colab": {
          "base_uri": "https://localhost:8080/"
        },
        "id": "_WF4X9rMr1w7",
        "outputId": "943173de-ae17-4b6b-e89e-4e0b9a72082e"
      },
      "outputs": [
        {
          "data": {
            "text/plain": [
              "['uva', 'maçã', 'mamão', 'banana', 'laranja', 'abacaxi']"
            ]
          },
          "execution_count": 33,
          "metadata": {},
          "output_type": "execute_result"
        }
      ],
      "source": [
        "palavras = ['banana','maçã','laranja','mamão','abacaxi','uva']\n",
        "palavras_ordenadas = sorted(palavras,key = lambda palavra: len(palavra))\n",
        "palavras_ordenadas"
      ]
    },
    {
      "cell_type": "markdown",
      "metadata": {
        "id": "PYQNkeE6r1w8"
      },
      "source": [
        "Nesse exemplo, a função lambda é usada como chave para ordenar a lista palavras com base no comprimento das palavras."
      ]
    },
    {
      "cell_type": "markdown",
      "metadata": {
        "id": "QYfAtTW3r1w9"
      },
      "source": [
        "# Métodos Funcionais de Coleções:\n",
        "\n",
        "Os métodos funcionais de coleções são operações de alta ordem que podem ser aplicadas em coleções de dados, como listas, usando funções como argumentos.\n",
        "\n",
        "\n",
        "Alguns dos métodos funcionais mais comuns são:\n",
        "* map\n",
        "* filter\n",
        "* reduce."
      ]
    },
    {
      "cell_type": "markdown",
      "metadata": {
        "id": "ANO-M9IJr1xI"
      },
      "source": [
        "---\n",
        "## **map:**\n",
        "\n",
        "Aplica uma função a cada elemento de uma coleção e retorna uma nova coleção com os resultados."
      ]
    },
    {
      "cell_type": "code",
      "execution_count": 34,
      "metadata": {
        "id": "GLgVB29Ir1xJ"
      },
      "outputs": [],
      "source": [
        "numeros = list(range(1,11))"
      ]
    },
    {
      "cell_type": "code",
      "execution_count": 35,
      "metadata": {
        "colab": {
          "base_uri": "https://localhost:8080/"
        },
        "id": "0AO-AHEhOLhE",
        "outputId": "bff77b41-8a11-4405-e40e-f248714b3243"
      },
      "outputs": [
        {
          "data": {
            "text/plain": [
              "[2, 4, 6, 8, 10, 12, 14, 16, 18, 20]"
            ]
          },
          "execution_count": 35,
          "metadata": {},
          "output_type": "execute_result"
        }
      ],
      "source": [
        "dobro = list(map(lambda num: num*2,numeros))\n",
        "dobro"
      ]
    },
    {
      "cell_type": "markdown",
      "metadata": {
        "id": "IKz21Brar1yA"
      },
      "source": [
        "Nesse exemplo, a função `map` é utilizada para aplicar a função lambda `lambda x: x * 2` a cada elemento da lista `numeros`.\n",
        "\n",
        "O resultado é uma nova lista contendo o dobro de cada número."
      ]
    },
    {
      "cell_type": "markdown",
      "metadata": {
        "id": "S7Hx-uZrr1yB"
      },
      "source": [
        "---\n",
        "## **filter:**\n",
        "\n",
        "Filtra os elementos de uma coleção com base em uma condição definida por uma função e retorna uma nova coleção contendo apenas os elementos que satisfazem a condição."
      ]
    },
    {
      "cell_type": "code",
      "execution_count": 36,
      "metadata": {
        "colab": {
          "base_uri": "https://localhost:8080/"
        },
        "id": "t5NjTSY3r1yB",
        "outputId": "524afc9b-1265-4b8f-c793-2a57c3fc87cb"
      },
      "outputs": [
        {
          "data": {
            "text/plain": [
              "[2, 4, 6, 8, 10]"
            ]
          },
          "execution_count": 36,
          "metadata": {},
          "output_type": "execute_result"
        }
      ],
      "source": [
        "pares = list(filter(lambda num: num % 2 == 0,numeros))\n",
        "pares"
      ]
    },
    {
      "cell_type": "markdown",
      "metadata": {
        "id": "fQTqcgr6r1yB"
      },
      "source": [
        "Nesse exemplo, a função filter é usada para filtrar os elementos da lista numeros, mantendo apenas os números pares.\n",
        "\n",
        "A função lambda ```lambda x: x % 2 == 0``` define a condição para filtragem."
      ]
    },
    {
      "cell_type": "markdown",
      "metadata": {
        "id": "y7LnKF5Yr1yC"
      },
      "source": [
        "**Exemplo:** Criação de uma lista de números primos usando uma função lambda para verificar se um número é primo:"
      ]
    },
    {
      "cell_type": "code",
      "execution_count": 37,
      "metadata": {
        "colab": {
          "base_uri": "https://localhost:8080/"
        },
        "id": "S63r7TPFPci0",
        "outputId": "9cb89860-0579-4539-b9cd-94356962926d"
      },
      "outputs": [
        {
          "data": {
            "text/plain": [
              "[1, 2, 3, 4, 5, 6, 7, 8, 9, 10]"
            ]
          },
          "execution_count": 37,
          "metadata": {},
          "output_type": "execute_result"
        }
      ],
      "source": [
        "numeros"
      ]
    },
    {
      "cell_type": "code",
      "execution_count": 40,
      "metadata": {
        "colab": {
          "base_uri": "https://localhost:8080/"
        },
        "id": "EfNkQchnr1yC",
        "outputId": "66a23afb-a9a9-40f6-bef5-6369e4c60276"
      },
      "outputs": [
        {
          "data": {
            "text/plain": [
              "[1, 2, 3, 5, 7]"
            ]
          },
          "execution_count": 40,
          "metadata": {},
          "output_type": "execute_result"
        }
      ],
      "source": [
        "primos = list(filter(lambda num: all(num % i != 0 for i in range(2,num)),numeros))\n",
        "primos"
      ]
    },
    {
      "cell_type": "markdown",
      "metadata": {
        "id": "oWN9Y7nzr1yC"
      },
      "source": [
        "Nesse exemplo, a função lambda é utilizada como condição de filtragem para verificar se um número é primo usando a função all e um gerador de números primos.\n",
        "\n",
        "Esses são apenas alguns exemplos de como a função lambda pode ser usada em diferentes contextos para expressar funcionalidades de forma concisa e direta.\n",
        "\n",
        "A função lambda é especialmente útil em situações em que uma função simples é necessária, mas não é necessário atribuí-la a uma variável com um nome específico."
      ]
    },
    {
      "cell_type": "markdown",
      "metadata": {
        "id": "Xg83K2AWr1yD"
      },
      "source": [
        "---\n",
        "## **reduce:**\n",
        "\n",
        "Reduz uma coleção a um único valor, aplicando uma função cumulativa a cada elemento da coleção.\n",
        "\n",
        "**Obs.:** Antes de usar o reduce é preciso importar a função 'reduce' do módulo 'functools'."
      ]
    },
    {
      "cell_type": "code",
      "execution_count": 43,
      "metadata": {
        "colab": {
          "base_uri": "https://localhost:8080/"
        },
        "id": "BPEezFWor1yD",
        "outputId": "e8e31fc8-a0ac-4dcf-c7a8-2e3644ecb508"
      },
      "outputs": [
        {
          "data": {
            "text/plain": [
              "55"
            ]
          },
          "execution_count": 43,
          "metadata": {},
          "output_type": "execute_result"
        }
      ],
      "source": [
        "from functools import reduce\n",
        "soma = reduce(lambda x,y: x+y, numeros)\n",
        "soma"
      ]
    },
    {
      "cell_type": "markdown",
      "metadata": {
        "id": "gKwlHGsor1yD"
      },
      "source": [
        "Nesse exemplo, a função reduce é utilizada para calcular a soma de todos os elementos da lista numeros.\n",
        "\n",
        "A função lambda lambda x, y: x + y define a operação de soma cumulativa."
      ]
    },
    {
      "cell_type": "markdown",
      "metadata": {
        "id": "MFeuthjpr1yE"
      },
      "source": [
        "____\n",
        "\n",
        "## **Solução do caso:**"
      ]
    },
    {
      "cell_type": "markdown",
      "metadata": {
        "id": "vMjUjeUNQx77"
      },
      "source": [
        "**Desafio:**\n",
        "O desafio é implementar um sistema de processamento de dados que possa lidar eficientemente com grandes volumes de transações de clientes, aplicando os princípios do paradigma funcional para melhorar a manutenibilidade e escalabilidade do código."
      ]
    },
    {
      "cell_type": "code",
      "execution_count": 55,
      "metadata": {
        "id": "dFXB0rsTr1yE"
      },
      "outputs": [],
      "source": [
        "#Dados de entrada (listas de transações)\n",
        "transacoes = [\n",
        "    {'id': 1, 'valor': 75},\n",
        "    {'id': 2, 'valor': 50},\n",
        "    {'id': 3, 'valor': 150},\n",
        "    {'id': 4, 'valor': 100}\n",
        "]\n",
        "\n",
        "#Função para filtrar os valores acima do limite\n",
        "def filtrar_transacoes(transacoes, limite):\n",
        "  return list(filter(lambda transacao: transacao['valor']>limite,transacoes))\n",
        "#Função para calcular o total de valores das transações\n",
        "def calcular_total(transacoes):\n",
        "  return reduce(lambda cont, transacao: cont+transacao['valor'],transacoes,0.0)"
      ]
    },
    {
      "cell_type": "code",
      "execution_count": 60,
      "metadata": {
        "colab": {
          "base_uri": "https://localhost:8080/"
        },
        "id": "LehghMW0TsoO",
        "outputId": "3a523052-3f80-4c7e-d08f-7264e11582c5"
      },
      "outputs": [
        {
          "data": {
            "text/plain": [
              "[{'id': 3, 'valor': 150}, {'id': 4, 'valor': 100}]"
            ]
          },
          "execution_count": 60,
          "metadata": {},
          "output_type": "execute_result"
        }
      ],
      "source": [
        "lista = []\n",
        "for transacao in transacoes:\n",
        "  if transacao['valor']>80:\n",
        "    lista.append(transacao)\n",
        "lista"
      ]
    },
    {
      "cell_type": "code",
      "execution_count": 58,
      "metadata": {
        "id": "uucxKZJeTZhT"
      },
      "outputs": [],
      "source": [
        "cont = 0\n",
        "for transacao in transacoes:\n",
        "  cont += transacao['valor']"
      ]
    },
    {
      "cell_type": "code",
      "execution_count": 59,
      "metadata": {
        "colab": {
          "base_uri": "https://localhost:8080/"
        },
        "id": "U5VCwrKlToSs",
        "outputId": "01d77820-98ac-47c2-dfb0-166b113dbaef"
      },
      "outputs": [
        {
          "data": {
            "text/plain": [
              "375"
            ]
          },
          "execution_count": 59,
          "metadata": {},
          "output_type": "execute_result"
        }
      ],
      "source": [
        "cont"
      ]
    },
    {
      "cell_type": "code",
      "execution_count": 54,
      "metadata": {
        "colab": {
          "base_uri": "https://localhost:8080/"
        },
        "id": "owask246Sk-H",
        "outputId": "779ea9cd-d056-43ef-8d6b-464938af6bfc"
      },
      "outputs": [
        {
          "data": {
            "text/plain": [
              "375.0"
            ]
          },
          "execution_count": 54,
          "metadata": {},
          "output_type": "execute_result"
        }
      ],
      "source": [
        "reduce(lambda cont, transacao: cont+transacao['valor'],transacoes,0.0)"
      ]
    },
    {
      "cell_type": "code",
      "execution_count": 47,
      "metadata": {
        "colab": {
          "base_uri": "https://localhost:8080/"
        },
        "id": "yNzWF4jSSFHl",
        "outputId": "9615603b-bef2-4c8b-d4bc-64f746ea7746"
      },
      "outputs": [
        {
          "data": {
            "text/plain": [
              "[{'id': 3, 'valor': 150}, {'id': 4, 'valor': 100}]"
            ]
          },
          "execution_count": 47,
          "metadata": {},
          "output_type": "execute_result"
        }
      ],
      "source": [
        "#Filtrar as transcoes maiores que um determinado valor\n",
        "filtrar_transacoes(transacoes,80)"
      ]
    },
    {
      "cell_type": "code",
      "execution_count": 56,
      "metadata": {
        "colab": {
          "base_uri": "https://localhost:8080/"
        },
        "id": "pJyl2xWNSYJn",
        "outputId": "d518469b-79c9-470f-a767-c2a7a28ba65b"
      },
      "outputs": [
        {
          "data": {
            "text/plain": [
              "375.0"
            ]
          },
          "execution_count": 56,
          "metadata": {},
          "output_type": "execute_result"
        }
      ],
      "source": [
        "calcular_total(transacoes)"
      ]
    },
    {
      "cell_type": "markdown",
      "metadata": {
        "id": "hZWMsnc2r1yE"
      },
      "source": [
        "---\n",
        "## **Conclusão:**\n",
        "\n",
        "Esses métodos funcionais de coleções permitem manipular e transformar os dados de forma concisa e expressiva, sem a necessidade de loops explícitos, tornando o código mais legível e facilitando a implementação de operações comuns em coleções de dados.\n",
        "\n",
        "É importante ressaltar que a programação funcional oferece muitos outros recursos e conceitos interessantes, como imutabilidade, recursão, currying, entre outros.\n",
        "\n",
        "À medida que você se aprofunda na programação funcional, pode explorar esses conceitos para criar soluções mais elegantes e eficientes."
      ]
    },
    {
      "cell_type": "markdown",
      "metadata": {
        "id": "aFGz27cmr1yF"
      },
      "source": [
        "---\n",
        "# Exercícios"
      ]
    },
    {
      "cell_type": "markdown",
      "metadata": {
        "id": "fy4KzaV3r1yF"
      },
      "source": [
        "**1)** Escreva uma função lambda que retorne o quadrado de um número."
      ]
    },
    {
      "cell_type": "code",
      "execution_count": 5,
      "metadata": {
        "id": "71N1wsUtr1yF"
      },
      "outputs": [
        {
          "name": "stdout",
          "output_type": "stream",
          "text": [
            "25\n"
          ]
        }
      ],
      "source": [
        "quadrado = lambda numero: numero ** 2\n",
        "print(quadrado(5))"
      ]
    },
    {
      "cell_type": "markdown",
      "metadata": {
        "id": "EamhLl7fr1yG"
      },
      "source": [
        "**2)** Escreva uma função lambda que inverta uma string."
      ]
    },
    {
      "cell_type": "code",
      "execution_count": 10,
      "metadata": {
        "id": "3wAELlfcr1yG"
      },
      "outputs": [
        {
          "name": "stdout",
          "output_type": "stream",
          "text": [
            "['u', 'o', 'o', 'n', 'm', 'm', 'l', 'g', 'f', 'e', 'a', 'a', 'E', ' ', ' ']\n"
          ]
        }
      ],
      "source": [
        "string = \"Eu amo flamengo\"\n",
        "reverso = lambda string: string[::-1]\n",
        "print(reverso(string))"
      ]
    },
    {
      "cell_type": "markdown",
      "metadata": {
        "id": "e71sWDDtr1yG"
      },
      "source": [
        "**3)** Escreva uma função lambda que verifique se um número é par."
      ]
    },
    {
      "cell_type": "code",
      "execution_count": 14,
      "metadata": {
        "id": "MAYVYEPpr1yI"
      },
      "outputs": [
        {
          "name": "stdout",
          "output_type": "stream",
          "text": [
            "True\n"
          ]
        }
      ],
      "source": [
        "par = lambda  numero: numero % 2 == 0\n",
        "print(par(2))"
      ]
    },
    {
      "cell_type": "markdown",
      "metadata": {
        "id": "eugQDrEHr1yI"
      },
      "source": [
        "**4)** Escreva uma função lambda que multiplique dois números e some um valor adicional."
      ]
    },
    {
      "cell_type": "code",
      "execution_count": 15,
      "metadata": {
        "id": "MPYiAk-ur1yJ"
      },
      "outputs": [
        {
          "data": {
            "text/plain": [
              "27"
            ]
          },
          "execution_count": 15,
          "metadata": {},
          "output_type": "execute_result"
        }
      ],
      "source": [
        "multiplicar_dois_numeros = lambda num1,num2, num3: (num1 * num2) + num3\n",
        "multiplicar_dois_numeros(4,5,7)"
      ]
    },
    {
      "cell_type": "markdown",
      "metadata": {
        "id": "UVjavhqwr1yJ"
      },
      "source": [
        "**5)** Escreva uma função lambda que verifique se uma palavra é um palíndromo.\n",
        "\n",
        "Ex.:\n",
        "* radar --> True\n",
        "* Python --> False"
      ]
    },
    {
      "cell_type": "code",
      "execution_count": 16,
      "metadata": {
        "id": "YGCmpHVBr1yK"
      },
      "outputs": [
        {
          "data": {
            "text/plain": [
              "False"
            ]
          },
          "execution_count": 16,
          "metadata": {},
          "output_type": "execute_result"
        }
      ],
      "source": [
        "checka_palidromo =lambda string: string==string[::-1]\n",
        "checka_palidromo('GUILHERME')"
      ]
    },
    {
      "cell_type": "code",
      "execution_count": null,
      "metadata": {
        "id": "5GctIqo4r1yK"
      },
      "outputs": [],
      "source": []
    },
    {
      "cell_type": "markdown",
      "metadata": {
        "id": "6Zq98l1ar1yL"
      },
      "source": [
        "**6)** Escreva uma função lambda que calcule a média de uma lista de números."
      ]
    },
    {
      "cell_type": "code",
      "execution_count": 23,
      "metadata": {
        "id": "_e4tH4RTr1yL"
      },
      "outputs": [
        {
          "ename": "TypeError",
          "evalue": "<lambda>() missing 1 required positional argument: 'lista'",
          "output_type": "error",
          "traceback": [
            "\u001b[1;31m---------------------------------------------------------------------------\u001b[0m",
            "\u001b[1;31mTypeError\u001b[0m                                 Traceback (most recent call last)",
            "Cell \u001b[1;32mIn[23], line 3\u001b[0m\n\u001b[0;32m      1\u001b[0m lista \u001b[38;5;241m=\u001b[39m \u001b[38;5;28mlist\u001b[39m(\u001b[38;5;28mrange\u001b[39m(\u001b[38;5;241m1\u001b[39m,\u001b[38;5;241m11\u001b[39m))\n\u001b[0;32m      2\u001b[0m media \u001b[38;5;241m=\u001b[39m \u001b[38;5;28;01mlambda\u001b[39;00m lista: reduce(\u001b[38;5;28;01mlambda\u001b[39;00m acc,num: acc\u001b[38;5;241m+\u001b[39m num,\u001b[38;5;241m0.00\u001b[39m) \u001b[38;5;241m/\u001b[39m \u001b[38;5;28mlen\u001b[39m(lista)\n\u001b[1;32m----> 3\u001b[0m \u001b[38;5;28mprint\u001b[39m(\u001b[43mmedia\u001b[49m\u001b[43m(\u001b[49m\u001b[43m)\u001b[49m)\n",
            "\u001b[1;31mTypeError\u001b[0m: <lambda>() missing 1 required positional argument: 'lista'"
          ]
        }
      ],
      "source": [
        "lista = list(range(1,11))\n",
        "media = lambda lista: reduce(lambda acc,num: acc+ num,0.00) / len(lista)\n",
        "print(media())"
      ]
    },
    {
      "cell_type": "markdown",
      "metadata": {
        "id": "hemUD33Yr1yL"
      },
      "source": [
        "**7)** Escreva uma função lambda que receba uma lista de dicionários e retorne a lista ordenada pelo valor de uma chave específica em ordem crescente."
      ]
    },
    {
      "cell_type": "code",
      "execution_count": null,
      "metadata": {
        "id": "ZmNxTr7Vr1yM"
      },
      "outputs": [],
      "source": []
    },
    {
      "cell_type": "code",
      "execution_count": null,
      "metadata": {
        "id": "prJTok0Kr1yM"
      },
      "outputs": [],
      "source": []
    },
    {
      "cell_type": "code",
      "execution_count": null,
      "metadata": {
        "id": "1Ci0w0eNr1yM"
      },
      "outputs": [],
      "source": []
    },
    {
      "cell_type": "markdown",
      "metadata": {
        "id": "FlugrksWr1yQ"
      },
      "source": [
        "**8)** Escreva uma função para retornar a soma dos números naturais até n."
      ]
    },
    {
      "cell_type": "code",
      "execution_count": null,
      "metadata": {
        "id": "1Im6CW5Kr1yQ"
      },
      "outputs": [],
      "source": []
    },
    {
      "cell_type": "code",
      "execution_count": null,
      "metadata": {
        "id": "aMSW1VrCr1yR"
      },
      "outputs": [],
      "source": []
    },
    {
      "cell_type": "code",
      "execution_count": null,
      "metadata": {
        "id": "rCg1Jj27r1yT"
      },
      "outputs": [],
      "source": []
    }
  ],
  "metadata": {
    "colab": {
      "provenance": []
    },
    "kernelspec": {
      "display_name": "base",
      "language": "python",
      "name": "python3"
    },
    "language_info": {
      "codemirror_mode": {
        "name": "ipython",
        "version": 3
      },
      "file_extension": ".py",
      "mimetype": "text/x-python",
      "name": "python",
      "nbconvert_exporter": "python",
      "pygments_lexer": "ipython3",
      "version": "3.11.7"
    },
    "orig_nbformat": 4
  },
  "nbformat": 4,
  "nbformat_minor": 0
}
