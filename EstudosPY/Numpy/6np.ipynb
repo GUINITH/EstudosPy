{
 "cells": [
  {
   "cell_type": "markdown",
   "metadata": {},
   "source": [
    "# Cópia de Matriz NumPy vs Exibir\n",
    "\n",
    "### A diferença entre copiar e exibir \n",
    "\n",
    "A principal diferença entre uma cópia e uma exibição de uma amtriz é que A cópia é uma nova matriz original, e quaisquer alterações feitas na matriz original não serão afetam a cópia.\n",
    "\n",
    "A Exibição não possui os dados e quaisquer alterações feitas na cópia "
   ]
  },
  {
   "cell_type": "code",
   "execution_count": null,
   "metadata": {},
   "outputs": [],
   "source": []
  }
 ],
 "metadata": {
  "language_info": {
   "name": "python"
  }
 },
 "nbformat": 4,
 "nbformat_minor": 2
}
