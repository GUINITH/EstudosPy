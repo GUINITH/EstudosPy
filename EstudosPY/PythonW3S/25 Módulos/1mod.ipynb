{
 "cells": [
  {
   "cell_type": "markdown",
   "metadata": {},
   "source": [
    "# Módulos Python \n",
    "\n",
    "## O que é um Módulo?\n",
    "\n",
    "Considere um módulo como sendo o mesmo que uma biblioteca de códigos. \n",
    "\n",
    "Um arquivo que contém um conjunto de funções que você deseja incluir em seu aplicativo. \n",
    "\n",
    "\n",
    "## Como Criar um módulo \n",
    "\n",
    "Para criar um módulo basta salvar o código desejado em um arquivo com a extensão de arquivos: `.py` \n",
    "\n",
    "Salve esse código em um arquivo chamado mymodule.py"
   ]
  },
  {
   "cell_type": "code",
   "execution_count": 3,
   "metadata": {},
   "outputs": [],
   "source": [
    "def pessoa(name):\n",
    "    print('OLÁ, ' + name)"
   ]
  },
  {
   "cell_type": "markdown",
   "metadata": {},
   "source": [
    "## Usar o módulo \n",
    "\n",
    "Agora podemos usar o módulo que acabamos de criar, usando a instrução: `import`\n",
    "\n",
    "Importe o módulo chamado ``modulo``\n",
    "\n"
   ]
  },
  {
   "cell_type": "code",
   "execution_count": 1,
   "metadata": {},
   "outputs": [
    {
     "name": "stdout",
     "output_type": "stream",
     "text": [
      "OLÁ, Guilherme\n"
     ]
    }
   ],
   "source": [
    "import modulo \n",
    "\n",
    "nome = 'Guilherme'\n",
    "modulo.apresentar(nome)\n"
   ]
  },
  {
   "cell_type": "markdown",
   "metadata": {},
   "source": [
    "Ao usar uma função de um módulo, use a sintaxe: nome_modulo.nome_função. \n",
    "\n",
    "## Variáveis no módulo \n",
    "\n",
    "O módulo pode conter funções, como já descrito, mas também variáveis de todos os tipos (matrizes, dicionários, objetos etc): \n",
    "\n",
    "crie um dicionário e salve no arquivo `modulo.py`\n"
   ]
  },
  {
   "cell_type": "code",
   "execution_count": 2,
   "metadata": {},
   "outputs": [],
   "source": [
    "pessoa1 = {\n",
    "    'name' : 'Guilherme',\n",
    "    'age'  : 23, \n",
    "    'estado' : 'Rio de Janeiro'\n",
    "}"
   ]
  },
  {
   "cell_type": "markdown",
   "metadata": {},
   "source": [
    "Importe o módulo e acesse o dicionário pessoa1: "
   ]
  },
  {
   "cell_type": "code",
   "execution_count": 4,
   "metadata": {},
   "outputs": [
    {
     "name": "stdout",
     "output_type": "stream",
     "text": [
      "Guilherme\n"
     ]
    }
   ],
   "source": [
    "eu = modulo.pessoa1['name']\n",
    "print(eu)"
   ]
  },
  {
   "cell_type": "markdown",
   "metadata": {},
   "source": [
    "## Nomeando um módulo \n",
    "\n",
    "Você pode nomear o arquivo de módulo como quiser, mas ele deve ter extensão de arquivo `.py`\n",
    "\n",
    "Renomeando um módulo \n",
    "\n",
    "Você pode criar um alias ao importar um módulo, usando a palavra-chave: `as`\n",
    "\n",
    "Crie um alias para o chamado: `modulo md`"
   ]
  },
  {
   "cell_type": "code",
   "execution_count": 5,
   "metadata": {},
   "outputs": [
    {
     "data": {
      "text/plain": [
       "23"
      ]
     },
     "execution_count": 5,
     "metadata": {},
     "output_type": "execute_result"
    }
   ],
   "source": [
    "import modulo as md \n",
    "\n",
    "idade = md.pessoa1['age']\n",
    "idade"
   ]
  },
  {
   "cell_type": "markdown",
   "metadata": {},
   "source": [
    "## Modulos Integrados \n",
    "\n",
    "Existem vários módulos embuitidos em Python, que você pode importar sempre que quiser. \n",
    "\n",
    "Importe e utilizar o módulo:  `plataform`\n",
    "\n"
   ]
  },
  {
   "cell_type": "code",
   "execution_count": 6,
   "metadata": {},
   "outputs": [
    {
     "name": "stdout",
     "output_type": "stream",
     "text": [
      "Windows\n"
     ]
    }
   ],
   "source": [
    "import platform \n",
    "\n",
    "x = platform.system()\n",
    "print(x)\n"
   ]
  },
  {
   "cell_type": "markdown",
   "metadata": {},
   "source": [
    "## Usando a função dir()\n",
    "\n",
    "Há uma função interna para listar todos os nomes de função(ou variável) nomes em um módulo. A função: dir()\n",
    "\n"
   ]
  },
  {
   "cell_type": "code",
   "execution_count": 8,
   "metadata": {},
   "outputs": [
    {
     "data": {
      "text/plain": [
       "['_Processor',\n",
       " '_WIN32_CLIENT_RELEASES',\n",
       " '_WIN32_SERVER_RELEASES',\n",
       " '__builtins__',\n",
       " '__cached__',\n",
       " '__copyright__',\n",
       " '__doc__',\n",
       " '__file__',\n",
       " '__loader__',\n",
       " '__name__',\n",
       " '__package__',\n",
       " '__spec__',\n",
       " '__version__',\n",
       " '_comparable_version',\n",
       " '_component_re',\n",
       " '_default_architecture',\n",
       " '_follow_symlinks',\n",
       " '_get_machine_win32',\n",
       " '_ironpython26_sys_version_parser',\n",
       " '_ironpython_sys_version_parser',\n",
       " '_java_getprop',\n",
       " '_libc_search',\n",
       " '_mac_ver_xml',\n",
       " '_node',\n",
       " '_norm_version',\n",
       " '_os_release_cache',\n",
       " '_os_release_candidates',\n",
       " '_os_release_line',\n",
       " '_os_release_unescape',\n",
       " '_parse_os_release',\n",
       " '_platform',\n",
       " '_platform_cache',\n",
       " '_pypy_sys_version_parser',\n",
       " '_sys_version',\n",
       " '_sys_version_cache',\n",
       " '_sys_version_parser',\n",
       " '_syscmd_file',\n",
       " '_syscmd_ver',\n",
       " '_uname_cache',\n",
       " '_unknown_as_blank',\n",
       " '_ver_output',\n",
       " '_ver_stages',\n",
       " 'architecture',\n",
       " 'collections',\n",
       " 'freedesktop_os_release',\n",
       " 'functools',\n",
       " 'itertools',\n",
       " 'java_ver',\n",
       " 'libc_ver',\n",
       " 'mac_ver',\n",
       " 'machine',\n",
       " 'node',\n",
       " 'os',\n",
       " 'platform',\n",
       " 'processor',\n",
       " 'python_branch',\n",
       " 'python_build',\n",
       " 'python_compiler',\n",
       " 'python_implementation',\n",
       " 'python_revision',\n",
       " 'python_version',\n",
       " 'python_version_tuple',\n",
       " 're',\n",
       " 'release',\n",
       " 'sys',\n",
       " 'system',\n",
       " 'system_alias',\n",
       " 'uname',\n",
       " 'uname_result',\n",
       " 'version',\n",
       " 'win32_edition',\n",
       " 'win32_is_iot',\n",
       " 'win32_ver']"
      ]
     },
     "execution_count": 8,
     "metadata": {},
     "output_type": "execute_result"
    }
   ],
   "source": [
    "x = dir(platform)\n",
    "x"
   ]
  },
  {
   "cell_type": "markdown",
   "metadata": {},
   "source": [
    "a função dir() pode ser usada em todos os módulos, inclusive naqueles que você mesmo criar. \n",
    "\n",
    "## Importar do módulo \n",
    "\n",
    "Você pode obptar por importar apenas partes de um módulo, usando a palavra chave `from`. \n",
    "\n",
    "O módulo que importamos anteriormentem tem uma função e um dicionário: \n",
    "\n"
   ]
  },
  {
   "cell_type": "code",
   "execution_count": null,
   "metadata": {},
   "outputs": [],
   "source": [
    "def apresentar(name):\n",
    "    print('OLÁ, ' + name)\n",
    "\n",
    "\n",
    "pessoa1 = {\n",
    "    'name' : 'Guilherme',\n",
    "    'age'  : 23, \n",
    "    'estado' : 'Rio de Janeiro'\n",
    "}"
   ]
  },
  {
   "cell_type": "markdown",
   "metadata": {},
   "source": [
    "Import apenas o dicionário do módulo: "
   ]
  },
  {
   "cell_type": "code",
   "execution_count": 9,
   "metadata": {},
   "outputs": [
    {
     "data": {
      "text/plain": [
       "'Rio de Janeiro'"
      ]
     },
     "execution_count": 9,
     "metadata": {},
     "output_type": "execute_result"
    }
   ],
   "source": [
    "from modulo import pessoa1 \n",
    "\n",
    "Rj = pessoa1['estado']\n",
    "Rj"
   ]
  },
  {
   "cell_type": "markdown",
   "metadata": {},
   "source": [
    "Ao importar usdando a palavra-chave, não use o nome do módulo ao ser referir a elementos no módulo. Exemplo: from pessoa1['estado']  modulo.pessoa1['estado'] \n",
    "\n"
   ]
  }
 ],
 "metadata": {
  "kernelspec": {
   "display_name": "Python 3",
   "language": "python",
   "name": "python3"
  },
  "language_info": {
   "codemirror_mode": {
    "name": "ipython",
    "version": 3
   },
   "file_extension": ".py",
   "mimetype": "text/x-python",
   "name": "python",
   "nbconvert_exporter": "python",
   "pygments_lexer": "ipython3",
   "version": "3.11.9"
  }
 },
 "nbformat": 4,
 "nbformat_minor": 2
}
