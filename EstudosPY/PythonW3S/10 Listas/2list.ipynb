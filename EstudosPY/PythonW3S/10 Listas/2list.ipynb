{
 "cells": [
  {
   "cell_type": "markdown",
   "metadata": {},
   "source": [
    "# Python - Itens da lista de acesso \n",
    "\n",
    "# Acessar itens \n",
    "\n",
    "Os itens da lista são indexados e você pode acessá-los consultando o número do índice: \n",
    "\n",
    "#### Exemplo \n",
    "\n",
    "Imprima o segundo item da lista:\n"
   ]
  },
  {
   "cell_type": "code",
   "execution_count": 1,
   "metadata": {},
   "outputs": [
    {
     "name": "stdout",
     "output_type": "stream",
     "text": [
      "banana\n"
     ]
    }
   ],
   "source": [
    "thislist = [\"apple\", \"banana\", \"cherry\"]\n",
    "print(thislist[1])"
   ]
  },
  {
   "cell_type": "markdown",
   "metadata": {},
   "source": [
    "Nota: O primeiro item possui índice 0.\n",
    "\n",
    "# Indexação Negativa\n",
    "\n",
    "Indexação negativa significa começar do fim\n",
    "\n",
    "-1refere-se ao último item, -2refere-se ao penúltimo item etc.\n",
    "\n",
    "#### Exemplo\n",
    "\n",
    "Imprima o último item da lista:"
   ]
  },
  {
   "cell_type": "code",
   "execution_count": 2,
   "metadata": {},
   "outputs": [
    {
     "name": "stdout",
     "output_type": "stream",
     "text": [
      "cherry\n"
     ]
    }
   ],
   "source": [
    "thislist = [\"apple\", \"banana\", \"cherry\"]\n",
    "print(thislist[-1])"
   ]
  },
  {
   "cell_type": "markdown",
   "metadata": {},
   "source": [
    "# Rang of Indexes, Intervalo entre os Indexes\n",
    "\n",
    "Você pode especificar um intervalo de índices especificando onde começar e onde terminar o intervalo \n",
    "\n",
    "Ao especificar um intervalo, o valor de retorno será uma nova lista com os itens especificados. \n",
    "\n",
    "##### Exemplo \n",
    "\n",
    "Retorne o terceiro, quarto e quinto item: \n"
   ]
  },
  {
   "cell_type": "code",
   "execution_count": 1,
   "metadata": {},
   "outputs": [
    {
     "name": "stdout",
     "output_type": "stream",
     "text": [
      "['verde', 'branco', 'rosa']\n"
     ]
    }
   ],
   "source": [
    "cores_list = ['azul', 'amarelo','verde','branco','rosa','laranja','preto']\n",
    "\n",
    "print(cores_list[2:5])"
   ]
  },
  {
   "cell_type": "markdown",
   "metadata": {},
   "source": [
    "Nota: A pesquisa começará no índice 2 (incluído) e terminará no índice 5 (não incluído).\n",
    "\n",
    "Lembre-se que o primeiro item possui índice 0.\n",
    "\n",
    "Ao omitir o valor inicial, o intervalo começará no primeiro item:\n",
    "\n",
    "#### Exemplo\n",
    "\n",
    "Este exemplo retorna os itens desde o início, mas NÃO incluindo, \"kiwi\":\n",
    "\n"
   ]
  },
  {
   "cell_type": "code",
   "execution_count": 5,
   "metadata": {},
   "outputs": [
    {
     "name": "stdout",
     "output_type": "stream",
     "text": [
      "['apple', 'banana', 'cherry', 'orange']\n"
     ]
    }
   ],
   "source": [
    "thislist = [\"apple\", \"banana\", \"cherry\", \"orange\", \"kiwi\", \"melon\", \"mango\"]\n",
    "print(thislist[:4])"
   ]
  },
  {
   "cell_type": "markdown",
   "metadata": {},
   "source": [
    "Ao omitir o valor final, o intervalo irá para o final da lista: \n",
    "\n",
    "##### Exemplo\n",
    "\n",
    "Este exemplo retorna os itens de \"cereja\" até o final:"
   ]
  },
  {
   "cell_type": "code",
   "execution_count": 6,
   "metadata": {},
   "outputs": [
    {
     "name": "stdout",
     "output_type": "stream",
     "text": [
      "['cherry', 'orange', 'kiwi', 'melon', 'mango']\n"
     ]
    }
   ],
   "source": [
    "thislist = [\"apple\", \"banana\", \"cherry\", \"orange\", \"kiwi\", \"melon\", \"mango\"]\n",
    "print(thislist[2:])"
   ]
  },
  {
   "cell_type": "markdown",
   "metadata": {},
   "source": [
    "# Gama de índices negativos\n",
    "\n",
    "Especifique índices negativos se desejar iniciar a pesquisa do final da lista:\n",
    "\n",
    "#### Exemplo\n",
    "\n",
    "Este exemplo retorna os itens de \"laranja\" (-4) até, mas NÃO inclui \"manga\" (-1):"
   ]
  },
  {
   "cell_type": "code",
   "execution_count": 7,
   "metadata": {},
   "outputs": [
    {
     "name": "stdout",
     "output_type": "stream",
     "text": [
      "['orange', 'kiwi', 'melon']\n"
     ]
    }
   ],
   "source": [
    "thislist = [\"apple\", \"banana\", \"cherry\", \"orange\", \"kiwi\", \"melon\", \"mango\"]\n",
    "print(thislist[-4:-1])"
   ]
  },
  {
   "cell_type": "markdown",
   "metadata": {},
   "source": [
    "# Verifique se o item existe\n",
    "\n",
    "Para determinar se um item especificado está presente em uma lista, use a inpalavra-chave:\n",
    "\n",
    "#### Exemplo\n",
    "\n",
    "Verifique se “apple” está presente na lista:"
   ]
  },
  {
   "cell_type": "code",
   "execution_count": 9,
   "metadata": {},
   "outputs": [
    {
     "name": "stdout",
     "output_type": "stream",
     "text": [
      "Sim, 'apple' existe na thislist\n"
     ]
    }
   ],
   "source": [
    "thislist = [\"apple\", \"banana\", \"cherry\"]\n",
    "if \"apple\" in thislist:\n",
    "  print(\"Sim, 'apple' existe na thislist\")"
   ]
  }
 ],
 "metadata": {
  "kernelspec": {
   "display_name": "Python 3",
   "language": "python",
   "name": "python3"
  },
  "language_info": {
   "codemirror_mode": {
    "name": "ipython",
    "version": 3
   },
   "file_extension": ".py",
   "mimetype": "text/x-python",
   "name": "python",
   "nbconvert_exporter": "python",
   "pygments_lexer": "ipython3",
   "version": "3.11.9"
  }
 },
 "nbformat": 4,
 "nbformat_minor": 2
}
