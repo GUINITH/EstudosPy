{
 "cells": [
  {
   "cell_type": "markdown",
   "metadata": {},
   "source": [
    "# Tuplas: \n",
    "\n",
    "Tuplas são usadas para armazenar varios itens e um variável.\n",
    "\n",
    "Ela é uma das 4 estruturas integradas em Python, usadas para armazenar coleções de dados, assim como Listas, Dicionários e Sets. Todas com qualidades e usos diferentes. \n",
    "\n",
    "Uma tupla é uma coleção ordenada e imutável. \n",
    "\n",
    "Tuplas são escritas entre colchetes. \n",
    "\n"
   ]
  },
  {
   "cell_type": "code",
   "execution_count": 1,
   "metadata": {},
   "outputs": [
    {
     "name": "stdout",
     "output_type": "stream",
     "text": [
      "('mike', 'titi', 'ruly')\n"
     ]
    }
   ],
   "source": [
    "my_tuple = ('mike','titi', 'ruly')\n",
    "print(my_tuple)"
   ]
  },
  {
   "cell_type": "markdown",
   "metadata": {},
   "source": [
    "## Itens de tupla \n",
    "\n",
    "Os itens da tupla são ordenados, imutáveis e permitem valores duplicados. \n",
    "\n",
    "Os itens da tupla são indexados, o primeiro item possui index `[0]`, o segundo item possui index `[1]` etc. \n",
    "\n",
    "\n",
    "## Encomendado \n",
    "\n",
    "Quando dizemos que as tuplas são ordenadas, significa que os itens têm uma ordem definida e essa ordem não mudará\n",
    "\n",
    "## Imutável \n",
    "\n",
    "As tuplas são imutáveis, o que significa que não podemos alterar, adicionar ou remover itens após a criação da tupla.\n",
    "\n",
    "## Permitir duplicatas \n",
    "\n",
    "Como as tuplas são indexadas, elas podem ter itens com o mesmo valor: \n",
    "\n",
    "#### Exemplo \n",
    "\n",
    "Tuplas permitem valores duplicados: "
   ]
  },
  {
   "cell_type": "code",
   "execution_count": 1,
   "metadata": {},
   "outputs": [
    {
     "name": "stdout",
     "output_type": "stream",
     "text": [
      "('flamengo', 'vasco', 'botafogo', 'fluminense', 'flamengo')\n"
     ]
    }
   ],
   "source": [
    "times = ('flamengo', 'vasco', 'botafogo', 'fluminense', 'flamengo')\n",
    "print(times)"
   ]
  },
  {
   "cell_type": "markdown",
   "metadata": {},
   "source": [
    "# Comprimento da tupla: \n",
    "\n",
    "Para determinar quantos itens uma tupla possui, use a função `len()`: \n",
    "\n",
    "#### Exemplo \n",
    "\n",
    "Imprima o número de itens na tupla: \n",
    "\n"
   ]
  },
  {
   "cell_type": "code",
   "execution_count": 2,
   "metadata": {},
   "outputs": [
    {
     "name": "stdout",
     "output_type": "stream",
     "text": [
      "5\n"
     ]
    }
   ],
   "source": [
    "numeros = tuple(range(3,16,3))\n",
    "print(len(numeros))"
   ]
  },
  {
   "cell_type": "markdown",
   "metadata": {},
   "source": [
    "## Criar tupla com um item \n",
    "\n",
    "Para criar uma tupla com apenas um item, você deve adicionar uma vírgula após o item, caso contrário o Python não reconhecerá como uma tuppla. \n",
    "\n",
    "#### Exemplo\n",
    "\n",
    "Tupla de um item, lembre-se da vírgula:"
   ]
  },
  {
   "cell_type": "code",
   "execution_count": 7,
   "metadata": {},
   "outputs": [
    {
     "name": "stdout",
     "output_type": "stream",
     "text": [
      "<class 'tuple'>\n"
     ]
    }
   ],
   "source": [
    "# funciona, reconhece como tupla\n",
    "meu_nome = ('Felipe',)\n",
    "print(type(meu_nome))"
   ]
  },
  {
   "cell_type": "code",
   "execution_count": 6,
   "metadata": {},
   "outputs": [
    {
     "name": "stdout",
     "output_type": "stream",
     "text": [
      "<class 'str'>\n"
     ]
    }
   ],
   "source": [
    "# Não reconhece como tupla, reconhece como string: \n",
    "meu_nome = ('Pedro')\n",
    "print(type(meu_nome))\n"
   ]
  },
  {
   "cell_type": "markdown",
   "metadata": {},
   "source": [
    "# Itens de tupla - tipos de dados \n",
    "\n",
    "Os items da tupla podem ser de qualquer tipo de dados: \n",
    "\n",
    "#### Exemplo \n",
    "\n",
    "Tipo de dados strings, int e booleanos: \n"
   ]
  },
  {
   "cell_type": "code",
   "execution_count": 10,
   "metadata": {},
   "outputs": [],
   "source": [
    "tupla1 = ('mamão', 'maçã','morango')\n",
    "tupla2 = (1,2,3)\n",
    "tupla3 = (1.34,2.5,6.78)\n",
    "tupla4 = (True, False, True)"
   ]
  },
  {
   "cell_type": "markdown",
   "metadata": {},
   "source": [
    "uma tupla pode conter diferentes tipos de dados: \n",
    "\n",
    "##### Exemplo\n",
    "\n",
    "Uma tupla com strings, números inteiros e valores booleanos:"
   ]
  },
  {
   "cell_type": "code",
   "execution_count": 13,
   "metadata": {},
   "outputs": [
    {
     "data": {
      "text/plain": [
       "('abc', 34, True, 40, 'male')"
      ]
     },
     "execution_count": 13,
     "metadata": {},
     "output_type": "execute_result"
    }
   ],
   "source": [
    "tuple1 = (\"abc\", 34, True, 40, \"male\")\n",
    "tuple1"
   ]
  },
  {
   "cell_type": "markdown",
   "metadata": {},
   "source": [
    "#### `type()`\n",
    "\n",
    "Da perspectiva do Python, as tuplas são definidas como objetos com o tipo dedoas 'tuple': \n",
    "`<class 'tuple'>`\n",
    "\n",
    "##### Exemplo\n",
    "\n",
    "Qual é o tipo de dados de uma tupla?\n"
   ]
  },
  {
   "cell_type": "code",
   "execution_count": 14,
   "metadata": {},
   "outputs": [
    {
     "name": "stdout",
     "output_type": "stream",
     "text": [
      "<class 'tuple'>\n"
     ]
    }
   ],
   "source": [
    "tuple1 = (\"abc\", 34, True, 40, \"male\")\n",
    "print(type(tuple1))"
   ]
  },
  {
   "cell_type": "markdown",
   "metadata": {},
   "source": [
    "### O construtor `tuple()`\n",
    "\n",
    "Também é possível usar o construtor `tuple()` para criar uma tupla: \n",
    "\n",
    "##### Exemplo\n",
    "\n",
    "Usando o método tuple() para criar uma tupla: \n"
   ]
  },
  {
   "cell_type": "code",
   "execution_count": 15,
   "metadata": {},
   "outputs": [
    {
     "name": "stdout",
     "output_type": "stream",
     "text": [
      "('Raquel', 'Monique', 'Cassio', 'Manoel')\n"
     ]
    }
   ],
   "source": [
    "alunos = 'Raquel', 'Monique', 'Cassio','Manoel'\n",
    "listar_alunos = tuple(alunos)\n",
    "print(listar_alunos)"
   ]
  },
  {
   "cell_type": "markdown",
   "metadata": {},
   "source": [
    "# Coleção Python(matrizes)\n",
    "\n",
    "Existem quatros tipos de dados de coleta na linguagem de programação Python: \n",
    "\n",
    "- `Listas` é uma coleção ordenada e mutável. Permite membros duplicados.\n",
    "- `Tupla` é uma coleção ordenada e imutável. Permite membros duplicados.\n",
    "- `Set` é uma coleção não ordenada, imutável* e não indexada. Nenhum membro duplicado. \n",
    "- `Dicionário` é uma coleção ordenada ** e mutável. Nenhum membro duplicado. \n",
    "\n",
    "* Os itens do conjunto não podem ser alterados, mas você pode remover e/ou adicionar itens sempre que desejar.\n",
    "\n",
    "* A partir da versão 3.7 do Python, os dicionários são ordenados. No Python 3.6 e anteriores, os dicionários são desordenados.\n",
    "\n",
    "* Ao escolher um tipo de coleção, é útil compreender as propriedades desse tipo. Escolher o tipo certo para um determinado conjunto de dados pode significar retenção de significado e um aumento na eficiência ou segurança."
   ]
  }
 ],
 "metadata": {
  "kernelspec": {
   "display_name": "Python 3",
   "language": "python",
   "name": "python3"
  },
  "language_info": {
   "codemirror_mode": {
    "name": "ipython",
    "version": 3
   },
   "file_extension": ".py",
   "mimetype": "text/x-python",
   "name": "python",
   "nbconvert_exporter": "python",
   "pygments_lexer": "ipython3",
   "version": "3.11.9"
  }
 },
 "nbformat": 4,
 "nbformat_minor": 2
}
