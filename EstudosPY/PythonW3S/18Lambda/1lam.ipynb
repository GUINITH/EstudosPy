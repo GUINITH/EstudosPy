{
 "cells": [
  {
   "cell_type": "markdown",
   "metadata": {},
   "source": [
    "# Python Lambda \n",
    "\n",
    "Uma função lambda é uma pequena função anônima. \n",
    "\n",
    "Uma função lambda pode receber qualquer número de argumentos, mas só pode ter uma expressão. \n",
    "\n",
    "## Sintaxe \n",
    "\n",
    "``lambda argumento : expressão ``\n",
    "\n",
    "A expressão é excutada e o resultado é retornado: \n",
    "\n",
    "Adicione 10 ao argumento `a` e retorne o resultado: \n",
    "\n",
    "\n"
   ]
  },
  {
   "cell_type": "code",
   "execution_count": 1,
   "metadata": {},
   "outputs": [
    {
     "name": "stdout",
     "output_type": "stream",
     "text": [
      "22\n"
     ]
    }
   ],
   "source": [
    "soma = lambda x : x + 10 \n",
    "print(soma(12))"
   ]
  },
  {
   "cell_type": "markdown",
   "metadata": {},
   "source": [
    "As funções lambda podem receber qualquer número de argumentos: \n",
    "\n",
    "Multiplique argumento a por argumento b e retorne o resultado: "
   ]
  },
  {
   "cell_type": "code",
   "execution_count": 1,
   "metadata": {},
   "outputs": [
    {
     "name": "stdout",
     "output_type": "stream",
     "text": [
      "345\n"
     ]
    }
   ],
   "source": [
    "multiplicar = lambda a, b : a*b \n",
    "print(multiplicar(23,15))"
   ]
  },
  {
   "cell_type": "markdown",
   "metadata": {},
   "source": [
    "Resuma o argumento a, b, e ce retorne o resultado:"
   ]
  },
  {
   "cell_type": "code",
   "execution_count": 2,
   "metadata": {},
   "outputs": [
    {
     "name": "stdout",
     "output_type": "stream",
     "text": [
      "101\n"
     ]
    }
   ],
   "source": [
    "somar = lambda a, b, c : a + b + c \n",
    "print(somar(23,1,77))"
   ]
  },
  {
   "cell_type": "markdown",
   "metadata": {},
   "source": [
    "# Por que usar a funções Lambda? \n",
    "\n",
    "O poder do lambda é melhor demonstrado quando você usa como uma função anônima dentro de outra função. \n",
    "\n",
    "Digamos que você tenha uam definição de função que recebe um argumento, e esse argumento será multipplicado por um número desconhecido: \n",
    "\n"
   ]
  },
  {
   "cell_type": "code",
   "execution_count": 2,
   "metadata": {},
   "outputs": [],
   "source": [
    "def minhaFunc(n):\n",
    "    return lambda a: a * n \n"
   ]
  },
  {
   "cell_type": "markdown",
   "metadata": {},
   "source": [
    "Use essa definição de função para criar uma função que sempre dobra o número que você envia: \n",
    "\n"
   ]
  },
  {
   "cell_type": "code",
   "execution_count": 7,
   "metadata": {},
   "outputs": [
    {
     "name": "stdout",
     "output_type": "stream",
     "text": [
      "24\n"
     ]
    }
   ],
   "source": [
    "def minha_func(n): \n",
    "    return lambda a : a * n \n",
    "\n",
    "dobrar_valor = minha_func(2) \n",
    "\n",
    "print(dobrar_valor(12))\n"
   ]
  },
  {
   "cell_type": "markdown",
   "metadata": {},
   "source": [
    "Ou use a mesma definição de função para criar uma função que sempre tiplique o número que você enviar: \n"
   ]
  },
  {
   "cell_type": "code",
   "execution_count": 8,
   "metadata": {},
   "outputs": [
    {
     "name": "stdout",
     "output_type": "stream",
     "text": [
      "63\n"
     ]
    }
   ],
   "source": [
    "def minha_func(n): \n",
    "    return lambda a : a * n \n",
    "\n",
    "triplicar_valor = minha_func(3) \n",
    "\n",
    "print(triplicar_valor(21))"
   ]
  },
  {
   "cell_type": "markdown",
   "metadata": {},
   "source": [
    "Use a função lambdas quando uma função anônima for necessária por um cuerto período de tempo. \n"
   ]
  }
 ],
 "metadata": {
  "kernelspec": {
   "display_name": "Python 3",
   "language": "python",
   "name": "python3"
  },
  "language_info": {
   "codemirror_mode": {
    "name": "ipython",
    "version": 3
   },
   "file_extension": ".py",
   "mimetype": "text/x-python",
   "name": "python",
   "nbconvert_exporter": "python",
   "pygments_lexer": "ipython3",
   "version": "3.11.9"
  }
 },
 "nbformat": 4,
 "nbformat_minor": 2
}
