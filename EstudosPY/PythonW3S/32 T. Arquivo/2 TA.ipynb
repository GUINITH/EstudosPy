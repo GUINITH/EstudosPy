{
 "cells": [
  {
   "cell_type": "markdown",
   "metadata": {},
   "source": [
    "## Gerenciador de Contexto \n",
    "\n",
    "Uma forma alternativa \"mais segura\" de trabalhar com arquivos utilizando um gerenciador de contextos. O gerenciador de contextos é, de maneira resumida, um pequeno bloco de código que realiza algumas tarefas e tratamento de erro de maneira automatizada. \n",
    "\n",
    "Com ele não precisamos nos preocupar em fechar o arquivo ao final da manipulação, pois ele faz isto automaticamentente, ao final do bloco. \n",
    "\n"
   ]
  }
 ],
 "metadata": {
  "language_info": {
   "name": "python"
  }
 },
 "nbformat": 4,
 "nbformat_minor": 2
}
