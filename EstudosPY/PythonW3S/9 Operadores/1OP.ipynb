{
 "cells": [
  {
   "cell_type": "markdown",
   "metadata": {},
   "source": [
    "# Operadores Python \n",
    "\n",
    "Operadores são usados para realizar operaçoes em variáveis e valores. \n",
    "\n",
    "No exemplo abaixo, usamos o + operador para somar dois valores: \n",
    "\n",
    "#### Exemplo: \n"
   ]
  },
  {
   "cell_type": "code",
   "execution_count": 1,
   "metadata": {},
   "outputs": [
    {
     "name": "stdout",
     "output_type": "stream",
     "text": [
      "15\n"
     ]
    }
   ],
   "source": [
    "print(10 + 5)"
   ]
  },
  {
   "cell_type": "markdown",
   "metadata": {},
   "source": [
    "# Python divide os operadores nos seguintes grupos:\n",
    "- Operadores aritméticos\n",
    "- Operadores de atribuição\n",
    "- Operadores de comparação\n",
    "- Operadores lógicos\n",
    "- Operadores de identidade\n",
    "- Operadores de adesão\n",
    "- Operadores bit a bit"
   ]
  },
  {
   "cell_type": "markdown",
   "metadata": {},
   "source": [
    "# Operadores Aritméticos Python \n",
    "\n",
    "O peradores aritéticos são usados com valores números para realizar operações matemáticas comuns: \n",
    "\n",
    "- Operadores: ``+, - *, / %, **, //``\n",
    "- é igual á: `` Adição, subtração, multippplicação, divisão, resto, exponenciação, divisão flootuante ``"
   ]
  },
  {
   "cell_type": "code",
   "execution_count": 5,
   "metadata": {},
   "outputs": [
    {
     "name": "stdout",
     "output_type": "stream",
     "text": [
      "55\n",
      "-12\n",
      "300\n",
      "5.0\n",
      "0\n",
      "110075314176\n",
      "10\n"
     ]
    }
   ],
   "source": [
    "print(22 + 33) # adição \n",
    "print(33- 45) # subtração \n",
    "print(100 * 3) # Multiplicação \n",
    "print(25 / 5) # Divisão flutuate \n",
    "print(1000 % 100) # Resto \n",
    "print(24 ** 8) # Exponênciação \n",
    "print(100 // 10) # divisão inteira"
   ]
  },
  {
   "cell_type": "markdown",
   "metadata": {},
   "source": [
    "# Operadores de Atribuição Python\n",
    "\n",
    "Operadores de atribuição são usados ​​para atribuir valores a variáveis: \n",
    "\n",
    "Operadores: \n",
    " - `=` operador de atribuição\n",
    " - `+=` operador de atribui e soma\n",
    " - `-=` operador de atribui e subtrai \n",
    " - ``*=`` operador que atribui e multiplica \n",
    " - `/=` operador que atribui e divide \n",
    " - `/=` operador que atribui e modula o resto da divisão\n",
    "\n",
    "\n"
   ]
  },
  {
   "cell_type": "code",
   "execution_count": 1,
   "metadata": {},
   "outputs": [
    {
     "name": "stdout",
     "output_type": "stream",
     "text": [
      "\n",
      "x = 10  # Atribuição simples\n",
      "x += 5  # Atribuição com adição: x = x + 5\n",
      "x -= 3  # Atribuição com subtração: x = x - 3\n",
      "x *= 2  # Atribuição com multiplicação: x = x * 2\n",
      "x /= 4  # Atribuição com divisão: x = x / 4\n",
      "x //= 2  # Atribuição com divisão inteira: x = x // 2\n",
      "x %= 3  # Atribuição com módulo: x = x % 3\n",
      "x **= 2  # Atribuição com exponenciação: x = x ** 2\n",
      "x &= 5  # Atribuição com operação bit a bit AND: x = x & 5\n",
      "x |= 3  # Atribuição com operação bit a bit OR: x = x | 3\n",
      "x ^= 2  # Atribuição com operação bit a bit XOR: x = x ^ 2\n",
      "x <<= 1  # Atribuição com deslocamento à esquerda: x = x << 1\n",
      "x >>= 1  # Atribuição com deslocamento à direita: x = x >> 1\n",
      "\n"
     ]
    }
   ],
   "source": [
    "exemplo = \"\"\"\n",
    "x = 10  # Atribuição simples\n",
    "x += 5  # Atribuição com adição: x = x + 5\n",
    "x -= 3  # Atribuição com subtração: x = x - 3\n",
    "x *= 2  # Atribuição com multiplicação: x = x * 2\n",
    "x /= 4  # Atribuição com divisão: x = x / 4\n",
    "x //= 2  # Atribuição com divisão inteira: x = x // 2\n",
    "x %= 3  # Atribuição com módulo: x = x % 3\n",
    "x **= 2  # Atribuição com exponenciação: x = x ** 2\n",
    "x &= 5  # Atribuição com operação bit a bit AND: x = x & 5\n",
    "x |= 3  # Atribuição com operação bit a bit OR: x = x | 3\n",
    "x ^= 2  # Atribuição com operação bit a bit XOR: x = x ^ 2\n",
    "x <<= 1  # Atribuição com deslocamento à esquerda: x = x << 1\n",
    "x >>= 1  # Atribuição com deslocamento à direita: x = x >> 1\n",
    "\"\"\"\n",
    "print(exemplo)"
   ]
  },
  {
   "cell_type": "markdown",
   "metadata": {},
   "source": [
    "# Operadores de Comparação: \n",
    "\n",
    "Operadores de comparação são usados ​​para comparar dois valores:\n"
   ]
  },
  {
   "cell_type": "markdown",
   "metadata": {},
   "source": [
    "- `==` : Igual a\n",
    "- `!=` : Diferente de\n",
    "- `>` : Maior que \n",
    "- `<` : Menor que \n",
    "- `=<` : Menor ou igual que  \n",
    "- `>=` : Maior ou igual que\n"
   ]
  },
  {
   "cell_type": "code",
   "execution_count": 2,
   "metadata": {},
   "outputs": [
    {
     "name": "stdout",
     "output_type": "stream",
     "text": [
      "\n",
      "x == y  # Igual a: Verdadeiro se x é igual a y\n",
      "x != y  # Diferente de: Verdadeiro se x é diferente de y\n",
      "x > y   # Maior que: Verdadeiro se x é maior que y\n",
      "x < y   # Menor que: Verdadeiro se x é menor que y\n",
      "x >= y  # Maior ou igual a: Verdadeiro se x é maior ou igual a y\n",
      "x <= y  # Menor ou igual a: Verdadeiro se x é menor ou igual a y\n",
      "\n"
     ]
    }
   ],
   "source": [
    "exemple = \"\"\"\n",
    "x == y  # Igual a: Verdadeiro se x é igual a y\n",
    "x != y  # Diferente de: Verdadeiro se x é diferente de y\n",
    "x > y   # Maior que: Verdadeiro se x é maior que y\n",
    "x < y   # Menor que: Verdadeiro se x é menor que y\n",
    "x >= y  # Maior ou igual a: Verdadeiro se x é maior ou igual a y\n",
    "x <= y  # Menor ou igual a: Verdadeiro se x é menor ou igual a y\n",
    "\"\"\"\n",
    "print(exemple)"
   ]
  },
  {
   "cell_type": "markdown",
   "metadata": {},
   "source": [
    "# Operadores Lógicos\n",
    "\n",
    "Operadores lógicos são usados para combinar instruções condicionais:\n",
    "\n",
    "`and`: E lógico\n",
    "\n",
    "`or`: Ou lógico\n",
    "\n",
    "`not`: Não lógico"
   ]
  },
  {
   "cell_type": "code",
   "execution_count": 3,
   "metadata": {},
   "outputs": [
    {
     "name": "stdout",
     "output_type": "stream",
     "text": [
      "\n",
      "x and y  # E lógico: Verdadeiro se tanto x quanto y são verdadeiros\n",
      "x or y   # OU lógico: Verdadeiro se pelo menos um de x ou y é verdadeiro\n",
      "not x    # NÃO lógico: Verdadeiro se x é falso (inverte o valor booleano)\n",
      "\n"
     ]
    }
   ],
   "source": [
    "exemple= \"\"\"\n",
    "x and y  # E lógico: Verdadeiro se tanto x quanto y são verdadeiros\n",
    "x or y   # OU lógico: Verdadeiro se pelo menos um de x ou y é verdadeiro\n",
    "not x    # NÃO lógico: Verdadeiro se x é falso (inverte o valor booleano)\n",
    "\"\"\"\n",
    "print(exemple)\n"
   ]
  },
  {
   "cell_type": "markdown",
   "metadata": {},
   "source": [
    "# Operadores de identidade Python\n",
    "\n",
    "Os operadors de identidade são usadas para comparar os objetos, não se forem iguais, mas se forem realmente o mesmo objeto, com a mesma localização de memória: \n",
    "\n"
   ]
  },
  {
   "cell_type": "markdown",
   "metadata": {},
   "source": [
    "\n",
    "- ``x is y``      # Verdadeiro se x e y referem-se ao mesmo objeto\n",
    "- ``x is not y``  # Verdadeiro se x e y não referem-se ao mesmo objeto\n",
    "\n"
   ]
  },
  {
   "cell_type": "code",
   "execution_count": 5,
   "metadata": {},
   "outputs": [
    {
     "name": "stdout",
     "output_type": "stream",
     "text": [
      "True\n",
      "True\n"
     ]
    }
   ],
   "source": [
    "x = 10 \n",
    "y = 10 \n",
    "identy = x is y \n",
    "print(identy)\n",
    "\n",
    "x = 20 \n",
    "y=45 \n",
    "identy2 = x is not y \n",
    "print(identy2)"
   ]
  },
  {
   "cell_type": "markdown",
   "metadata": {},
   "source": [
    "# Operadores de Associação Python\n",
    "\n",
    "Operadores de associação são usados para testar se uma sequência é apresentada em um objeto: \n",
    "\n",
    "- `in`: retorna true se um objeto existir em outro\n",
    "- `not in`: retorna true se um objeto não existir no outro "
   ]
  },
  {
   "cell_type": "code",
   "execution_count": 8,
   "metadata": {},
   "outputs": [
    {
     "name": "stdout",
     "output_type": "stream",
     "text": [
      "Ele existe\n"
     ]
    }
   ],
   "source": [
    "# Exemplo do in \n",
    "personas = ['Guilherme', 'Rafael', 'Pedro']\n",
    "if 'Guilherme' in personas: \n",
    "    print('Ele existe')\n",
    "else:\n",
    "    print('Não existe')"
   ]
  },
  {
   "cell_type": "code",
   "execution_count": 9,
   "metadata": {},
   "outputs": [
    {
     "name": "stdout",
     "output_type": "stream",
     "text": [
      "ele não está na lista\n"
     ]
    }
   ],
   "source": [
    "# Exemplo do not in:\n",
    "personas = ['Marciel', 'Pablo', 'Lucas']\n",
    "if 'Marcos' not in personas: \n",
    "    print('ele não está na lista')\n",
    "else:\n",
    "    print('ele está na lista')"
   ]
  },
  {
   "cell_type": "markdown",
   "metadata": {},
   "source": [
    "# Operadores bit a bit Python\n",
    "\n",
    "Operadores bit a bit são usados ​​para comparar números (binários):\n",
    "\n",
    "- `&`:  AND Bit a Bit \n",
    "- `|`:  OR Bit a Bit \n",
    "- `^`:  XOR Bit a Bit \n",
    "- `~`:  Complemento Bit a Bit \n",
    "- `<<`:  Deslocamento a esquerda Bit a Bit \n",
    "- `>>`:  Deslocamento a direita Bit a Bit "
   ]
  },
  {
   "cell_type": "code",
   "execution_count": 11,
   "metadata": {},
   "outputs": [
    {
     "name": "stdout",
     "output_type": "stream",
     "text": [
      "\n",
      "x & y    # AND Bit a Bit: Retorna 1 se ambos os bits forem 1, caso contrário, retorna 0\n",
      "x | y    # OR Bit a Bit: Retorna 1 se pelo menos um dos bits for 1, caso contrário, retorna 0\n",
      "x ^ y    # XOR Bit a Bit: Retorna 1 se exatamente um dos bits for 1, caso contrário, retorna 0\n",
      "~x       # Complemento Bit a Bit: Inverte todos os bits de x\n",
      "x << n   # Deslocamento à Esquerda: Desloca os bits de x para a esquerda, adicionando zeros à direita\n",
      "x >> n   # Deslocamento à Direita: Desloca os bits de x para a direita, preenchendo com zeros à esquerda\n",
      "\n"
     ]
    }
   ],
   "source": [
    "exemple = \"\"\"\n",
    "x & y    # AND Bit a Bit: Retorna 1 se ambos os bits forem 1, caso contrário, retorna 0\n",
    "x | y    # OR Bit a Bit: Retorna 1 se pelo menos um dos bits for 1, caso contrário, retorna 0\n",
    "x ^ y    # XOR Bit a Bit: Retorna 1 se exatamente um dos bits for 1, caso contrário, retorna 0\n",
    "~x       # Complemento Bit a Bit: Inverte todos os bits de x\n",
    "x << n   # Deslocamento à Esquerda: Desloca os bits de x para a esquerda, adicionando zeros à direita\n",
    "x >> n   # Deslocamento à Direita: Desloca os bits de x para a direita, preenchendo com zeros à esquerda\n",
    "\"\"\"\n",
    "\n",
    "\n",
    "\n",
    "print(exemple)"
   ]
  },
  {
   "cell_type": "markdown",
   "metadata": {},
   "source": [
    "Operador precedente \n",
    "\n",
    "A precedência do operador descreve a ordem em que as operações são executadas. \n",
    "\n",
    "#### Exemplo \n",
    "\n",
    "Os parênteses têm a precedência mais alta, o que significa que as expressões entre parênteses devem ser avaliadas primeiro: \n"
   ]
  },
  {
   "cell_type": "code",
   "execution_count": 12,
   "metadata": {},
   "outputs": [
    {
     "name": "stdout",
     "output_type": "stream",
     "text": [
      "0\n"
     ]
    }
   ],
   "source": [
    "print((6 + 3) - (6 + 3))"
   ]
  },
  {
   "cell_type": "markdown",
   "metadata": {},
   "source": [
    "#### Exemplo\n",
    "\n",
    "A multiplicação ``*``tem maior precedência que a adição +``e``, portanto, as multiplicações são avaliadas antes das adições:\n"
   ]
  },
  {
   "cell_type": "code",
   "execution_count": 13,
   "metadata": {},
   "outputs": [
    {
     "name": "stdout",
     "output_type": "stream",
     "text": [
      "115\n"
     ]
    }
   ],
   "source": [
    "print(100 + 5 * 3)"
   ]
  },
  {
   "cell_type": "markdown",
   "metadata": {},
   "source": [
    "A ordem de precedência está descrita na tabela abaixo, começando com a precedência mais alta no topo:\n",
    "\n",
    "1. Parênteses (): Expressões entre parênteses são avaliadas primeiro.\n",
    "2. Exponenciação (**): Operador de exponenciação é avaliado em segundo lugar.\n",
    "3. Operadores de identidade (is, is not): Operadores de identidade são avaliados em seguida.\n",
    "4. Operadores de multiplicação, divisão e resto (*, /, //, %): Operadores aritméticos de multiplicação, divisão inteira, divisão e módulo são avaliados em sequência.\n",
    "5. Operadores de adição e subtração (+, -): Operadores aritméticos de adição e subtração são avaliados em sequência.\n",
    "6. Operadores de deslocamento (<<, >>): Operadores de deslocamento à esquerda e à direita são avaliados em seguida.\n",
    "7. Operadores bit a bit AND (&): Operador bit a bit AND é avaliado em seguida.\n",
    "8. Operadores bit a bit XOR (^): Operador bit a bit XOR é avaliado em seguida.\n",
    "9. Operadores bit a bit OR (|): Operador bit a bit OR é avaliado em seguida.\n",
    "10. Operadores de comparação (==, !=, >, <, >=, <=, in, not in, is, is not): Operadores de comparação são avaliados em seguida.\n",
    "11. Operadores lógicos (not, and, or): Operadores lógicos são avaliados por último."
   ]
  },
  {
   "cell_type": "markdown",
   "metadata": {},
   "source": [
    "Se dois operadores tiverem a mesma precedência, a expressão será avaliada da esquerda para a direita.\n",
    "\n",
    "#### Exemplo\n",
    "\n",
    "Adição +e subtração -têm a mesma precedência e, portanto, avaliamos a expressão da esquerda para a direita:\n"
   ]
  },
  {
   "cell_type": "code",
   "execution_count": 16,
   "metadata": {},
   "outputs": [
    {
     "name": "stdout",
     "output_type": "stream",
     "text": [
      "5\n"
     ]
    }
   ],
   "source": [
    "print(5 + 4 - 7 + 3)"
   ]
  }
 ],
 "metadata": {
  "kernelspec": {
   "display_name": "Python 3",
   "language": "python",
   "name": "python3"
  },
  "language_info": {
   "codemirror_mode": {
    "name": "ipython",
    "version": 3
   },
   "file_extension": ".py",
   "mimetype": "text/x-python",
   "name": "python",
   "nbconvert_exporter": "python",
   "pygments_lexer": "ipython3",
   "version": "3.11.9"
  }
 },
 "nbformat": 4,
 "nbformat_minor": 2
}
