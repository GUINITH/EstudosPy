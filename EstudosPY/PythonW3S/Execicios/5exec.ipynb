{
 "cells": [
  {
   "cell_type": "markdown",
   "metadata": {},
   "source": [
    "\n",
    "\n",
    "### Exercício 1: Condicional Simples\n",
    "1. Crie uma variável `idade` e atribua a ela um valor inteiro.\n",
    "2. Verifique se a `idade` é maior ou igual a 18. Se for, imprima \"Você é maior de idade\". Caso contrário, imprima \"Você é menor de idade\".\n"
   ]
  },
  {
   "cell_type": "code",
   "execution_count": 1,
   "metadata": {},
   "outputs": [
    {
     "name": "stdout",
     "output_type": "stream",
     "text": [
      "Você é de maior\n"
     ]
    }
   ],
   "source": [
    "idade = 18 \n",
    "if idade >= 18:\n",
    "    print('Você é de maior')\n",
    "else:\n",
    "    print('Você é de menor')"
   ]
  },
  {
   "cell_type": "markdown",
   "metadata": {},
   "source": [
    "\n",
    "### Exercício 2: Condicional Composta\n",
    "1. Crie uma variável `nota` e atribua a ela um valor float.\n",
    "2. Verifique se a `nota` é maior ou igual a 7.0. Se for, imprima \"Aprovado\". Caso contrário, imprima \"Reprovado\".\n"
   ]
  },
  {
   "cell_type": "code",
   "execution_count": 2,
   "metadata": {},
   "outputs": [
    {
     "name": "stdout",
     "output_type": "stream",
     "text": [
      "Aprovado\n"
     ]
    }
   ],
   "source": [
    "nota = 7.0\n",
    "if nota >= 7.0:\n",
    "    print('Aprovado')\n",
    "else:\n",
    "    print('Reprovado')"
   ]
  },
  {
   "cell_type": "markdown",
   "metadata": {},
   "source": [
    "\n",
    "\n",
    "### Exercício 3: Condicional Aninhada\n",
    "1. Crie uma variável `idade` e atribua a ela um valor inteiro.\n",
    "2. Verifique as seguintes condições:\n",
    "   - Se a `idade` for menor que 12, imprima \"Você é uma criança\".\n",
    "   - Se a `idade` estiver entre 12 e 17 (inclusive), imprima \"Você é um adolescente\".\n",
    "   - Se a `idade` for 18 ou mais, imprima \"Você é um adulto\".\n",
    "\n"
   ]
  },
  {
   "cell_type": "code",
   "execution_count": 5,
   "metadata": {},
   "outputs": [
    {
     "name": "stdout",
     "output_type": "stream",
     "text": [
      "Você é adulto!\n"
     ]
    }
   ],
   "source": [
    "idade = 18\n",
    "if idade < 12:\n",
    "    print('Você é criança')\n",
    "if (idade == 12) or idade <= 17:\n",
    "    print('Você é adolescente')\n",
    "if idade >= 18:\n",
    "    print('Você é adulto!')"
   ]
  },
  {
   "cell_type": "markdown",
   "metadata": {},
   "source": [
    "\n",
    "\n",
    "### Exercício 4: Uso do `elif`\n",
    "1. Crie uma variável `nota` e atribua a ela um valor float.\n",
    "2. Verifique as seguintes condições:\n",
    "   - Se a `nota` for maior ou igual a 9.0, imprima \"Excelente\".\n",
    "   - Se a `nota` for maior ou igual a 7.0, mas menor que 9.0, imprima \"Bom\".\n",
    "   - Se a `nota` for maior ou igual a 5.0, mas menor que 7.0, imprima \"Regular\".\n",
    "   - Caso contrário, imprima \"Insuficiente\".\n",
    "\n"
   ]
  },
  {
   "cell_type": "code",
   "execution_count": 6,
   "metadata": {},
   "outputs": [
    {
     "name": "stdout",
     "output_type": "stream",
     "text": [
      "Bom\n"
     ]
    }
   ],
   "source": [
    "nota= 7.5\n",
    "if nota >= 9.0:\n",
    "    print('Excelente')\n",
    "elif nota > 7.0 or nota < 9.0:\n",
    "    print('Bom')\n",
    "elif idade >= 5.0 or  nota < 7.0:\n",
    "    print('Regular')\n",
    "else:\n",
    "    print('Insuficiente')\n"
   ]
  },
  {
   "cell_type": "markdown",
   "metadata": {},
   "source": [
    "\n",
    "\n",
    "### Exercício 5: Verificação de Paridade\n",
    "1. Crie uma variável `numero` e atribua a ela um valor inteiro.\n",
    "2. Verifique se o `numero` é par ou ímpar e imprima a mensagem correspondente.\n",
    "\n"
   ]
  },
  {
   "cell_type": "code",
   "execution_count": 13,
   "metadata": {},
   "outputs": [
    {
     "name": "stdout",
     "output_type": "stream",
     "text": [
      "6 é par! \n"
     ]
    }
   ],
   "source": [
    "numero = 6\n",
    "if  numero % 2 == 0:\n",
    "    print(f'{numero} é par! ')\n",
    "else:\n",
    "    print(f'{numero} é impar')"
   ]
  },
  {
   "cell_type": "markdown",
   "metadata": {},
   "source": [
    "\n",
    "\n",
    "### Exercício 6: Uso de Operadores Lógicos\n",
    "1. Crie duas variáveis `a` e `b` e atribua valores booleanos a elas.\n",
    "2. Verifique as seguintes condições:\n",
    "   - Se ambos `a` e `b` forem verdadeiros, imprima \"Ambos são verdadeiros\".\n",
    "   - Se `a` ou `b` for verdadeiro, mas não ambos, imprima \"Apenas um é verdadeiro\".\n",
    "   - Se nenhum for verdadeiro, imprima \"Nenhum é verdadeiro\".\n",
    "\n"
   ]
  },
  {
   "cell_type": "code",
   "execution_count": 19,
   "metadata": {},
   "outputs": [
    {
     "name": "stdout",
     "output_type": "stream",
     "text": [
      "Ambos são verdadeiro\n"
     ]
    }
   ],
   "source": [
    "a = 4.5\n",
    "b = 6.5\n",
    "if a or b == True: \n",
    "    print('Ambos são verdadeiro')\n",
    "elif a or b == True or not a or b: \n",
    "    print('Um só é verdadeiro')\n",
    "else:\n",
    "    print('Nenhum é verdadeiro')"
   ]
  },
  {
   "cell_type": "markdown",
   "metadata": {},
   "source": [
    "\n",
    "### Exercício 7: Verificação de Intervalo\n",
    "1. Crie uma variável `numero` e atribua a ela um valor inteiro.\n",
    "2. Verifique se o `numero` está entre 10 e 20 (inclusive). Imprima \"Está no intervalo\" se estiver e \"Fora do intervalo\" caso contrário.\n",
    "\n"
   ]
  },
  {
   "cell_type": "code",
   "execution_count": 20,
   "metadata": {},
   "outputs": [
    {
     "name": "stdout",
     "output_type": "stream",
     "text": [
      "Fora do Intervalo\n"
     ]
    }
   ],
   "source": [
    "numero = 40 \n",
    "if numero in range(10,21):\n",
    "    print('Está no intervalo')\n",
    "else:\n",
    "    print('Fora do Intervalo')"
   ]
  },
  {
   "cell_type": "markdown",
   "metadata": {},
   "source": [
    "### Exercício 8: Condicional com Strings\n",
    "1. Crie uma variável `palavra` e atribua a ela uma string.\n",
    "2. Verifique se a `palavra` é igual a \"Python\". Se for, imprima \"Você escolheu a palavra certa!\". Caso contrário, imprima \"Tente novamente!\"."
   ]
  },
  {
   "cell_type": "code",
   "execution_count": 21,
   "metadata": {},
   "outputs": [
    {
     "name": "stdout",
     "output_type": "stream",
     "text": [
      "Tente novamente\n"
     ]
    }
   ],
   "source": [
    "palavra = 'Legal'\n",
    "if palavra == 'Python':\n",
    "    print('Escolheu a palavra Certa')\n",
    "else: \n",
    "    print('Tente novamente')"
   ]
  },
  {
   "cell_type": "markdown",
   "metadata": {},
   "source": [
    "\n",
    "### Exercício 9: Verificação de Listas\n",
    "1. Crie uma lista chamada `numeros` contendo os números de 1 a 10.\n",
    "2. Verifique se o número 5 está na lista `numeros`. Imprima \"O número 5 está na lista\" se estiver e \"O número 5 não está na lista\" caso contrário."
   ]
  },
  {
   "cell_type": "code",
   "execution_count": 24,
   "metadata": {},
   "outputs": [
    {
     "name": "stdout",
     "output_type": "stream",
     "text": [
      "O número 5 está na lista\n"
     ]
    }
   ],
   "source": [
    "numeros = list(range(1,11))\n",
    "if 5 in numeros:\n",
    "    print('O número 5 está na lista')\n",
    "else:\n",
    "    print('O numero 5 não está na lista')"
   ]
  },
  {
   "cell_type": "markdown",
   "metadata": {},
   "source": [
    "### Exercício 10: Verificação de Dicionários\n",
    "1. Crie um dicionário chamado `aluno` com as seguintes chaves e valores:\n",
    "   - `nome`: \"Maria\"\n",
    "   - `idade`: 20\n",
    "   - `curso`: \"Medicina\"\n",
    "2. Verifique se a chave `curso` está no dicionário `aluno`. Se estiver, imprima o valor associado a essa chave. Caso contrário, imprima \"Curso não encontrado\"."
   ]
  },
  {
   "cell_type": "code",
   "execution_count": 25,
   "metadata": {},
   "outputs": [
    {
     "name": "stdout",
     "output_type": "stream",
     "text": [
      "Curso não encontrado\n"
     ]
    }
   ],
   "source": [
    "aluno = {\n",
    "    'nome': 'Maria',\n",
    "    'idade': 20,\n",
    "    'Curso': 'Medicina'\n",
    "}\n",
    "if 'curso' in aluno:\n",
    "    print(aluno.get('curso'))\n",
    "else:\n",
    "    print('Curso não encontrado')"
   ]
  }
 ],
 "metadata": {
  "kernelspec": {
   "display_name": "Python 3",
   "language": "python",
   "name": "python3"
  },
  "language_info": {
   "codemirror_mode": {
    "name": "ipython",
    "version": 3
   },
   "file_extension": ".py",
   "mimetype": "text/x-python",
   "name": "python",
   "nbconvert_exporter": "python",
   "pygments_lexer": "ipython3",
   "version": "3.11.9"
  }
 },
 "nbformat": 4,
 "nbformat_minor": 2
}
