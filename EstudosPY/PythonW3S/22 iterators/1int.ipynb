{
 "cells": [
  {
   "cell_type": "markdown",
   "metadata": {},
   "source": [
    "# Python Iteradores \n",
    "\n",
    "Um iterador é um objeto que contém um número contável de valores. \n",
    "\n",
    "Um iterador é um objeto que pode ser iterado, o que significa que você pode percorrer todos os valores. \n",
    "\n",
    "Tecnicamente, em Python, um interador é um objeto que implementa o protocolo iterador, que consiste nos métos __iter__() e __next__(). \n",
    "\n",
    "\n",
    "## Iterador vs Iterável\n",
    "\n",
    "Lista, Tuplas, Dicionários e Sets são todos objetos iteráveis. Eles são contêineres interáveis dos quais você pode objet um iterador. \n",
    "\n",
    "Todos esses objetos têm um `item()` método que é usado para obter um iterador: \n",
    "\n",
    "\n",
    "Retorna um iterador de uma tupla e imprime o valor: \n",
    "\n"
   ]
  },
  {
   "cell_type": "code",
   "execution_count": 1,
   "metadata": {},
   "outputs": [
    {
     "name": "stdout",
     "output_type": "stream",
     "text": [
      "Azul\n",
      "Preto\n"
     ]
    }
   ],
   "source": [
    "cores = ('Azul','Preto')\n",
    "iterador = iter(cores)\n",
    "\n",
    "print(next(iterador))\n",
    "print(next(iterador))"
   ]
  },
  {
   "cell_type": "markdown",
   "metadata": {},
   "source": [
    "Até mesmo strings são objetos iteráveis e podem retorna um iterador: \n",
    "\n",
    "Strings também são objetos iteráveis, contendo uma sequência de caracteres:"
   ]
  },
  {
   "cell_type": "markdown",
   "metadata": {},
   "source": [
    "fruta = 'banana'\n",
    "iterador = iter(fruta)\n",
    "\n",
    "print(next(iterador))\n",
    "print(next(iterador))\n",
    "print(next(iterador))\n",
    "print(next(iterador))\n",
    "print(next(iterador))\n",
    "print(next(iterador))"
   ]
  },
  {
   "cell_type": "markdown",
   "metadata": {},
   "source": [
    "## Loop através de um iterador \n",
    "\n",
    "Também podemos usar um loop for para iterar por um objeto iterável:\n",
    "\n",
    "intere os valores de uma lista: \n",
    "\n"
   ]
  },
  {
   "cell_type": "code",
   "execution_count": 3,
   "metadata": {},
   "outputs": [
    {
     "name": "stdout",
     "output_type": "stream",
     "text": [
      "1\n",
      "2\n",
      "3\n",
      "4\n",
      "5\n",
      "6\n",
      "7\n",
      "8\n",
      "9\n",
      "10\n"
     ]
    }
   ],
   "source": [
    "numeros = list(range(1,11))\n",
    "for num in numeros: \n",
    "    print(num)"
   ]
  },
  {
   "cell_type": "markdown",
   "metadata": {},
   "source": [
    "interar os caracteres de uma string: \n"
   ]
  },
  {
   "cell_type": "code",
   "execution_count": 4,
   "metadata": {},
   "outputs": [
    {
     "name": "stdout",
     "output_type": "stream",
     "text": [
      "b\n",
      "a\n",
      "n\n",
      "a\n",
      "n\n",
      "a\n"
     ]
    }
   ],
   "source": [
    "mystr = \"banana\"\n",
    "\n",
    "for x in mystr:\n",
    "  print(x)"
   ]
  },
  {
   "cell_type": "markdown",
   "metadata": {},
   "source": [
    "O `for` loop na verdade cria um objeto iterador e executa o método next() para cara loop. \n",
    "\n"
   ]
  },
  {
   "cell_type": "code",
   "execution_count": 10,
   "metadata": {},
   "outputs": [
    {
     "name": "stdout",
     "output_type": "stream",
     "text": [
      "b\n",
      "a\n",
      "n\n",
      "a\n",
      "n\n",
      "a\n"
     ]
    }
   ],
   "source": [
    "# como se fizesse isso manualmente\n",
    "mystr = \"banana\" \n",
    "interador = iter(mystr)\n",
    "\n",
    "print(next(interador))\n",
    "print(next(interador))\n",
    "print(next(interador))\n",
    "print(next(interador))\n",
    "print(next(interador))\n",
    "print(next(interador))"
   ]
  },
  {
   "cell_type": "markdown",
   "metadata": {},
   "source": [
    "## Criar um Iterador \n",
    "\n",
    "Para criar um objeto/classe como um iterador, você precisa implementar os métodos __iter__() e __next__() para seu objeto.\n",
    "\n",
    "Como você aprendeu no capítulo Classes/Objetos do Python , todas as classes têm uma função chamada __init__(), que permite que você faça alguma inicialização quando o objeto está sendo criado.\n",
    "\n",
    "O método __iter__() age de forma semelhante, você pode fazer operações (inicializar etc.), mas sempre deve retornar o próprio objeto iterador.\n",
    "\n",
    "O método __next__() também permite que você faça operações e deve retornar o próximo item na sequência.\n",
    "\n",
    "Crie um iterador que retorne números, começando com 1, e cada sequência aumentará em um (retornando 1,2,3,4,5 etc.):"
   ]
  },
  {
   "cell_type": "code",
   "execution_count": 11,
   "metadata": {},
   "outputs": [
    {
     "name": "stdout",
     "output_type": "stream",
     "text": [
      "1\n",
      "2\n",
      "3\n",
      "4\n",
      "5\n"
     ]
    }
   ],
   "source": [
    "class MyNumbers:\n",
    "  def __iter__(self):\n",
    "    self.a = 1\n",
    "    return self\n",
    "\n",
    "  def __next__(self):\n",
    "    x = self.a\n",
    "    self.a += 1\n",
    "    return x\n",
    "\n",
    "myclass = MyNumbers()\n",
    "myiter = iter(myclass)\n",
    "\n",
    "print(next(myiter))\n",
    "print(next(myiter))\n",
    "print(next(myiter))\n",
    "print(next(myiter))\n",
    "print(next(myiter))"
   ]
  },
  {
   "cell_type": "markdown",
   "metadata": {},
   "source": [
    "## PararIteração \n",
    "\n",
    "O exemplo acima continuaria para sempre se você tivesse instruções next() suficientes ou se ele fosse usado em um forloop.\n",
    "\n",
    "Para evitar que a iteração continue para sempre, podemos usar a instrução StopIteration.\n",
    "\n",
    "No método __next__(), podemos adicionar uma condição de término para gerar um erro se a iteração for feita um número especificado de vezes:\n",
    "\n",
    "Pare após 20 iterações:\n",
    "\n"
   ]
  },
  {
   "cell_type": "code",
   "execution_count": 12,
   "metadata": {},
   "outputs": [
    {
     "name": "stdout",
     "output_type": "stream",
     "text": [
      "1\n",
      "2\n",
      "3\n",
      "4\n",
      "5\n",
      "6\n",
      "7\n",
      "8\n",
      "9\n",
      "10\n",
      "11\n",
      "12\n",
      "13\n",
      "14\n",
      "15\n",
      "16\n",
      "17\n",
      "18\n",
      "19\n",
      "20\n"
     ]
    }
   ],
   "source": [
    "class MyNumbers:\n",
    "  def __iter__(self):\n",
    "    self.a = 1\n",
    "    return self\n",
    "\n",
    "  def __next__(self):\n",
    "    if self.a <= 20:\n",
    "      x = self.a\n",
    "      self.a += 1\n",
    "      return x\n",
    "    else:\n",
    "      raise StopIteration\n",
    "\n",
    "myclass = MyNumbers()\n",
    "myiter = iter(myclass)\n",
    "\n",
    "for x in myiter:\n",
    "  print(x)"
   ]
  }
 ],
 "metadata": {
  "kernelspec": {
   "display_name": "Python 3",
   "language": "python",
   "name": "python3"
  },
  "language_info": {
   "codemirror_mode": {
    "name": "ipython",
    "version": 3
   },
   "file_extension": ".py",
   "mimetype": "text/x-python",
   "name": "python",
   "nbconvert_exporter": "python",
   "pygments_lexer": "ipython3",
   "version": "3.11.9"
  }
 },
 "nbformat": 4,
 "nbformat_minor": 2
}
