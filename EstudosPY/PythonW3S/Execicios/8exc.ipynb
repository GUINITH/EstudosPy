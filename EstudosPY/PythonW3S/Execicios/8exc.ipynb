{
 "cells": [
  {
   "cell_type": "markdown",
   "metadata": {},
   "source": [
    "### Exercícios de Funções\n",
    "\n",
    "#### Exercício 1: Função de Soma\n",
    "1. Crie uma função chamada `soma` que recebe dois números como parâmetros e retorna a soma deles.\n",
    "2. Chame a função e imprima o resultado."
   ]
  },
  {
   "cell_type": "code",
   "execution_count": 6,
   "metadata": {},
   "outputs": [
    {
     "data": {
      "text/plain": [
       "67"
      ]
     },
     "execution_count": 6,
     "metadata": {},
     "output_type": "execute_result"
    }
   ],
   "source": [
    "def soma(num1, num2):\n",
    "    total = num1 + num2\n",
    "    return total \n",
    "soma(23,44)\n"
   ]
  },
  {
   "cell_type": "markdown",
   "metadata": {},
   "source": [
    "\n",
    "#### Exercício 2: Função de Fatorial\n",
    "1. Crie uma função chamada `fatorial` que recebe um número inteiro como parâmetro e retorna o fatorial desse número.\n",
    "2. Chame a função e imprima o resultado para o número 5."
   ]
  },
  {
   "cell_type": "code",
   "execution_count": 12,
   "metadata": {},
   "outputs": [
    {
     "data": {
      "text/plain": [
       "3628800"
      ]
     },
     "execution_count": 12,
     "metadata": {},
     "output_type": "execute_result"
    }
   ],
   "source": [
    "def fatorial(numero): \n",
    "    result = 1 \n",
    "    for i in range(1, numero + 1): \n",
    "        result *=i \n",
    "    return result \n",
    "fatorial(10)"
   ]
  },
  {
   "cell_type": "markdown",
   "metadata": {},
   "source": [
    "#### Exercício 4: Função de Contagem de Vogais\n",
    "1. Crie uma função chamada `contar_vogais` que recebe uma string como parâmetro e retorna o número de vogais na string.\n",
    "2. Chame a função e imprima o resultado para a string \"Python\"."
   ]
  },
  {
   "cell_type": "code",
   "execution_count": 2,
   "metadata": {},
   "outputs": [
    {
     "data": {
      "text/plain": [
       "4"
      ]
     },
     "execution_count": 2,
     "metadata": {},
     "output_type": "execute_result"
    }
   ],
   "source": [
    "def contar_vogais(txt):\n",
    "    vogais = 'aeiou'\n",
    "    result = {}\n",
    "    txt = txt.lower()\n",
    "    for vogal in vogais: \n",
    "        if vogal in txt: \n",
    "            result[vogal] = txt.count(vogal)\n",
    "    return len(result)\n",
    "contar_vogais('Barbeiro')\n"
   ]
  },
  {
   "cell_type": "code",
   "execution_count": 7,
   "metadata": {},
   "outputs": [
    {
     "name": "stdout",
     "output_type": "stream",
     "text": [
      "3\n"
     ]
    }
   ],
   "source": [
    "def contar_vogais(palavra: str):\n",
    "    vogais = 'aeiou'\n",
    "    contador = {}\n",
    "    palavra.lower()\n",
    "    for vogal in vogais:\n",
    "        if vogal in palavra:\n",
    "            contador[vogal] = palavra.count(vogal)\n",
    "    return len(contador)\n",
    "\n",
    "\n",
    "\n",
    "minha_palavra = 'Flamengo'\n",
    "print(contar_vogais(minha_palavra))\n"
   ]
  },
  {
   "cell_type": "markdown",
   "metadata": {},
   "source": [
    "#### Exercício 5: Função de Reversão de String\n",
    "1. Crie uma função chamada `reverter_string` que recebe uma string como parâmetro e retorna a string invertida.\n",
    "2. Chame a função e imprima o resultado para a string \"Hello\"."
   ]
  },
  {
   "cell_type": "code",
   "execution_count": 25,
   "metadata": {},
   "outputs": [
    {
     "name": "stdout",
     "output_type": "stream",
     "text": [
      "leafaR\n"
     ]
    }
   ],
   "source": [
    "def string_reverse(str):\n",
    "    reverso = str[::-1]\n",
    "    return reverso\n",
    "\n",
    "print(string_reverse('Rafael'))"
   ]
  },
  {
   "cell_type": "markdown",
   "metadata": {},
   "source": [
    "### Exercícios de Funções Lambda\n",
    "\n",
    "#### Exercício 6: Lambda de Soma\n",
    "1. Crie uma função lambda que recebe dois números e retorna a soma deles.\n",
    "2. Use a função lambda para somar os números 5 e 3 e imprima o resultado."
   ]
  },
  {
   "cell_type": "code",
   "execution_count": 27,
   "metadata": {},
   "outputs": [
    {
     "data": {
      "text/plain": [
       "67"
      ]
     },
     "execution_count": 27,
     "metadata": {},
     "output_type": "execute_result"
    }
   ],
   "source": [
    "somar = lambda num1 , num2: num1 + num2 \n",
    "somar(23,44)"
   ]
  },
  {
   "cell_type": "markdown",
   "metadata": {},
   "source": [
    "\n",
    "#### Exercício 7: Lambda de Verificação de Paridade\n",
    "1. Crie uma função lambda que recebe um número e retorna `True` se o número for par e `False` caso contrário.\n",
    "2. Use a função lambda para verificar se o número 6 é par e imprima o resultado.\n"
   ]
  },
  {
   "cell_type": "code",
   "execution_count": 33,
   "metadata": {},
   "outputs": [
    {
     "data": {
      "text/plain": [
       "True"
      ]
     },
     "execution_count": 33,
     "metadata": {},
     "output_type": "execute_result"
    }
   ],
   "source": [
    "verificar_paridade = lambda par: par % 2 == 0 \n",
    "verificar_paridade(6)"
   ]
  },
  {
   "cell_type": "markdown",
   "metadata": {},
   "source": [
    "#### Exercício 8: Lambda de Ordenação\n",
    "1. Crie uma lista de tuplas onde cada tupla contém um nome e uma idade. Por exemplo: `[(\"Ana\", 25), (\"João\", 30), (\"Maria\", 22)]`.\n",
    "2. Use uma função lambda como chave no método `sort` para ordenar a lista pela idade.\n",
    "3. Imprima a lista ordenada.\n"
   ]
  },
  {
   "cell_type": "code",
   "execution_count": 37,
   "metadata": {},
   "outputs": [
    {
     "name": "stdout",
     "output_type": "stream",
     "text": [
      "[('Maria', 22), ('Ana', 25), ('João', 30)]\n"
     ]
    }
   ],
   "source": [
    "dados = [(\"Ana\", 25), (\"João\", 30), (\"Maria\", 22)]\n",
    "dados.sort(key=lambda item: item[1])\n",
    "print(dados)"
   ]
  },
  {
   "cell_type": "markdown",
   "metadata": {},
   "source": [
    "#### Exercício 9: Lambda de Filtragem\n",
    "1. Crie uma lista de números de 1 a 10.\n",
    "2. Use a função `filter` com uma função lambda para obter apenas os números pares da lista.\n",
    "3. Converta o resultado em uma lista e imprima.\n"
   ]
  },
  {
   "cell_type": "code",
   "execution_count": 39,
   "metadata": {},
   "outputs": [
    {
     "name": "stdout",
     "output_type": "stream",
     "text": [
      "[2, 4, 6, 8, 10]\n"
     ]
    }
   ],
   "source": [
    "# Lista de números de 1 a 10\n",
    "numeros = list(range(1, 11))\n",
    "\n",
    "# Usando a função filter com uma função lambda para obter apenas os números pares\n",
    "numeros_pares = list(filter(lambda x: x % 2 == 0, numeros))\n",
    "\n",
    "# Imprimindo a lista de números pares\n",
    "print(numeros_pares)\n"
   ]
  },
  {
   "cell_type": "markdown",
   "metadata": {},
   "source": [
    "#### Exercício 10: Lambda de Mapeamento\n",
    "1. Crie uma lista de números de 1 a 5.\n",
    "2. Use a função `map` com uma função lambda para obter o quadrado de cada número na lista.\n",
    "3. Converta o resultado em uma lista e imprima."
   ]
  },
  {
   "cell_type": "code",
   "execution_count": 40,
   "metadata": {},
   "outputs": [
    {
     "name": "stdout",
     "output_type": "stream",
     "text": [
      "[1, 4, 9, 16, 25]\n"
     ]
    }
   ],
   "source": [
    "# Lista de números de 1 a 5\n",
    "numeros = list(range(1, 6))\n",
    "\n",
    "# Usando a função map com uma função lambda para obter o quadrado de cada número\n",
    "quadrados = list(map(lambda x: x ** 2, numeros))\n",
    "\n",
    "# Imprimindo a lista de quadrados\n",
    "print(quadrados)\n"
   ]
  }
 ],
 "metadata": {
  "kernelspec": {
   "display_name": "Python 3",
   "language": "python",
   "name": "python3"
  },
  "language_info": {
   "codemirror_mode": {
    "name": "ipython",
    "version": 3
   },
   "file_extension": ".py",
   "mimetype": "text/x-python",
   "name": "python",
   "nbconvert_exporter": "python",
   "pygments_lexer": "ipython3",
   "version": "3.11.9"
  }
 },
 "nbformat": 4,
 "nbformat_minor": 2
}
