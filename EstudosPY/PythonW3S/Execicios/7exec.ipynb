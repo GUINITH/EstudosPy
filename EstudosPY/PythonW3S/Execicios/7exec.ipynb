{
 "cells": [
  {
   "cell_type": "markdown",
   "metadata": {},
   "source": [
    "Claro, aqui estão alguns exercícios para você praticar com loops `for` em Python:\n",
    "\n",
    "### Exercício 1: Iteração Simples\n",
    "1. Crie uma lista chamada `numeros` contendo os números de 1 a 10.\n",
    "2. Use um loop `for` para iterar sobre a lista e imprimir cada número.\n",
    "\n"
   ]
  },
  {
   "cell_type": "code",
   "execution_count": 3,
   "metadata": {},
   "outputs": [
    {
     "name": "stdout",
     "output_type": "stream",
     "text": [
      "1\n",
      "2\n",
      "3\n",
      "4\n",
      "5\n",
      "6\n",
      "7\n",
      "8\n",
      "9\n",
      "10\n"
     ]
    }
   ],
   "source": [
    "numeros = list(range(1,11))\n",
    "for num in numeros:\n",
    "    print(num)"
   ]
  },
  {
   "cell_type": "markdown",
   "metadata": {},
   "source": [
    "### Exercício 2: Soma de Números\n",
    "1. Crie uma lista chamada `numeros` contendo os números de 1 a 10.\n",
    "2. Use um loop `for` para somar todos os números na lista.\n",
    "3. Imprima a soma total após o loop.\n",
    "\n"
   ]
  },
  {
   "cell_type": "code",
   "execution_count": 6,
   "metadata": {},
   "outputs": [
    {
     "name": "stdout",
     "output_type": "stream",
     "text": [
      "55\n",
      "55\n",
      "55\n",
      "55\n",
      "55\n",
      "55\n",
      "55\n",
      "55\n",
      "55\n",
      "55\n"
     ]
    }
   ],
   "source": [
    "numeros  = list(range(1,11))\n",
    "for num in numeros:\n",
    "    print(sum(numeros))"
   ]
  },
  {
   "cell_type": "markdown",
   "metadata": {},
   "source": [
    "### Exercício 3: Iteração sobre String\n",
    "1. Crie uma string chamada `palavra` com o valor \"Python\".\n",
    "2. Use um loop `for` para iterar sobre cada caractere da string e imprimir cada caractere em uma nova linha.\n",
    "\n"
   ]
  },
  {
   "cell_type": "code",
   "execution_count": 7,
   "metadata": {},
   "outputs": [
    {
     "name": "stdout",
     "output_type": "stream",
     "text": [
      "P\n",
      "y\n",
      "t\n",
      "h\n",
      "o\n",
      "n\n"
     ]
    }
   ],
   "source": [
    "palavra = 'Python'\n",
    "for letra in palavra:\n",
    "    print(letra)\n",
    "    "
   ]
  },
  {
   "cell_type": "markdown",
   "metadata": {},
   "source": [
    "### Exercício 4: Iteração com Range\n",
    "1. Use um loop `for` com a função `range` para imprimir os números de 0 a 9.\n",
    "\n"
   ]
  },
  {
   "cell_type": "code",
   "execution_count": 8,
   "metadata": {},
   "outputs": [
    {
     "name": "stdout",
     "output_type": "stream",
     "text": [
      "0\n",
      "1\n",
      "2\n",
      "3\n",
      "4\n",
      "5\n",
      "6\n",
      "7\n",
      "8\n",
      "9\n"
     ]
    }
   ],
   "source": [
    "for num in range(10):\n",
    "    print(num)"
   ]
  },
  {
   "cell_type": "markdown",
   "metadata": {},
   "source": [
    "### Exercício 5: List Comprehension\n",
    "1. Use uma compreensão de lista (list comprehension) para criar uma lista contendo os quadrados dos números de 1 a 10.\n",
    "2. Imprima a lista resultante.\n",
    "\n"
   ]
  },
  {
   "cell_type": "code",
   "execution_count": 15,
   "metadata": {},
   "outputs": [
    {
     "name": "stdout",
     "output_type": "stream",
     "text": [
      "[1, 4, 9, 16, 25, 36, 49, 64, 81, 100]\n"
     ]
    }
   ],
   "source": [
    "numeros_quadrados = [num **2 for num in range(1,11)]\n",
    "print(numeros_quadrados) "
   ]
  }
 ],
 "metadata": {
  "kernelspec": {
   "display_name": "Python 3",
   "language": "python",
   "name": "python3"
  },
  "language_info": {
   "codemirror_mode": {
    "name": "ipython",
    "version": 3
   },
   "file_extension": ".py",
   "mimetype": "text/x-python",
   "name": "python",
   "nbconvert_exporter": "python",
   "pygments_lexer": "ipython3",
   "version": "3.11.9"
  }
 },
 "nbformat": 4,
 "nbformat_minor": 2
}
