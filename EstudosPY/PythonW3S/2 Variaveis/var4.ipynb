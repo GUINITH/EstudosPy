{
 "cells": [
  {
   "cell_type": "markdown",
   "metadata": {},
   "source": [
    "# Python - Variáveis de Saída \n",
    "\n",
    "### Variáveis de saída \n",
    "\n",
    "A função Python ``print()`` é frequentemente usada para gerar variáveis. \n",
    "\n",
    "##### Exemplo: "
   ]
  },
  {
   "cell_type": "code",
   "execution_count": 1,
   "metadata": {},
   "outputs": [
    {
     "name": "stdout",
     "output_type": "stream",
     "text": [
      "Python é brabo\n"
     ]
    }
   ],
   "source": [
    "my_var = 'Python é brabo'\n",
    "print(my_var)"
   ]
  },
  {
   "cell_type": "markdown",
   "metadata": {},
   "source": [
    "Na ``print()`` função, você gera múltiplas variáveis, separadas por vírgula: \n",
    "##### Exemplo "
   ]
  },
  {
   "cell_type": "code",
   "execution_count": 2,
   "metadata": {},
   "outputs": [
    {
     "name": "stdout",
     "output_type": "stream",
     "text": [
      "Python é Brabo\n"
     ]
    }
   ],
   "source": [
    "v1 = 'Python'\n",
    "v2 = 'é'\n",
    "v3 = 'Brabo'\n",
    "print(v1,v2,v3)"
   ]
  },
  {
   "cell_type": "markdown",
   "metadata": {},
   "source": [
    "Você também pode usar o `+` operador para gerar múltiplas variáveis: \n"
   ]
  },
  {
   "cell_type": "code",
   "execution_count": 3,
   "metadata": {},
   "outputs": [
    {
     "name": "stdout",
     "output_type": "stream",
     "text": [
      "Python is awesome\n"
     ]
    }
   ],
   "source": [
    "x = \"Python \"\n",
    "y = \"is \"\n",
    "z = \"awesome\"\n",
    "print(x + y + z)"
   ]
  },
  {
   "cell_type": "markdown",
   "metadata": {},
   "source": [
    "Observe o caractere de espaço depois de \"Python \"e \"is \", sem eles o resultado seria \"Pythonisawesome\"."
   ]
  },
  {
   "cell_type": "markdown",
   "metadata": {},
   "source": [
    "Para números, o `+` caractere funciona como um operador matemático: \n",
    "\n",
    "##### Exemplo: \n"
   ]
  },
  {
   "cell_type": "code",
   "execution_count": 4,
   "metadata": {},
   "outputs": [
    {
     "name": "stdout",
     "output_type": "stream",
     "text": [
      "15\n"
     ]
    }
   ],
   "source": [
    "x = 5\n",
    "y = 10\n",
    "print(x + y)"
   ]
  },
  {
   "cell_type": "markdown",
   "metadata": {},
   "source": [
    "Na print()função, ao tentar combinar uma string e um número com o + operador, o Python apresentará um erro: \n",
    "\n",
    "##### Exemplo: \n",
    "\n",
    "`x = 5`\n",
    "`y = \"John\"`\n",
    "`print(x + y)`\n",
    "\n",
    "- Se você executar vai dar erro, no Python você não consegue atribuir uma string com Int, para isso precisa fazer um casting no número, trasformando ele em string, por exemplo: \n",
    "\n",
    "`x = str(5)`\n",
    "`y = \"John\"`\n",
    "`print(x + y)`"
   ]
  },
  {
   "cell_type": "code",
   "execution_count": 6,
   "metadata": {},
   "outputs": [
    {
     "name": "stdout",
     "output_type": "stream",
     "text": [
      "5John\n"
     ]
    }
   ],
   "source": [
    "# string \n",
    "x = str(5)\n",
    "y = \"John\"\n",
    "print(x + y)"
   ]
  },
  {
   "cell_type": "markdown",
   "metadata": {},
   "source": [
    "Para passar uma string em número, devemos utilizar a função ``len()``\n",
    "ela é uma função que conta caracter por caracter e retorna o valor\n",
    " Em um número, com o número podemos fazer o casting para ``int()``"
   ]
  },
  {
   "cell_type": "code",
   "execution_count": 8,
   "metadata": {},
   "outputs": [
    {
     "name": "stdout",
     "output_type": "stream",
     "text": [
      "9\n"
     ]
    }
   ],
   "source": [
    "# int\n",
    "x = 5\n",
    "y = int(len(\"John\"))\n",
    "print(x + y)"
   ]
  },
  {
   "cell_type": "markdown",
   "metadata": {},
   "source": [
    "Tem uma maneira de gerar multiplas variáveis na print() function, é separá-las com vírgulas, que suportam até mesmo diferentes tipos de dados: \n",
    "\n",
    "##### Exemplo: "
   ]
  },
  {
   "cell_type": "code",
   "execution_count": 9,
   "metadata": {},
   "outputs": [
    {
     "name": "stdout",
     "output_type": "stream",
     "text": [
      "5 Rafa\n"
     ]
    }
   ],
   "source": [
    "x = 5\n",
    "y = 'Rafa'\n",
    "print(x, y)"
   ]
  }
 ],
 "metadata": {
  "kernelspec": {
   "display_name": "Python 3",
   "language": "python",
   "name": "python3"
  },
  "language_info": {
   "codemirror_mode": {
    "name": "ipython",
    "version": 3
   },
   "file_extension": ".py",
   "mimetype": "text/x-python",
   "name": "python",
   "nbconvert_exporter": "python",
   "pygments_lexer": "ipython3",
   "version": "3.11.9"
  }
 },
 "nbformat": 4,
 "nbformat_minor": 2
}
