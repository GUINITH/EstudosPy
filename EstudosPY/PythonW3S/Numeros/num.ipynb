{
 "cells": [
  {
   "cell_type": "markdown",
   "metadata": {},
   "source": [
    "# Números Python \n",
    "\n",
    "Existem três tipos numéricos em Python:\n",
    "\n",
    "- int\n",
    "- float\n",
    "- complex \n",
    "\n",
    "Variáveis de tipos numéricos são criadas quando você atribuir um valor a elas: \n",
    "\n",
    "#### Exemplo\n"
   ]
  },
  {
   "cell_type": "code",
   "execution_count": 1,
   "metadata": {},
   "outputs": [],
   "source": [
    "x = 1 # int \n",
    "y = 2.8 # float \n",
    "z = 1j # complex "
   ]
  },
  {
   "cell_type": "markdown",
   "metadata": {},
   "source": [
    "Para verificar o tipo de qualquer objeto em Python, use a função ``type()``:\n",
    "\n"
   ]
  },
  {
   "cell_type": "code",
   "execution_count": 2,
   "metadata": {},
   "outputs": [
    {
     "name": "stdout",
     "output_type": "stream",
     "text": [
      "<class 'int'>\n",
      "<class 'float'>\n",
      "<class 'complex'>\n"
     ]
    }
   ],
   "source": [
    "print(type(x))\n",
    "print(type(y))\n",
    "print(type(z))"
   ]
  },
  {
   "cell_type": "markdown",
   "metadata": {},
   "source": [
    "# Inteiro \n",
    "\n",
    "Int, ou inteiro, é um número inteiro, positivo ou negativo, sem decimais, de comprimento ilimitado. \n",
    "\n",
    "#### Exemplo \n",
    "\n",
    "Inteiros `int`:"
   ]
  },
  {
   "cell_type": "code",
   "execution_count": 3,
   "metadata": {},
   "outputs": [
    {
     "name": "stdout",
     "output_type": "stream",
     "text": [
      "<class 'int'>\n",
      "<class 'int'>\n",
      "<class 'int'>\n"
     ]
    }
   ],
   "source": [
    "my_var1 = 1\n",
    "my_var2 = 3\n",
    "my_var3 = 5\n",
    "\n",
    "print(type(my_var1))\n",
    "print(type(my_var2))\n",
    "print(type(my_var3))"
   ]
  },
  {
   "cell_type": "markdown",
   "metadata": {},
   "source": [
    "# Flutuante: Float\n",
    "\n",
    "Float, ou \"número de ponto flutuante\" é um número, positivo ou negativo, contendo uma ou mais casas decimais.\n",
    "\n",
    "#### Exemplo\n",
    "Flutuadores:\n"
   ]
  },
  {
   "cell_type": "code",
   "execution_count": 4,
   "metadata": {},
   "outputs": [
    {
     "name": "stdout",
     "output_type": "stream",
     "text": [
      "<class 'float'>\n",
      "<class 'float'>\n",
      "<class 'float'>\n"
     ]
    }
   ],
   "source": [
    "x = 1.10\n",
    "y = 1.0\n",
    "z = -35.59\n",
    "\n",
    "print(type(x))\n",
    "print(type(y))\n",
    "print(type(z))"
   ]
  },
  {
   "cell_type": "markdown",
   "metadata": {},
   "source": [
    "Float também podem ser números científicos com um “e” para indicar a potência de 10.\n",
    "\n",
    "#### Exemplo\n",
    "\n",
    "Flutuadores: \n",
    "\n"
   ]
  }
 ],
 "metadata": {
  "kernelspec": {
   "display_name": "Python 3",
   "language": "python",
   "name": "python3"
  },
  "language_info": {
   "codemirror_mode": {
    "name": "ipython",
    "version": 3
   },
   "file_extension": ".py",
   "mimetype": "text/x-python",
   "name": "python",
   "nbconvert_exporter": "python",
   "pygments_lexer": "ipython3",
   "version": "3.11.9"
  }
 },
 "nbformat": 4,
 "nbformat_minor": 2
}
