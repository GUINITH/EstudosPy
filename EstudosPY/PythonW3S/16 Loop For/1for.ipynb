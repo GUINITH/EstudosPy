{
 "cells": [
  {
   "cell_type": "markdown",
   "metadata": {},
   "source": [
    "## For loops \n",
    "\n",
    "## Para(for) loops \n",
    "\n",
    "Um loop `for` é usado para iterar uma sequência(que é uma lista, uma tupla, um dicionário, um conjunto ou uma string). \n",
    "\n",
    "Isso é menos parecido com a palavra-chave `for` em outras linguagens de programação e funciona mais como um método iterador encontrado em outras linguagens  de programação orientaas a objetos. \n",
    "\n",
    "Com o loop for podemos executar um conjunto de instruções, uma vez pára cada item de uma lista, tupla, conjunto etc. \n",
    "\n",
    "Imprima cada fruta em uma lista de frutas:"
   ]
  },
  {
   "cell_type": "code",
   "execution_count": 2,
   "metadata": {},
   "outputs": [
    {
     "name": "stdout",
     "output_type": "stream",
     "text": [
      "maçã\n",
      "banana\n",
      "abacaxi\n"
     ]
    }
   ],
   "source": [
    "frutas = ['maçã', 'banana', 'abacaxi']\n",
    "for i in frutas:\n",
    "    print(i)\n"
   ]
  },
  {
   "cell_type": "markdown",
   "metadata": {},
   "source": [
    "O loop for não requer que uma variável de indexação seja definida antecipadamente."
   ]
  },
  {
   "cell_type": "markdown",
   "metadata": {},
   "source": [
    "## Loop através de uma string\n",
    "\n",
    "Mesmo as strings são objetos iteráveis, elas contêm uma sequência de caracteres: \n",
    "\n",
    "Percorra as letras da palavra \"banana\":"
   ]
  },
  {
   "cell_type": "code",
   "execution_count": 3,
   "metadata": {},
   "outputs": [
    {
     "name": "stdout",
     "output_type": "stream",
     "text": [
      "b\n",
      "a\n",
      "n\n",
      "a\n",
      "n\n",
      "a\n"
     ]
    }
   ],
   "source": [
    "for letra in 'banana':\n",
    "    print(letra)"
   ]
  },
  {
   "cell_type": "markdown",
   "metadata": {},
   "source": [
    "## Pecorrendo tuplas: \n"
   ]
  },
  {
   "cell_type": "code",
   "execution_count": 4,
   "metadata": {},
   "outputs": [
    {
     "name": "stdout",
     "output_type": "stream",
     "text": [
      "1\n",
      "2\n",
      "3\n",
      "4\n",
      "5\n",
      "6\n",
      "7\n",
      "8\n"
     ]
    }
   ],
   "source": [
    "tupla = (1,2,3,4,5,6,7,8)\n",
    "for num in tupla:\n",
    "    print(num)"
   ]
  },
  {
   "cell_type": "markdown",
   "metadata": {},
   "source": [
    "## Pecorrendo dicionários"
   ]
  },
  {
   "cell_type": "code",
   "execution_count": 9,
   "metadata": {},
   "outputs": [
    {
     "name": "stdout",
     "output_type": "stream",
     "text": [
      "clube1 Flamengo\n",
      "clube2 Vasco\n",
      "clube3 Fluminense\n",
      "Clube4 Botafogo\n"
     ]
    }
   ],
   "source": [
    "times  = {\n",
    "    'clube1': 'Flamengo',\n",
    "    'clube2': 'Vasco',\n",
    "    'clube3': 'Fluminense', \n",
    "    'Clube4': 'Botafogo'\n",
    "}\n",
    "\n",
    "for clube, nome in times.items():\n",
    "    print(clube, nome) "
   ]
  },
  {
   "cell_type": "markdown",
   "metadata": {},
   "source": [
    "## Pecorrendo sets: \n",
    "\n"
   ]
  },
  {
   "cell_type": "code",
   "execution_count": 10,
   "metadata": {},
   "outputs": [
    {
     "name": "stdout",
     "output_type": "stream",
     "text": [
      "1\n",
      "2\n",
      "3\n",
      "4\n",
      "5\n",
      "6\n"
     ]
    }
   ],
   "source": [
    "set_num = {1,2,3,4,5,6}\n",
    "for num in set_num:\n",
    "    print(num)"
   ]
  },
  {
   "cell_type": "markdown",
   "metadata": {},
   "source": [
    "## Declaração de ruptura \n",
    "\n",
    "Com a instrução break podemos parar o loop antes que ele percorrar todos os itens: \n",
    "\n",
    "Sair do loop quando x for 8: \n"
   ]
  },
  {
   "cell_type": "code",
   "execution_count": 14,
   "metadata": {},
   "outputs": [
    {
     "name": "stdout",
     "output_type": "stream",
     "text": [
      "1\n",
      "2\n",
      "3\n",
      "4\n",
      "5\n",
      "6\n",
      "7\n",
      "8\n"
     ]
    }
   ],
   "source": [
    "numeros = list(range(1,11))\n",
    "for num in numeros: \n",
    "    print(num)\n",
    "    if num == 8:\n",
    "        break\n"
   ]
  },
  {
   "cell_type": "markdown",
   "metadata": {},
   "source": [
    "Sai do loop quando num for 8, mas dessa vez o break vem antes do print:"
   ]
  },
  {
   "cell_type": "code",
   "execution_count": 15,
   "metadata": {},
   "outputs": [
    {
     "name": "stdout",
     "output_type": "stream",
     "text": [
      "1\n",
      "2\n",
      "3\n",
      "4\n",
      "5\n",
      "6\n",
      "7\n"
     ]
    }
   ],
   "source": [
    "numeros = list(range(1,11))\n",
    "for num in numeros: \n",
    "    if num == 8:\n",
    "        break\n",
    "    print(num)"
   ]
  },
  {
   "cell_type": "markdown",
   "metadata": {},
   "source": [
    "## A declaração de continuação \n",
    "\n",
    "Com a instrução `continue` podemos parar a iteração atual do loop e continuar com a próxima: \n",
    "\n"
   ]
  },
  {
   "cell_type": "code",
   "execution_count": 16,
   "metadata": {},
   "outputs": [
    {
     "name": "stdout",
     "output_type": "stream",
     "text": [
      "1\n",
      "2\n",
      "3\n",
      "4\n",
      "5\n",
      "7\n",
      "8\n",
      "9\n",
      "10\n"
     ]
    }
   ],
   "source": [
    "numeros = list(range(1,11)) \n",
    "for num in numeros: \n",
    "    if num == 6:\n",
    "        continue \n",
    "    print(num)"
   ]
  },
  {
   "cell_type": "markdown",
   "metadata": {},
   "source": [
    "# A função range()\n",
    "\n",
    "Para percorrer um conjunto de códigos um determinado número de vezes, podemos usar a função ``range() ,``\n",
    "\n",
    "A função ``range()`` retorna uma sequência de números, começando em 0 por padrão, e incrementando em 1 (por padrão), e termina em um número especificado."
   ]
  },
  {
   "cell_type": "code",
   "execution_count": 17,
   "metadata": {},
   "outputs": [
    {
     "name": "stdout",
     "output_type": "stream",
     "text": [
      "0\n",
      "1\n",
      "2\n",
      "3\n",
      "4\n",
      "5\n",
      "6\n",
      "7\n",
      "8\n",
      "9\n",
      "10\n"
     ]
    }
   ],
   "source": [
    "for i in range(11):\n",
    "    print(i)"
   ]
  },
  {
   "cell_type": "markdown",
   "metadata": {},
   "source": [
    "Observe que ``range(11)`` não são os valores de 0 a 11, mas os valores de 0 a 10. \n",
    "\n",
    "A função range() tem como padrão 0 como valor inicial, porém é possível especificar o valor inicial adicionando um parâmetro: range(2, 6) , que significa valores de 2 a 6 (mas não incluindo 6):\n",
    "\n",
    "\n",
    "Usando o parâmetro start: "
   ]
  },
  {
   "cell_type": "code",
   "execution_count": 18,
   "metadata": {},
   "outputs": [
    {
     "name": "stdout",
     "output_type": "stream",
     "text": [
      "2\n",
      "3\n",
      "4\n",
      "5\n"
     ]
    }
   ],
   "source": [
    "for x in range(2, 6):\n",
    "  print(x)"
   ]
  },
  {
   "cell_type": "markdown",
   "metadata": {},
   "source": [
    "A função ``range()`` tem como padrão incrementar a sequência em 1, porém é possível especificar o valor do incremento adicionando um terceiro parâmetro: ``range(2, 30, 3 )`` :\n",
    "\n",
    "Aumente a sequência com 3 (o padrão é 1):"
   ]
  },
  {
   "cell_type": "code",
   "execution_count": 19,
   "metadata": {},
   "outputs": [
    {
     "name": "stdout",
     "output_type": "stream",
     "text": [
      "2\n",
      "5\n",
      "8\n",
      "11\n",
      "14\n",
      "17\n",
      "20\n",
      "23\n",
      "26\n",
      "29\n"
     ]
    }
   ],
   "source": [
    "for x in range(2, 30, 3):\n",
    "  print(x)"
   ]
  },
  {
   "cell_type": "markdown",
   "metadata": {},
   "source": [
    "## Mais em For Loop \n",
    "\n",
    "A palavra-chave `else` em um `for` loop especificado um bloco de código a ser executado quando o loop terminar: \n",
    "\n",
    "\n",
    "Imprima todos os números de 0 a 5 e imprima uma mensagem quando o loop terminar:"
   ]
  },
  {
   "cell_type": "code",
   "execution_count": 20,
   "metadata": {},
   "outputs": [
    {
     "name": "stdout",
     "output_type": "stream",
     "text": [
      "0\n",
      "1\n",
      "2\n",
      "3\n",
      "4\n",
      "fim da execução\n"
     ]
    }
   ],
   "source": [
    "for num in range(5):\n",
    "    print(num)\n",
    "else:\n",
    "    print('fim da execução')"
   ]
  },
  {
   "cell_type": "markdown",
   "metadata": {},
   "source": [
    " O bloco do `else` NÃO será executado se o loop for interrompido por uma instrução break.\n",
    "\n",
    " Quebre o loop quando xfor 3 e veja o que acontece com o elsebloco:"
   ]
  },
  {
   "cell_type": "code",
   "execution_count": 23,
   "metadata": {},
   "outputs": [
    {
     "name": "stdout",
     "output_type": "stream",
     "text": [
      "0\n",
      "1\n",
      "2\n"
     ]
    }
   ],
   "source": [
    "for x in range(6):\n",
    "  if x == 3: break\n",
    "  print(x)\n",
    "else:\n",
    "  print(\"Fim da instrução\")"
   ]
  },
  {
   "cell_type": "markdown",
   "metadata": {},
   "source": [
    "## Loops aninhados\n",
    "\n",
    "Um loop aninhado é um loop dentro de um loop.\n",
    "\n",
    "O \"loop interno\" será executado uma vez para cada iteração do \"loop externo\":\n",
    "\n",
    "Imprima cada adjetivo para cada fruta:"
   ]
  },
  {
   "cell_type": "code",
   "execution_count": 24,
   "metadata": {},
   "outputs": [
    {
     "name": "stdout",
     "output_type": "stream",
     "text": [
      "red apple\n",
      "red banana\n",
      "red cherry\n",
      "big apple\n",
      "big banana\n",
      "big cherry\n",
      "tasty apple\n",
      "tasty banana\n",
      "tasty cherry\n"
     ]
    }
   ],
   "source": [
    "adj = [\"red\", \"big\", \"tasty\"]\n",
    "fruits = [\"apple\", \"banana\", \"cherry\"]\n",
    "\n",
    "for x in adj:\n",
    "  for y in fruits:\n",
    "    print(x, y)"
   ]
  },
  {
   "cell_type": "markdown",
   "metadata": {},
   "source": [
    "## A declaração de aprovação\n",
    "\n",
    "``for`` os loops não podem estar vazios, mas se por algum motivo você tiver um ``for`` loop sem conteúdo, coloque a instrução `pass` para evitar erro."
   ]
  },
  {
   "cell_type": "code",
   "execution_count": 25,
   "metadata": {},
   "outputs": [],
   "source": [
    "for x in [0,1,2,3]: \n",
    "    pass"
   ]
  }
 ],
 "metadata": {
  "kernelspec": {
   "display_name": "Python 3",
   "language": "python",
   "name": "python3"
  },
  "language_info": {
   "codemirror_mode": {
    "name": "ipython",
    "version": 3
   },
   "file_extension": ".py",
   "mimetype": "text/x-python",
   "name": "python",
   "nbconvert_exporter": "python",
   "pygments_lexer": "ipython3",
   "version": "3.11.9"
  }
 },
 "nbformat": 4,
 "nbformat_minor": 2
}
