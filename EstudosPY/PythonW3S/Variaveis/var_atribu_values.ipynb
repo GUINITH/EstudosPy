{
 "cells": [
  {
   "cell_type": "markdown",
   "metadata": {},
   "source": [
    "# Variáveis Python - Atribuir vários valores \n",
    "\n"
   ]
  }
 ],
 "metadata": {
  "language_info": {
   "name": "python"
  }
 },
 "nbformat": 4,
 "nbformat_minor": 2
}
