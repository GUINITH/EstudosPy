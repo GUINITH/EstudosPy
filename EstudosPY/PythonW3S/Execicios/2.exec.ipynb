{
 "cells": [
  {
   "cell_type": "markdown",
   "metadata": {},
   "source": [
    "Claro, aqui estão alguns exercícios para você praticar com conjuntos (sets) em Python:\n",
    "\n",
    "### Exercício 1: Criação e Acesso Básico\n",
    "1. Crie um conjunto chamado `frutas` contendo as seguintes frutas: \"maçã\", \"banana\", \"cereja\".\n",
    "2. Imprima o conjunto completo.\n",
    "3. Adicione a fruta \"laranja\" ao conjunto.\n",
    "4. Remova a fruta \"banana\" do conjunto.\n",
    "5. Verifique se a fruta \"maçã\" está no conjunto e imprima o resultado.\n",
    "\n"
   ]
  },
  {
   "cell_type": "code",
   "execution_count": null,
   "metadata": {},
   "outputs": [],
   "source": []
  },
  {
   "cell_type": "markdown",
   "metadata": {},
   "source": [
    "### Exercício 2: Operações de Conjuntos\n",
    "1. Crie dois conjuntos: `A` contendo os números 1, 2, 3, 4, 5 e `B` contendo os números 4, 5, 6, 7, 8.\n",
    "2. Imprima a união dos conjuntos `A` e `B`.\n",
    "3. Imprima a interseção dos conjuntos `A` e `B`.\n",
    "4. Imprima a diferença entre os conjuntos `A` e `B` (elementos que estão em `A` mas não em `B`).\n",
    "5. Imprima a diferença simétrica entre os conjuntos `A` e `B` (elementos que estão em `A` ou `B`, mas não em ambos)."
   ]
  },
  {
   "cell_type": "code",
   "execution_count": null,
   "metadata": {},
   "outputs": [],
   "source": []
  },
  {
   "cell_type": "markdown",
   "metadata": {},
   "source": [
    "### Exercício 3: Métodos de Conjuntos\n",
    "1. Crie um conjunto chamado `numeros` contendo os números de 1 a 5.\n",
    "2. Use o método `add` para adicionar o número 6 ao conjunto.\n",
    "3. Use o método `discard` para remover o número 2 do conjunto.\n",
    "4. Use o método `pop` para remover e imprimir um elemento arbitrário do conjunto.\n",
    "5. Use o método `clear` para limpar o conjunto."
   ]
  },
  {
   "cell_type": "code",
   "execution_count": null,
   "metadata": {},
   "outputs": [],
   "source": []
  },
  {
   "cell_type": "markdown",
   "metadata": {},
   "source": [
    "### Exercício 4: Subconjuntos e Superconjuntos\n",
    "1. Crie dois conjuntos: `X` contendo os números 1, 2, 3 e `Y` contendo os números 1, 2, 3, 4, 5.\n",
    "2. Verifique se `X` é um subconjunto de `Y` e imprima o resultado.\n",
    "3. Verifique se `Y` é um superconjunto de `X` e imprima o resultado.\n"
   ]
  },
  {
   "cell_type": "code",
   "execution_count": null,
   "metadata": {},
   "outputs": [],
   "source": []
  },
  {
   "cell_type": "markdown",
   "metadata": {},
   "source": [
    "\n",
    "### Exercício 5: Compreensão de Conjuntos\n",
    "1. Crie uma lista chamada `numeros` contendo os números de 1 a 10.\n",
    "2. Use a compreensão de conjuntos para criar um conjunto `pares` contendo apenas os números pares da lista `numeros`.\n",
    "3. Imprima o conjunto `pares`."
   ]
  },
  {
   "cell_type": "code",
   "execution_count": null,
   "metadata": {},
   "outputs": [],
   "source": []
  },
  {
   "cell_type": "markdown",
   "metadata": {},
   "source": [
    "### Exercício 6: Removendo Duplicatas\n",
    "1. Crie uma lista chamada `valores` contendo os números [1, 2, 2, 3, 4, 4, 5].\n",
    "2. Converta a lista `valores` em um conjunto para remover duplicatas.\n",
    "3. Converta o conjunto de volta para uma lista chamada `valores_unicos`.\n",
    "4. Imprima a lista `valores_unicos`."
   ]
  },
  {
   "cell_type": "markdown",
   "metadata": {},
   "source": [
    "\n",
    "### Exercício 7: Conjuntos Imutáveis (frozenset)\n",
    "1. Crie um conjunto imutável chamado `conjunto_imutavel` contendo as letras \"a\", \"b\", \"c\".\n",
    "2. Tente adicionar a letra \"d\" ao `conjunto_imutavel` e observe o que acontece (comentando no código).\n",
    "3. Explique em um comentário por que a operação não é permitida."
   ]
  },
  {
   "cell_type": "markdown",
   "metadata": {},
   "source": []
  },
  {
   "cell_type": "markdown",
   "metadata": {},
   "source": [
    "### Exercício 8: Conjuntos de Conjuntos\n",
    "1. Crie um conjunto chamado `conjunto_principal`.\n",
    "2. Adicione dois conjuntos imutáveis: um contendo os números 1, 2, 3 e outro contendo os números 4, 5, 6, ao `conjunto_principal`.\n",
    "3. Imprima o `conjunto_principal`."
   ]
  },
  {
   "cell_type": "code",
   "execution_count": null,
   "metadata": {},
   "outputs": [],
   "source": []
  },
  {
   "cell_type": "markdown",
   "metadata": {},
   "source": [
    "\n",
    "### Exercício 9: Contagem de Elementos\n",
    "1. Crie um conjunto chamado `caracteres` contendo as letras da palavra \"abracadabra\".\n",
    "2. Imprima o número de elementos únicos no conjunto `caracteres`."
   ]
  },
  {
   "cell_type": "code",
   "execution_count": null,
   "metadata": {},
   "outputs": [],
   "source": []
  },
  {
   "cell_type": "markdown",
   "metadata": {},
   "source": [
    "### Exercício 10: Diferença Entre Conjuntos\n",
    "1. Crie dois conjuntos: `set1` contendo as letras \"a\", \"b\", \"c\", \"d\" e `set2` contendo as letras \"c\", \"d\", \"e\", \"f\".\n",
    "2. Imprima os elementos que estão em `set1` mas não estão em `set2`.\n",
    "3. Imprima os elementos que estão em `set2` mas não estão em `set1`."
   ]
  },
  {
   "cell_type": "code",
   "execution_count": null,
   "metadata": {},
   "outputs": [],
   "source": []
  }
 ],
 "metadata": {
  "language_info": {
   "name": "python"
  }
 },
 "nbformat": 4,
 "nbformat_minor": 2
}
