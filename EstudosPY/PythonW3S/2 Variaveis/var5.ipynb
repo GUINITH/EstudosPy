{
 "cells": [
  {
   "cell_type": "markdown",
   "metadata": {},
   "source": [
    "# Python - Variáveis ​​Globais\n",
    "\n",
    "### Variáveis ​​globais\n",
    "\n",
    "Variáveis ​​criadas fora de uma função (como em todos os exemplos acima) são conhecidas como variáveis ​​globais.\n",
    "\n",
    "Variáveis ​​globais podem ser usadas por qualquer pessoa, tanto dentro quanto fora das funções.\n",
    "\n",
    "##### Exemplo: \n",
    "Crie uma variável fora de uma função e use-a dentro da função\n"
   ]
  },
  {
   "cell_type": "code",
   "execution_count": 1,
   "metadata": {},
   "outputs": [
    {
     "name": "stdout",
     "output_type": "stream",
     "text": [
      "Python é Brabo\n"
     ]
    }
   ],
   "source": [
    "x = \"Brabo\"\n",
    "\n",
    "def myfunc():\n",
    "  print(\"Python é \" + x)\n",
    "\n",
    "myfunc()"
   ]
  },
  {
   "cell_type": "markdown",
   "metadata": {},
   "source": [
    "Se você criar uma variável com o mesmo nome dentro de uma função, esta variável será local e só poderá ser usada dentro da função. A variável global com o mesmo nome permanecerá como estava, global e com o valor original.\n",
    "\n",
    "##### Exemplo: \n",
    "\n",
    "Crie uma variável dentro de uma função, com o mesmo nome da variável global"
   ]
  },
  {
   "cell_type": "code",
   "execution_count": 2,
   "metadata": {},
   "outputs": [
    {
     "name": "stdout",
     "output_type": "stream",
     "text": [
      "Python is fantastic\n",
      "Python is awesome\n"
     ]
    }
   ],
   "source": [
    "x = \"awesome\"\n",
    "\n",
    "def myfunc():\n",
    "  x = \"fantastic\"\n",
    "  print(\"Python is \" + x)\n",
    "\n",
    "myfunc()\n",
    "\n",
    "print(\"Python is \" + x)"
   ]
  },
  {
   "cell_type": "markdown",
   "metadata": {},
   "source": [
    "#  A palavra-chave global \n",
    "\n",
    "Normalmente, quando você cria uma variável dentro de uma função, essa variável é local e só pode ser usada dentro dessa função.\n",
    "\n",
    "Para criar uma variável global dentro de uma função, você pode usar a ``global`` palavra-chave.\n",
    "\n",
    "##### Exemplo \n",
    "\n",
    "Se você usar a``global`` palavra-chave, a variável pertence ao escopo global:"
   ]
  },
  {
   "cell_type": "code",
   "execution_count": 3,
   "metadata": {},
   "outputs": [
    {
     "name": "stdout",
     "output_type": "stream",
     "text": [
      "Python is fantastic\n"
     ]
    }
   ],
   "source": [
    "def myfunc():\n",
    "  global x\n",
    "  x = \"fantastic\"\n",
    "\n",
    "myfunc()\n",
    "\n",
    "print(\"Python is \" + x)"
   ]
  },
  {
   "cell_type": "markdown",
   "metadata": {},
   "source": [
    "Além disso, use a globalpalavra-chave se quiser alterar uma variável global dentro de uma função.\n",
    "\n",
    "##### Exemplo \n",
    "\n",
    "Para alterar o valor de uma variável global dentro de uma função, consulte a variável usando a globalpalavra-chave:\n"
   ]
  },
  {
   "cell_type": "code",
   "execution_count": 4,
   "metadata": {},
   "outputs": [
    {
     "name": "stdout",
     "output_type": "stream",
     "text": [
      "Python is fantastic\n"
     ]
    }
   ],
   "source": [
    "x = \"awesome\"\n",
    "\n",
    "def myfunc():\n",
    "  global x\n",
    "  x = \"fantastic\"\n",
    "\n",
    "myfunc()\n",
    "\n",
    "print(\"Python is \" + x)"
   ]
  }
 ],
 "metadata": {
  "kernelspec": {
   "display_name": "Python 3",
   "language": "python",
   "name": "python3"
  },
  "language_info": {
   "codemirror_mode": {
    "name": "ipython",
    "version": 3
   },
   "file_extension": ".py",
   "mimetype": "text/x-python",
   "name": "python",
   "nbconvert_exporter": "python",
   "pygments_lexer": "ipython3",
   "version": "3.11.9"
  }
 },
 "nbformat": 4,
 "nbformat_minor": 2
}
