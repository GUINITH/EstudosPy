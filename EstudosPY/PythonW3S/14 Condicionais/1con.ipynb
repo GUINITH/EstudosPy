{
 "cells": [
  {
   "cell_type": "markdown",
   "metadata": {},
   "source": [
    "# Condicionais Python (if, elif, else)\n",
    "\n",
    "## Condições Lógicas Python e instruções If\n",
    "\n",
    "Python suporta as condições lógicas usuais da matemática:\n",
    "\n",
    "- igual a: `a == b`\n",
    "- Diferente de: `a !=b`\n",
    "- Menor que: `a < b`\n",
    "- Menor ou igual: `a<=`\n",
    "- Maior que: `a>b`\n",
    "- Maior ou igual: `a>=b` \n",
    "\n",
    "Essas condições podem ser usadas de diversas maneiras, mais comumente em 'instruções if' e loops 'while e for'. \n",
    "\n",
    "Uma 'instrução if' é escrita usando a palavra-chave if. \n",
    "\n",
    "\n",
    "\n"
   ]
  },
  {
   "cell_type": "code",
   "execution_count": 3,
   "metadata": {},
   "outputs": [
    {
     "name": "stdout",
     "output_type": "stream",
     "text": [
      "b é maior que a\n"
     ]
    }
   ],
   "source": [
    "a = 33 \n",
    "b = 200 \n",
    "if b > a: \n",
    "    print('b é maior que a')"
   ]
  },
  {
   "cell_type": "markdown",
   "metadata": {},
   "source": [
    "Neste exemplo usamos duas variáveis, `a` e `b`, que estão usadas como parte da instruição if para testar se `b` é maior que `a`. Como `a` é `33` e `b` é `200`, sabemos que 200 é maior que 33 e então imprimimos na tela que `b é maior que a`. \n",
    "\n",
    "## Indentação \n",
    "\n",
    "Python depende de indentação(espaço em branco no início de uma linha) para definir o escopo no código. Outras linguagens de programação costumam usar colchetes para essa finalidade. \n",
    "\n"
   ]
  },
  {
   "cell_type": "code",
   "execution_count": null,
   "metadata": {},
   "outputs": [],
   "source": [
    "# Instrução If, sem recuo (irá gerar um erro):\n",
    "\n",
    "a = 33\n",
    "b = 200\n",
    "if b > a:\n",
    "print(\"b is greater than a\")"
   ]
  },
  {
   "cell_type": "markdown",
   "metadata": {},
   "source": [
    "## Elif \n",
    "\n",
    "A palavra-chave `elif` é a maneira do Python dizer 'se as condições anteriores não eram verdadeiras, tente esta condição'. "
   ]
  },
  {
   "cell_type": "code",
   "execution_count": 5,
   "metadata": {},
   "outputs": [
    {
     "name": "stdout",
     "output_type": "stream",
     "text": [
      "a e b são iguais\n"
     ]
    }
   ],
   "source": [
    "a = 33 \n",
    "b = 33 \n",
    "if b > a: \n",
    "    print('b é maior que a')\n",
    "elif a == b:\n",
    "    print('a e b são iguais')\n",
    " \n"
   ]
  },
  {
   "cell_type": "markdown",
   "metadata": {},
   "source": [
    "Neste exemplo a é igual a b , então a primeira condição não é verdadeira, mas a condição elif é verdadeira, então imprimimos na tela que \"a e b são iguais\".\n",
    "\n",
    "## Else\n",
    "\n",
    "A palavra-chave `else` captura qualquer coisa que não seja capturada pelas condições anteriores. \n",
    "\n"
   ]
  },
  {
   "cell_type": "code",
   "execution_count": 6,
   "metadata": {},
   "outputs": [
    {
     "name": "stdout",
     "output_type": "stream",
     "text": [
      "a é maior que b\n"
     ]
    }
   ],
   "source": [
    "a = 200 \n",
    "b = 33 \n",
    "if b > a: \n",
    "    print('b é maior que a')\n",
    "elif a == b: \n",
    "    print('a e b são iguais')\n",
    "else: \n",
    "    print('a é maior que b')"
   ]
  },
  {
   "cell_type": "markdown",
   "metadata": {},
   "source": [
    "Neste exemplo a é maior que b , então a primeira condição não é verdadeira, também a condição elif não é verdadeira, então vamos para a condição else e imprimimos na tela que \"a é maior que b\".\n",
    "\n",
    "Você também pode ter um else sem elif:"
   ]
  },
  {
   "cell_type": "code",
   "execution_count": 7,
   "metadata": {},
   "outputs": [
    {
     "name": "stdout",
     "output_type": "stream",
     "text": [
      "a é maior que b\n"
     ]
    }
   ],
   "source": [
    "a = 200 \n",
    "b = 33 \n",
    "if b > a: \n",
    "    print('b é maior que a')\n",
    "else: \n",
    "    print('a é maior que b')"
   ]
  },
  {
   "cell_type": "markdown",
   "metadata": {},
   "source": [
    "# Abreviação de Condicional \n",
    "\n",
    "Se você tiver apenas uma instrução para executar, poderá colocá-la na mesma linha da instrução if.\n"
   ]
  },
  {
   "cell_type": "code",
   "execution_count": 8,
   "metadata": {},
   "outputs": [
    {
     "name": "stdout",
     "output_type": "stream",
     "text": [
      "a é maior que b\n"
     ]
    }
   ],
   "source": [
    "if a > b: print('a é maior que b')"
   ]
  },
  {
   "cell_type": "markdown",
   "metadata": {},
   "source": [
    "# Abreviação se...outro\n",
    "\n",
    "Se você tiver apenas uma instrução para executar, uma para if e outra para else, poderá colocar tudo na mesma linha:"
   ]
  },
  {
   "cell_type": "code",
   "execution_count": 9,
   "metadata": {},
   "outputs": [
    {
     "name": "stdout",
     "output_type": "stream",
     "text": [
      "B\n"
     ]
    }
   ],
   "source": [
    "a = 2\n",
    "b = 330\n",
    "print(\"A\") if a > b else print(\"B\")"
   ]
  },
  {
   "cell_type": "markdown",
   "metadata": {},
   "source": [
    "Esta técnica é conhecida como Operadores Ternários ou Expressões Condicionais .\n",
    "\n",
    "Você também pode ter várias instruções else na mesma linha:\n",
    "\n",
    "Instrução if else de uma linha, com 3 condições:"
   ]
  },
  {
   "cell_type": "code",
   "execution_count": 10,
   "metadata": {},
   "outputs": [
    {
     "name": "stdout",
     "output_type": "stream",
     "text": [
      "=\n"
     ]
    }
   ],
   "source": [
    "a = 330\n",
    "b = 330\n",
    "print(\"A\") if a > b else print(\"=\") if a == b else print(\"B\")"
   ]
  },
  {
   "cell_type": "markdown",
   "metadata": {},
   "source": [
    "## E(and)\n",
    "\n",
    "A palavra-chave and é um operador lógico e é usada para combinar instruções condicionais:\n",
    "\n",
    "Teste se afor maior que be se c for maior que a:"
   ]
  },
  {
   "cell_type": "code",
   "execution_count": 11,
   "metadata": {},
   "outputs": [
    {
     "name": "stdout",
     "output_type": "stream",
     "text": [
      "verdadeiro\n"
     ]
    }
   ],
   "source": [
    "a = 200\n",
    "b = 33\n",
    "c = 500\n",
    "if a > b and c > a:\n",
    "    print('verdadeiro')"
   ]
  },
  {
   "cell_type": "markdown",
   "metadata": {},
   "source": [
    "## Ou(or)\n",
    "A palavra-chave `or` é um operador lógico e é usada para combinar instruções condicionais:\n",
    "\n",
    "Teste se `a` for maior que `b`, OU se `a` for maior que `c`:"
   ]
  },
  {
   "cell_type": "code",
   "execution_count": 13,
   "metadata": {},
   "outputs": [
    {
     "name": "stdout",
     "output_type": "stream",
     "text": [
      "verdadeiro\n"
     ]
    }
   ],
   "source": [
    "a = 200\n",
    "b = 33\n",
    "c = 500\n",
    "if a > b or a > c:\n",
    "    print('verdadeiro')"
   ]
  },
  {
   "cell_type": "markdown",
   "metadata": {},
   "source": [
    "# Não not\n",
    "\n",
    "A palavra-chave not é um operadore lógico e é usado para reverter o resultado da introdução condicional: \n",
    "\n",
    "Teste se aNÃO é maior que b:"
   ]
  },
  {
   "cell_type": "code",
   "execution_count": null,
   "metadata": {},
   "outputs": [],
   "source": [
    "a = 33\n",
    "b = 200\n",
    "if not a > b:\n",
    "  print(\"a is NOT greater than b\")"
   ]
  },
  {
   "cell_type": "markdown",
   "metadata": {},
   "source": [
    "## Aninhado se\n",
    "\n",
    "Você pode ter ifinstruções dentro de ifinstruções, isso é chamado de instruções aninhadas if ."
   ]
  },
  {
   "cell_type": "code",
   "execution_count": 14,
   "metadata": {},
   "outputs": [
    {
     "name": "stdout",
     "output_type": "stream",
     "text": [
      "Above ten,\n",
      "and also above 20!\n"
     ]
    }
   ],
   "source": [
    "x = 41\n",
    "\n",
    "if x > 10:\n",
    "  print(\"Above ten,\")\n",
    "  if x > 20:\n",
    "    print(\"and also above 20!\")\n",
    "  else:\n",
    "    print(\"but not above 20.\")"
   ]
  },
  {
   "cell_type": "markdown",
   "metadata": {},
   "source": [
    "## A declaração de aprovação\n",
    "\n",
    "if as instruções não podem estar vazias, mas se por algum motivo você tiver uma ifinstrução sem conteúdo, coloque-a na passinstrução para evitar erros."
   ]
  },
  {
   "cell_type": "code",
   "execution_count": 16,
   "metadata": {},
   "outputs": [],
   "source": [
    "a = 33\n",
    "b = 200\n",
    "\n",
    "if b > a:\n",
    "  pass"
   ]
  }
 ],
 "metadata": {
  "kernelspec": {
   "display_name": "Python 3",
   "language": "python",
   "name": "python3"
  },
  "language_info": {
   "codemirror_mode": {
    "name": "ipython",
    "version": 3
   },
   "file_extension": ".py",
   "mimetype": "text/x-python",
   "name": "python",
   "nbconvert_exporter": "python",
   "pygments_lexer": "ipython3",
   "version": "3.11.9"
  }
 },
 "nbformat": 4,
 "nbformat_minor": 2
}
