{
 "cells": [
  {
   "cell_type": "markdown",
   "metadata": {},
   "source": [
    "# Acessando itens de uma tupla \n",
    "\n",
    "## Acessar itens de tupla \n",
    "\n",
    "#### Você pode acessar itens da tupla consultando o número do índice, entre colchetes: \n",
    "\n",
    "##### Exemplo: Imprima o segundo item da tupla:"
   ]
  },
  {
   "cell_type": "code",
   "execution_count": 2,
   "metadata": {},
   "outputs": [
    {
     "name": "stdout",
     "output_type": "stream",
     "text": [
      "Margarida!\n"
     ]
    }
   ],
   "source": [
    "tupla_txt=('Bom Dia','Margarida!')\n",
    "print(tupla_txt[1])"
   ]
  },
  {
   "cell_type": "markdown",
   "metadata": {},
   "source": [
    "Atenção:  O primeiro item possui o indice 0. \n",
    "\n",
    "## Indexação Negativa\n",
    "\n",
    "Indexação negativa significa começar do fim. \n",
    "\n",
    "-1 refere-se ao último item,  -2 refere-se ao penúltimo item etc. \n",
    "\n",
    "##### Exemplo: Imprima o último item da tupla: \n"
   ]
  },
  {
   "cell_type": "code",
   "execution_count": 6,
   "metadata": {},
   "outputs": [
    {
     "name": "stdout",
     "output_type": "stream",
     "text": [
      "Verde\n"
     ]
    }
   ],
   "source": [
    "cores = ('Azul', 'Amarelo', 'Verde')\n",
    "print(cores[-1])"
   ]
  },
  {
   "cell_type": "markdown",
   "metadata": {},
   "source": [
    "# Intervalo de índices Positivos\n",
    "\n",
    "Você pode especificar um intervalo de indices especificando onde começar e onde terminar o intervalo. \n",
    "\n",
    "Ao especificar um intervalo, o valor de retorno será uma nova tupla com os itens especificados. \n",
    "\n",
    "#### Retorne o terceiro, quarto e quinto item: \n",
    "\n"
   ]
  },
  {
   "cell_type": "code",
   "execution_count": 7,
   "metadata": {},
   "outputs": [
    {
     "name": "stdout",
     "output_type": "stream",
     "text": [
      "('Verde', 'Marrom', 'Preto')\n"
     ]
    }
   ],
   "source": [
    "cores = ('Azul', 'Amarelo', 'Verde', 'Marrom', 'Preto', 'Vermelho', 'Rosa')\n",
    "print(cores[2:5])"
   ]
  },
  {
   "cell_type": "markdown",
   "metadata": {},
   "source": [
    "#### Atenção: \n",
    "\n",
    "A pesquisa começará no indice 2(incluindo) e termina no indice 5(não incuindo). Lembre sempre que o primeiro item possui índice 0. \n",
    "\n",
    "Ao omitir o valor inicial, o intervalo começará no primeiro item:\n",
    "\n",
    "Retorne os itens do inicio, mas não incluíndo 'Vermellho': "
   ]
  },
  {
   "cell_type": "code",
   "execution_count": 8,
   "metadata": {},
   "outputs": [
    {
     "name": "stdout",
     "output_type": "stream",
     "text": [
      "('Azul', 'Amarelo', 'Verde', 'Marrom', 'Preto')\n"
     ]
    }
   ],
   "source": [
    "cores = ('Azul', 'Amarelo', 'Verde', 'Marrom', 'Preto', 'Vermelho', 'Rosa')\n",
    "print(cores[:5])"
   ]
  },
  {
   "cell_type": "markdown",
   "metadata": {},
   "source": [
    "Ao omitir o valor final, o intervalo irá até o final da tupla: \n",
    "\n",
    "retorne da cor 'preta' até o final:"
   ]
  },
  {
   "cell_type": "code",
   "execution_count": 9,
   "metadata": {},
   "outputs": [
    {
     "name": "stdout",
     "output_type": "stream",
     "text": [
      "('Preto', 'Vermelho', 'Rosa')\n"
     ]
    }
   ],
   "source": [
    "cores = ('Azul', 'Amarelo', 'Verde', 'Marrom', 'Preto', 'Vermelho', 'Rosa')\n",
    "print(cores[4:])"
   ]
  },
  {
   "cell_type": "markdown",
   "metadata": {},
   "source": [
    "# Intervalo de índices negativos \n",
    "\n",
    "Especifique índices negativos se quiser iniciar a pesquisa a partir do final da tupla: \n",
    "\n",
    "\n",
    "retorna as cores do índice -4(incluíndo) para o índice -1 (excluído)"
   ]
  },
  {
   "cell_type": "code",
   "execution_count": 10,
   "metadata": {},
   "outputs": [
    {
     "name": "stdout",
     "output_type": "stream",
     "text": [
      "('Marrom', 'Preto', 'Vermelho')\n"
     ]
    }
   ],
   "source": [
    "cores = ('Azul', 'Amarelo', 'Verde', 'Marrom', 'Preto', 'Vermelho', 'Rosa')\n",
    "print(cores[-4:-1])"
   ]
  },
  {
   "cell_type": "code",
   "execution_count": 16,
   "metadata": {},
   "outputs": [
    {
     "name": "stdout",
     "output_type": "stream",
     "text": [
      "('Azul', 'Amarelo', 'Verde')\n"
     ]
    }
   ],
   "source": [
    "# Pegando o começo da lista com intervalo negátivo\n",
    "cores = ('Azul', 'Amarelo', 'Verde', 'Marrom', 'Preto', 'Vermelho', 'Rosa')\n",
    "print(cores[:-4])"
   ]
  },
  {
   "cell_type": "markdown",
   "metadata": {},
   "source": [
    "### Verificar se o item existe \n",
    "\n",
    "Para determinar se um item especificado está presente em uma tupla, use a palavra-chave ``in``\n",
    "\n"
   ]
  },
  {
   "cell_type": "code",
   "execution_count": 17,
   "metadata": {},
   "outputs": [
    {
     "name": "stdout",
     "output_type": "stream",
     "text": [
      "Sim, marrom existe na lista!\n"
     ]
    }
   ],
   "source": [
    "cores = ('Azul', 'Amarelo', 'Verde', 'Marrom', 'Preto', 'Vermelho', 'Rosa') \n",
    "if 'Marrom' in cores: \n",
    "    print('Sim, marrom existe na lista!')"
   ]
  }
 ],
 "metadata": {
  "kernelspec": {
   "display_name": "Python 3",
   "language": "python",
   "name": "python3"
  },
  "language_info": {
   "codemirror_mode": {
    "name": "ipython",
    "version": 3
   },
   "file_extension": ".py",
   "mimetype": "text/x-python",
   "name": "python",
   "nbconvert_exporter": "python",
   "pygments_lexer": "ipython3",
   "version": "3.11.9"
  }
 },
 "nbformat": 4,
 "nbformat_minor": 2
}
