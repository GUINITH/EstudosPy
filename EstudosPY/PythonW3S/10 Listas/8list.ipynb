{
 "cells": [
  {
   "cell_type": "markdown",
   "metadata": {},
   "source": [
    "# Python - Listas de classificação \n",
    "\n",
    "### Classificar lista alfanumericamente \n",
    "\n",
    "Os objetos de lista possuem um `sort()` método que ordenará a lista alfanumericamente, em ordem crescente, por padrão: \n",
    "\n",
    "##### Exemplo: \n",
    "\n",
    "Classifique a lista em ordem alfabética: "
   ]
  },
  {
   "cell_type": "code",
   "execution_count": 1,
   "metadata": {},
   "outputs": [
    {
     "name": "stdout",
     "output_type": "stream",
     "text": [
      "['Afonso', 'Bianca', 'Carlos', 'George', 'Pedro']\n"
     ]
    }
   ],
   "source": [
    "list_names = [ 'Afonso', 'Pedro', 'Bianca', 'Carlos', 'George']\n",
    "list_names.sort()\n",
    "print(list_names)"
   ]
  },
  {
   "cell_type": "markdown",
   "metadata": {},
   "source": [
    "#### Exemplo: \n",
    "\n",
    "Classificando a lista numericamente: \n",
    "\n"
   ]
  },
  {
   "cell_type": "code",
   "execution_count": 2,
   "metadata": {},
   "outputs": [
    {
     "name": "stdout",
     "output_type": "stream",
     "text": [
      "[1, 6, 12, 29, 34, 89]\n"
     ]
    }
   ],
   "source": [
    "numbers = [34, 6, 89, 12, 29, 1]\n",
    "numbers.sort()\n",
    "print(numbers)"
   ]
  },
  {
   "cell_type": "markdown",
   "metadata": {},
   "source": [
    "# Classificar em ordem decrescente \n",
    "\n",
    "Para classificar em ordem decrescente, use palavra-chave argument reverse = True: \n",
    "\n",
    "\n",
    "##### Exemplo \n",
    "\n",
    "Classifique a lista em ordem decrecente: \n"
   ]
  },
  {
   "cell_type": "code",
   "execution_count": 7,
   "metadata": {},
   "outputs": [
    {
     "name": "stdout",
     "output_type": "stream",
     "text": [
      "['Suco', 'Manteiga', 'Feijão', 'Carne,', 'Arroz']\n"
     ]
    }
   ],
   "source": [
    "meus_alimentos = ['Arroz', 'Feijão', 'Carne,', 'Suco', 'Manteiga']\n",
    "meus_alimentos.sort(reverse=True)\n",
    "print(meus_alimentos)"
   ]
  },
  {
   "cell_type": "markdown",
   "metadata": {},
   "source": [
    "##### Exemplo\n",
    "\n",
    "Classificique a lista em ordem decrescente:"
   ]
  },
  {
   "cell_type": "code",
   "execution_count": 4,
   "metadata": {},
   "outputs": [
    {
     "name": "stdout",
     "output_type": "stream",
     "text": [
      "[28, 26, 24, 22, 20, 18, 16, 14, 12, 10, 8, 6, 4, 2]\n"
     ]
    }
   ],
   "source": [
    "numbers = list(range(2,29,2))\n",
    "numbers.sort(reverse=True)\n",
    "print(numbers)"
   ]
  },
  {
   "cell_type": "markdown",
   "metadata": {},
   "source": [
    "# Personalizar função de clasificação \n",
    "\n",
    "Você também pode personalizar sua própria função usando a palavra-chave argument .key = function \n",
    "\n",
    "A função retornará um número que será usado para ordenar a lista(primeiro o número mais baixo):\n",
    "\n",
    "##### Exemplo\n",
    "\n",
    "Classifique a lista com base em quão próximo o número está de 50: "
   ]
  },
  {
   "cell_type": "code",
   "execution_count": 8,
   "metadata": {},
   "outputs": [
    {
     "name": "stdout",
     "output_type": "stream",
     "text": [
      "[50, 65, 23, 82, 100]\n"
     ]
    }
   ],
   "source": [
    "def myfunction(n):\n",
    "    return abs(n - 50)\n",
    "\n",
    "numbers =  [100, 50, 65, 82, 23]\n",
    "numbers.sort(key=myfunction)\n",
    "print(numbers)"
   ]
  },
  {
   "cell_type": "markdown",
   "metadata": {},
   "source": [
    "# Classificação sem distinção entre maiúsculas e minúsculas \n",
    "\n",
    "Por padrão, o `sort()` método diferencia maiúsculas de minúscuas, resultando em todas as maisúsculas sendo classificada antes das mminúsculas: \n",
    "\n",
    "\n",
    "##### Exemplo\n",
    "\n",
    "A classificação com distinção entre maisúsuculas e minúsculas pode fornecer um resultado inesperado: "
   ]
  },
  {
   "cell_type": "code",
   "execution_count": 9,
   "metadata": {},
   "outputs": [
    {
     "name": "stdout",
     "output_type": "stream",
     "text": [
      "['Lais', 'Pablo', 'marcia', 'pedro']\n"
     ]
    }
   ],
   "source": [
    "nomes = ['Lais', 'pedro', 'Pablo','marcia']\n",
    "nomes.sort()\n",
    "print(nomes)"
   ]
  },
  {
   "cell_type": "markdown",
   "metadata": {},
   "source": [
    "Felizmente, podemos usar funções integradas como funções principais ao classificar uma lista. \n",
    "\n",
    "Portanto, se você deseja uma função de classificação que não diferencia maiusculas de minúsculas, use `str.lower()` como função principal: \n",
    "\n",
    "##### Exemplo\n",
    "\n",
    "Execute uma classificação da lista sem distinção entre maiúsculas e minúsculas:"
   ]
  },
  {
   "cell_type": "code",
   "execution_count": 18,
   "metadata": {},
   "outputs": [
    {
     "name": "stdout",
     "output_type": "stream",
     "text": [
      "['Lais', 'marcia', 'Pablo', 'pedro']\n"
     ]
    }
   ],
   "source": [
    "nomes = ['Lais', 'pedro', 'Pablo','marcia']\n",
    "nomes.sort(key=str.lower) \n",
    "print(nomes)"
   ]
  },
  {
   "cell_type": "markdown",
   "metadata": {},
   "source": [
    "Quando este código é executado, ele ordena os nomes em ordem alfabética, ignorando as diferenças entre letras maiúsculas e minúsculas. A saída será:"
   ]
  },
  {
   "cell_type": "markdown",
   "metadata": {},
   "source": [
    "# Ordem Reversa \n",
    "\n",
    "E se você quiser inverter a ordem de uma lista, independentemente do alfabeto?\n",
    "\n",
    "O reverse() método inverte a ordem de classificação atual dos elementos. \n",
    "\n",
    "#### Exemplo \n",
    "\n",
    "inverta a ordem dos intens da lista: \n"
   ]
  },
  {
   "cell_type": "code",
   "execution_count": 21,
   "metadata": {},
   "outputs": [
    {
     "name": "stdout",
     "output_type": "stream",
     "text": [
      "['marcia', 'Pablo', 'pedro', 'Lais']\n"
     ]
    }
   ],
   "source": [
    "nomes = ['Lais', 'pedro', 'Pablo','marcia'] \n",
    "nomes.reverse()\n",
    "print(nomes)"
   ]
  }
 ],
 "metadata": {
  "kernelspec": {
   "display_name": "Python 3",
   "language": "python",
   "name": "python3"
  },
  "language_info": {
   "codemirror_mode": {
    "name": "ipython",
    "version": 3
   },
   "file_extension": ".py",
   "mimetype": "text/x-python",
   "name": "python",
   "nbconvert_exporter": "python",
   "pygments_lexer": "ipython3",
   "version": "3.11.9"
  }
 },
 "nbformat": 4,
 "nbformat_minor": 2
}
