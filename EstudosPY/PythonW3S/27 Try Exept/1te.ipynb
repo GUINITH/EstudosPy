{
 "cells": [
  {
   "cell_type": "markdown",
   "metadata": {},
   "source": [
    "# Python Try e Except \n",
    "\n",
    "O bloco `try` permite que você teste um bloco de código para erros.\n",
    "\n",
    "o bloco `except` permite que você manipule o erro. \n",
    "\n",
    "O bloco `else` permite que você Execute código quando não houver erro.\n",
    "\n",
    "O bloco `finally` permite que você execute o código, independentemente do resultado dos blcos try e except. \n",
    "\n",
    "\n",
    "## Tratamento de exceções \n",
    "\n",
    "Quando ocorre um erro, ou exceção como chamamos, o Python normalmente pára e gera uma mensagem de erro. \n",
    "\n",
    "Essas exceções podem ser tratadas usando a instrução: ``try``"
   ]
  },
  {
   "cell_type": "code",
   "execution_count": 3,
   "metadata": {},
   "outputs": [
    {
     "name": "stdout",
     "output_type": "stream",
     "text": [
      "Erro não existe a variável informada\n"
     ]
    }
   ],
   "source": [
    "try:\n",
    "    print(x)\n",
    "except:\n",
    "    print('Erro não existe a variável informada')\n"
   ]
  },
  {
   "cell_type": "markdown",
   "metadata": {},
   "source": [
    "Como o bloco try gera um erro, o bloco except será executado. \n",
    "\n",
    "Sem oi bloqueio Trye, o programa irá falhar e gerar um erro: \n",
    "\n",
    "Esta declaração irá gerar um erro, porque a variável x não foi definida. \n",
    "\n",
    "`print(x)`"
   ]
  },
  {
   "cell_type": "markdown",
   "metadata": {},
   "source": [
    "## Mias exceções \n",
    "\n",
    " Você pode definir quantos blocos de exceção quiser , por exemplo, se quiser executar um Bloco especial de código para um tipo esppecial de erro: \n",
    "\n",
    " imprima uma mensagem se o bloco try gerar um `NameError` e outro para Outros erros. \n",
    " "
   ]
  },
  {
   "cell_type": "code",
   "execution_count": 4,
   "metadata": {},
   "outputs": [
    {
     "name": "stdout",
     "output_type": "stream",
     "text": [
      "Variavel x não foi definida\n"
     ]
    }
   ],
   "source": [
    "try:\n",
    "    print(x)\n",
    "except NameError:\n",
    "    print('Variavel x não foi definida')\n",
    "except:\n",
    "    print('Erro')\n",
    "\n"
   ]
  },
  {
   "cell_type": "markdown",
   "metadata": {},
   "source": [
    "Isso pode ser útil para fechar objetos e lçimpar recursos:\n",
    "\n",
    "Tente abrir e gravar em um arquivo que não é gravável:\n",
    "\n"
   ]
  },
  {
   "cell_type": "code",
   "execution_count": 5,
   "metadata": {},
   "outputs": [
    {
     "name": "stdout",
     "output_type": "stream",
     "text": [
      "Arquivo não encontrado tente novamente\n"
     ]
    }
   ],
   "source": [
    "try:\n",
    "    arquivo = open('arquivo.txt')\n",
    "    try: \n",
    "        arquivo.write('Teste')\n",
    "    except:\n",
    "        print('Não foi possivel escrever no arquivo')\n",
    "    finally:\n",
    "        arquivo.close()\n",
    "except:\n",
    "    print('Arquivo não encontrado tente novamente')\n",
    "    "
   ]
  },
  {
   "cell_type": "markdown",
   "metadata": {},
   "source": [
    "O programa pode continuar, sem deixar o objeto de arquivo aberto.\n",
    "\n",
    "## Abrir uma exceção \n",
    "\n",
    "Como desenvolvedor Python, você pode optar por lançar uma exceção se ocorrer uma condição. \n",
    "\n",
    "Para lançar (ou  levantar) uma exceção, use a palavra-chave raise. \n",
    "\n",
    "Gere um erro e pare o programa se x for menor que 0: \n",
    "\n",
    "\n"
   ]
  },
  {
   "cell_type": "code",
   "execution_count": 11,
   "metadata": {},
   "outputs": [
    {
     "ename": "Exception",
     "evalue": "Desculpe mas o número é menor que zero",
     "output_type": "error",
     "traceback": [
      "\u001b[1;31m---------------------------------------------------------------------------\u001b[0m",
      "\u001b[1;31mException\u001b[0m                                 Traceback (most recent call last)",
      "Cell \u001b[1;32mIn[11], line 4\u001b[0m\n\u001b[0;32m      1\u001b[0m x \u001b[38;5;241m=\u001b[39m \u001b[38;5;241m-\u001b[39m\u001b[38;5;241m1\u001b[39m\n\u001b[0;32m      3\u001b[0m \u001b[38;5;28;01mif\u001b[39;00m x \u001b[38;5;241m<\u001b[39m \u001b[38;5;241m0\u001b[39m: \n\u001b[1;32m----> 4\u001b[0m    \u001b[38;5;28;01mraise\u001b[39;00m \u001b[38;5;167;01mException\u001b[39;00m(\u001b[38;5;124m'\u001b[39m\u001b[38;5;124mDesculpe mas o número é menor que zero\u001b[39m\u001b[38;5;124m'\u001b[39m)\n",
      "\u001b[1;31mException\u001b[0m: Desculpe mas o número é menor que zero"
     ]
    }
   ],
   "source": [
    "x = -1\n",
    "\n",
    "if x < 0: \n",
    "   raise Exception('Desculpe mas o número é menor que zero')\n"
   ]
  },
  {
   "cell_type": "markdown",
   "metadata": {},
   "source": [
    "A palavra-chave `raise` é usada para gerar uma exceção. \n",
    "\n",
    "Você pode definir que tipo de erro gerar e o tezxto a ser impresso para o usuário. \n",
    "\n",
    "Levante um TypeErro se x não for um inteiro: \n"
   ]
  },
  {
   "cell_type": "code",
   "execution_count": 12,
   "metadata": {},
   "outputs": [
    {
     "ename": "TypeError",
     "evalue": "Erro, tipo de dados diferentes",
     "output_type": "error",
     "traceback": [
      "\u001b[1;31m---------------------------------------------------------------------------\u001b[0m",
      "\u001b[1;31mTypeError\u001b[0m                                 Traceback (most recent call last)",
      "Cell \u001b[1;32mIn[12], line 4\u001b[0m\n\u001b[0;32m      1\u001b[0m x \u001b[38;5;241m=\u001b[39m \u001b[38;5;124m'\u001b[39m\u001b[38;5;124mOlá\u001b[39m\u001b[38;5;124m'\u001b[39m\n\u001b[0;32m      3\u001b[0m \u001b[38;5;28;01mif\u001b[39;00m \u001b[38;5;129;01mnot\u001b[39;00m \u001b[38;5;28mtype\u001b[39m(x) \u001b[38;5;129;01mis\u001b[39;00m \u001b[38;5;28mint\u001b[39m: \n\u001b[1;32m----> 4\u001b[0m     \u001b[38;5;28;01mraise\u001b[39;00m \u001b[38;5;167;01mTypeError\u001b[39;00m(\u001b[38;5;124m'\u001b[39m\u001b[38;5;124mErro, tipo de dados diferentes\u001b[39m\u001b[38;5;124m'\u001b[39m)\n",
      "\u001b[1;31mTypeError\u001b[0m: Erro, tipo de dados diferentes"
     ]
    }
   ],
   "source": [
    "x = 'Olá'\n",
    "\n",
    "if not type(x) is int: \n",
    "    raise TypeError('Erro, tipo de dados diferentes')\n"
   ]
  },
  {
   "cell_type": "markdown",
   "metadata": {},
   "source": [
    "**Exceções Integradas**\n",
    "\n",
    "A tabela abaixo mostra exceções integradas que geralmente são geradas em Python:\n",
    "\n",
    "| Exceção                | Descrição                                                                 |\n",
    "|------------------------|---------------------------------------------------------------------------|\n",
    "| ArithmeticError        | Levantada quando ocorre um erro em cálculos numéricos                     |\n",
    "| AssertionError         | Levantada quando uma declaração assert falha                              |\n",
    "| AttributeError         | Levantada quando a referência ou atribuição de um atributo falha          |\n",
    "| Exception              | Classe base para todas as exceções                                        |\n",
    "| EOFError               | Levantada quando o método input() encontra uma condição de \"fim de arquivo\" (EOF) |\n",
    "| FloatingPointError     | Levantada quando uma operação de ponto flutuante falha                    |\n",
    "| GeneratorExit          | Levantada quando um gerador é fechado (com o método close())              |\n",
    "| ImportError            | Levantada quando um módulo importado não existe                           |\n",
    "| IndentationError       | Levantada quando a indentação não está correta                            |\n",
    "| IndexError             | Levantada quando um índice de uma sequência não existe                    |\n",
    "| KeyError               | Levantada quando uma chave não existe em um dicionário                    |\n",
    "| KeyboardInterrupt      | Levantada quando o usuário pressiona Ctrl+c, Ctrl+z ou Delete             |\n",
    "| LookupError            | Levantada quando erros levantados não podem ser encontrados               |\n",
    "| MemoryError            | Levantada quando um programa fica sem memória                             |\n",
    "| NameError              | Levantada quando uma variável não existe                                  |\n",
    "| NotImplementedError    | Levantada quando um método abstrato requer que uma classe herdada sobrescreva o método |\n",
    "| OSError                | Levantada quando uma operação relacionada ao sistema causa um erro        |\n",
    "| OverflowError          | Levantada quando o resultado de um cálculo numérico é muito grande        |\n",
    "| ReferenceError         | Levantada quando um objeto de referência fraca não existe                 |\n",
    "| RuntimeError           | Levantada quando ocorre um erro que não pertence a nenhuma exceção específica |\n",
    "| StopIteration          | Levantada quando o método next() de um iterador não tem mais valores      |\n",
    "| SyntaxError            | Levantada quando ocorre um erro de sintaxe                                |\n",
    "| TabError               | Levantada quando a indentação consiste em tabulações ou espaços           |\n",
    "| SystemError            | Levantada quando ocorre um erro no sistema                                |\n",
    "| SystemExit             | Levantada quando a função sys.exit() é chamada                            |\n",
    "| TypeError              | Levantada quando dois tipos diferentes são combinados                     |\n",
    "| UnboundLocalError      | Levantada quando uma variável local é referenciada antes de ser atribuída |\n",
    "| UnicodeError           | Levantada quando ocorre um problema de unicode                            |\n",
    "| UnicodeEncodeError     | Levantada quando ocorre um problema de codificação unicode                |\n",
    "| UnicodeDecodeError     | Levantada quando ocorre um problema de decodificação unicode              |\n",
    "| UnicodeTranslateError  | Levantada quando ocorre um problema de tradução unicode                   |\n",
    "| ValueError             | Levantada quando há um valor incorreto em um parâmetro especificado      "
   ]
  }
 ],
 "metadata": {
  "kernelspec": {
   "display_name": "Python 3",
   "language": "python",
   "name": "python3"
  },
  "language_info": {
   "codemirror_mode": {
    "name": "ipython",
    "version": 3
   },
   "file_extension": ".py",
   "mimetype": "text/x-python",
   "name": "python",
   "nbconvert_exporter": "python",
   "pygments_lexer": "ipython3",
   "version": "3.11.9"
  }
 },
 "nbformat": 4,
 "nbformat_minor": 2
}
