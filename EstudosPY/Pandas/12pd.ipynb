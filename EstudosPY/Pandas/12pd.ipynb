{
 "cells": [
  {
   "cell_type": "markdown",
   "metadata": {},
   "source": [
    "# Encontrando relacionamentos\n",
    "Um grande aspecto do módulo Pandas é o corr()método.\n",
    "\n",
    "O corr()método calcula o relacionamento entre cada coluna do seu conjunto de dados."
   ]
  },
  {
   "cell_type": "markdown",
   "metadata": {},
   "source": [
    "### Exemplo\n",
    "\n",
    "Mostrar a relação entre as colunas"
   ]
  },
  {
   "cell_type": "code",
   "execution_count": 18,
   "metadata": {},
   "outputs": [
    {
     "name": "stdout",
     "output_type": "stream",
     "text": [
      "           Duration          Date  Pulse  Maxpulse  Calories\n",
      "0      0         60  '2020/12/01'    110       130     409.1\n",
      "1      1         60  '2020/12/02'    117       145     479.0\n",
      "2      2         60  '2020/12/03'    103       135     340.0\n",
      "3      3         45  '2020/12/04'    109       175     282.4\n",
      "4      4         45  '2020/12/05'    117       148     406.0\n",
      "5      5         60  '2020/12/06'    102       127     300.0\n",
      "6      6         60  '2020/12/07'    110       136     374.0\n",
      "7      7        450  '2020/12/08'    104       134     253.3\n",
      "8      8         30  '2020/12/09'    109       133     195.1\n",
      "9      9         60  '2020/12/10'     98       124     269.0\n",
      "10     10        60  '2020/12/11'    103       147     329.3\n",
      "11     11        60  '2020/12/12'    100       120     250.7\n",
      "12     12        60  '2020/12/12'    100       120     250.7\n",
      "13     13        60  '2020/12/13'    106       128     345.3\n",
      "14     14        60  '2020/12/14'    104       132     379.3\n",
      "15     15        60  '2020/12/15'     98       123     275.0\n",
      "16     16        60  '2020/12/16'     98       120     215.2\n",
      "17     17        60  '2020/12/17'    100       120     300.0\n",
      "18    18        45  '2020/12/18'     90       112       None\n",
      "19     19        60  '2020/12/19'    103       123     323.0\n",
      "20     20        45  '2020/12/20'     97       125     243.0\n",
      "21     21        60  '2020/12/21'    108       131     364.2\n",
      "22    22        45           None    100       119     282.0\n",
      "23     23        60  '2020/12/23'    130       101     300.0\n",
      "24     24        45  '2020/12/24'    105       132     246.0\n",
      "25     25        60  '2020/12/25'    102       126     334.5\n",
      "26     26        60  '2020/12/26'    100       120     250.0\n",
      "27     27        60  '2020/12/27'     92       118     241.0\n",
      "28    28        60  '2020/12/28'    103       132       None\n",
      "29     29        60  '2020/12/29'    100       132     280.0\n",
      "30     30        60  '2020/12/30'    102       129     380.3\n",
      "31     31        60  '2020/12/31'     92       115     243.0\n"
     ]
    }
   ],
   "source": [
    "import pandas as pd \n",
    "df = pd.read_csv('.\\dados.csv')\n",
    "print(df.to_string())"
   ]
  },
  {
   "cell_type": "code",
   "execution_count": 14,
   "metadata": {},
   "outputs": [
    {
     "ename": "ValueError",
     "evalue": "could not convert string to float: \"  0         60  '2020/12/01'    110       130     409.1\"",
     "output_type": "error",
     "traceback": [
      "\u001b[1;31m---------------------------------------------------------------------------\u001b[0m",
      "\u001b[1;31mValueError\u001b[0m                                Traceback (most recent call last)",
      "Cell \u001b[1;32mIn[14], line 1\u001b[0m\n\u001b[1;32m----> 1\u001b[0m \u001b[43mdf\u001b[49m\u001b[38;5;241;43m.\u001b[39;49m\u001b[43mcorr\u001b[49m\u001b[43m(\u001b[49m\u001b[43m)\u001b[49m\n\u001b[0;32m      2\u001b[0m \u001b[38;5;28mprint\u001b[39m(df)\n",
      "File \u001b[1;32m~\\AppData\\Local\\Packages\\PythonSoftwareFoundation.Python.3.11_qbz5n2kfra8p0\\LocalCache\\local-packages\\Python311\\site-packages\\pandas\\core\\frame.py:11036\u001b[0m, in \u001b[0;36mDataFrame.corr\u001b[1;34m(self, method, min_periods, numeric_only)\u001b[0m\n\u001b[0;32m  11034\u001b[0m cols \u001b[38;5;241m=\u001b[39m data\u001b[38;5;241m.\u001b[39mcolumns\n\u001b[0;32m  11035\u001b[0m idx \u001b[38;5;241m=\u001b[39m cols\u001b[38;5;241m.\u001b[39mcopy()\n\u001b[1;32m> 11036\u001b[0m mat \u001b[38;5;241m=\u001b[39m \u001b[43mdata\u001b[49m\u001b[38;5;241;43m.\u001b[39;49m\u001b[43mto_numpy\u001b[49m\u001b[43m(\u001b[49m\u001b[43mdtype\u001b[49m\u001b[38;5;241;43m=\u001b[39;49m\u001b[38;5;28;43mfloat\u001b[39;49m\u001b[43m,\u001b[49m\u001b[43m \u001b[49m\u001b[43mna_value\u001b[49m\u001b[38;5;241;43m=\u001b[39;49m\u001b[43mnp\u001b[49m\u001b[38;5;241;43m.\u001b[39;49m\u001b[43mnan\u001b[49m\u001b[43m,\u001b[49m\u001b[43m \u001b[49m\u001b[43mcopy\u001b[49m\u001b[38;5;241;43m=\u001b[39;49m\u001b[38;5;28;43;01mFalse\u001b[39;49;00m\u001b[43m)\u001b[49m\n\u001b[0;32m  11038\u001b[0m \u001b[38;5;28;01mif\u001b[39;00m method \u001b[38;5;241m==\u001b[39m \u001b[38;5;124m\"\u001b[39m\u001b[38;5;124mpearson\u001b[39m\u001b[38;5;124m\"\u001b[39m:\n\u001b[0;32m  11039\u001b[0m     correl \u001b[38;5;241m=\u001b[39m libalgos\u001b[38;5;241m.\u001b[39mnancorr(mat, minp\u001b[38;5;241m=\u001b[39mmin_periods)\n",
      "File \u001b[1;32m~\\AppData\\Local\\Packages\\PythonSoftwareFoundation.Python.3.11_qbz5n2kfra8p0\\LocalCache\\local-packages\\Python311\\site-packages\\pandas\\core\\frame.py:1981\u001b[0m, in \u001b[0;36mDataFrame.to_numpy\u001b[1;34m(self, dtype, copy, na_value)\u001b[0m\n\u001b[0;32m   1979\u001b[0m \u001b[38;5;28;01mif\u001b[39;00m dtype \u001b[38;5;129;01mis\u001b[39;00m \u001b[38;5;129;01mnot\u001b[39;00m \u001b[38;5;28;01mNone\u001b[39;00m:\n\u001b[0;32m   1980\u001b[0m     dtype \u001b[38;5;241m=\u001b[39m np\u001b[38;5;241m.\u001b[39mdtype(dtype)\n\u001b[1;32m-> 1981\u001b[0m result \u001b[38;5;241m=\u001b[39m \u001b[38;5;28;43mself\u001b[39;49m\u001b[38;5;241;43m.\u001b[39;49m\u001b[43m_mgr\u001b[49m\u001b[38;5;241;43m.\u001b[39;49m\u001b[43mas_array\u001b[49m\u001b[43m(\u001b[49m\u001b[43mdtype\u001b[49m\u001b[38;5;241;43m=\u001b[39;49m\u001b[43mdtype\u001b[49m\u001b[43m,\u001b[49m\u001b[43m \u001b[49m\u001b[43mcopy\u001b[49m\u001b[38;5;241;43m=\u001b[39;49m\u001b[43mcopy\u001b[49m\u001b[43m,\u001b[49m\u001b[43m \u001b[49m\u001b[43mna_value\u001b[49m\u001b[38;5;241;43m=\u001b[39;49m\u001b[43mna_value\u001b[49m\u001b[43m)\u001b[49m\n\u001b[0;32m   1982\u001b[0m \u001b[38;5;28;01mif\u001b[39;00m result\u001b[38;5;241m.\u001b[39mdtype \u001b[38;5;129;01mis\u001b[39;00m \u001b[38;5;129;01mnot\u001b[39;00m dtype:\n\u001b[0;32m   1983\u001b[0m     result \u001b[38;5;241m=\u001b[39m np\u001b[38;5;241m.\u001b[39marray(result, dtype\u001b[38;5;241m=\u001b[39mdtype, copy\u001b[38;5;241m=\u001b[39m\u001b[38;5;28;01mFalse\u001b[39;00m)\n",
      "File \u001b[1;32m~\\AppData\\Local\\Packages\\PythonSoftwareFoundation.Python.3.11_qbz5n2kfra8p0\\LocalCache\\local-packages\\Python311\\site-packages\\pandas\\core\\internals\\managers.py:1686\u001b[0m, in \u001b[0;36mBlockManager.as_array\u001b[1;34m(self, dtype, copy, na_value)\u001b[0m\n\u001b[0;32m   1680\u001b[0m     arr \u001b[38;5;241m=\u001b[39m blk\u001b[38;5;241m.\u001b[39mvalues\u001b[38;5;241m.\u001b[39mto_numpy(  \u001b[38;5;66;03m# type: ignore[union-attr]\u001b[39;00m\n\u001b[0;32m   1681\u001b[0m         dtype\u001b[38;5;241m=\u001b[39mdtype,\n\u001b[0;32m   1682\u001b[0m         na_value\u001b[38;5;241m=\u001b[39mna_value,\n\u001b[0;32m   1683\u001b[0m         copy\u001b[38;5;241m=\u001b[39mcopy,\n\u001b[0;32m   1684\u001b[0m     )\u001b[38;5;241m.\u001b[39mreshape(blk\u001b[38;5;241m.\u001b[39mshape)\n\u001b[0;32m   1685\u001b[0m \u001b[38;5;28;01melse\u001b[39;00m:\n\u001b[1;32m-> 1686\u001b[0m     arr \u001b[38;5;241m=\u001b[39m \u001b[43mnp\u001b[49m\u001b[38;5;241;43m.\u001b[39;49m\u001b[43marray\u001b[49m\u001b[43m(\u001b[49m\u001b[43mblk\u001b[49m\u001b[38;5;241;43m.\u001b[39;49m\u001b[43mvalues\u001b[49m\u001b[43m,\u001b[49m\u001b[43m \u001b[49m\u001b[43mdtype\u001b[49m\u001b[38;5;241;43m=\u001b[39;49m\u001b[43mdtype\u001b[49m\u001b[43m,\u001b[49m\u001b[43m \u001b[49m\u001b[43mcopy\u001b[49m\u001b[38;5;241;43m=\u001b[39;49m\u001b[43mcopy\u001b[49m\u001b[43m)\u001b[49m\n\u001b[0;32m   1688\u001b[0m \u001b[38;5;28;01mif\u001b[39;00m using_copy_on_write() \u001b[38;5;129;01mand\u001b[39;00m \u001b[38;5;129;01mnot\u001b[39;00m copy:\n\u001b[0;32m   1689\u001b[0m     arr \u001b[38;5;241m=\u001b[39m arr\u001b[38;5;241m.\u001b[39mview()\n",
      "\u001b[1;31mValueError\u001b[0m: could not convert string to float: \"  0         60  '2020/12/01'    110       130     409.1\""
     ]
    }
   ],
   "source": [
    "df.corr()\n",
    "print(df)\n"
   ]
  },
  {
   "cell_type": "markdown",
   "metadata": {},
   "source": [
    "# Nota: O corr()método ignora colunas \"não numéricas\".\n",
    "\n",
    "### Resultado explicado\n",
    "O resultado do corr()método é uma tabela com muitos números que representa o quão bom é o relacionamento entre duas colunas.\n",
    "\n",
    "O número varia de -1 a 1.\n",
    "\n",
    "1 significa que existe uma relação de 1 para 1 (uma correlação perfeita) e, para este conjunto de dados, cada vez que um valor subia na primeira coluna, o outro também subia.\n",
    "\n",
    "0,9 também é uma boa relação, e se você aumentar um valor, o outro provavelmente também aumentará.\n",
    "\n",
    "-0,9 seria uma relação tão boa quanto 0,9, mas se você aumentar um valor, o outro provavelmente diminuirá.\n",
    "\n",
    "0,2 significa NÃO um bom relacionamento, o que significa que se um valor subir não significa que o outro subirá.\n",
    "\n",
    "O que é uma boa correlação? Depende do uso, mas acho seguro dizer que você precisa ter pelo menos 0.6(ou -0.6) para chamar de boa correlação.\n",
    "\n",
    "Correlação Perfeita:\n",
    "Podemos ver que “Duração” e “Duração” obtiveram o número 1.000000, o que faz sentido, cada coluna sempre tem um relacionamento perfeito consigo mesma.\n",
    "\n",
    "Boa correlação:\n",
    "“Duração” e “Calorias” têm uma 0.922721correlação, que é uma correlação muito boa, e podemos prever que quanto mais tempo você treina, mais calorias você queima, e vice-versa: se você queimou muitas calorias, você provavelmente teve um longo treino.\n",
    "\n",
    "Correlação ruim:\n",
    "“Duration” e “Maxpulse” obtiveram uma 0.009403correlação, que é uma correlação muito ruim, o que significa que não podemos prever a pulsação máxima apenas olhando a duração do treino e vice-versa."
   ]
  }
 ],
 "metadata": {
  "kernelspec": {
   "display_name": "Python 3",
   "language": "python",
   "name": "python3"
  },
  "language_info": {
   "codemirror_mode": {
    "name": "ipython",
    "version": 3
   },
   "file_extension": ".py",
   "mimetype": "text/x-python",
   "name": "python",
   "nbconvert_exporter": "python",
   "pygments_lexer": "ipython3",
   "version": "3.11.9"
  }
 },
 "nbformat": 4,
 "nbformat_minor": 2
}
