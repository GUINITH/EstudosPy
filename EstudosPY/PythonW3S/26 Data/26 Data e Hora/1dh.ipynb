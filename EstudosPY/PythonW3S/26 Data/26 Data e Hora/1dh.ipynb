{
 "cells": [
  {
   "cell_type": "markdown",
   "metadata": {},
   "source": [
    "## Python Data/Hora \n",
    "\n",
    "### Datas Python \n",
    "\n",
    "Uma data em Python não é um tipo de dados prório, mas podemos importar um módulo nomeado para trabalhar com datas como data Objetos. \n",
    "`datetime`\n",
    "\n",
    "Importe o módulo datetime e exiba a data atual:"
   ]
  },
  {
   "cell_type": "code",
   "execution_count": 10,
   "metadata": {},
   "outputs": [
    {
     "name": "stdout",
     "output_type": "stream",
     "text": [
      "2024-07-11 16:37:11.144441\n"
     ]
    }
   ],
   "source": [
    "import datetime \n",
    "\n",
    "data_hora  = datetime.datetime.now()\n",
    "print(data_hora)"
   ]
  },
  {
   "cell_type": "markdown",
   "metadata": {},
   "source": [
    "## Data de saída \n",
    "\n",
    "Quando executamos o código do exemplo acima o resultado será: \n",
    "\n",
    "`2024-07-11 16:37:11.144441` \n",
    "\n",
    "A data contém ano, mês, dia, hora, minuto e microssegundo. \n",
    "\n",
    "O móduilo tem muitos métodos para retornaer informações sobre a data objeto `datetime:`\n",
    "\n",
    "Devolva o ano e nome do dia da semana: \n"
   ]
  },
  {
   "cell_type": "code",
   "execution_count": 11,
   "metadata": {},
   "outputs": [
    {
     "name": "stdout",
     "output_type": "stream",
     "text": [
      "2024\n",
      "Thursday\n"
     ]
    }
   ],
   "source": [
    "data_hora = datetime.datetime.now()\n",
    "\n",
    "print(data_hora.year)\n",
    "print(data_hora.strftime('%A'))\n"
   ]
  },
  {
   "cell_type": "markdown",
   "metadata": {},
   "source": [
    "## Criando objetos de data\n",
    "\n",
    "Para criar uma data, podemos usar a classe `datetime()` (construtor) do módulo `datetime`.\n",
    "\n",
    "A classe `datetime()` requer três parâmetros para criar uma data: ano, mês, dia.\n",
    "\n",
    "      \n",
    "Crie um objeto de data: \n",
    "\n"
   ]
  },
  {
   "cell_type": "code",
   "execution_count": 17,
   "metadata": {},
   "outputs": [
    {
     "name": "stdout",
     "output_type": "stream",
     "text": [
      "2024-07-18 00:00:00\n"
     ]
    }
   ],
   "source": [
    "dh = datetime.datetime(2024, 7, 18)\n",
    "print(dh)"
   ]
  },
  {
   "cell_type": "markdown",
   "metadata": {},
   "source": [
    "A classe `datetime() 0 None` também usa parâmetros para hora e fuso horário(hora, minuto, segundo, microssegundo, itzone), mas eles são opcionais e tem um padradrão valor de, (para fuso horário). "
   ]
  }
 ],
 "metadata": {
  "kernelspec": {
   "display_name": "Python 3",
   "language": "python",
   "name": "python3"
  },
  "language_info": {
   "codemirror_mode": {
    "name": "ipython",
    "version": 3
   },
   "file_extension": ".py",
   "mimetype": "text/x-python",
   "name": "python",
   "nbconvert_exporter": "python",
   "pygments_lexer": "ipython3",
   "version": "3.11.9"
  }
 },
 "nbformat": 4,
 "nbformat_minor": 2
}
