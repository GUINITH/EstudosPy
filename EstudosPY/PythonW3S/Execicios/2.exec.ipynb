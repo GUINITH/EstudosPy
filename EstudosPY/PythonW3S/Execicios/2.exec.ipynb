{
 "cells": [
  {
   "cell_type": "markdown",
   "metadata": {},
   "source": [
    "Claro, aqui estão alguns exercícios para você praticar com conjuntos (sets) em Python:\n",
    "\n",
    "### Exercício 1: Criação e Acesso Básico\n",
    "1. Crie um conjunto chamado `frutas` contendo as seguintes frutas: \"maçã\", \"banana\", \"cereja\".\n",
    "2. Imprima o conjunto completo.\n",
    "3. Adicione a fruta \"laranja\" ao conjunto.\n",
    "4. Remova a fruta \"banana\" do conjunto.\n",
    "5. Verifique se a fruta \"maçã\" está no conjunto e imprima o resultado.\n",
    "\n"
   ]
  },
  {
   "cell_type": "code",
   "execution_count": 5,
   "metadata": {},
   "outputs": [
    {
     "name": "stdout",
     "output_type": "stream",
     "text": [
      "{'cereja', 'maçã', 'banana'}\n"
     ]
    }
   ],
   "source": [
    "# 1. Crie um conjunto chamado `frutas` contendo as seguintes frutas: \"maçã\", \"banana\", \"cereja\".\n",
    "frutas = {'maçã', 'banana', 'cereja'}\n",
    "\n",
    "# 2 Imprima o conjunto completo.\n",
    "print(frutas)"
   ]
  },
  {
   "cell_type": "code",
   "execution_count": 6,
   "metadata": {},
   "outputs": [
    {
     "name": "stdout",
     "output_type": "stream",
     "text": [
      "{'cereja', 'maçã', 'laranja', 'banana'}\n"
     ]
    }
   ],
   "source": [
    "# Adicione a fruta \"laranja\" ao conjunto.\n",
    "frutas.add('laranja')\n",
    "print(frutas)"
   ]
  },
  {
   "cell_type": "code",
   "execution_count": 7,
   "metadata": {},
   "outputs": [
    {
     "data": {
      "text/plain": [
       "{'cereja', 'laranja', 'maçã'}"
      ]
     },
     "execution_count": 7,
     "metadata": {},
     "output_type": "execute_result"
    }
   ],
   "source": [
    "frutas.remove('banana')\n",
    "frutas\n"
   ]
  },
  {
   "cell_type": "code",
   "execution_count": 15,
   "metadata": {},
   "outputs": [
    {
     "name": "stdout",
     "output_type": "stream",
     "text": [
      "Sim!\n"
     ]
    }
   ],
   "source": [
    "5. # Verifique se a fruta \"maçã\" está no conjunto e imprima o resultado.\n",
    "frutas = {'maçã', 'banana', 'cereja'}\n",
    "if 'maçã' in frutas: \n",
    "    print('Sim!')\n",
    "else:\n",
    "    print('Não')\n",
    "\n",
    "    "
   ]
  },
  {
   "cell_type": "markdown",
   "metadata": {},
   "source": [
    "### Exercício 2: Operações de Conjuntos\n",
    "1. Crie dois conjuntos: `A` contendo os números 1, 2, 3, 4, 5 e `B` contendo os números 4, 5, 6, 7, 8.\n",
    "2. Imprima a união dos conjuntos `A` e `B`.\n",
    "3. Imprima a interseção dos conjuntos `A` e `B`.\n",
    "4. Imprima a diferença entre os conjuntos `A` e `B` (elementos que estão em `A` mas não em `B`).\n",
    "5. Imprima a diferença simétrica entre os conjuntos `A` e `B` (elementos que estão em `A` ou `B`, mas não em ambos)."
   ]
  },
  {
   "cell_type": "code",
   "execution_count": 21,
   "metadata": {},
   "outputs": [
    {
     "name": "stdout",
     "output_type": "stream",
     "text": [
      "{1, 2, 3, 4, 5, 6, 7, 8}\n"
     ]
    }
   ],
   "source": [
    "a = {1, 2, 3, 4, 5}\n",
    "b = {4, 5, 6, 7, 8}\n",
    "c = a.union(b)\n",
    "print(c)\n",
    "\n"
   ]
  },
  {
   "cell_type": "code",
   "execution_count": 22,
   "metadata": {},
   "outputs": [
    {
     "data": {
      "text/plain": [
       "{4, 5}"
      ]
     },
     "execution_count": 22,
     "metadata": {},
     "output_type": "execute_result"
    }
   ],
   "source": [
    "dados = a.intersection(b)\n",
    "dados"
   ]
  },
  {
   "cell_type": "code",
   "execution_count": 23,
   "metadata": {},
   "outputs": [
    {
     "data": {
      "text/plain": [
       "{1, 2, 3}"
      ]
     },
     "execution_count": 23,
     "metadata": {},
     "output_type": "execute_result"
    }
   ],
   "source": [
    "dados = a.difference(b)\n",
    "dados"
   ]
  },
  {
   "cell_type": "code",
   "execution_count": 24,
   "metadata": {},
   "outputs": [
    {
     "data": {
      "text/plain": [
       "{1, 2, 3, 6, 7, 8}"
      ]
     },
     "execution_count": 24,
     "metadata": {},
     "output_type": "execute_result"
    }
   ],
   "source": [
    "dados = a.symmetric_difference(b)\n",
    "dados"
   ]
  },
  {
   "cell_type": "markdown",
   "metadata": {},
   "source": [
    "### Exercício 3: Métodos de Conjuntos\n",
    "1. Crie um conjunto chamado `numeros` contendo os números de 1 a 5.\n",
    "2. Use o método `add` para adicionar o número 6 ao conjunto.\n",
    "3. Use o método `discard` para remover o número 2 do conjunto.\n",
    "4. Use o método `pop` para remover e imprimir um elemento arbitrário do conjunto.\n",
    "5. Use o método `clear` para limpar o conjunto."
   ]
  },
  {
   "cell_type": "code",
   "execution_count": 27,
   "metadata": {},
   "outputs": [],
   "source": [
    "# 1. Crie um conjunto chamado `numeros` contendo os números de 1 a 5.\n",
    "numeros = set(range(1,6))\n",
    "\n",
    "# 2. Use o método `add` para adicionar o número 6 ao conjunto.\n",
    "numeros.add(6)\n",
    "\n",
    "# 3. Use o método `discard` para remover o número 2 do conjunto.\n",
    "numeros.discard(2)\n",
    "\n",
    "# 4. Use o método `pop` para remover e imprimir um elemento arbitrário do conjunto.\n",
    "numeros.pop()\n",
    "\n",
    "# 5. Use o método `clear` para limpar o conjunto.\n",
    "numeros.clear()"
   ]
  },
  {
   "cell_type": "markdown",
   "metadata": {},
   "source": [
    "### Exercício 4: Subconjuntos e Superconjuntos\n",
    "1. Crie dois conjuntos: `X` contendo os números 1, 2, 3 e `Y` contendo os números 1, 2, 3, 4, 5.\n",
    "2. Verifique se `X` é um subconjunto de `Y` e imprima o resultado.\n",
    "3. Verifique se `Y` é um superconjunto de `X` e imprima o resultado.\n"
   ]
  },
  {
   "cell_type": "code",
   "execution_count": 29,
   "metadata": {},
   "outputs": [
    {
     "name": "stdout",
     "output_type": "stream",
     "text": [
      "True\n"
     ]
    }
   ],
   "source": [
    "x = {1,2,3}\n",
    "y = { 1,2,3,4,5}\n",
    "if x.issubset(y):\n",
    "    print(True)\n",
    "else: \n",
    "    print(False)"
   ]
  },
  {
   "cell_type": "code",
   "execution_count": 30,
   "metadata": {},
   "outputs": [
    {
     "name": "stdout",
     "output_type": "stream",
     "text": [
      "Sim\n"
     ]
    }
   ],
   "source": [
    "if y.issuperset(x):\n",
    "    print('Sim')\n",
    "else:\n",
    "    print('Não')"
   ]
  },
  {
   "cell_type": "markdown",
   "metadata": {},
   "source": [
    "\n",
    "### Exercício 5: Compreensão de Conjuntos\n",
    "1. Crie uma lista chamada `numeros` contendo os números de 1 a 10.\n",
    "2. Use a compreensão de conjuntos para criar um conjunto `pares` contendo apenas os números pares da lista `numeros`.\n",
    "3. Imprima o conjunto `pares`."
   ]
  },
  {
   "cell_type": "code",
   "execution_count": 32,
   "metadata": {},
   "outputs": [
    {
     "name": "stdout",
     "output_type": "stream",
     "text": [
      "{2, 4, 6, 8, 10}\n"
     ]
    }
   ],
   "source": [
    "numeros = list(range(1,11))\n",
    "pares = {num for num in numeros if num % 2 == 0}\n",
    "print(pares)"
   ]
  },
  {
   "cell_type": "markdown",
   "metadata": {},
   "source": [
    "### Exercício 6: Removendo Duplicatas\n",
    "1. Crie uma lista chamada `valores` contendo os números [1, 2, 2, 3, 4, 4, 5].\n",
    "2. Converta a lista `valores` em um conjunto para remover duplicatas.\n",
    "3. Converta o conjunto de volta para uma lista chamada `valores_unicos`.\n",
    "4. Imprima a lista `valores_unicos`."
   ]
  },
  {
   "cell_type": "code",
   "execution_count": 33,
   "metadata": {},
   "outputs": [
    {
     "name": "stdout",
     "output_type": "stream",
     "text": [
      "[1, 2, 3, 4, 5]\n"
     ]
    }
   ],
   "source": [
    "valores = [1,2,3,4,4,5]\n",
    "set_numeros = set(valores)\n",
    "valores_unicos = list(set_numeros)\n",
    "print(valores_unicos)"
   ]
  },
  {
   "cell_type": "markdown",
   "metadata": {},
   "source": [
    "\n",
    "### Exercício 7: Conjuntos Imutáveis (frozenset)\n",
    "1. Crie um conjunto imutável chamado `conjunto_imutavel` contendo as letras \"a\", \"b\", \"c\".\n",
    "2. Tente adicionar a letra \"d\" ao `conjunto_imutavel` e observe o que acontece (comentando no código).\n",
    "3. Explique em um comentário por que a operação não é permitida."
   ]
  },
  {
   "cell_type": "code",
   "execution_count": 34,
   "metadata": {},
   "outputs": [
    {
     "data": {
      "text/plain": [
       "frozenset({'a', 'b', 'c'})"
      ]
     },
     "execution_count": 34,
     "metadata": {},
     "output_type": "execute_result"
    }
   ],
   "source": [
    "lista = ['a','b','c']\n",
    "conjunto_imutavel = frozenset(lista)\n",
    "conjunto_imutavel\n",
    "                     "
   ]
  },
  {
   "cell_type": "code",
   "execution_count": null,
   "metadata": {},
   "outputs": [],
   "source": [
    "conjunto_imutavel.add('d') # Frosenset é uma função que retorna um objeto imutável, como se fosse um conjunto. É impossivel adicionar a letra 'd'.\n",
    "print(conjunto_imutavel)"
   ]
  },
  {
   "cell_type": "markdown",
   "metadata": {},
   "source": [
    "### Exercício 8: Conjuntos de Conjuntos\n",
    "1. Crie um conjunto chamado `conjunto_principal`.\n",
    "2. Adicione dois conjuntos imutáveis: um contendo os números 1, 2, 3 e outro contendo os números 4, 5, 6, ao `conjunto_principal`.\n",
    "3. Imprima o `conjunto_principal`."
   ]
  },
  {
   "cell_type": "code",
   "execution_count": 38,
   "metadata": {},
   "outputs": [
    {
     "name": "stdout",
     "output_type": "stream",
     "text": [
      "frozenset({'c', 'a', 4, 5, 6, 'b'})\n"
     ]
    }
   ],
   "source": [
    "lista1 = [1,2,3]\n",
    "lista2 = [4,5,6]\n",
    "conjunto_imutavel1 = frozenset(lista1)\n",
    "conjunto_imutavel2 = frozenset(lista2)\n",
    "conjunto_principal = conjunto_imutavel.union(conjunto_imutavel2)\n",
    "print(conjunto_principal)"
   ]
  },
  {
   "cell_type": "markdown",
   "metadata": {},
   "source": [
    "\n",
    "### Exercício 9: Contagem de Elementos\n",
    "1. Crie um conjunto chamado `caracteres` contendo as letras da palavra \"abracadabra\".\n",
    "2. Imprima o número de elementos únicos no conjunto `caracteres`."
   ]
  },
  {
   "cell_type": "code",
   "execution_count": 40,
   "metadata": {},
   "outputs": [
    {
     "data": {
      "text/plain": [
       "5"
      ]
     },
     "execution_count": 40,
     "metadata": {},
     "output_type": "execute_result"
    }
   ],
   "source": [
    "caracters = set('abracadabra')\n",
    "num_element_unic = len(caracters)\n",
    "num_element_unic"
   ]
  },
  {
   "cell_type": "markdown",
   "metadata": {},
   "source": [
    "### Exercício 10: Diferença Entre Conjuntos\n",
    "1. Crie dois conjuntos: `set1` contendo as letras \"a\", \"b\", \"c\", \"d\" e `set2` contendo as letras \"c\", \"d\", \"e\", \"f\".\n",
    "2. Imprima os elementos que estão em `set1` mas não estão em `set2`.\n",
    "3. Imprima os elementos que estão em `set2` mas não estão em `set1`."
   ]
  },
  {
   "cell_type": "code",
   "execution_count": 41,
   "metadata": {},
   "outputs": [
    {
     "name": "stdout",
     "output_type": "stream",
     "text": [
      "{'b', 'a'}\n",
      "{'e', 'd', 'f'}\n"
     ]
    }
   ],
   "source": [
    "set1 = {\"a\", \"b\", \"c\"}\n",
    "set2 = {'c','d','e','f'}\n",
    "\n",
    "diference_set1 = set1.difference(set2)\n",
    "print(diference_set1)\n",
    "\n",
    "diference_set2 = set2.difference(set1)\n",
    "print(diference_set2)\n",
    "\n"
   ]
  }
 ],
 "metadata": {
  "kernelspec": {
   "display_name": "Python 3",
   "language": "python",
   "name": "python3"
  },
  "language_info": {
   "codemirror_mode": {
    "name": "ipython",
    "version": 3
   },
   "file_extension": ".py",
   "mimetype": "text/x-python",
   "name": "python",
   "nbconvert_exporter": "python",
   "pygments_lexer": "ipython3",
   "version": "3.11.9"
  }
 },
 "nbformat": 4,
 "nbformat_minor": 2
}
