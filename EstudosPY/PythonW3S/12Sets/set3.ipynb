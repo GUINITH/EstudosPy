{
 "cells": [
  {
   "cell_type": "markdown",
   "metadata": {},
   "source": [
    "# Set - Adicionar itens de conjunto \n",
    "\n",
    "#### Adicionar itens \n",
    "\n",
    "Depois que um conjunto é criado, você não pode alterar seus itens, mas pode adicionar novos itens. \n",
    "Para adicionar um item a um conjunto, use o método `add()`\n",
    "\n",
    "Adicione um item a um conjunto, usando o método: `add()`\n",
    "\n"
   ]
  },
  {
   "cell_type": "code",
   "execution_count": 2,
   "metadata": {},
   "outputs": [
    {
     "name": "stdout",
     "output_type": "stream",
     "text": [
      "{'Felipe', 'Rangel', 'Guilherme', 'Matheus'}\n"
     ]
    }
   ],
   "source": [
    "dados = {'Guilherme', 'Rangel', 'Felipe'}\n",
    "dados.add('Matheus')\n",
    "print(dados)"
   ]
  },
  {
   "cell_type": "markdown",
   "metadata": {},
   "source": [
    "# Adicionar conjuntos \n",
    "\n",
    "Para adicionar itens de outro conjunto ao conjunto autal, use o método ``update()``.\n",
    "\n",
    "Adicione elementos de um conjunto e um outro conjunto:"
   ]
  },
  {
   "cell_type": "code",
   "execution_count": 3,
   "metadata": {},
   "outputs": [
    {
     "name": "stdout",
     "output_type": "stream",
     "text": [
      "{'Felipe', 'Rafaela', 'Micaelly', 'Mariana', 'Rangel', 'Guilherme'}\n"
     ]
    }
   ],
   "source": [
    "meninas = {'Rafaela', 'Mariana', 'Micaelly'}\n",
    "alunos = {'Guilherme', 'Rangel', 'Felipe'}\n",
    "alunos.update(meninas)\n",
    "print(alunos)"
   ]
  },
  {
   "cell_type": "markdown",
   "metadata": {},
   "source": [
    "# Adicionar qualquer iterável \n",
    "\n",
    "O objeto no método não tem Para ser um conjunto, pode ser qualquer objeto iterável(tuplas, listas, dicionários etc.)``update()``"
   ]
  },
  {
   "cell_type": "code",
   "execution_count": 5,
   "metadata": {},
   "outputs": [
    {
     "data": {
      "text/plain": [
       "{'Fausto',\n",
       " 'Felipe',\n",
       " 'Guilherme',\n",
       " 'Marcos',\n",
       " 'Mariana',\n",
       " 'Micaelly',\n",
       " 'Miriane',\n",
       " 'Pietre',\n",
       " 'Rafaela',\n",
       " 'Rangel'}"
      ]
     },
     "execution_count": 5,
     "metadata": {},
     "output_type": "execute_result"
    }
   ],
   "source": [
    "list_professores = ['Marcos', 'Miriane', 'Fausto','Pietre']\n",
    "alunos.update(list_professores)\n",
    "alunos"
   ]
  }
 ],
 "metadata": {
  "kernelspec": {
   "display_name": "Python 3",
   "language": "python",
   "name": "python3"
  },
  "language_info": {
   "codemirror_mode": {
    "name": "ipython",
    "version": 3
   },
   "file_extension": ".py",
   "mimetype": "text/x-python",
   "name": "python",
   "nbconvert_exporter": "python",
   "pygments_lexer": "ipython3",
   "version": "3.11.9"
  }
 },
 "nbformat": 4,
 "nbformat_minor": 2
}
