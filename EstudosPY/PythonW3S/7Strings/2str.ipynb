{
 "cells": [
  {
   "cell_type": "markdown",
   "metadata": {},
   "source": [
    "# Python - Fatiamento de Strings (Slicing Strings)\n",
    "\n",
    "## Slicing\n",
    "\n",
    "Você pode retornar um intervalo de caracteres usando a sintaxe do slicing.\n",
    "\n",
    "Especifique o índice inicial e o índice final, separados por dois pontos, para retornar uma parte da string. \n",
    "\n"
   ]
  },
  {
   "cell_type": "markdown",
   "metadata": {},
   "source": [
    "# Exemplo: \n",
    "\n",
    "Obtenha os caracteres da posição 2 á posição 5 (não incluídos): \n"
   ]
  },
  {
   "cell_type": "code",
   "execution_count": 1,
   "metadata": {},
   "outputs": [
    {
     "name": "stdout",
     "output_type": "stream",
     "text": [
      "em-\n"
     ]
    }
   ],
   "source": [
    "b = 'Bem-Vindo! '\n",
    "print(b[1:4])"
   ]
  },
  {
   "cell_type": "markdown",
   "metadata": {},
   "source": [
    "Note que o primeiro caractere é do indice 0, que corresponde a letra \"B\" na string, no exemplo iniciamos apartir da letra 'e'.\n"
   ]
  },
  {
   "cell_type": "markdown",
   "metadata": {},
   "source": [
    "# Fatie desde o início \n",
    "\n",
    "Ao omitir o ínicio inicial, o intervalo começará no primeiro caractere: \n",
    "\n",
    "#### Exemplo: \n",
    "\n",
    "Leve os personagens do início até a posição 5 (não incluído): \n",
    "\n"
   ]
  },
  {
   "cell_type": "code",
   "execution_count": 2,
   "metadata": {},
   "outputs": [
    {
     "name": "stdout",
     "output_type": "stream",
     "text": [
      "Hello\n"
     ]
    }
   ],
   "source": [
    "b = \"Hello, World!\"\n",
    "print(b[:5])"
   ]
  },
  {
   "cell_type": "markdown",
   "metadata": {},
   "source": [
    "# Fatie até o fim\n",
    "\n",
    "Ao omitir o índice final , o intervalo irá até o final:\n",
    "\n",
    "#### Exemplo\n",
    "\n",
    "Pegue os personagens da posição 2 e até o final:"
   ]
  },
  {
   "cell_type": "code",
   "execution_count": 3,
   "metadata": {},
   "outputs": [
    {
     "name": "stdout",
     "output_type": "stream",
     "text": [
      "llo, World!\n"
     ]
    }
   ],
   "source": [
    "b = \"Hello, World!\"\n",
    "print(b[2:])"
   ]
  },
  {
   "cell_type": "markdown",
   "metadata": {},
   "source": [
    "# Indexação Negativa\n",
    "Use índices negativos para iniciar a fatia do final da string:\n",
    "\n",
    "#### Exemplo\n",
    "\n",
    "Obtenha os personagens:\n",
    "\n",
    "De: \"o\" em \"Mundo!\" (posição -5)\n",
    "\n",
    "Para, mas não incluído: \"d\" em \"World!\" (posição -2):"
   ]
  },
  {
   "cell_type": "code",
   "execution_count": 4,
   "metadata": {},
   "outputs": [
    {
     "name": "stdout",
     "output_type": "stream",
     "text": [
      "orl\n"
     ]
    }
   ],
   "source": [
    "b = \"Hello, World!\"\n",
    "print(b[-5:-2])"
   ]
  }
 ],
 "metadata": {
  "kernelspec": {
   "display_name": "Python 3",
   "language": "python",
   "name": "python3"
  },
  "language_info": {
   "codemirror_mode": {
    "name": "ipython",
    "version": 3
   },
   "file_extension": ".py",
   "mimetype": "text/x-python",
   "name": "python",
   "nbconvert_exporter": "python",
   "pygments_lexer": "ipython3",
   "version": "3.11.9"
  }
 },
 "nbformat": 4,
 "nbformat_minor": 2
}
