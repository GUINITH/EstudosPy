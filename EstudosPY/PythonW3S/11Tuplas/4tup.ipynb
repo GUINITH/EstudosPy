{
 "cells": [
  {
   "cell_type": "markdown",
   "metadata": {},
   "source": [
    "# Descompacte Tuplas \n",
    "\n",
    "### Desempacotando uma Tupla \n",
    "\n",
    "Quando criamos uma tupla, normalmente atribuimos valores a ela. Isso é chamado de 'empacotar' uma tupla: \n",
    "\n",
    "##### Exemplo:\n"
   ]
  },
  {
   "cell_type": "code",
   "execution_count": 1,
   "metadata": {},
   "outputs": [],
   "source": [
    "frutas = ('Amora', 'Morango', 'Laranja')"
   ]
  },
  {
   "cell_type": "markdown",
   "metadata": {},
   "source": [
    "Mas, em Python, também podemos extrair os valores de volta para variáveis. Isso é chamado de 'descompactar';\n",
    "\n",
    "Descompactando uma tupla: \n",
    "\n"
   ]
  },
  {
   "cell_type": "code",
   "execution_count": 1,
   "metadata": {},
   "outputs": [
    {
     "name": "stdout",
     "output_type": "stream",
     "text": [
      "Amora\n",
      "Morango\n",
      "Laranja\n"
     ]
    }
   ],
   "source": [
    "frutas = ('Amora', 'Morango', 'Laranja')\n",
    "ft1, ft2,ft3 = frutas \n",
    "print(ft1)\n",
    "print(ft2)\n",
    "print(ft3)"
   ]
  },
  {
   "cell_type": "markdown",
   "metadata": {},
   "source": [
    "O número de variáveis deve corresponder ao número de valores na tupla, caso contrário, você deve usar um asterisco para coletar os valores restantes como uma lista. \n"
   ]
  },
  {
   "cell_type": "markdown",
   "metadata": {},
   "source": [
    "# Usando Asteristi`*`\n",
    "\n",
    "Se o número de variáveis for menor que o número de valores, você poderá adicionar um `*` ao nome da variável e os valores serão atribuídos á variável como uma lista: \n",
    "\n",
    "atribua mais valores a lista e guarde esses valores numa variável chamada restante: "
   ]
  },
  {
   "cell_type": "code",
   "execution_count": 3,
   "metadata": {},
   "outputs": [
    {
     "name": "stdout",
     "output_type": "stream",
     "text": [
      "Amora\n",
      "Morango\n",
      "Laranja\n",
      "['Uva', 'Kiwi']\n"
     ]
    }
   ],
   "source": [
    "frutas = ('Amora', 'Morango', 'Laranja','Uva', 'Kiwi')\n",
    "ft1, ft2,ft3,*ft4 = frutas \n",
    "print(ft1)\n",
    "print(ft2)\n",
    "print(ft3)\n",
    "print(ft4)"
   ]
  },
  {
   "cell_type": "markdown",
   "metadata": {},
   "source": [
    "Se o asteristico for adicionado a outro nome de variável que não o último, o Python atribuirá valores à variável até que o número de valores restantes corresponda ao número de variáveis restantes. \n",
    "\n",
    "Adicione uma lista de valores à variável '*ft5': "
   ]
  },
  {
   "cell_type": "code",
   "execution_count": 4,
   "metadata": {},
   "outputs": [
    {
     "name": "stdout",
     "output_type": "stream",
     "text": [
      "Amora\n",
      "Morango\n",
      "Laranja\n",
      "Uva\n",
      "['Kiwi', 'Maça', 'Pera']\n"
     ]
    }
   ],
   "source": [
    "frutas = ('Amora', 'Morango', 'Laranja','Uva', 'Kiwi', 'Maça', 'Pera')\n",
    "ft1, ft2,ft3,ft4, *ft5 = frutas \n",
    "print(ft1)\n",
    "print(ft2)\n",
    "print(ft3)\n",
    "print(ft4)\n",
    "print(ft5)"
   ]
  }
 ],
 "metadata": {
  "kernelspec": {
   "display_name": "Python 3",
   "language": "python",
   "name": "python3"
  },
  "language_info": {
   "codemirror_mode": {
    "name": "ipython",
    "version": 3
   },
   "file_extension": ".py",
   "mimetype": "text/x-python",
   "name": "python",
   "nbconvert_exporter": "python",
   "pygments_lexer": "ipython3",
   "version": "3.11.9"
  }
 },
 "nbformat": 4,
 "nbformat_minor": 2
}
