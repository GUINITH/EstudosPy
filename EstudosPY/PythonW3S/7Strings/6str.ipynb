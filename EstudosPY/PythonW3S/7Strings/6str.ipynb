{
 "cells": [
  {
   "cell_type": "markdown",
   "metadata": {},
   "source": [
    "# Personagem de Fuga: \n",
    "\n",
    "Para inserir caracteres ilegais em uma string, use um caractere de escape. \n",
    "\n",
    "Um caractere de escape é uma barra invertida seguida pelo caractere que você deseja inserir. \n",
    "\n",
    "Um exemplo: de caractere ilegal são aspas dupplas dentro de uma string entre aspas duplas: \n",
    "\n",
    "##### Exemplo: \n",
    "\n",
    "Você receberá um erro se usar aspas duplas dentro de uma string entre aspas duplas:\n",
    "\n",
    "` txt = \"Sou Rubro-Negro, torcedor do \"Flamengo\"\"`\n",
    "\n",
    "Para corrigir ese problema, use o caractere de escape `\\`:"
   ]
  },
  {
   "cell_type": "markdown",
   "metadata": {},
   "source": [
    "# Exemplo: \n",
    "\n",
    "O caractere de escape permite que você use aspas duplas quando normalme não será permitido\n",
    "\n"
   ]
  },
  {
   "cell_type": "code",
   "execution_count": 2,
   "metadata": {},
   "outputs": [
    {
     "name": "stdout",
     "output_type": "stream",
     "text": [
      "Sou Rubro-Negro, torcedor do \"Flamengo\".\n"
     ]
    }
   ],
   "source": [
    "txt = \"Sou Rubro-Negro, torcedor do \\\"Flamengo\\\".\"\n",
    "print(txt)"
   ]
  }
 ],
 "metadata": {
  "kernelspec": {
   "display_name": "Python 3",
   "language": "python",
   "name": "python3"
  },
  "language_info": {
   "codemirror_mode": {
    "name": "ipython",
    "version": 3
   },
   "file_extension": ".py",
   "mimetype": "text/x-python",
   "name": "python",
   "nbconvert_exporter": "python",
   "pygments_lexer": "ipython3",
   "version": "3.11.9"
  }
 },
 "nbformat": 4,
 "nbformat_minor": 2
}
