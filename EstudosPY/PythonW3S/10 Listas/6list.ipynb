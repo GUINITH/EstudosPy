{
 "cells": [
  {
   "cell_type": "markdown",
   "metadata": {},
   "source": [
    "# Python - listas de loops \n",
    "\n",
    "#### Pecorrer uma lista\n",
    "\n",
    "Você pode percorrer os intes da lista usando um for loop:\n",
    "\n",
    "#### Exemplo \n",
    "\n",
    "Imprima todos os itens da lista, um por um:"
   ]
  },
  {
   "cell_type": "code",
   "execution_count": 1,
   "metadata": {},
   "outputs": [
    {
     "name": "stdout",
     "output_type": "stream",
     "text": [
      "Maria\n",
      "Pedro\n",
      "Carla\n",
      "Monique\n"
     ]
    }
   ],
   "source": [
    "students_name = [ 'Maria', 'Pedro', 'Carla', 'Monique']\n",
    "for name in students_name:\n",
    "    print(name)"
   ]
  },
  {
   "cell_type": "markdown",
   "metadata": {},
   "source": [
    "#  Percorrer os números de índice \n",
    "\n",
    "Você também pode percorrer os itens da lista consultando seu número de índice. \n",
    "\n",
    "Use as funções ``range()``e ``len()`` para criar um iterável adequado.\n",
    "\n",
    "#### Exemplo\n",
    "\n",
    "Imprima todos os itens referindo-se ao seu número de índice:\n"
   ]
  },
  {
   "cell_type": "code",
   "execution_count": 2,
   "metadata": {},
   "outputs": [
    {
     "name": "stdout",
     "output_type": "stream",
     "text": [
      "Maria\n",
      "Pedro\n",
      "Carla\n",
      "Monique\n"
     ]
    }
   ],
   "source": [
    "students_name = [ 'Maria', 'Pedro', 'Carla', 'Monique'] \n",
    "for i in range(len(students_name)):\n",
    "    print(students_name[i])"
   ]
  },
  {
   "cell_type": "markdown",
   "metadata": {},
   "source": [
    "O iterável criado no exemplo acima é [0, 1, 2, 3].\n",
    "\n",
    "# Usando um loop while\n",
    "\n",
    "Você pode percorrer os itens da lista usando um ``while`` loop.\n",
    "\n",
    "Use a ``len()``função para determinar o comprimento da lista, então comece em 0 e percorra os itens da lista consultando seus índices.\n",
    "\n",
    "Lembre-se de aumentar o índice em 1 após cada iteração.\n",
    "\n",
    "#### Exemplo\n",
    "\n",
    "Imprima todos os itens, usando um while loop para percorrer todos os números de índice"
   ]
  },
  {
   "cell_type": "code",
   "execution_count": 3,
   "metadata": {},
   "outputs": [
    {
     "name": "stdout",
     "output_type": "stream",
     "text": [
      "0\n",
      "1\n",
      "2\n",
      "3\n",
      "4\n",
      "5\n",
      "6\n",
      "7\n",
      "8\n",
      "9\n",
      "10\n"
     ]
    }
   ],
   "source": [
    "numeros = list(range(11))\n",
    "i = 0 \n",
    "while i < len(numeros):\n",
    "    print(numeros[i])\n",
    "    i+=1"
   ]
  },
  {
   "cell_type": "markdown",
   "metadata": {},
   "source": [
    "# Loop usando compreensão de lista\n",
    "\n",
    "A compreensão de lista oferece a sintaxe mais curta para percorrer listas:\n",
    "\n",
    "#### Exemplo\n",
    "\n",
    "Um pequeno ``for`` loop manual que imprimirá todos os itens de uma lista:"
   ]
  },
  {
   "cell_type": "code",
   "execution_count": 4,
   "metadata": {},
   "outputs": [
    {
     "name": "stdout",
     "output_type": "stream",
     "text": [
      "0\n",
      "1\n",
      "2\n",
      "3\n",
      "4\n",
      "5\n",
      "6\n",
      "7\n",
      "8\n",
      "9\n",
      "10\n"
     ]
    },
    {
     "data": {
      "text/plain": [
       "[None, None, None, None, None, None, None, None, None, None, None]"
      ]
     },
     "execution_count": 4,
     "metadata": {},
     "output_type": "execute_result"
    }
   ],
   "source": [
    "numeros = list(range(11))\n",
    "[print(num) for num in numeros]"
   ]
  },
  {
   "cell_type": "code",
   "execution_count": 5,
   "metadata": {},
   "outputs": [
    {
     "name": "stdout",
     "output_type": "stream",
     "text": [
      "Maria\n",
      "Pedro\n",
      "Carla\n",
      "Monique\n"
     ]
    },
    {
     "data": {
      "text/plain": [
       "[None, None, None, None]"
      ]
     },
     "execution_count": 5,
     "metadata": {},
     "output_type": "execute_result"
    }
   ],
   "source": [
    "students_name = [ 'Maria', 'Pedro', 'Carla', 'Monique'] \n",
    "[print(name) for name in students_name]"
   ]
  }
 ],
 "metadata": {
  "kernelspec": {
   "display_name": "Python 3",
   "language": "python",
   "name": "python3"
  },
  "language_info": {
   "codemirror_mode": {
    "name": "ipython",
    "version": 3
   },
   "file_extension": ".py",
   "mimetype": "text/x-python",
   "name": "python",
   "nbconvert_exporter": "python",
   "pygments_lexer": "ipython3",
   "version": "3.11.9"
  }
 },
 "nbformat": 4,
 "nbformat_minor": 2
}
