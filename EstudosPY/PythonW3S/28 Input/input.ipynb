{
 "cells": [
  {
   "cell_type": "markdown",
   "metadata": {},
   "source": [
    "## Entrada do usuário Python \n",
    "\n",
    "Python permite a entrada do usuário. \n",
    "\n",
    "Isso sgnifica que poderemos pedir a entrtada do usuário. \n",
    "\n",
    "O método é um pouco diferente no Python 3.6 do que no Python 2.7. \n",
    "\n",
    "Python 3.6 usa o m´petodo. input()\n",
    "\n",
    "Python 2.7 usa o método. raw_input()\n",
    "\n",
    "O exemplo a seguir solicita o nome de usuário e quando, você digita o nome de usuário, ele é impresso A tela: \n"
   ]
  },
  {
   "cell_type": "code",
   "execution_count": 1,
   "metadata": {},
   "outputs": [
    {
     "name": "stdout",
     "output_type": "stream",
     "text": [
      "Bem vindo Gui!\n"
     ]
    }
   ],
   "source": [
    "user_name = input('Digite seu nome: ')\n",
    "print(F'Bem vindo {user_name}!')\n",
    "\n"
   ]
  },
  {
   "cell_type": "markdown",
   "metadata": {},
   "source": [
    "Antigamente era feito da maneira abaixo, mas ela não funciona. Foi removida nas atualizações posteriores! "
   ]
  },
  {
   "cell_type": "code",
   "execution_count": null,
   "metadata": {},
   "outputs": [],
   "source": [
    "user_name = raw_input('Digite seu nome: ')\n",
    "print(F'Bem vindo {user_name}!')"
   ]
  },
  {
   "cell_type": "markdown",
   "metadata": {},
   "source": [
    "Python para de executar quando se trata da função `input()`, e continua quando o usuário dado alquma entrada. \n"
   ]
  }
 ],
 "metadata": {
  "kernelspec": {
   "display_name": "Python 3",
   "language": "python",
   "name": "python3"
  },
  "language_info": {
   "codemirror_mode": {
    "name": "ipython",
    "version": 3
   },
   "file_extension": ".py",
   "mimetype": "text/x-python",
   "name": "python",
   "nbconvert_exporter": "python",
   "pygments_lexer": "ipython3",
   "version": "3.11.9"
  }
 },
 "nbformat": 4,
 "nbformat_minor": 2
}
