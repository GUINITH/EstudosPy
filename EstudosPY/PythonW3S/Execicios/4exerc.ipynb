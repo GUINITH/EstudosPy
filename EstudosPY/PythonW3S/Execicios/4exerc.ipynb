{
 "cells": [
  {
   "cell_type": "markdown",
   "metadata": {},
   "source": [
    "\n",
    "### Exercício 1: Criação e Acesso Básico\n",
    "1. Crie um dicionário chamado `aluno` com as seguintes chaves e valores:\n",
    "   - `nome`: \"Ana\"\n",
    "   - `idade`: 22\n",
    "   - `curso`: \"Engenharia\"\n",
    "2. Acesse e imprima o valor associado à chave `nome`.\n",
    "3. Acesse e imprima o valor associado à chave `idade`.\n"
   ]
  },
  {
   "cell_type": "code",
   "execution_count": 1,
   "metadata": {},
   "outputs": [
    {
     "name": "stdout",
     "output_type": "stream",
     "text": [
      "Ana 22\n"
     ]
    }
   ],
   "source": [
    "aluno = {\n",
    "    'nome': 'Ana', \n",
    "    'idade': 22,\n",
    "    'curso': 'Engenharia'\n",
    "}\n",
    "print(aluno['nome'], aluno['idade'])"
   ]
  },
  {
   "cell_type": "markdown",
   "metadata": {},
   "source": [
    "\n",
    "### Exercício 2: Adição e Remoção de Itens\n",
    "1. Adicione uma nova chave `nota` ao dicionário `aluno` com o valor 8.5.\n",
    "2. Remova a chave `idade` do dicionário.\n",
    "3. Imprima o dicionário atualizado.\n",
    "\n"
   ]
  },
  {
   "cell_type": "code",
   "execution_count": 2,
   "metadata": {},
   "outputs": [
    {
     "name": "stdout",
     "output_type": "stream",
     "text": [
      "{'nome': 'Ana', 'curso': 'Engenharia', 'nota': 8.5}\n"
     ]
    }
   ],
   "source": [
    "aluno['nota'] = 8.5\n",
    "aluno.pop('idade')\n",
    "print(aluno)"
   ]
  },
  {
   "cell_type": "markdown",
   "metadata": {},
   "source": [
    "\n",
    "### Exercício 3: Verificação de Chaves e Valores\n",
    "1. Verifique se a chave `curso` está no dicionário `aluno` e imprima o resultado.\n",
    "2. Verifique se o valor \"Ana\" está no dicionário `aluno` e imprima o resultado.\n",
    "\n"
   ]
  },
  {
   "cell_type": "code",
   "execution_count": 7,
   "metadata": {},
   "outputs": [
    {
     "name": "stdout",
     "output_type": "stream",
     "text": [
      "sim!\n"
     ]
    }
   ],
   "source": [
    "if 'curso' in aluno:\n",
    "    print('sim!')\n",
    "\n"
   ]
  },
  {
   "cell_type": "code",
   "execution_count": 8,
   "metadata": {},
   "outputs": [],
   "source": [
    "if 'Ana' in aluno: \n",
    "    print('Sim!')"
   ]
  },
  {
   "cell_type": "markdown",
   "metadata": {},
   "source": [
    "\n",
    "### Exercício 4: Iteração em Dicionários\n",
    "1. Crie um dicionário chamado `notas` com os seguintes pares chave-valor:\n",
    "   - `Matemática`: 7.5\n",
    "   - `História`: 8.0\n",
    "   - `Biologia`: 9.0\n",
    "2. Use um loop `for` para iterar sobre as chaves do dicionário e imprimir cada chave.\n",
    "3. Use um loop `for` para iterar sobre os valores do dicionário e imprimir cada valor."
   ]
  },
  {
   "cell_type": "code",
   "execution_count": 9,
   "metadata": {},
   "outputs": [
    {
     "name": "stdout",
     "output_type": "stream",
     "text": [
      "matemática 7.5\n",
      "histório 8.0\n",
      "biologia 9.0\n"
     ]
    }
   ],
   "source": [
    "notas = { \n",
    "    'matemática': 7.5,\n",
    "    'histório' : 8.0,\n",
    "    'biologia' : 9.0\n",
    "}\n",
    "for nota, valor in notas.items():\n",
    "    print(nota,valor)"
   ]
  },
  {
   "cell_type": "markdown",
   "metadata": {},
   "source": [
    "\n",
    "\n",
    "### Exercício 5: Métodos de Dicionários\n",
    "1. Crie um dicionário chamado `frutas` com os seguintes pares chave-valor:\n",
    "   - `maçã`: 10\n",
    "   - `banana`: 5\n",
    "   - `cereja`: 20\n",
    "2. Use o método `get` para obter o valor associado à chave `banana`.\n",
    "3. Use o método `pop` para remover a chave `cereja` do dicionário e imprimir o valor removido.\n",
    "4. Use o método `keys` para obter uma lista das chaves do dicionário e imprima a lista.\n",
    "5. Use o método `values` para obter uma lista dos valores do dicionário e imprima a lista.\n",
    "\n"
   ]
  },
  {
   "cell_type": "code",
   "execution_count": 14,
   "metadata": {},
   "outputs": [
    {
     "name": "stdout",
     "output_type": "stream",
     "text": [
      "5\n",
      "20\n",
      "dict_keys(['maçã', 'banana'])\n",
      "dict_values([10, 5])\n"
     ]
    }
   ],
   "source": [
    "frutas = { \n",
    "    'maçã': 10,\n",
    "    'banana': 5, \n",
    "    'cereja': 20 \n",
    "}\n",
    "buscar_fruta = frutas.get('banana')\n",
    "\n",
    "remover_fruta = frutas.pop('cereja')\n",
    "\n",
    "chaves = frutas.keys()\n",
    "\n",
    "valores = frutas.values()\n",
    "\n",
    "print(buscar_fruta)\n",
    "print(remover_fruta)\n",
    "print(chaves)\n",
    "print(valores)"
   ]
  },
  {
   "cell_type": "markdown",
   "metadata": {},
   "source": [
    "\n",
    "\n",
    "### Exercício 6: Uso de Operadores Lógicos\n",
    "1. Crie duas variáveis `a` e `b` e atribua valores booleanos a elas.\n",
    "2. Verifique as seguintes condições:\n",
    "   - Se ambos `a` e `b` forem verdadeiros, imprima \"Ambos são verdadeiros\".\n",
    "   - Se `a` ou `b` for verdadeiro, mas não ambos, imprima \"Apenas um é verdadeiro\".\n",
    "   - Se nenhum for verdadeiro, imprima \"Nenhum é verdadeiro\".\n"
   ]
  },
  {
   "cell_type": "code",
   "execution_count": 15,
   "metadata": {},
   "outputs": [
    {
     "name": "stdout",
     "output_type": "stream",
     "text": [
      "Falso\n"
     ]
    }
   ],
   "source": [
    "a = {\n",
    "    'verdadeiro': True \n",
    "}\n",
    "b = {\n",
    "    'falso': False\n",
    "}\n",
    "if a and b == True:\n",
    "    print('Ambos são verdadeiros')\n",
    "else: \n",
    "    print('Falso')"
   ]
  },
  {
   "cell_type": "code",
   "execution_count": 16,
   "metadata": {},
   "outputs": [
    {
     "name": "stdout",
     "output_type": "stream",
     "text": [
      "Apenas a é verdadeiro\n"
     ]
    }
   ],
   "source": [
    "if a or b == True: \n",
    "    print('Apenas a é verdadeiro')\n"
   ]
  },
  {
   "cell_type": "code",
   "execution_count": 17,
   "metadata": {},
   "outputs": [],
   "source": [
    "if not a and b == True: \n",
    "    print('Nenhum é verdadeiro!')"
   ]
  },
  {
   "cell_type": "markdown",
   "metadata": {},
   "source": [
    "\n",
    "\n",
    "### Exercício 7: Verificação de Dicionários\n",
    "1. Crie um dicionário chamado `aluno` com as seguintes chaves e valores:\n",
    "   - `nome`: \"Maria\"\n",
    "   - `idade`: 20\n",
    "   - `curso`: \"Medicina\"\n",
    "2. Verifique se a chave `curso` está no dicionário `aluno`. Se estiver, imprima o valor associado a essa chave. Caso contrário, imprima \"Curso não encontrado\".\n"
   ]
  },
  {
   "cell_type": "code",
   "execution_count": 18,
   "metadata": {},
   "outputs": [
    {
     "name": "stdout",
     "output_type": "stream",
     "text": [
      "Medicina\n"
     ]
    }
   ],
   "source": [
    "aluno = {\n",
    "    'nome': 'Maria', \n",
    "    'idade': 20,\n",
    "    'curso': 'Medicina'\n",
    "}\n",
    "if 'curso' in aluno: \n",
    "    print(aluno['curso'])\n",
    "else: \n",
    "    print('curso não encontrado')"
   ]
  }
 ],
 "metadata": {
  "kernelspec": {
   "display_name": "Python 3",
   "language": "python",
   "name": "python3"
  },
  "language_info": {
   "codemirror_mode": {
    "name": "ipython",
    "version": 3
   },
   "file_extension": ".py",
   "mimetype": "text/x-python",
   "name": "python",
   "nbconvert_exporter": "python",
   "pygments_lexer": "ipython3",
   "version": "3.11.9"
  }
 },
 "nbformat": 4,
 "nbformat_minor": 2
}
