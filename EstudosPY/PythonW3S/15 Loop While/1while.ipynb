{
 "cells": [
  {
   "cell_type": "markdown",
   "metadata": {},
   "source": [
    "# While em Python \n",
    "\n",
    "### Loops Python \n",
    "\n",
    "Python tem dois comandos de loop primitivos: \n",
    "\n",
    "- ``while`` faz loops\n",
    "- ``for`` laços \n",
    "\n",
    "## O loop while(Enquianto)\n",
    "\n",
    "Com o loop while podemos executar um conjunto de instruções, desde que uma condição seja verdadeira. \n",
    "\n",
    "Imprima i desde que i seja menor que 6:"
   ]
  },
  {
   "cell_type": "code",
   "execution_count": 2,
   "metadata": {},
   "outputs": [
    {
     "name": "stdout",
     "output_type": "stream",
     "text": [
      "1\n",
      "2\n",
      "3\n",
      "4\n",
      "5\n"
     ]
    }
   ],
   "source": [
    "i = 1\n",
    "while i < 6:\n",
    "    print(i)\n",
    "    i+=1\n"
   ]
  },
  {
   "cell_type": "code",
   "execution_count": 4,
   "metadata": {},
   "outputs": [
    {
     "name": "stdout",
     "output_type": "stream",
     "text": [
      "1\n",
      "3\n",
      "5\n",
      "7\n",
      "9\n"
     ]
    }
   ],
   "source": [
    "contador = 1 \n",
    "while contador < 10:\n",
    "    print(contador)\n",
    "    contador+=2"
   ]
  },
  {
   "cell_type": "markdown",
   "metadata": {},
   "source": [
    "O loop `while` requer que variáveis relevantes estejam pprontas, neste exemplo precisamos definir uma variável de indexação, i, que definimos como 1. \n",
    "\n",
    "\n",
    "## A delcaração de ruptura: \n",
    "\n",
    "Com a instrução `break` podemos parar o loop mesmo se a condição while for verdadeira: \n",
    "\n",
    "saida do loop quando i for 3: \n",
    "\n"
   ]
  },
  {
   "cell_type": "code",
   "execution_count": 5,
   "metadata": {},
   "outputs": [
    {
     "name": "stdout",
     "output_type": "stream",
     "text": [
      "1\n",
      "2\n",
      "3\n"
     ]
    }
   ],
   "source": [
    "i = 1 \n",
    "while i < 6:\n",
    "    print(i)\n",
    "    if i == 3:\n",
    "        break\n",
    "    i+=1 \n"
   ]
  },
  {
   "cell_type": "markdown",
   "metadata": {},
   "source": [
    "## A declaração de continuação \n",
    "\n",
    "Com a instrução `continue` podemos parar a iteração atual e continuar com a próxima: \n",
    "\n",
    "Continue para próxima interação se i for 3: \n"
   ]
  },
  {
   "cell_type": "code",
   "execution_count": 6,
   "metadata": {},
   "outputs": [
    {
     "name": "stdout",
     "output_type": "stream",
     "text": [
      "1\n",
      "2\n",
      "4\n",
      "5\n",
      "6\n"
     ]
    }
   ],
   "source": [
    "i = 0 \n",
    "while i < 6:\n",
    "    i+=1 \n",
    "    if i == 3: \n",
    "        continue\n",
    "    print(i)"
   ]
  },
  {
   "cell_type": "markdown",
   "metadata": {},
   "source": [
    "## A declaração else \n",
    "\n",
    "Com a instrução `else` podemos executar um bloco de código uma vez quando a condição não for mais verdadeira: \n",
    "\n",
    "Imprima uma mensagem quando a condição for falsa:"
   ]
  },
  {
   "cell_type": "code",
   "execution_count": 8,
   "metadata": {},
   "outputs": [
    {
     "name": "stdout",
     "output_type": "stream",
     "text": [
      "1\n",
      "2\n",
      "3\n",
      "4\n",
      "5\n",
      "i é igual a 6\n"
     ]
    }
   ],
   "source": [
    "i = 1 \n",
    "while i<6:\n",
    "    print(i)\n",
    "    i+= 1\n",
    "else: \n",
    "    print('i é igual a 6')\n"
   ]
  }
 ],
 "metadata": {
  "kernelspec": {
   "display_name": "Python 3",
   "language": "python",
   "name": "python3"
  },
  "language_info": {
   "codemirror_mode": {
    "name": "ipython",
    "version": 3
   },
   "file_extension": ".py",
   "mimetype": "text/x-python",
   "name": "python",
   "nbconvert_exporter": "python",
   "pygments_lexer": "ipython3",
   "version": "3.11.9"
  }
 },
 "nbformat": 4,
 "nbformat_minor": 2
}
