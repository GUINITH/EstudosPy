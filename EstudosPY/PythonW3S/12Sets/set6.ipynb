{
 "cells": [
  {
   "cell_type": "markdown",
   "metadata": {},
   "source": [
    "# Conjkuntos de Junção \n",
    "\n",
    "Exitem varias maneira sde unir dois ou mais conjuntos em Python. \n",
    "\n",
    "Os métodos `union()` e `update()` une todos os itens de ambos os conjuntos. \n",
    "\n",
    "O método `intersection()` mantém somente as duplicatas. \n",
    "\n",
    "O método `difference()` mantém os itens do primeiro conjunto que não estão nos outros conjuntos.\n",
    "\n",
    "O método `symmetric_difference()` mentém todos os itens excerto as duplicatas. \n",
    "\n",
    "\n",
    "## O Union \n",
    "\n",
    "O método `union()` retorna um novo conjunto com todos os itens de ambos os conjuntos.\n",
    "\n",
    "Junte dois conjuntos e forme um nome conjunto: "
   ]
  },
  {
   "cell_type": "code",
   "execution_count": 1,
   "metadata": {},
   "outputs": [
    {
     "name": "stdout",
     "output_type": "stream",
     "text": [
      "{'c', 2, 4, 6, 'b', 'a'}\n"
     ]
    }
   ],
   "source": [
    "set1 = {'a','b','c'}\n",
    "set2 = {2,4,6}\n",
    "set3 = set1.union(set2)\n",
    "print(set3) "
   ]
  },
  {
   "cell_type": "markdown",
   "metadata": {},
   "source": [
    "Você pode usar o operador `|` em vez do método `union()`, e você obterá o mesmo resultado "
   ]
  },
  {
   "cell_type": "code",
   "execution_count": 5,
   "metadata": {},
   "outputs": [
    {
     "name": "stdout",
     "output_type": "stream",
     "text": [
      "{'c', 2, 4, 6, 'b', 'a'}\n"
     ]
    }
   ],
   "source": [
    "\n",
    "set1 = {'a','b','c'}\n",
    "set2 = {2,4,6}\n",
    "set3 = set1|set2\n",
    "print(set3) "
   ]
  },
  {
   "cell_type": "markdown",
   "metadata": {},
   "source": [
    "## Junte vários conjuntos \n",
    "\n",
    "Todos os métodos e operadores de junção podem ser usados para unir varios conjuntos \n",
    "\n",
    "Ao usar o método union, basta adicionar mais conjuntos entre parênteses, separados por vírgulas: \n"
   ]
  },
  {
   "cell_type": "code",
   "execution_count": 3,
   "metadata": {},
   "outputs": [
    {
     "name": "stdout",
     "output_type": "stream",
     "text": [
      "{False, 'c', 2, True, 4, 6, 'b', 'a', -5, -2, -33}\n"
     ]
    }
   ],
   "source": [
    "set1 = {'a','b','c'}\n",
    "set2 = {2,4,6}\n",
    "set3 = {-5,-2,-33}\n",
    "set4 ={True, False}\n",
    "set5 = set1.union(set2, set3,set4)\n",
    "print(set5)"
   ]
  },
  {
   "cell_type": "markdown",
   "metadata": {},
   "source": [
    "Ao usar o operador `|`, separe os conjuntos com mais opreradores: "
   ]
  },
  {
   "cell_type": "code",
   "execution_count": 4,
   "metadata": {},
   "outputs": [
    {
     "name": "stdout",
     "output_type": "stream",
     "text": [
      "{False, 'c', 2, True, 4, 6, 'b', 'a', -5, -2, -33}\n"
     ]
    }
   ],
   "source": [
    "set1 = {'a','b','c'}\n",
    "set2 = {2,4,6}\n",
    "set3 = {-5,-2,-33}\n",
    "set4 ={True, False}\n",
    "set5 = set1 | set2 | set3| set4\n",
    "print(set5)"
   ]
  },
  {
   "cell_type": "markdown",
   "metadata": {},
   "source": [
    "## Junte um conjunto a uma tupla \n",
    "\n",
    "O método ``union()` permite unir um conjunto com outros tipos de dados, como listas ou tuplas. \n",
    "\n",
    "O resultado será um conjunto: "
   ]
  },
  {
   "cell_type": "code",
   "execution_count": 1,
   "metadata": {},
   "outputs": [
    {
     "name": "stdout",
     "output_type": "stream",
     "text": [
      "{3, 4, 6, 8, 9, 12, 15, 16, 20}\n"
     ]
    }
   ],
   "source": [
    "tupla = tuple(range(3,16,3))\n",
    "conjunto = set(range(4,21,4))\n",
    "join_element = conjunto.union(tupla)\n",
    "print(join_element)"
   ]
  },
  {
   "cell_type": "markdown",
   "metadata": {},
   "source": [
    "O operador `|` só permite unir conjunto com conjuntos e não com, outros tipos de dados como você pode fazer com o método `union()`\n",
    "\n"
   ]
  },
  {
   "cell_type": "markdown",
   "metadata": {},
   "source": [
    "# Atualizar \n",
    "\n",
    "O método `update()` insere todos os itens de um conjunto em outro. \n",
    "O update() altera o conjunto original e não retorna um novo conjunto.\n",
    "\n",
    "Exemplo\n",
    "O update()método insere os itens do set2 no set1:\n"
   ]
  },
  {
   "cell_type": "code",
   "execution_count": 2,
   "metadata": {},
   "outputs": [
    {
     "name": "stdout",
     "output_type": "stream",
     "text": [
      "{'c', 1, 'a', 'b', 2, 3}\n"
     ]
    }
   ],
   "source": [
    "set1 = {\"a\", \"b\" , \"c\"}\n",
    "set2 = {1, 2, 3}\n",
    "\n",
    "set1.update(set2)\n",
    "print(set1)"
   ]
  },
  {
   "cell_type": "markdown",
   "metadata": {},
   "source": [
    "Ambos union()e update() excluirão quaisquer itens duplicados."
   ]
  },
  {
   "cell_type": "markdown",
   "metadata": {},
   "source": [
    "Interseção\n",
    "Mantenha SOMENTE as duplicatas\n",
    "\n",
    "O ``intersection()`` método retornará um novo conjunto, que contém apenas os itens que estão presentes em ambos os conjuntos.\n",
    "\n",
    "Junte set1 e set2, mas mantenha apenas as duplicatas:\n",
    "\n"
   ]
  },
  {
   "cell_type": "code",
   "execution_count": 3,
   "metadata": {},
   "outputs": [
    {
     "name": "stdout",
     "output_type": "stream",
     "text": [
      "{'apple'}\n"
     ]
    }
   ],
   "source": [
    "set1 = {\"apple\", \"banana\", \"cherry\"}\n",
    "set2 = {\"google\", \"microsoft\", \"apple\"}\n",
    "\n",
    "set3 = set1.intersection(set2)\n",
    "print(set3)"
   ]
  },
  {
   "cell_type": "markdown",
   "metadata": {},
   "source": [
    "Você pode usar o &operador em vez do intersection()método e obterá o mesmo resultado.\n",
    "\n",
    "Use & para juntar dois conjuntos:"
   ]
  },
  {
   "cell_type": "code",
   "execution_count": 4,
   "metadata": {},
   "outputs": [
    {
     "name": "stdout",
     "output_type": "stream",
     "text": [
      "{'apple'}\n"
     ]
    }
   ],
   "source": [
    "set1 = {\"apple\", \"banana\", \"cherry\"}\n",
    "set2 = {\"google\", \"microsoft\", \"apple\"}\n",
    "\n",
    "set3 = set1 & set2\n",
    "print(set3)"
   ]
  },
  {
   "cell_type": "markdown",
   "metadata": {},
   "source": [
    "O & operador só permite unir conjuntos com conjuntos, e não com outros tipos de dados como você pode fazer com o intersection()método."
   ]
  },
  {
   "cell_type": "markdown",
   "metadata": {},
   "source": [
    "O intersection_update()método também manterá SOMENTE as duplicatas, mas alterará o conjunto original em vez de retornar um novo conjunto.\n",
    "\n",
    "Exemplo\n",
    "Mantenha os itens que existem em ambos set1e set2:"
   ]
  },
  {
   "cell_type": "code",
   "execution_count": 5,
   "metadata": {},
   "outputs": [
    {
     "name": "stdout",
     "output_type": "stream",
     "text": [
      "{'apple'}\n"
     ]
    }
   ],
   "source": [
    "set1 = {\"apple\", \"banana\", \"cherry\"}\n",
    "set2 = {\"google\", \"microsoft\", \"apple\"}\n",
    "\n",
    "set1.intersection_update(set2)\n",
    "\n",
    "print(set1)"
   ]
  },
  {
   "cell_type": "markdown",
   "metadata": {},
   "source": [
    "Os valores Truee 1 são considerados o mesmo valor. O mesmo vale para Falsee 0.\n",
    "\n",
    "Junte-se a conjuntos que contêm os valores True, False, 1e 0, e veja o que é considerado duplicado:"
   ]
  },
  {
   "cell_type": "code",
   "execution_count": 6,
   "metadata": {},
   "outputs": [
    {
     "name": "stdout",
     "output_type": "stream",
     "text": [
      "{False, 1, 'apple'}\n"
     ]
    }
   ],
   "source": [
    "set1 = {\"apple\", 1,  \"banana\", 0, \"cherry\"}\n",
    "set2 = {False, \"google\", 1, \"apple\", 2, True}\n",
    "\n",
    "set3 = set1.intersection(set2)\n",
    "\n",
    "print(set3)"
   ]
  },
  {
   "cell_type": "markdown",
   "metadata": {},
   "source": [
    "# Diferença\n",
    "O difference() método retornará um novo conjunto que conterá apenas os itens do primeiro conjunto que não estão presentes no outro conjunto.\n",
    "\n",
    "#### Exemplo\n",
    "Mantenha todos os itens do set1 que não estão no set2:"
   ]
  },
  {
   "cell_type": "code",
   "execution_count": 7,
   "metadata": {},
   "outputs": [
    {
     "name": "stdout",
     "output_type": "stream",
     "text": [
      "{'banana', 'cherry'}\n"
     ]
    }
   ],
   "source": [
    "set1 = {\"apple\", \"banana\", \"cherry\"}\n",
    "set2 = {\"google\", \"microsoft\", \"apple\"}\n",
    "\n",
    "set3 = set1.difference(set2)\n",
    "\n",
    "print(set3)"
   ]
  },
  {
   "cell_type": "markdown",
   "metadata": {},
   "source": [
    "Você pode usar o -operador em vez do difference()método e obterá o mesmo resultado.\n",
    "\n",
    "Exemplo\n",
    "\n",
    "Use -para juntar dois conjuntos:"
   ]
  },
  {
   "cell_type": "code",
   "execution_count": 8,
   "metadata": {},
   "outputs": [
    {
     "name": "stdout",
     "output_type": "stream",
     "text": [
      "{'banana', 'cherry'}\n"
     ]
    }
   ],
   "source": [
    "set1 = {\"apple\", \"banana\", \"cherry\"}\n",
    "set2 = {\"google\", \"microsoft\", \"apple\"}\n",
    "\n",
    "set3 = set1 - set2\n",
    "print(set3)"
   ]
  },
  {
   "cell_type": "markdown",
   "metadata": {},
   "source": [
    " O - operador só permite unir conjuntos com conjuntos, e não com outros tipos de dados como você pode fazer com o difference()método.\n",
    "\n",
    " O difference_update() método também manterá os itens do primeiro conjunto que não estão no outro conjunto, mas alterará o conjunto original em vez de retornar um novo conjunto.\n",
    "\n",
    " Use o difference_update()método para manter os itens que não estão presentes em ambos os conjuntos:"
   ]
  },
  {
   "cell_type": "code",
   "execution_count": 9,
   "metadata": {},
   "outputs": [
    {
     "name": "stdout",
     "output_type": "stream",
     "text": [
      "{'banana', 'cherry'}\n"
     ]
    }
   ],
   "source": [
    "set1 = {\"apple\", \"banana\", \"cherry\"}\n",
    "set2 = {\"google\", \"microsoft\", \"apple\"}\n",
    "\n",
    "set1.difference_update(set2)\n",
    "\n",
    "print(set1)"
   ]
  },
  {
   "cell_type": "markdown",
   "metadata": {},
   "source": [
    "## Diferenças Simétricas\n",
    "O symmetric_difference() método manterá apenas os elementos que NÃO estão presentes em ambos os conjuntos.\n",
    "\n",
    "Exemplo\n",
    "Mantenha os itens que não estão presentes em ambos os conjuntos:"
   ]
  },
  {
   "cell_type": "code",
   "execution_count": 10,
   "metadata": {},
   "outputs": [
    {
     "name": "stdout",
     "output_type": "stream",
     "text": [
      "{'google', 'banana', 'cherry', 'microsoft'}\n"
     ]
    }
   ],
   "source": [
    "set1 = {\"apple\", \"banana\", \"cherry\"}\n",
    "set2 = {\"google\", \"microsoft\", \"apple\"}\n",
    "\n",
    "set3 = set1.symmetric_difference(set2)\n",
    "\n",
    "print(set3)"
   ]
  },
  {
   "cell_type": "markdown",
   "metadata": {},
   "source": [
    "Você pode usar o ^operador em vez do symmetric_difference()método e obterá o mesmo resultado.\n",
    "\n",
    "Exemplo\n",
    "\n",
    "Use ^para juntar dois conjuntos:"
   ]
  },
  {
   "cell_type": "code",
   "execution_count": 11,
   "metadata": {},
   "outputs": [
    {
     "name": "stdout",
     "output_type": "stream",
     "text": [
      "{'google', 'banana', 'cherry', 'microsoft'}\n"
     ]
    }
   ],
   "source": [
    "set1 = {\"apple\", \"banana\", \"cherry\"}\n",
    "set2 = {\"google\", \"microsoft\", \"apple\"}\n",
    "\n",
    "set3 = set1 ^ set2\n",
    "print(set3)"
   ]
  },
  {
   "cell_type": "markdown",
   "metadata": {},
   "source": [
    " symmetric_difference_update()método também manterá tudo, exceto as duplicatas, mas alterará o conjunto original em vez de retornar um novo conjunto.\n",
    "\n",
    "Exemplo\n",
    "Use o symmetric_difference_update()método para manter os itens que não estão presentes em ambos os conjuntos:"
   ]
  },
  {
   "cell_type": "code",
   "execution_count": 12,
   "metadata": {},
   "outputs": [
    {
     "name": "stdout",
     "output_type": "stream",
     "text": [
      "{'google', 'banana', 'cherry', 'microsoft'}\n"
     ]
    }
   ],
   "source": [
    "set1 = {\"apple\", \"banana\", \"cherry\"}\n",
    "set2 = {\"google\", \"microsoft\", \"apple\"}\n",
    "\n",
    "set1.symmetric_difference_update(set2)\n",
    "\n",
    "print(set1)"
   ]
  }
 ],
 "metadata": {
  "kernelspec": {
   "display_name": "Python 3",
   "language": "python",
   "name": "python3"
  },
  "language_info": {
   "codemirror_mode": {
    "name": "ipython",
    "version": 3
   },
   "file_extension": ".py",
   "mimetype": "text/x-python",
   "name": "python",
   "nbconvert_exporter": "python",
   "pygments_lexer": "ipython3",
   "version": "3.11.9"
  }
 },
 "nbformat": 4,
 "nbformat_minor": 2
}
