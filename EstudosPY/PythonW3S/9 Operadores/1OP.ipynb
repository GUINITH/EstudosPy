{
 "cells": [
  {
   "cell_type": "markdown",
   "metadata": {},
   "source": [
    "# Operadores Python \n",
    "\n",
    "Operadores são usados para realizar operaçoes em variáveis e valores. \n",
    "\n",
    "No exemplo abaixo, usamos o + operador para somar dois valores: \n",
    "\n",
    "#### Exemplo: \n"
   ]
  },
  {
   "cell_type": "code",
   "execution_count": 1,
   "metadata": {},
   "outputs": [
    {
     "name": "stdout",
     "output_type": "stream",
     "text": [
      "15\n"
     ]
    }
   ],
   "source": [
    "print(10 + 5)"
   ]
  },
  {
   "cell_type": "markdown",
   "metadata": {},
   "source": [
    "# Python divide os operadores nos seguintes grupos:\n",
    "- Operadores aritméticos\n",
    "- Operadores de atribuição\n",
    "- Operadores de comparação\n",
    "- Operadores lógicos\n",
    "- Operadores de identidade\n",
    "- Operadores de adesão\n",
    "- Operadores bit a bit"
   ]
  },
  {
   "cell_type": "markdown",
   "metadata": {},
   "source": [
    "# Operadores Aritméticos Python \n",
    "\n",
    "O peradores aritéticos são usados com valores números para realizar operações matemáticas comuns: \n",
    "\n",
    "- Operadores: ``+, - *, / %, **, //``\n",
    "- é igual á: `` Adição, subtração, multippplicação, divisão, resto, exponenciação, divisão flootuante ``"
   ]
  },
  {
   "cell_type": "code",
   "execution_count": 5,
   "metadata": {},
   "outputs": [
    {
     "name": "stdout",
     "output_type": "stream",
     "text": [
      "55\n",
      "-12\n",
      "300\n",
      "5.0\n",
      "0\n",
      "110075314176\n",
      "10\n"
     ]
    }
   ],
   "source": [
    "print(22 + 33) # adição \n",
    "print(33- 45) # subtração \n",
    "print(100 * 3) # Multiplicação \n",
    "print(25 / 5) # Divisão flutuate \n",
    "print(1000 % 100) # Resto \n",
    "print(24 ** 8) # Exponênciação \n",
    "print(100 // 10) # divisão inteira"
   ]
  },
  {
   "cell_type": "markdown",
   "metadata": {},
   "source": [
    "# Operadores de Atribuição Python\n",
    "\n",
    "Operadores de atribuição são usados ​​para atribuir valores a variáveis: \n",
    "\n",
    "Operadores: \n",
    " - `=` operador de atribuição\n",
    " - `+=` operador de atribui e soma\n",
    " - `-=` operador de atribui e subtrai \n",
    " - ``*=`` operador que atribui e multiplica \n",
    " - `/=` operador que atribui e divide \n",
    " - `/=` operador que atribui e modula o resto da divisão\n",
    "\n",
    "\n"
   ]
  },
  {
   "cell_type": "code",
   "execution_count": 6,
   "metadata": {},
   "outputs": [
    {
     "name": "stdout",
     "output_type": "stream",
     "text": [
      "\n",
      "Exemplo:\n",
      "\n",
      "Operador\tExemplo\t                Equivalente a\n",
      "=\t        x = 1\t                 x = 1\n",
      "+=\t        x += 1\t                 x = x + 1\n",
      "-=\t        x -= 1\t                 x = x - 1\n",
      "*=\t        x *= 1\t                 x = x * 1\n",
      "/=\t        x /= 1\t                 x = x / 1\n",
      "%=\t        x %= 1\t                 x = x % 1\n",
      "\n",
      "\n"
     ]
    }
   ],
   "source": [
    "exemplo = \"\"\"\n",
    "Exemplo:\n",
    "\n",
    "Operador\tExemplo\t                Equivalente a\n",
    "=\t        x = 1\t                 x = 1\n",
    "+=\t        x += 1\t                 x = x + 1\n",
    "-=\t        x -= 1\t                 x = x - 1\n",
    "*=\t        x *= 1\t                 x = x * 1\n",
    "/=\t        x /= 1\t                 x = x / 1\n",
    "%=\t        x %= 1\t                 x = x % 1\n",
    "\n",
    "\"\"\"\n",
    "print(exemplo)"
   ]
  }
 ],
 "metadata": {
  "kernelspec": {
   "display_name": "Python 3",
   "language": "python",
   "name": "python3"
  },
  "language_info": {
   "codemirror_mode": {
    "name": "ipython",
    "version": 3
   },
   "file_extension": ".py",
   "mimetype": "text/x-python",
   "name": "python",
   "nbconvert_exporter": "python",
   "pygments_lexer": "ipython3",
   "version": "3.11.9"
  }
 },
 "nbformat": 4,
 "nbformat_minor": 2
}
