{
 "cells": [
  {
   "cell_type": "markdown",
   "metadata": {},
   "source": [
    "# Classes e Objetos Python\n",
    "\n",
    "Python é uma linguagem de programação orientada a objetos. \n",
    "\n",
    "Quase tudo em Python é um objeto, com suas propriedades e métodos. \n",
    "\n",
    "Uma clase é como um construtor de objetos, ou um \"blueprint\" para criar objetos. \n",
    "\n",
    "## Criar uma classe\n",
    "\n",
    "Para criar uma classe use a palavra-chave: ``class``\n",
    "\n",
    "Crie uma classe chamada MyClass, com uma prorpiedade chamada x: "
   ]
  },
  {
   "cell_type": "code",
   "execution_count": 1,
   "metadata": {},
   "outputs": [],
   "source": [
    "class myClass: \n",
    "    x = 5 \n",
    "    "
   ]
  },
  {
   "cell_type": "markdown",
   "metadata": {},
   "source": [
    "## Criar objeto \n",
    "\n",
    "Agora podemos usar a classe chamada MyClass para criar objtos: \n",
    "\n",
    "- crie um objeto chamado p1 e imprima o valor de x: "
   ]
  },
  {
   "cell_type": "code",
   "execution_count": 2,
   "metadata": {},
   "outputs": [
    {
     "name": "stdout",
     "output_type": "stream",
     "text": [
      "5\n"
     ]
    }
   ],
   "source": [
    "p1 = myClass()\n",
    "print(p1.x)"
   ]
  },
  {
   "cell_type": "markdown",
   "metadata": {},
   "source": [
    "## Função __init__()\n",
    "\n",
    "Os exemplos acima são clases e objetos em sua forma mais simples, e só não é realmente, últil em aplicação da vida real.\n",
    "Para entender o significado das clases temos que entender a função `` __init__()`` embutida. \n",
    "\n",
    "Todas as classes têm uma função chamada __init__(), que é sempre executada quando a classe está sendo iniciada.\n",
    "\n",
    "Use a função __init_() para atribuir valores a propriedades de objeto ou outras operações que são necessárias fazer quando o objeto está sendo criado: \n",
    "\n"
   ]
  },
  {
   "cell_type": "code",
   "execution_count": 3,
   "metadata": {},
   "outputs": [
    {
     "name": "stdout",
     "output_type": "stream",
     "text": [
      "O primeiro candidato é: Rafael ele tem 23 anos\n"
     ]
    }
   ],
   "source": [
    "class Pessoa: \n",
    "    def __init__(self, name, idade): \n",
    "        self.name = name \n",
    "        self.idade = idade \n",
    "\n",
    "candidato = Pessoa('Rafael', 23)\n",
    "print(f'O primeiro candidato é: {candidato.name} ele tem {candidato.idade} anos')"
   ]
  },
  {
   "cell_type": "markdown",
   "metadata": {},
   "source": [
    "- OBS: A função é chamada automaticamente toda vez que a classe está sendo usada para criar um novo objeto ``__init__()`. \n",
    "\n",
    "## A função __str__()\n",
    "\n",
    "A função __str__() controla o que deve ser retornado quando objeto da classe é representado com uma string. \n",
    "Se a função __Str__() não estiver definida, a representação de cadeia de caracteres do objeto é devolvida: \n",
    "\n"
   ]
  },
  {
   "cell_type": "markdown",
   "metadata": {},
   "source": [
    "A representação de string de um objeto sem a função __str__(): \n",
    "class Pessoa: "
   ]
  },
  {
   "cell_type": "code",
   "execution_count": 5,
   "metadata": {},
   "outputs": [
    {
     "name": "stdout",
     "output_type": "stream",
     "text": [
      "<__main__.Pessoa object at 0x0000027D0AE695D0>\n"
     ]
    }
   ],
   "source": [
    "def __init__(self, name, idade): \n",
    "    self.name = name \n",
    "    self.idade = idade \n",
    "\n",
    "candidato = Pessoa('Rafael', 23)\n",
    "print(candidato)"
   ]
  },
  {
   "cell_type": "markdown",
   "metadata": {},
   "source": [
    "A representação de string de um objeto com a função __str__(): \n"
   ]
  },
  {
   "cell_type": "code",
   "execution_count": 6,
   "metadata": {},
   "outputs": [
    {
     "name": "stdout",
     "output_type": "stream",
     "text": [
      "Rafael, 23\n"
     ]
    }
   ],
   "source": [
    "class Pessoa():\n",
    "    def __init__(self, name, idade): \n",
    "        self.name = name \n",
    "        self.idade = idade \n",
    "\n",
    "    def __str__(self):\n",
    "        return f\"{self.name}, {self.idade}\"\n",
    "\n",
    "\n",
    "\n",
    "candidato = Pessoa('Rafael', 23)\n",
    "print(candidato)"
   ]
  },
  {
   "cell_type": "markdown",
   "metadata": {},
   "source": [
    "## Métodos de objeto \n",
    "\n",
    "Os objetos também podem conter métodos.\n",
    "\n",
    "Métodos em objetos são funções que pertencem ao objeto. \n",
    "\n",
    "Vamos criar um método na classe Pessoa: \n",
    "\n",
    "\n",
    "\n"
   ]
  },
  {
   "cell_type": "code",
   "execution_count": 9,
   "metadata": {},
   "outputs": [
    {
     "data": {
      "text/plain": [
       "'Meu nome é Rafael, tenho 23 anos'"
      ]
     },
     "execution_count": 9,
     "metadata": {},
     "output_type": "execute_result"
    }
   ],
   "source": [
    "class Pessoa():\n",
    "    def __init__(self, name, idade): \n",
    "        self.name = name \n",
    "        self.idade = idade \n",
    "\n",
    "    def apresentar_pessoa(self):\n",
    "        mensagem = f'Meu nome é {self.name}, tenho {self.idade} anos'\n",
    "        return mensagem\n",
    "\n",
    "candidato = Pessoa('Rafael', 23)\n",
    "candidato.apresentar_pessoa()"
   ]
  },
  {
   "cell_type": "markdown",
   "metadata": {},
   "source": [
    "- obs: O parâmetro `self` é uma referência a instância atual da classe e é usado para acessar variáveis que pertecem à classe. \n",
    "\n",
    "## O parâmetro self \n",
    "\n",
    "O parâmetro `self` é uma referência  a instância atual da classe e é usado para acessar variáveis que pertecem a classe. \n",
    "\n",
    "Não precisa ser nomeado, você pode chamar como quiser, mas tem que ser o primeiro prâmetro de qualquer função na classe é `self`.\n",
    "\n",
    "\n",
    "- Use a palavra cadastro e abc em vez de self: \n"
   ]
  },
  {
   "cell_type": "code",
   "execution_count": 10,
   "metadata": {},
   "outputs": [
    {
     "data": {
      "text/plain": [
       "('Eu sou Flamengo', 'tenho 124 anos', 'e sou do Rio de Janeiro - Rj')"
      ]
     },
     "execution_count": 10,
     "metadata": {},
     "output_type": "execute_result"
    }
   ],
   "source": [
    "class Clube: \n",
    "    def __init__(cadastro, nome, idade,regiao):\n",
    "        cadastro.nome = nome \n",
    "        cadastro.idade =idade  \n",
    "        cadastro.regiao = regiao\n",
    "\n",
    "    def apresentar_club(abc):\n",
    "        mensagem1 = f'Eu sou {abc.nome}'\n",
    "        mensagem2 = f\"tenho {abc.idade} anos\"\n",
    "        mensagem3 = f'e sou do {abc.regiao}'\n",
    "        return mensagem1, mensagem2, mensagem3\n",
    "\n",
    "cr_flamengo = Clube('Flamengo', 124, 'Rio de Janeiro - Rj')\n",
    "cr_flamengo.apresentar_club()  \n"
   ]
  },
  {
   "cell_type": "markdown",
   "metadata": {},
   "source": [
    "## Modificar propriedades do objeto: \n",
    "\n",
    "Você pode modificar propriedades em objetos como este: \n",
    "\n",
    "- defina a idade do cr_flamengo para 100: "
   ]
  },
  {
   "cell_type": "code",
   "execution_count": 11,
   "metadata": {},
   "outputs": [
    {
     "data": {
      "text/plain": [
       "('Eu sou Flamengo', 'tenho 100 anos', 'e sou do Rio de Janeiro - Rj')"
      ]
     },
     "execution_count": 11,
     "metadata": {},
     "output_type": "execute_result"
    }
   ],
   "source": [
    "cr_flamengo.idade = 100 \n",
    "cr_flamengo.apresentar_club()"
   ]
  },
  {
   "cell_type": "markdown",
   "metadata": {},
   "source": [
    "## Excluir propriedades do objeto\n",
    "\n",
    "Você pode excluir prorpriedades em objetos usando a palavra-chave: `del ` \n",
    "\n",
    "- Exclua a propriedade regiao do objeto cr_flamengo: \n",
    "\n"
   ]
  },
  {
   "cell_type": "code",
   "execution_count": 12,
   "metadata": {},
   "outputs": [],
   "source": [
    "del cr_flamengo.regiao \n"
   ]
  },
  {
   "cell_type": "markdown",
   "metadata": {},
   "source": [
    "### Excluir objetos \n",
    "\n",
    "Você pode excluir objetos usando a palvra-chave: `del`\n",
    "\n",
    "- Exclua objeto cr_flamengo\n"
   ]
  },
  {
   "cell_type": "code",
   "execution_count": 13,
   "metadata": {},
   "outputs": [],
   "source": [
    "del cr_flamengo"
   ]
  },
  {
   "cell_type": "markdown",
   "metadata": {},
   "source": [
    "## A declaração de pass \n",
    "\n",
    "Definições de `class` não podem estar vazias, mas se você por algum movito tem uma definição sem conteúdo, coloque na declaração `pass` para nmão pegar um erro. "
   ]
  },
  {
   "cell_type": "code",
   "execution_count": 14,
   "metadata": {},
   "outputs": [],
   "source": [
    "class testeUser: \n",
    "    pass \n"
   ]
  }
 ],
 "metadata": {
  "kernelspec": {
   "display_name": "Python 3",
   "language": "python",
   "name": "python3"
  },
  "language_info": {
   "codemirror_mode": {
    "name": "ipython",
    "version": 3
   },
   "file_extension": ".py",
   "mimetype": "text/x-python",
   "name": "python",
   "nbconvert_exporter": "python",
   "pygments_lexer": "ipython3",
   "version": "3.11.9"
  }
 },
 "nbformat": 4,
 "nbformat_minor": 2
}
