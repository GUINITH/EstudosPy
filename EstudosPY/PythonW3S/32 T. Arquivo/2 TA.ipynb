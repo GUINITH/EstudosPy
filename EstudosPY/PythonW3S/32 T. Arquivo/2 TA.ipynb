{
 "cells": [
  {
   "cell_type": "markdown",
   "metadata": {},
   "source": [
    "## Gerenciador de Contexto \n",
    "\n",
    "Uma forma alternativa \"mais segura\" de trabalhar com arquivos utilizando um gerenciador de contextos. O gerenciador de contextos é, de maneira resumida, um pequeno bloco de código que realiza algumas tarefas e tratamento de erro de maneira automatizada. \n",
    "\n",
    "Com ele não precisamos nos preocupar em fechar o arquivo ao final da manipulação, pois ele faz isto automaticamentente, ao final do bloco. \n",
    "\n"
   ]
  },
  {
   "cell_type": "code",
   "execution_count": null,
   "metadata": {},
   "outputs": [],
   "source": [
    "with open(r'teste2.txt','r') as file:\n",
    "    pass \n"
   ]
  }
 ],
 "metadata": {
  "kernelspec": {
   "display_name": "Python 3",
   "language": "python",
   "name": "python3"
  },
  "language_info": {
   "codemirror_mode": {
    "name": "ipython",
    "version": 3
   },
   "file_extension": ".py",
   "mimetype": "text/x-python",
   "name": "python",
   "nbconvert_exporter": "python",
   "pygments_lexer": "ipython3",
   "version": "3.11.9"
  }
 },
 "nbformat": 4,
 "nbformat_minor": 2
}
