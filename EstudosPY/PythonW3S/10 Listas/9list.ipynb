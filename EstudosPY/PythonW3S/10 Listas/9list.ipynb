{
 "cells": [
  {
   "cell_type": "markdown",
   "metadata": {},
   "source": [
    "# Python - Copiar listas \n",
    "\n",
    "#### Copiar uma lista \n",
    "\n",
    "Você não pode copiar uma lista simplesmente digitando list=2 = list1, porque: list2 será apenas uma referência a list1, e as alterações feitas list1 também serão feitas automaticamente em list2. \n",
    "\n",
    "Existem maneiras de fazer uma cópia, uma maneira é usar o método List integrado `copy()`. \n",
    "\n",
    "\n",
    "##### Exemplo \n",
    "\n",
    "Faça uma cópia de uma lista com o copy()método:\n",
    "\n"
   ]
  },
  {
   "cell_type": "code",
   "execution_count": 1,
   "metadata": {},
   "outputs": [
    {
     "name": "stdout",
     "output_type": "stream",
     "text": [
      "[0, 1, 2, 3, 4, 5, 6, 7, 8, 9, 10, 11]\n"
     ]
    }
   ],
   "source": [
    "lista_numeros = list(range(12))\n",
    "meus_numeros = lista_numeros.copy()\n",
    "print(meus_numeros)"
   ]
  },
  {
   "cell_type": "markdown",
   "metadata": {},
   "source": [
    "Outra maneira de fazer uma cópia é usar o método integrado list()."
   ]
  },
  {
   "cell_type": "code",
   "execution_count": 2,
   "metadata": {},
   "outputs": [
    {
     "name": "stdout",
     "output_type": "stream",
     "text": [
      "[0, 1, 2, 3, 4, 5, 6, 7, 8, 9, 10, 11]\n"
     ]
    }
   ],
   "source": [
    "lista_numeros = list(range(12))\n",
    "meus_numeros = list(lista_numeros)\n",
    "print(meus_numeros)"
   ]
  }
 ],
 "metadata": {
  "kernelspec": {
   "display_name": "Python 3",
   "language": "python",
   "name": "python3"
  },
  "language_info": {
   "codemirror_mode": {
    "name": "ipython",
    "version": 3
   },
   "file_extension": ".py",
   "mimetype": "text/x-python",
   "name": "python",
   "nbconvert_exporter": "python",
   "pygments_lexer": "ipython3",
   "version": "3.11.9"
  }
 },
 "nbformat": 4,
 "nbformat_minor": 2
}
