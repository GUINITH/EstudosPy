{
 "cells": [
  {
   "cell_type": "markdown",
   "metadata": {},
   "source": [
    "# Python- Format Strings: \n",
    "\n",
    "Formato de String: \n",
    "\n",
    "Como aprendemos no cápitulo de Variáveis do Python, não podemos combinar strings e números assim: \n",
    "\n",
    "##### Exemplo:\n",
    "\n"
   ]
  },
  {
   "cell_type": "code",
   "execution_count": null,
   "metadata": {},
   "outputs": [],
   "source": [
    "# Não é possivel rodar pois esse código, apresentará erro, por conta de sintaxe do Python.\n",
    "#age = 36\n",
    "#txt = \"My name is John, I am \" + age\n",
    "#print(txt)"
   ]
  },
  {
   "cell_type": "markdown",
   "metadata": {},
   "source": [
    " Mas podemos combinar strings e números usando: \n",
    "`F strings` ou método `formate()`\n"
   ]
  },
  {
   "cell_type": "markdown",
   "metadata": {},
   "source": [
    "# F strings: \n",
    "\n",
    "F-string foi introduzido no Python 3.6 e agora é a forma ppreferida de formatar strings. \n",
    "\n",
    "Para especificar uma string como um f string, basta colocar o f na frente da string literal e adicionar o colchetes{} como espaços reservados para variáveis e outras operações. \n",
    "\n",
    "#### Exemplo: \n",
    "\n",
    "Crie uma f string: "
   ]
  },
  {
   "cell_type": "code",
   "execution_count": 1,
   "metadata": {},
   "outputs": [
    {
     "name": "stdout",
     "output_type": "stream",
     "text": [
      "Meu nome é Fabiano Souza, tenho 36 anos\n"
     ]
    }
   ],
   "source": [
    "name_student = 'Fabiano Souza'\n",
    "idade = 36 \n",
    "description = f'Meu nome é {name_student}, tenho {idade} anos'\n",
    "print(description) "
   ]
  },
  {
   "cell_type": "markdown",
   "metadata": {},
   "source": [
    "# Espaços Reservados e modificicadores: \n",
    "\n",
    "Um espaço reservado pode conter variáveis, operaciões, funções e modificadores para formatar o valor. \n",
    "\n",
    "####  Exemplo: \n",
    "\n",
    "Adicione um espaço reservado para a variável ``nome``: "
   ]
  },
  {
   "cell_type": "code",
   "execution_count": 3,
   "metadata": {},
   "outputs": [
    {
     "name": "stdout",
     "output_type": "stream",
     "text": [
      "Sou Fiona, princesa do reino de Tão Tão distante\n"
     ]
    }
   ],
   "source": [
    "nome = 'Fiona'\n",
    "description = f'Sou {nome}, princesa do reino de Tão Tão distante'\n",
    "print(description)"
   ]
  },
  {
   "cell_type": "markdown",
   "metadata": {},
   "source": [
    "Um espaço reservado pode incluir um modificador para formatar o valor. Um modificador é incluído adicionando dois pontos: seguidos por um tipo de formatação legal, como .2f o que significa um número de ponto fixo com 2 casas decimais: \n",
    "\n",
    "##### Exemplo\n",
    "\n",
    "exiba o preço com 2 casas decimais: \n"
   ]
  },
  {
   "cell_type": "code",
   "execution_count": 5,
   "metadata": {},
   "outputs": [
    {
     "name": "stdout",
     "output_type": "stream",
     "text": [
      "Batata kg: 24.000000 reais\n"
     ]
    }
   ],
   "source": [
    "# Exiba o preço com 2 casas decimais: \n",
    "\n",
    "batata_preco = 24 \n",
    "anuncio = f'Batata kg: {batata_preco:2f} reais'\n",
    "print(anuncio)"
   ]
  },
  {
   "cell_type": "markdown",
   "metadata": {},
   "source": [
    "Um espaço reservado pode conter código Python, como operações matemáticas: \n",
    "\n",
    "#### Exemplo\n",
    "\n",
    "Execute uma operação matemática no espaço reservado e retorne o resultado: "
   ]
  },
  {
   "cell_type": "code",
   "execution_count": 10,
   "metadata": {},
   "outputs": [
    {
     "name": "stdout",
     "output_type": "stream",
     "text": [
      "os números fornecidos são: 21 e 22 e a soma deles  é 43\n"
     ]
    }
   ],
   "source": [
    "n1 = int(input('Digite um número: ' ))\n",
    "n2 = int(input('Digite um número: ' ))\n",
    "\n",
    "calculando = f'os números fornecidos são: {n1} e {n2} e a soma deles  é {n1 + n2}'\n",
    "\n",
    "print(calculando)"
   ]
  }
 ],
 "metadata": {
  "kernelspec": {
   "display_name": "Python 3",
   "language": "python",
   "name": "python3"
  },
  "language_info": {
   "codemirror_mode": {
    "name": "ipython",
    "version": 3
   },
   "file_extension": ".py",
   "mimetype": "text/x-python",
   "name": "python",
   "nbconvert_exporter": "python",
   "pygments_lexer": "ipython3",
   "version": "3.11.9"
  }
 },
 "nbformat": 4,
 "nbformat_minor": 2
}
