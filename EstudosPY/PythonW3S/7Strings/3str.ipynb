{
 "cells": [
  {
   "cell_type": "markdown",
   "metadata": {},
   "source": [
    "# Python -Modificando Strings \n",
    "\n",
    "Python possui um conjunto de métodos integrados que você pode usar em strings. \n",
    "\n",
    "### Maiúsculas \n",
    "\n",
    "##### Exemplo:\n",
    "\n",
    "O ``upper()`` método retorna a string em maiúsculas: \n"
   ]
  },
  {
   "cell_type": "code",
   "execution_count": 2,
   "metadata": {},
   "outputs": [
    {
     "name": "stdout",
     "output_type": "stream",
     "text": [
      "BEM-VINDO\n"
     ]
    }
   ],
   "source": [
    "my_str = 'Bem-Vindo'\n",
    "print(my_str.upper())"
   ]
  },
  {
   "cell_type": "code",
   "execution_count": 3,
   "metadata": {},
   "outputs": [
    {
     "name": "stdout",
     "output_type": "stream",
     "text": [
      "FLAMENGO\n"
     ]
    }
   ],
   "source": [
    "# Mais uma prática: \n",
    "my_str = 'flamengo'\n",
    "tudo_mausculo = my_str.upper()\n",
    "print(tudo_mausculo)"
   ]
  },
  {
   "cell_type": "markdown",
   "metadata": {},
   "source": [
    "# Minúsculas \n",
    "\n",
    "##### Exemplo: \n",
    "\n",
    "O `lower()` método a string em letras minúsculas: \n"
   ]
  },
  {
   "cell_type": "code",
   "execution_count": 4,
   "metadata": {},
   "outputs": [
    {
     "name": "stdout",
     "output_type": "stream",
     "text": [
      "mãe\n"
     ]
    }
   ],
   "source": [
    "my_str_minuscula = 'Mãe'\n",
    "print(my_str_minuscula.lower())"
   ]
  },
  {
   "cell_type": "markdown",
   "metadata": {},
   "source": [
    "# Removendo espaço em Branco: \n",
    "\n",
    "Espaço em branco é o espaço antes e/ ou depois do texto real, e muitas vezes você deseja remover esse espaço. \n",
    "\n",
    "##### Exemplo: \n",
    "\n",
    "O ``strip()`` método remove qualquer espaço em branco do ínicio ou fim: "
   ]
  },
  {
   "cell_type": "code",
   "execution_count": 6,
   "metadata": {},
   "outputs": [
    {
     "name": "stdout",
     "output_type": "stream",
     "text": [
      "Eu amo Flamengo\n"
     ]
    }
   ],
   "source": [
    "my_var = \"  Eu amo Flamengo  \"\n",
    "print(my_var.strip())"
   ]
  },
  {
   "cell_type": "markdown",
   "metadata": {},
   "source": [
    "# Subistituir Sequência: \n",
    "\n",
    "#### Exemplo: \n",
    "\n",
    "O `replace()` método substitui uma string por outra string: \n"
   ]
  },
  {
   "cell_type": "code",
   "execution_count": 9,
   "metadata": {},
   "outputs": [
    {
     "name": "stdout",
     "output_type": "stream",
     "text": [
      "Guilherme\n",
      "Carlos\n"
     ]
    }
   ],
   "source": [
    "# Praticando: \n",
    "\n",
    "nome = 'Guilherme'\n",
    "print(nome)\n",
    "# vamos alterar nome para 'Carlos' \n",
    "print(nome.replace('Guilherme','Carlos'))\n"
   ]
  },
  {
   "cell_type": "code",
   "execution_count": 24,
   "metadata": {},
   "outputs": [
    {
     "name": "stdout",
     "output_type": "stream",
     "text": [
      "I love Rio de Janeiro!\n",
      "Eu Amo o Rio de Janeiro!\n"
     ]
    }
   ],
   "source": [
    "# Praticando: \n",
    "\n",
    "# Alterando letras em uma frase: \n",
    "\n",
    "frase = \"I love Rio de Janeiro!\"\n",
    "modificando_frase = frase.replace('I love', 'Eu Amo o')\n",
    "print(frase) # Frase inicial \n",
    "print(modificando_frase) # Frase modificada "
   ]
  },
  {
   "cell_type": "markdown",
   "metadata": {},
   "source": [
    "# Split String -> Sequência Divida: \n",
    "\n",
    "O ``split()`` método retorna uma lista onde o texto entre o separador especificado se torna os itens da lista. \n",
    "\n",
    "#### Exemplo: \n",
    "\n",
    "O ``splite()`` método divide a  string em substrings se encontrar instâncias do separador: \n",
    "\n"
   ]
  },
  {
   "cell_type": "code",
   "execution_count": 25,
   "metadata": {},
   "outputs": [
    {
     "name": "stdout",
     "output_type": "stream",
     "text": [
      "nome Junto:  Rafael Benedito de Souza Cerqueira\n",
      "nome Separado: ['Rafael', 'Benedito', 'de', 'Souza', 'Cerqueira']\n"
     ]
    }
   ],
   "source": [
    "nome = \" Rafael Benedito de Souza Cerqueira\"\n",
    "dividir_nome = nome.split()\n",
    "print(f'nome Junto: {nome}')\n",
    "print(f'nome Separado: {dividir_nome}')"
   ]
  }
 ],
 "metadata": {
  "kernelspec": {
   "display_name": "Python 3",
   "language": "python",
   "name": "python3"
  },
  "language_info": {
   "codemirror_mode": {
    "name": "ipython",
    "version": 3
   },
   "file_extension": ".py",
   "mimetype": "text/x-python",
   "name": "python",
   "nbconvert_exporter": "python",
   "pygments_lexer": "ipython3",
   "version": "3.11.9"
  }
 },
 "nbformat": 4,
 "nbformat_minor": 2
}
