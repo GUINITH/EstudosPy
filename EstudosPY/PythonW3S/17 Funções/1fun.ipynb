{
 "cells": [
  {
   "cell_type": "markdown",
   "metadata": {},
   "source": [
    "# Funções Python \n",
    "\n",
    "Uma função é um bloco de código que só é executado quando é chamado.\n",
    "\n",
    "Você pode passar dados, conhecidos como parâmetros, para uma função. \n",
    "\n",
    "Uma função pode retornar dados como resultado. \n",
    "\n",
    "## Criando uma função \n",
    "\n",
    "Em Python, uma função é definida usando a palavra-chave ``def``:\n",
    "\n"
   ]
  },
  {
   "cell_type": "code",
   "execution_count": 2,
   "metadata": {},
   "outputs": [],
   "source": [
    "def my_function(): \n",
    "    print('Amo Python')"
   ]
  },
  {
   "cell_type": "markdown",
   "metadata": {},
   "source": [
    "## Chamando uma função \n",
    "\n",
    "Para chamar uma função, use nome da função seguido de parênteses: \n"
   ]
  },
  {
   "cell_type": "code",
   "execution_count": 3,
   "metadata": {},
   "outputs": [
    {
     "name": "stdout",
     "output_type": "stream",
     "text": [
      "Isso é uma função \n"
     ]
    }
   ],
   "source": [
    "def my_function():\n",
    "    print('Isso é uma função ')\n",
    "my_function()"
   ]
  },
  {
   "cell_type": "markdown",
   "metadata": {},
   "source": [
    "##  Argumentos\n",
    "\n",
    "As informações podem ser passadas para funções como argumentos. \n",
    "\n",
    "Os argumentos são especificados após o nome da função, dentro dos parênteses. Você pode adicionar quantos argumentos quiser, basta separá-los com uma vírgula.\n",
    "\n",
    "O exemplo a seguir possui uma função com um arguimento(name). Quando a função é chamada, passamos um primeiro nome, que é usado dentro da função para imprimir o nome comppleto: \n"
   ]
  },
  {
   "cell_type": "code",
   "execution_count": 5,
   "metadata": {},
   "outputs": [
    {
     "name": "stdout",
     "output_type": "stream",
     "text": [
      "Guilherme Souza\n",
      "Pedro Souza\n"
     ]
    }
   ],
   "source": [
    "def pessoa(name):\n",
    "    print(name + ' Souza')\n",
    "pessoa('Guilherme')\n",
    "pessoa('Pedro')\n"
   ]
  },
  {
   "cell_type": "markdown",
   "metadata": {},
   "source": [
    "Os argumentos são frequentemente abreviados para args nas documentações do Python. \n",
    "\n",
    "## Parâmetros ou argumentos? \n",
    "\n",
    "Os termos parâmetro e argumento pode ser usados para a mesma coisa: informações que são passadas para uma função. \n",
    "\n",
    "Da pespectiva de uma função: \n",
    "\n",
    "Um parâmetro é a variável listada entre parênteses na definição da função. \n",
    "\n",
    "Um argumento é o valor enviado à função quando ela é chamada> \n",
    "\n",
    "\n"
   ]
  },
  {
   "cell_type": "code",
   "execution_count": 6,
   "metadata": {},
   "outputs": [
    {
     "name": "stdout",
     "output_type": "stream",
     "text": [
      "Guilherme Souza\n"
     ]
    }
   ],
   "source": [
    "# name é o argumento definido na função\n",
    "def pessoa(name):\n",
    "    print(name + ' Souza')\n",
    "# Guilherme é o argumento passado\n",
    "pessoa('Guilherme')"
   ]
  },
  {
   "cell_type": "markdown",
   "metadata": {},
   "source": [
    "## Número de argumentos \n",
    "\n",
    "Por padrão uma função deve ser chamada com o número correto de argumentos. O que significa que se sua função espera 2 argumentos, você tem que chamar a função com 2 argumentos, nem mais, nem menos. \n",
    "\n",
    "Esta função espera 2 argumentos e obtém 2 argumentos \n",
    "\n",
    "\n",
    "\n"
   ]
  },
  {
   "cell_type": "code",
   "execution_count": 2,
   "metadata": {},
   "outputs": [
    {
     "name": "stdout",
     "output_type": "stream",
     "text": [
      "Emilly Santiago\n"
     ]
    }
   ],
   "source": [
    "def minha_funcao(nome, sobrenome):\n",
    "    print(nome + ' ' + sobrenome)\n",
    "minha_funcao('Emilly','Santiago')"
   ]
  },
  {
   "cell_type": "markdown",
   "metadata": {},
   "source": [
    "Se você tentar chamar a função com 1 ou 3 argumentos, receberá um erro: \n",
    "\n"
   ]
  },
  {
   "cell_type": "code",
   "execution_count": null,
   "metadata": {},
   "outputs": [],
   "source": [
    "# Esta função espera 2 argumentos, mas recebe apenas 1:\n",
    "\n",
    "def my_function(fname, lname):\n",
    "  print(fname + \" \" + lname)\n",
    "\n",
    "my_function(\"Emil\")"
   ]
  },
  {
   "cell_type": "markdown",
   "metadata": {},
   "source": [
    "# Argumentos arbitrários, *args \n",
    "\n",
    "Se você não sabe quantos argumentos serão passados para sua função, adicione *antes do nome do parâmetro na definição da função. \n",
    "\n",
    "Dessa forma, a função receberá uma tupla de argumentos e poderá acessar os itens adequadamente: \n",
    "\n",
    "Se o número de argumentos for desconhecido, adicione um *antes do nome do parâmetro: \n"
   ]
  },
  {
   "cell_type": "code",
   "execution_count": 2,
   "metadata": {},
   "outputs": [
    {
     "name": "stdout",
     "output_type": "stream",
     "text": [
      "As pessoas são: ('Guilherme', 'Rafael', 'Mirela', 'Marcos')\n"
     ]
    }
   ],
   "source": [
    "def pessoas(*nomes):\n",
    "    print(f'As pessoas são: {nomes}')\n",
    "pessoas('Guilherme','Rafael','Mirela', 'Marcos')\n"
   ]
  },
  {
   "cell_type": "markdown",
   "metadata": {},
   "source": [
    "Argumentos arbitrários são frequentemente abreviados para *args na documentação do Python. \n",
    "\n",
    "\n",
    "## Argumentos de palavras-chave \n",
    "\n",
    "Você também poode enviar argumentos com a sintaxe chave = valor.\n",
    "\n",
    "Dessa forma, a ordem dos argumentos não importa. \n",
    "\n"
   ]
  },
  {
   "cell_type": "code",
   "execution_count": 3,
   "metadata": {},
   "outputs": [
    {
     "name": "stdout",
     "output_type": "stream",
     "text": [
      "meu nome é Gabriel, tenho 27 anos\n"
     ]
    }
   ],
   "source": [
    "def pessoas(nome, idade): \n",
    "    print(f'meu nome é {nome}, tenho {idade} anos')\n",
    "pessoas(nome = 'Gabriel', idade = 27)\n"
   ]
  },
  {
   "cell_type": "markdown",
   "metadata": {},
   "source": [
    "A frase Argumentos de Palavras-chave é frequentemente abreviada para kwargs na documentação do Python. \n",
    "\n"
   ]
  },
  {
   "cell_type": "markdown",
   "metadata": {},
   "source": [
    "Argumentos de palavra-chave arbitrárias, **kwargs \n",
    "\n",
    "Se você não sabe quantos argumentos de palavra-chave serão passados para sua função, adicione dois asteriscos: **antes do nome do parâmetro na definição da função. \n",
    "\n",
    "Dessa forma, a função receberá um dicionário de argumentos e poderá acesar os itens adequadamente: \n"
   ]
  },
  {
   "cell_type": "code",
   "execution_count": 7,
   "metadata": {},
   "outputs": [
    {
     "name": "stdout",
     "output_type": "stream",
     "text": [
      "Esses são os alunos do terceiro ano: {'nomes': 'Pedro', 'idadeS': 17}\n"
     ]
    }
   ],
   "source": [
    "def alunos(**pessoas):\n",
    "    print(f\"Esses são os alunos do terceiro ano: {pessoas}\")\n",
    "alunos(nomes='Pedro', idadeS = 17)\n",
    "\n"
   ]
  },
  {
   "cell_type": "markdown",
   "metadata": {},
   "source": [
    "Argumentos kword arbitrários são frequentemente abreviados apra **kwargs na documentação do Python.\n",
    "\n",
    "## Valor do Parâmetro padrão \n",
    "\n",
    "O exemplo a seguir mostra como usar um valor de parâmetro padrão. \n",
    "\n",
    "Se chamarmos a função sem argumento, ela usará o valor padrão: "
   ]
  },
  {
   "cell_type": "code",
   "execution_count": 9,
   "metadata": {},
   "outputs": [
    {
     "name": "stdout",
     "output_type": "stream",
     "text": [
      "Azul\n",
      "Preto\n",
      "Amarelo\n",
      "Verde\n"
     ]
    }
   ],
   "source": [
    "def cores(nome = 'Azul'):\n",
    "    print(nome)\n",
    "\n",
    "cores()\n",
    "cores(\"Preto\")\n",
    "cores(\"Amarelo\")\n",
    "cores(\"Verde\")"
   ]
  },
  {
   "cell_type": "markdown",
   "metadata": {},
   "source": [
    "## Passando uma lista como argumento \n",
    "\n",
    "Você pode enviar qualquer tipo de dado de argumento para uma função(string, núimero, lista, dicionário, etc.), e ele será tratado como o mesmo tipo de dado dentro da função. \n",
    "\n",
    "Por exemplo, se você enviar uma lista como argumento, ela ainda será uma Lista quando chegar à função: \n"
   ]
  },
  {
   "cell_type": "code",
   "execution_count": 10,
   "metadata": {},
   "outputs": [
    {
     "name": "stdout",
     "output_type": "stream",
     "text": [
      "Arroz\n",
      "Macarrão\n",
      "Peixe\n",
      "maçã\n",
      "Coca-Cola\n"
     ]
    }
   ],
   "source": [
    "def mercado(compras): \n",
    "    for compra in compras:\n",
    "        print(compra)\n",
    "    \n",
    "lista = ['Arroz', 'Macarrão', 'Peixe','maçã', 'Coca-Cola']\n",
    "mercado(lista)"
   ]
  },
  {
   "cell_type": "markdown",
   "metadata": {},
   "source": [
    "## Valores de retorno \n",
    "\n",
    "Para permitir que uma função retorne um valor, use a instrução `return`: \n"
   ]
  },
  {
   "cell_type": "code",
   "execution_count": 12,
   "metadata": {},
   "outputs": [
    {
     "data": {
      "text/plain": [
       "234"
      ]
     },
     "execution_count": 12,
     "metadata": {},
     "output_type": "execute_result"
    }
   ],
   "source": [
    "def somar(num1, num2):\n",
    "    soma = num1+num2 \n",
    "    return soma \n",
    "\n",
    "numero1 = int(input(\"Digite um número: \"))\n",
    "numero2 = int(input(\"Digite mais um número: \"))\n",
    "\n",
    "somar(numero1, numero2)"
   ]
  },
  {
   "cell_type": "markdown",
   "metadata": {},
   "source": [
    "# Declaração de pass(passe)\n",
    "\n",
    "Funções não podem estar vazias, mas se por algum motivo você tiver uma função sem conteúdo, insira na declaração a palavra-chave ``pass``, para evitar um erro. "
   ]
  },
  {
   "cell_type": "code",
   "execution_count": null,
   "metadata": {},
   "outputs": [],
   "source": [
    "def vazio():\n",
    "    pass"
   ]
  },
  {
   "cell_type": "markdown",
   "metadata": {},
   "source": [
    "## Argumentos somente posicionais \n",
    "\n",
    "Você pode especificar que uma função pode ter somente argumentos posicionais ou somente argumentos de palavras-chave. \n",
    "\n",
    "Para especificar que uma função pode ter apenas argumentos posicionais, adicione `, / ` após os argumentos: \n",
    "\n",
    "\n"
   ]
  },
  {
   "cell_type": "code",
   "execution_count": 17,
   "metadata": {},
   "outputs": [
    {
     "name": "stdout",
     "output_type": "stream",
     "text": [
      "3\n"
     ]
    }
   ],
   "source": [
    "def minh_funcao(x, /):\n",
    "    print(x)\n",
    "minh_funcao(3)\n"
   ]
  },
  {
   "cell_type": "markdown",
   "metadata": {},
   "source": [
    "Sem isso, `, / ` vocÊ tem permissão para usar argumentos de palavras-chave, mesmo quea função espera argumentos posicionais: \n"
   ]
  },
  {
   "cell_type": "code",
   "execution_count": 18,
   "metadata": {},
   "outputs": [
    {
     "name": "stdout",
     "output_type": "stream",
     "text": [
      "3\n"
     ]
    }
   ],
   "source": [
    "def my_function(x):\n",
    "  print(x)\n",
    "\n",
    "my_function(x = 3)"
   ]
  },
  {
   "cell_type": "markdown",
   "metadata": {},
   "source": [
    "Mas ao adicionar, ``, /`` você receberá um erro se tentar enviar um argumento de palavra-chave:"
   ]
  },
  {
   "cell_type": "code",
   "execution_count": null,
   "metadata": {},
   "outputs": [],
   "source": [
    "#função com erro\n",
    "def my_function(x, /):\n",
    "  print(x)\n",
    "\n",
    "my_function(x = 3)"
   ]
  },
  {
   "cell_type": "markdown",
   "metadata": {},
   "source": [
    "## Argumentos somoente de palavras´chave \n",
    "\n",
    "Para especificar que uma função pode ter apenas argumentos de palavras-chave, adicione `*,` antes dos argumentos: \n",
    "\n"
   ]
  },
  {
   "cell_type": "code",
   "execution_count": 19,
   "metadata": {},
   "outputs": [
    {
     "name": "stdout",
     "output_type": "stream",
     "text": [
      "3\n"
     ]
    }
   ],
   "source": [
    "def my_function(*, x):\n",
    "  print(x)\n",
    "\n",
    "my_function(x = 3)"
   ]
  },
  {
   "cell_type": "markdown",
   "metadata": {},
   "source": [
    "Sem isso, *, você tem permissão para usar argumentos posicionais, mesmo que a função espere argumentos de palavra-chave:"
   ]
  },
  {
   "cell_type": "code",
   "execution_count": 20,
   "metadata": {},
   "outputs": [
    {
     "name": "stdout",
     "output_type": "stream",
     "text": [
      "3\n"
     ]
    }
   ],
   "source": [
    "def my_function(x):\n",
    "  print(x)\n",
    "\n",
    "my_function(3)"
   ]
  },
  {
   "cell_type": "markdown",
   "metadata": {},
   "source": [
    "Mas ao adicionar *, /você receberá um erro se tentar enviar um argumento posicional:"
   ]
  },
  {
   "cell_type": "code",
   "execution_count": null,
   "metadata": {},
   "outputs": [],
   "source": [
    "def my_function(*, x):\n",
    "  print(x)\n",
    "\n",
    "my_function(3)"
   ]
  },
  {
   "cell_type": "markdown",
   "metadata": {},
   "source": [
    "## COMBINEN SOMENTE POSICIONAL E SOMENTE PALAVRA CHAVE \n",
    "\n",
    "Você pode combinar os dois tipos de argumentos na mesma função. \n",
    "\n",
    "Qualquer argumento antes de é / ,somente posicional, e qualquer argumento depois de é *, somente palavra-chave."
   ]
  },
  {
   "cell_type": "code",
   "execution_count": 22,
   "metadata": {},
   "outputs": [
    {
     "name": "stdout",
     "output_type": "stream",
     "text": [
      "26\n"
     ]
    }
   ],
   "source": [
    "def my_function(a, b, /, *, c, d):\n",
    "  print(a + b + c + d)\n",
    "\n",
    "my_function(5, 6, c = 7, d = 8)"
   ]
  },
  {
   "cell_type": "markdown",
   "metadata": {},
   "source": [
    "## Recursão\n",
    "\n",
    "Python também aceita recursão de função, o que significa que uma função definida pode chamar a si mesma.\n",
    "\n",
    "Recursão é um conceito matemático e de programação comum. Isso significa que uma função chama a si mesma. Isso tem o benefício de significar que você pode fazer um loop pelos dados para chegar a um resultado.\n",
    "\n",
    "O desenvolvedor deve ter muito cuidado com a recursão, pois pode ser muito fácil escorregar para escrever uma função que nunca termina, ou uma que usa quantidades excessivas de memória ou poder do processador. No entanto, quando escrita corretamente, a recursão pode ser uma abordagem muito eficiente e matematicamente elegante para a programação.\n",
    "\n",
    "Neste exemplo, tri_recursion() é uma função que definimos para chamar a si mesma (\"recurse\"). Usamos a variável k como os dados, que decrementa ( -1 ) toda vez que recursionamos. A recursão termina quando a condição não é maior que 0 (ou seja, quando é 0).\n",
    "\n",
    "Para um novo desenvolvedor, pode levar algum tempo para descobrir exatamente como isso funciona. A melhor maneira de descobrir é testando e modificando."
   ]
  },
  {
   "cell_type": "code",
   "execution_count": 23,
   "metadata": {},
   "outputs": [
    {
     "name": "stdout",
     "output_type": "stream",
     "text": [
      "\n",
      "\n",
      "Recursion Example Results\n",
      "1\n",
      "3\n",
      "6\n",
      "10\n",
      "15\n",
      "21\n"
     ]
    },
    {
     "data": {
      "text/plain": [
       "21"
      ]
     },
     "execution_count": 23,
     "metadata": {},
     "output_type": "execute_result"
    }
   ],
   "source": [
    "def tri_recursion(k):\n",
    "  if(k > 0):\n",
    "    result = k + tri_recursion(k - 1)\n",
    "    print(result)\n",
    "  else:\n",
    "    result = 0\n",
    "  return result\n",
    "\n",
    "print(\"\\n\\nRecursion Example Results\")\n",
    "tri_recursion(6)"
   ]
  }
 ],
 "metadata": {
  "kernelspec": {
   "display_name": "Python 3",
   "language": "python",
   "name": "python3"
  },
  "language_info": {
   "codemirror_mode": {
    "name": "ipython",
    "version": 3
   },
   "file_extension": ".py",
   "mimetype": "text/x-python",
   "name": "python",
   "nbconvert_exporter": "python",
   "pygments_lexer": "ipython3",
   "version": "3.11.9"
  }
 },
 "nbformat": 4,
 "nbformat_minor": 2
}
