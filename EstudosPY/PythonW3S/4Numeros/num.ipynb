{
 "cells": [
  {
   "cell_type": "markdown",
   "metadata": {},
   "source": [
    "# Números Python \n",
    "\n",
    "Existem três tipos numéricos em Python:\n",
    "\n",
    "- int\n",
    "- float\n",
    "- complex \n",
    "\n",
    "Variáveis de tipos numéricos são criadas quando você atribuir um valor a elas: \n",
    "\n",
    "#### Exemplo\n"
   ]
  },
  {
   "cell_type": "code",
   "execution_count": 1,
   "metadata": {},
   "outputs": [],
   "source": [
    "x = 1 # int \n",
    "y = 2.8 # float \n",
    "z = 1j # complex "
   ]
  },
  {
   "cell_type": "markdown",
   "metadata": {},
   "source": [
    "Para verificar o tipo de qualquer objeto em Python, use a função ``type()``:\n",
    "\n"
   ]
  },
  {
   "cell_type": "code",
   "execution_count": 2,
   "metadata": {},
   "outputs": [
    {
     "name": "stdout",
     "output_type": "stream",
     "text": [
      "<class 'int'>\n",
      "<class 'float'>\n",
      "<class 'complex'>\n"
     ]
    }
   ],
   "source": [
    "print(type(x))\n",
    "print(type(y))\n",
    "print(type(z))"
   ]
  },
  {
   "cell_type": "markdown",
   "metadata": {},
   "source": [
    "# Inteiro \n",
    "\n",
    "Int, ou inteiro, é um número inteiro, positivo ou negativo, sem decimais, de comprimento ilimitado. \n",
    "\n",
    "#### Exemplo \n",
    "\n",
    "Inteiros `int`:"
   ]
  },
  {
   "cell_type": "code",
   "execution_count": 3,
   "metadata": {},
   "outputs": [
    {
     "name": "stdout",
     "output_type": "stream",
     "text": [
      "<class 'int'>\n",
      "<class 'int'>\n",
      "<class 'int'>\n"
     ]
    }
   ],
   "source": [
    "my_var1 = 1\n",
    "my_var2 = 3\n",
    "my_var3 = 5\n",
    "\n",
    "print(type(my_var1))\n",
    "print(type(my_var2))\n",
    "print(type(my_var3))"
   ]
  },
  {
   "cell_type": "markdown",
   "metadata": {},
   "source": [
    "# Flutuante: Float\n",
    "\n",
    "Float, ou \"número de ponto flutuante\" é um número, positivo ou negativo, contendo uma ou mais casas decimais.\n",
    "\n",
    "#### Exemplo\n",
    "Flutuadores:\n"
   ]
  },
  {
   "cell_type": "code",
   "execution_count": 4,
   "metadata": {},
   "outputs": [
    {
     "name": "stdout",
     "output_type": "stream",
     "text": [
      "<class 'float'>\n",
      "<class 'float'>\n",
      "<class 'float'>\n"
     ]
    }
   ],
   "source": [
    "x = 1.10\n",
    "y = 1.0\n",
    "z = -35.59\n",
    "\n",
    "print(type(x))\n",
    "print(type(y))\n",
    "print(type(z))"
   ]
  },
  {
   "cell_type": "markdown",
   "metadata": {},
   "source": [
    "Float também podem ser números científicos com um “e” para indicar a potência de 10.\n",
    "\n",
    "#### Exemplo\n",
    "\n",
    "Flutuadores: \n",
    "\n"
   ]
  },
  {
   "cell_type": "code",
   "execution_count": 1,
   "metadata": {},
   "outputs": [
    {
     "name": "stdout",
     "output_type": "stream",
     "text": [
      "<class 'float'>\n",
      "<class 'float'>\n",
      "<class 'float'>\n"
     ]
    }
   ],
   "source": [
    "x = 35e3\n",
    "y = 12E4\n",
    "z = -87.7e100\n",
    "\n",
    "print(type(x))\n",
    "print(type(y))\n",
    "print(type(z))"
   ]
  },
  {
   "cell_type": "markdown",
   "metadata": {},
   "source": [
    "# Complexo - Complex \n",
    "\n",
    "Os números complexos são escritos com um 'j' como parte imaginária: \n",
    "\n",
    "#### Exemplo: \n",
    "\n",
    "##### complexo: \n",
    "\n"
   ]
  },
  {
   "cell_type": "code",
   "execution_count": 2,
   "metadata": {},
   "outputs": [
    {
     "name": "stdout",
     "output_type": "stream",
     "text": [
      "<class 'complex'>\n",
      "<class 'complex'>\n",
      "<class 'complex'>\n"
     ]
    }
   ],
   "source": [
    "x = 3+5j\n",
    "y = 5j\n",
    "z = -5j\n",
    "\n",
    "print(type(x))\n",
    "print(type(y))\n",
    "print(type(z))"
   ]
  },
  {
   "cell_type": "markdown",
   "metadata": {},
   "source": [
    "# Type Conversion -> Conversão de Tipo: \n",
    "\n",
    "Você pode converter de um tipo para outro com os métodos:\n",
    "- ``int()`` \n",
    "- ``float()`` \n",
    "- ``compplex()``\n",
    "\n",
    "##### Exemplo\n",
    "\n",
    "Converter de um tipo para outro: "
   ]
  },
  {
   "cell_type": "code",
   "execution_count": 4,
   "metadata": {},
   "outputs": [
    {
     "name": "stdout",
     "output_type": "stream",
     "text": [
      "1.0\n",
      "2\n",
      "(1+0j)\n",
      "<class 'float'>\n",
      "<class 'int'>\n",
      "<class 'complex'>\n"
     ]
    }
   ],
   "source": [
    "x = 1    # int\n",
    "y = 2.8  # float\n",
    "z = 1j   # complex\n",
    "\n",
    "#converter int para float:\n",
    "a = float(x)\n",
    "\n",
    "#converter float para int:\n",
    "b = int(y)\n",
    "\n",
    "#converter int para complex:\n",
    "c = complex(x)\n",
    "\n",
    "print(a)\n",
    "print(b)\n",
    "print(c)\n",
    "\n",
    "print(type(a))\n",
    "print(type(b))\n",
    "print(type(c))"
   ]
  },
  {
   "cell_type": "markdown",
   "metadata": {},
   "source": [
    "##### Atenção: \n",
    "Você não pode converter números complexos em outro tipo de número."
   ]
  },
  {
   "cell_type": "markdown",
   "metadata": {},
   "source": [
    "# Random Number \n",
    "\n",
    "Python não tem uma random() função para criar números aleatórios, mas Python possui um módulo interno chamado random que pode ser usado para criar números aleatórios: \n",
    "\n",
    "##### Exemplo \n",
    "\n",
    "Importe o módulo aleatório e exiba um número aleatório entre 1 e 9: \n",
    "\n"
   ]
  },
  {
   "cell_type": "code",
   "execution_count": 28,
   "metadata": {},
   "outputs": [
    {
     "name": "stdout",
     "output_type": "stream",
     "text": [
      "6\n"
     ]
    }
   ],
   "source": [
    "# Para usar qualquer módulo tem que importar o mesmo: \n",
    "\n",
    "import random \n",
    "\n",
    "print(random.randrange(10))"
   ]
  },
  {
   "cell_type": "markdown",
   "metadata": {},
   "source": [
    "# Exercício: \n",
    "\n",
    "#####  Insira a sintaxe correta para converter x em um número de ponto flutuante.\n",
    "\n",
    "COMPLETE: \n",
    "\n",
    "- X = 5 \n",
    "- X = (X)"
   ]
  },
  {
   "cell_type": "code",
   "execution_count": 30,
   "metadata": {},
   "outputs": [
    {
     "name": "stdout",
     "output_type": "stream",
     "text": [
      "5.0\n"
     ]
    }
   ],
   "source": [
    "X = 5 \n",
    "X = float(X)\n",
    "print(X)"
   ]
  }
 ],
 "metadata": {
  "kernelspec": {
   "display_name": "Python 3",
   "language": "python",
   "name": "python3"
  },
  "language_info": {
   "codemirror_mode": {
    "name": "ipython",
    "version": 3
   },
   "file_extension": ".py",
   "mimetype": "text/x-python",
   "name": "python",
   "nbconvert_exporter": "python",
   "pygments_lexer": "ipython3",
   "version": "3.11.9"
  }
 },
 "nbformat": 4,
 "nbformat_minor": 2
}
