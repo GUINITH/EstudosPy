{
 "cells": [
  {
   "cell_type": "markdown",
   "metadata": {},
   "source": [
    "# Tuplas: \n",
    "\n",
    "Tuplas são usadas para armazenar varios itens e um variável.\n",
    "\n",
    "Ela é uma das estruturas de coleção de dados, assim como Listas, Dicionários e Sets."
   ]
  }
 ],
 "metadata": {
  "language_info": {
   "name": "python"
  }
 },
 "nbformat": 4,
 "nbformat_minor": 2
}
