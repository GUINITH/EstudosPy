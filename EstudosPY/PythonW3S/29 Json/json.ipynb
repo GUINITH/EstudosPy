{
 "cells": [
  {
   "cell_type": "markdown",
   "metadata": {},
   "source": [
    "# Json Python \n",
    "\n",
    "Json é uma sintaxe para armazenar e trocar dados. \n",
    "\n",
    "Json é uma string, escrita com notação de objeto JavaScript. \n",
    "\n",
    "## JSON em Python \n",
    "\n",
    "Python tem um pacote interno chamado `json`, que pode ser usado para trabalhar com dados JSON.\n",
    "\n",
    "Importe o módulo Json: \n"
   ]
  },
  {
   "cell_type": "code",
   "execution_count": 1,
   "metadata": {},
   "outputs": [],
   "source": [
    "import json "
   ]
  },
  {
   "cell_type": "markdown",
   "metadata": {},
   "source": [
    "## Analisar JSON - Converter de JSON para Python \n",
    "\n",
    "Se você tiver uma cadeia de caracteres JSON, poderá analisá-la usando o método: ``json.loads()``\n",
    "\n",
    "O resultado será um dicionário.\n",
    "\n",
    "converter um Json"
   ]
  },
  {
   "cell_type": "code",
   "execution_count": 19,
   "metadata": {},
   "outputs": [
    {
     "name": "stdout",
     "output_type": "stream",
     "text": [
      "{'name': 'Guilherme', 'idade': 23}\n"
     ]
    }
   ],
   "source": [
    "import json\n",
    "\n",
    "json_path = r'C:\\Users\\guigu\\OneDrive\\Documents\\GitHub\\EstudosPython\\test.json'\n",
    "\n",
    "with open(json_path, 'r') as file:\n",
    "    dados = json.load(file)\n",
    "\n",
    "print(dados)\n"
   ]
  },
  {
   "cell_type": "markdown",
   "metadata": {},
   "source": [
    "## Converter de Pythoin pra Json\n",
    "\n",
    "Se vocÊ tiver um objeto Python, poderá convertê-lo em uma cadeia de caracteres JSON usando o método ``json.dumps()``.\n",
    "\n",
    "converter de Python para JSON:"
   ]
  },
  {
   "cell_type": "code",
   "execution_count": 20,
   "metadata": {},
   "outputs": [
    {
     "data": {
      "text/plain": [
       "'{\"name\": \"Guilherme\", \"idade\": 23}'"
      ]
     },
     "execution_count": 20,
     "metadata": {},
     "output_type": "execute_result"
    }
   ],
   "source": [
    "dados = {\n",
    "    'name': 'Guilherme',\n",
    "    'idade': 23\n",
    "}\n",
    "\n",
    "converter_json = json.dumps(dados)\n",
    "converter_json"
   ]
  },
  {
   "cell_type": "markdown",
   "metadata": {},
   "source": [
    "Você pode converter objetos Python dos seguintes tipos, em cadeias de caracteres JSON: \n",
    "\n",
    "- Dict \n",
    "- List\n",
    "- Tuple\n",
    "- Str \n",
    "- Int \n",
    "- Float \n",
    "- True\n",
    "- False\n",
    "- None\n",
    "\n",
    "\n",
    "Converta objetos Python em cadeias de caracteres JSON e imprima os valores: \n"
   ]
  },
  {
   "cell_type": "code",
   "execution_count": 22,
   "metadata": {},
   "outputs": [
    {
     "name": "stdout",
     "output_type": "stream",
     "text": [
      "{\"name\": \"Guilherme\", \"age\": \"40\"}\n",
      "[\"verde\", \"Azul\"]\n",
      "[\"Banana\", \"Ma\\u00e7\\u00e3\"]\n",
      "\"hello\"\n",
      "31\n",
      "3.2\n",
      "true\n",
      "null\n"
     ]
    }
   ],
   "source": [
    "print(json.dumps({'name': 'Guilherme', 'age': '40'}))\n",
    "print(json.dumps(['verde', 'Azul']))\n",
    "print(json.dumps(('Banana', 'Maçã')))\n",
    "print(json.dumps('hello'))\n",
    "print(json.dumps(31))\n",
    "print(json.dumps(3.2))\n",
    "print(json.dumps(True))\n",
    "print(json.dumps(None))"
   ]
  },
  {
   "cell_type": "markdown",
   "metadata": {},
   "source": [
    "Quando você converte de Python para JSON, os objetos Python são convertidos no equivalente JSON(Javascript):\n",
    "\n",
    "Python: dict list tuple  str int float True False None                   \n",
    "                  \n",
    "JSON: object Array Array string number number True False Null \n",
    "\n",
    " Converter um bojeto Python contendo todos os tipos de dados legais  \n",
    " "
   ]
  },
  {
   "cell_type": "code",
   "execution_count": 26,
   "metadata": {},
   "outputs": [
    {
     "data": {
      "text/plain": [
       "'{\"Nome\": \"Pedro\", \"Idade\": 13, \"Estado Civil\": \"Solteiro\", \"De maior\": false, \"Adolescente\": true, \"Pais\": [\"Marcele\", \"Jos\\\\u00e9\"], \"Irm\\\\u00e3os\": [\"Bento\", \"Felipe\"], \"Pets\": null, \"hoobies\": [{\"Jogar\": \"Valorant\"}, {\"Estudar\": \"Python\"}]}'"
      ]
     },
     "execution_count": 26,
     "metadata": {},
     "output_type": "execute_result"
    }
   ],
   "source": [
    "persona = {\n",
    "    'Nome': 'Pedro',\n",
    "    'Idade':  13,\n",
    "    'Estado Civil': 'Solteiro',\n",
    "    'De maior': False,\n",
    "    'De menor': True,\n",
    "    'Pais': ['Marcele', 'José'],\n",
    "    'Irmãos': ('Bento','Felipe'),\n",
    "    'Pets' : None,\n",
    "    'hoobies': [\n",
    "        {'Jogar': 'Valorant'},\n",
    "        {'Estudar': 'Python'}\n",
    "    ]\n",
    "}\n",
    "\n",
    "json.dumps(persona)\n",
    "json.dumps(persona)"
   ]
  }
 ],
 "metadata": {
  "kernelspec": {
   "display_name": "Python 3",
   "language": "python",
   "name": "python3"
  },
  "language_info": {
   "codemirror_mode": {
    "name": "ipython",
    "version": 3
   },
   "file_extension": ".py",
   "mimetype": "text/x-python",
   "name": "python",
   "nbconvert_exporter": "python",
   "pygments_lexer": "ipython3",
   "version": "3.11.9"
  }
 },
 "nbformat": 4,
 "nbformat_minor": 2
}
