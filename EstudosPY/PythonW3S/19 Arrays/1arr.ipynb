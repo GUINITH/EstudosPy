{
 "cells": [
  {
   "cell_type": "markdown",
   "metadata": {},
   "source": [
    "# Arrays Python \n",
    "\n",
    "Obs: O Python não tem suporte integrado para matrizers, mas listas do Python podem ser usadas. \n",
    "\n",
    "## Arrays(Matrizes)\n",
    "\n",
    "Esta página mostra como usar listas como Arrays; no entanto, para trabalhar com arrays em Pythgon, você pode terá que importar uma biblioteca, como a blibioteca do NumPy.\n",
    "\n",
    "Arrays são usadas para armazenar vários valores em uma única variável: \n",
    "\n",
    "Crie uma matriz contendo nome de frutas: \n"
   ]
  },
  {
   "cell_type": "code",
   "execution_count": 1,
   "metadata": {},
   "outputs": [],
   "source": [
    "frutas = ['Uva', 'Maçã', 'Laranja']\n"
   ]
  },
  {
   "cell_type": "markdown",
   "metadata": {},
   "source": [
    "## O que é um Array? \n",
    "\n",
    "Um árray é uma variável especial que pode conter mais de um valor por vez. \n",
    "\n",
    "Se você tiver uma lista de itens (uma lista de nomes de carros, por exemplo),  armazenar as frutas em variáveis únicas poodem ficar assim: "
   ]
  },
  {
   "cell_type": "code",
   "execution_count": 2,
   "metadata": {},
   "outputs": [],
   "source": [
    "fruta1 = 'Uva'\n",
    "fruta2 = 'Maçã'\n",
    "fruta3 = 'Laranja'\n"
   ]
  },
  {
   "cell_type": "markdown",
   "metadata": {},
   "source": [
    "No entanto, e se você quiser percorrer as frutas e encontrar uma específica? E se você não tivesse 3 frutas, mas 300? \n",
    "\n",
    "A solução é um array! \n",
    "\n",
    "Um array pode conter muitos valores sob um único nome, e você pode acessar os valores consultando um número de índice. \n",
    "\n",
    "Acesse os elemntons de uma matriz \n",
    "\n",
    "Você se refere a um elemento de matriz referindo-se ao número do índice. \n",
    "\n"
   ]
  }
 ],
 "metadata": {
  "kernelspec": {
   "display_name": "Python 3",
   "language": "python",
   "name": "python3"
  },
  "language_info": {
   "codemirror_mode": {
    "name": "ipython",
    "version": 3
   },
   "file_extension": ".py",
   "mimetype": "text/x-python",
   "name": "python",
   "nbconvert_exporter": "python",
   "pygments_lexer": "ipython3",
   "version": "3.11.9"
  }
 },
 "nbformat": 4,
 "nbformat_minor": 2
}
