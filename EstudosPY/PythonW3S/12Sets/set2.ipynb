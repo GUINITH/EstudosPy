{
 "cells": [
  {
   "cell_type": "markdown",
   "metadata": {},
   "source": [
    "# Itens do conjunto de acesso \n",
    "\n",
    "#### Itens de acesso \n",
    "\n",
    "Não é possivel acessar itens em um conjunto fazendo referência a um índice ou a uma chave. \n",
    "\n",
    "Mas você pode percorrer os itens do conjunto usando um loop ou perguntar se um valor especificado está presente em um conjunto, usando a palavra-chave. ``for in``"
   ]
  },
  {
   "cell_type": "code",
   "execution_count": 1,
   "metadata": {},
   "outputs": [
    {
     "name": "stdout",
     "output_type": "stream",
     "text": [
      "Roxo\n",
      "Azul\n",
      "Vermelhor\n"
     ]
    }
   ],
   "source": [
    "cores = {'Azul', 'Vermelho', 'Roxo'}\n",
    "for cor in cores: \n",
    "    print(cor)\n"
   ]
  },
  {
   "cell_type": "markdown",
   "metadata": {},
   "source": [
    " Verificando se o item existe ou não \n",
    " "
   ]
  },
  {
   "cell_type": "code",
   "execution_count": null,
   "metadata": {},
   "outputs": [],
   "source": [
    "cores = {'Azul', 'Vermelho', 'Roxo'} \n",
    "if 'Amerelo' in cores: \n",
    "    print(True)\n",
    "else:\n",
    "    print('Não existe')"
   ]
  }
 ],
 "metadata": {
  "kernelspec": {
   "display_name": "Python 3",
   "language": "python",
   "name": "python3"
  },
  "language_info": {
   "codemirror_mode": {
    "name": "ipython",
    "version": 3
   },
   "file_extension": ".py",
   "mimetype": "text/x-python",
   "name": "python",
   "nbconvert_exporter": "python",
   "pygments_lexer": "ipython3",
   "version": "3.11.9"
  }
 },
 "nbformat": 4,
 "nbformat_minor": 2
}
