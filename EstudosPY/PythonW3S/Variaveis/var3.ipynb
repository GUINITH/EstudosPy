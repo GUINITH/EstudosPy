{
 "cells": [
  {
   "cell_type": "markdown",
   "metadata": {},
   "source": [
    "# Variáveis Python - Atribuir vários valores \n",
    "\n"
   ]
  },
  {
   "cell_type": "markdown",
   "metadata": {},
   "source": [
    "# Muitos valores para múltiplas variáveis \n",
    "\n",
    "- Python permite atribuir valores a múltiplas variáveis em uma linha: \n",
    "\n",
    "##### exemplo: "
   ]
  },
  {
   "cell_type": "code",
   "execution_count": 1,
   "metadata": {},
   "outputs": [
    {
     "name": "stdout",
     "output_type": "stream",
     "text": [
      "('Maria', 'é', 'negra!')\n"
     ]
    }
   ],
   "source": [
    "x,y,z = 'Maria', 'é', 'negra!'\n",
    "print(f'{x,y,z}')\n",
    "\n",
    "# Nota: Certifique-se de que o número de variáveis ​​corresponda ao número de valores, caso contrário você receberá um erro."
   ]
  },
  {
   "cell_type": "markdown",
   "metadata": {},
   "source": [
    "# Um valor para multiplas variáveis \n",
    "\n",
    "- E você pode atribuir o mesmo valor a múltiplas variáveis em uma linha: \n",
    "\n",
    "##### Exemplo: "
   ]
  },
  {
   "cell_type": "code",
   "execution_count": 2,
   "metadata": {},
   "outputs": [
    {
     "name": "stdout",
     "output_type": "stream",
     "text": [
      "Amarelo\n",
      "Amarelo\n",
      "Amarelo\n"
     ]
    }
   ],
   "source": [
    "x=y=z = 'Amarelo'\n",
    "print(x)\n",
    "print(y)\n",
    "print(z)"
   ]
  },
  {
   "cell_type": "markdown",
   "metadata": {},
   "source": [
    "# Descompacte uma coleção de Dados: \n",
    "\n",
    "- Se você tiver uma coleção de valores em uma lista, tupla etct. Python permite extrair os valores em variáveis. Isso é chamado de descompactação. \n",
    "\n",
    "Exemplo:\n",
    "\n",
    "- Descompacte uma lista: "
   ]
  },
  {
   "cell_type": "code",
   "execution_count": 3,
   "metadata": {},
   "outputs": [
    {
     "name": "stdout",
     "output_type": "stream",
     "text": [
      "Maçã\n",
      "Morando\n",
      "Laranja\n"
     ]
    }
   ],
   "source": [
    "frutas = ['Maçã', 'Morango', 'Laranja']\n",
    "ft1,ft2,ft3 = frutas \n",
    "print(ft1)\n",
    "print(ft2)\n",
    "print(ft3)"
   ]
  }
 ],
 "metadata": {
  "kernelspec": {
   "display_name": "Python 3",
   "language": "python",
   "name": "python3"
  },
  "language_info": {
   "codemirror_mode": {
    "name": "ipython",
    "version": 3
   },
   "file_extension": ".py",
   "mimetype": "text/x-python",
   "name": "python",
   "nbconvert_exporter": "python",
   "pygments_lexer": "ipython3",
   "version": "3.11.9"
  }
 },
 "nbformat": 4,
 "nbformat_minor": 2
}
