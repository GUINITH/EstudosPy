{
 "cells": [
  {
   "cell_type": "markdown",
   "metadata": {},
   "source": [
    "# Tipos de Dados Python \n",
    "\n",
    "#### Tipos de dados integrados \n",
    "\n",
    "Na programação, o tipo de dados é um conceito importante.\n",
    "\n",
    "Varáveis podem armanezar dados de diferentes tipos, e diferentes tipos podem fazer coisas diferentes.\n",
    "\n",
    "Python tem os seguintes de dados integrados por padrão, nestas categorias: \n",
    "\n",
    "- Tipo de Texto: `str`\n",
    "- Tipos Númericos: `int`, `float`, `complex`\n",
    "- Tipos de Sequência: `list`, `tuple`, `range`\n",
    "- Tipos de Mapeamento: `dict`\n",
    "- Tipos de Conjunto: `set`, `frozenset`\n",
    "- Tippos Booleano: `bool`\n",
    "- Tipos Binários: `bytes`, `byterray`, `memoryview`\n",
    "- Nenhum tipo: `NoneType`"
   ]
  },
  {
   "cell_type": "markdown",
   "metadata": {},
   "source": [
    "## Obetendo o tipo de dados \n",
    "\n",
    "Você pode obter o tipo de dados de qualquer objeto usando a `type()` function: \n",
    "\n",
    "#### Exemplo\n",
    "\n",
    "Imprima o tipo de dados da variável x: "
   ]
  },
  {
   "cell_type": "code",
   "execution_count": 1,
   "metadata": {},
   "outputs": [
    {
     "name": "stdout",
     "output_type": "stream",
     "text": [
      "<class 'int'>\n"
     ]
    }
   ],
   "source": [
    "x = 10\n",
    "print(type(x))"
   ]
  },
  {
   "cell_type": "markdown",
   "metadata": {},
   "source": [
    "# Configurando o tipo de dados\n",
    "\n",
    "Em python, o tipo de dados é definido quando você atribui um valor a uma variável: \n",
    "\n",
    "### Exemplo\t                                      Data Type\n",
    "- x = \"Hello World\"\t                               ``str``\t\n",
    "- x = 20\t                                           ``int``\t\n",
    "- x = 20.5\t                                       ``float``\t\n",
    "- x = 1j\t                                           ``complex``\t\n",
    "- x = [\"apple\", \"banana\", \"cherry\"]\t               ``list``\t\n",
    "- x = (\"apple\", \"banana\", \"cherry\")\t               ``tuple``\t\n",
    "- x = range(6)\t                                   ``range``\t\n",
    "- x = {\"name\" : \"John\", \"age\" : 36}\t               ``dict`` \t\n",
    "- x = {\"apple\", \"banana\", \"cherry\"}\t               ``set``\t\n",
    "- x = frozenset({\"apple\", \"banana\", \"cherry\"})\t  ``frozenset``\t\n",
    "- x = True\t                                     ``bool``\t\n",
    "- x = b\"Hello\"\t                                 ``bytes``\t\n",
    "- x = bytearray(5)\t                             ``bytearray``\t\n",
    "- x = memoryview(bytes(5))\t                     ``memoryview``\t\n",
    "- x = None\t                                     ``NoneType``\n"
   ]
  },
  {
   "cell_type": "markdown",
   "metadata": {},
   "source": [
    "# Configurando o tipo de dados especifico \n",
    "\n",
    "Se quiser especificar o tipo de dados, você pode usar as seguintes funções construturas:\n",
    "\n",
    "- x = str(\"Hello World\")\tstr\t\n",
    "- x = int(20)\tint\t\n",
    "- x = float(20.5)\tfloat\t\n",
    "- x = complex(1j)\tcomplex\t\n",
    "- x = list((\"apple\", \"banana\", \"cherry\"))\tlist\t\n",
    "- x = tuple((\"apple\", \"banana\", \"cherry\"))\ttuple\t\n",
    "- x = range(6)\trange\t\n",
    "- x = dict(name=\"John\", age=36)\tdict\t\n",
    "- x = set((\"apple\", \"banana\", \"cherry\"))\tset\t\n",
    "- x = frozenset((\"apple\", \"banana\", \"cherry\"))\tfrozenset\t\n",
    "- x = bool(5)\tbool\t\n",
    "- x = bytes(5)\tbytes\t\n",
    "- x = bytearray(5)\tbytearray\t\n",
    "-x = memoryview(bytes(5))\tmemoryview\t\n"
   ]
  },
  {
   "cell_type": "code",
   "execution_count": null,
   "metadata": {},
   "outputs": [],
   "source": []
  }
 ],
 "metadata": {
  "kernelspec": {
   "display_name": "Python 3",
   "language": "python",
   "name": "python3"
  },
  "language_info": {
   "codemirror_mode": {
    "name": "ipython",
    "version": 3
   },
   "file_extension": ".py",
   "mimetype": "text/x-python",
   "name": "python",
   "nbconvert_exporter": "python",
   "pygments_lexer": "ipython3",
   "version": "3.11.9"
  }
 },
 "nbformat": 4,
 "nbformat_minor": 2
}
