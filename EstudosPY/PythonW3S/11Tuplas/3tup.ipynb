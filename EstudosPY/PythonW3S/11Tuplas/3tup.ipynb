{
 "cells": [
  {
   "cell_type": "markdown",
   "metadata": {},
   "source": [
    "# Atualização de Tuplas \n",
    "\n",
    "Tuplas são imutáveis, o que significa que você não pode alterar, adicionar ou remover itens depois que a tupla é criada. Porém, existem algumas soluções alternativas. \n",
    "\n",
    "## Alterar valores de tupla:\n",
    "\n",
    "Depois que uma tupla é criada, você não pode alterar seus valores. Tuplas são imutáveis, ou imutável como também é chamado. Mas há uma solução alternativa. Você pode converter a tupla em uma lista, alterar o e converta a lista de volta em uma tupla. \n",
    "\n",
    "\n",
    "##### Exemplo: Converta a tupla em uma lista para pdoer alterá-la: "
   ]
  },
  {
   "cell_type": "code",
   "execution_count": 23,
   "metadata": {},
   "outputs": [
    {
     "name": "stdout",
     "output_type": "stream",
     "text": [
      "(1, 6, 3, 4, 5)\n"
     ]
    }
   ],
   "source": [
    "x= (1,2,3,4,5)\n",
    "y = list(x)\n",
    "y[1]= 6\n",
    "x=tuple(y)\n",
    "print(x)"
   ]
  },
  {
   "cell_type": "markdown",
   "metadata": {},
   "source": [
    "## Adicionar itens:\n",
    "\n",
    "Como as tuplas são imutáveis, elas não têm um método embutido, mas Há outras maneiras de adicionar itens a uma tupla. ``append()``\n",
    "\n",
    "1. Converter em uma lista: Assim como a solução alternativa para alterrar uma tupla, você pode convertê-la em uma lista, adicionar seus itens e convetêlos novamente em uma tupla:"
   ]
  },
  {
   "cell_type": "code",
   "execution_count": 24,
   "metadata": {},
   "outputs": [
    {
     "name": "stdout",
     "output_type": "stream",
     "text": [
      "(2, 4, 6, 8, 10, 12, 14, 16, 18, 20, 22)\n"
     ]
    }
   ],
   "source": [
    "tuplas_numbers = tuple(range(2,21,2))\n",
    "lista_numeros = list(tuplas_numbers)\n",
    "lista_numeros.append(22)\n",
    "tuplas_numbers = tuple(lista_numeros)\n",
    "print(tuplas_numbers)\n",
    "\n"
   ]
  },
  {
   "cell_type": "markdown",
   "metadata": {},
   "source": [
    "2. Adicionar tupla a uma tupla.Você tem permissão para adicionar tuplas a tuplas, portanto, se você quiser adicionar um item, (ou vários), crie uma nova tupla com o itens e adicioná-lo à tupla existente: \n",
    "\n"
   ]
  },
  {
   "cell_type": "code",
   "execution_count": 25,
   "metadata": {},
   "outputs": [
    {
     "name": "stdout",
     "output_type": "stream",
     "text": [
      "(2, 4, 6, 8, 10, 12, 14, 16, 18, 20, 22, 24, 26, 28, 30, 32, 34, 36, 38, 40)\n"
     ]
    }
   ],
   "source": [
    "mais_numeros = tuple(range(24, 41,2))\n",
    "tuplas_numbers += mais_numeros\n",
    "print(tuplas_numbers)"
   ]
  },
  {
   "cell_type": "markdown",
   "metadata": {},
   "source": [
    "# Remover itens \n",
    "\n",
    "- Não é possivel remover intens em uma tupla.\n",
    "\n",
    "- Tuplas são imutáveis, então você pode remover itens a partir dele, mas você pode usar a mesma solução alternativa que usamos para alterar e adicionar itens de tupla: \n",
    "\n",
    "1. Converta a tupla em uma lista, remova número 26 da tupla e converta-a novamente em uma tupla"
   ]
  },
  {
   "cell_type": "code",
   "execution_count": 38,
   "metadata": {},
   "outputs": [
    {
     "name": "stdout",
     "output_type": "stream",
     "text": [
      "(2, 4, 6, 8, 10, 12, 14, 16, 18, 20, 22, 24, 28, 30, 32, 34, 36, 38, 40)\n"
     ]
    }
   ],
   "source": [
    "remover_numero = list(tuplas_numbers)\n",
    "remover_numero.remove(26)\n",
    "new_tupla = tuple(remover_numero)\n",
    "print(new_tupla)"
   ]
  },
  {
   "cell_type": "markdown",
   "metadata": {},
   "source": [
    "Ou você pode excluir a tupla completamente: \n"
   ]
  },
  {
   "cell_type": "code",
   "execution_count": 39,
   "metadata": {},
   "outputs": [],
   "source": [
    "del new_tupla"
   ]
  }
 ],
 "metadata": {
  "kernelspec": {
   "display_name": "Python 3",
   "language": "python",
   "name": "python3"
  },
  "language_info": {
   "codemirror_mode": {
    "name": "ipython",
    "version": 3
   },
   "file_extension": ".py",
   "mimetype": "text/x-python",
   "name": "python",
   "nbconvert_exporter": "python",
   "pygments_lexer": "ipython3",
   "version": "3.11.9"
  }
 },
 "nbformat": 4,
 "nbformat_minor": 2
}
