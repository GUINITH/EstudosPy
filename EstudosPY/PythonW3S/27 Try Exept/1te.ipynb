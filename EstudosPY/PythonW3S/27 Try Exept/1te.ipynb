{
 "cells": [
  {
   "cell_type": "markdown",
   "metadata": {},
   "source": [
    "# Python Try e Except \n",
    "\n",
    "O bloco `try` permite que você teste um bloco de código para erros.\n",
    "\n",
    "o bloco `except` permite que você manipule o erro. \n",
    "\n",
    "O bloco `else` permite que você Execute código quando não houver erro.\n",
    "\n",
    "O bloco `finally` permite que você execute o código, independentemente do resultado dos blcos try e except. \n",
    "\n",
    "\n",
    "## Tratamento de exceções \n",
    "\n",
    "Quando ocorre um erro, ou exceção como chamamos, o Python normalmente pára e gera uma mensagem de erro. \n",
    "\n",
    "Essas exceções podem ser tratadas usando a instrução: ``try``"
   ]
  },
  {
   "cell_type": "code",
   "execution_count": 3,
   "metadata": {},
   "outputs": [
    {
     "name": "stdout",
     "output_type": "stream",
     "text": [
      "Erro não existe a variável informada\n"
     ]
    }
   ],
   "source": [
    "try:\n",
    "    print(x)\n",
    "except:\n",
    "    print('Erro não existe a variável informada')\n"
   ]
  },
  {
   "cell_type": "markdown",
   "metadata": {},
   "source": [
    "Como o bloco try gera um erro, o bloco except será executado. \n",
    "\n",
    "Sem oi bloqueio Trye, o programa irá falhar e gerar um erro: \n",
    "\n",
    "Esta declaração irá gerar um erro, porque a variável x não foi definida. \n",
    "\n",
    "`print(x)`"
   ]
  },
  {
   "cell_type": "markdown",
   "metadata": {},
   "source": [
    "## Mias exceções \n",
    "\n",
    " Você pode definir quantos blocos de exceção quiser , por exemplo, se quiser executar um Bloco especial de código para um tipo esppecial de erro: \n",
    "\n",
    " imprima uma mensagem se o bloco try gerar um `NameError` e outro para Outros erros. \n",
    " "
   ]
  },
  {
   "cell_type": "code",
   "execution_count": 4,
   "metadata": {},
   "outputs": [
    {
     "name": "stdout",
     "output_type": "stream",
     "text": [
      "Variavel x não foi definida\n"
     ]
    }
   ],
   "source": [
    "try:\n",
    "    print(x)\n",
    "except NameError:\n",
    "    print('Variavel x não foi definida')\n",
    "except:\n",
    "    print('Erro')\n",
    "\n"
   ]
  },
  {
   "cell_type": "markdown",
   "metadata": {},
   "source": [
    "Isso pode ser útil para fechar objetos e lçimpar recursos:\n",
    "\n",
    "Tente abrir e gravar em um arquivo que não é gravável:\n",
    "\n"
   ]
  },
  {
   "cell_type": "code",
   "execution_count": 5,
   "metadata": {},
   "outputs": [
    {
     "name": "stdout",
     "output_type": "stream",
     "text": [
      "Arquivo não encontrado tente novamente\n"
     ]
    }
   ],
   "source": [
    "try:\n",
    "    arquivo = open('arquivo.txt')\n",
    "    try: \n",
    "        arquivo.write('Teste')\n",
    "    except:\n",
    "        print('Não foi possivel escrever no arquivo')\n",
    "    finally:\n",
    "        arquivo.close()\n",
    "except:\n",
    "    print('Arquivo não encontrado tente novamente')\n",
    "    "
   ]
  },
  {
   "cell_type": "markdown",
   "metadata": {},
   "source": [
    "O programa pode continuar, sem deixar o objeto de arquivo aberto.\n",
    "\n",
    "## Abrir uma exceção \n",
    "\n",
    "Como desenvolvedor Python, você pode optar por lançar uma exceção se ocorrer uma condição. \n",
    "\n",
    "Para lançar (ou  levantar) uma exceção, use a palavra-chave raise. \n",
    "\n",
    "Gere um erro e pare o programa se x for menor que 0: \n",
    "\n",
    "\n"
   ]
  },
  {
   "cell_type": "code",
   "execution_count": 11,
   "metadata": {},
   "outputs": [
    {
     "ename": "Exception",
     "evalue": "Desculpe mas o número é menor que zero",
     "output_type": "error",
     "traceback": [
      "\u001b[1;31m---------------------------------------------------------------------------\u001b[0m",
      "\u001b[1;31mException\u001b[0m                                 Traceback (most recent call last)",
      "Cell \u001b[1;32mIn[11], line 4\u001b[0m\n\u001b[0;32m      1\u001b[0m x \u001b[38;5;241m=\u001b[39m \u001b[38;5;241m-\u001b[39m\u001b[38;5;241m1\u001b[39m\n\u001b[0;32m      3\u001b[0m \u001b[38;5;28;01mif\u001b[39;00m x \u001b[38;5;241m<\u001b[39m \u001b[38;5;241m0\u001b[39m: \n\u001b[1;32m----> 4\u001b[0m    \u001b[38;5;28;01mraise\u001b[39;00m \u001b[38;5;167;01mException\u001b[39;00m(\u001b[38;5;124m'\u001b[39m\u001b[38;5;124mDesculpe mas o número é menor que zero\u001b[39m\u001b[38;5;124m'\u001b[39m)\n",
      "\u001b[1;31mException\u001b[0m: Desculpe mas o número é menor que zero"
     ]
    }
   ],
   "source": [
    "x = -1\n",
    "\n",
    "if x < 0: \n",
    "   raise Exception('Desculpe mas o número é menor que zero')\n"
   ]
  },
  {
   "cell_type": "markdown",
   "metadata": {},
   "source": [
    "A palavra-chave `raise` é usada para gerar uma exceção. \n",
    "\n",
    "Você pode definir que tipo de erro gerar e o tezxto a ser impresso para o usuário. \n",
    "\n",
    "Levante um TypeErro se x não for um inteiro: \n"
   ]
  },
  {
   "cell_type": "code",
   "execution_count": 12,
   "metadata": {},
   "outputs": [
    {
     "ename": "TypeError",
     "evalue": "Erro, tipo de dados diferentes",
     "output_type": "error",
     "traceback": [
      "\u001b[1;31m---------------------------------------------------------------------------\u001b[0m",
      "\u001b[1;31mTypeError\u001b[0m                                 Traceback (most recent call last)",
      "Cell \u001b[1;32mIn[12], line 4\u001b[0m\n\u001b[0;32m      1\u001b[0m x \u001b[38;5;241m=\u001b[39m \u001b[38;5;124m'\u001b[39m\u001b[38;5;124mOlá\u001b[39m\u001b[38;5;124m'\u001b[39m\n\u001b[0;32m      3\u001b[0m \u001b[38;5;28;01mif\u001b[39;00m \u001b[38;5;129;01mnot\u001b[39;00m \u001b[38;5;28mtype\u001b[39m(x) \u001b[38;5;129;01mis\u001b[39;00m \u001b[38;5;28mint\u001b[39m: \n\u001b[1;32m----> 4\u001b[0m     \u001b[38;5;28;01mraise\u001b[39;00m \u001b[38;5;167;01mTypeError\u001b[39;00m(\u001b[38;5;124m'\u001b[39m\u001b[38;5;124mErro, tipo de dados diferentes\u001b[39m\u001b[38;5;124m'\u001b[39m)\n",
      "\u001b[1;31mTypeError\u001b[0m: Erro, tipo de dados diferentes"
     ]
    }
   ],
   "source": [
    "x = 'Olá'\n",
    "\n",
    "if not type(x) is int: \n",
    "    raise TypeError('Erro, tipo de dados diferentes')\n"
   ]
  }
 ],
 "metadata": {
  "kernelspec": {
   "display_name": "Python 3",
   "language": "python",
   "name": "python3"
  },
  "language_info": {
   "codemirror_mode": {
    "name": "ipython",
    "version": 3
   },
   "file_extension": ".py",
   "mimetype": "text/x-python",
   "name": "python",
   "nbconvert_exporter": "python",
   "pygments_lexer": "ipython3",
   "version": "3.11.9"
  }
 },
 "nbformat": 4,
 "nbformat_minor": 2
}
