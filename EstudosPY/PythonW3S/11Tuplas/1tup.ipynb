{
 "cells": [
  {
   "cell_type": "markdown",
   "metadata": {},
   "source": [
    "# Tuplas: \n",
    "\n",
    "Tuplas são usadas para armazenar varios itens e um variável.\n",
    "\n",
    "Ela é uma das 4 estruturas integradas em Python, usadas para armazenar coleções de dados, assim como Listas, Dicionários e Sets. Todas com qualidades e usos diferentes. \n",
    "\n",
    "Uma tupla é uma coleção ordenada e imutável. \n",
    "\n",
    "Tuplas são escritas entre colchetes. \n",
    "\n"
   ]
  },
  {
   "cell_type": "code",
   "execution_count": 1,
   "metadata": {},
   "outputs": [
    {
     "name": "stdout",
     "output_type": "stream",
     "text": [
      "('mike', 'titi', 'ruly')\n"
     ]
    }
   ],
   "source": [
    "my_tuple = ('mike','titi', 'ruly')\n",
    "print(my_tuple)"
   ]
  }
 ],
 "metadata": {
  "kernelspec": {
   "display_name": "Python 3",
   "language": "python",
   "name": "python3"
  },
  "language_info": {
   "codemirror_mode": {
    "name": "ipython",
    "version": 3
   },
   "file_extension": ".py",
   "mimetype": "text/x-python",
   "name": "python",
   "nbconvert_exporter": "python",
   "pygments_lexer": "ipython3",
   "version": "3.11.9"
  }
 },
 "nbformat": 4,
 "nbformat_minor": 2
}
