{
 "cells": [
  {
   "cell_type": "markdown",
   "metadata": {},
   "source": [
    "# Booleanos Python \n",
    "\n",
    "Booleanos representam um de dois valores: ``True`` ou ``False``.\n",
    "\n",
    "### Valores Booleanos\n",
    "\n",
    "- Na programação, muitas vezes você precisa saber se uma expressão é ``True`` ou ``False``.\n",
    "\n",
    "- Você pode avaliar qualquer expressão em Python e obter uma de duas respostas, ``True`` ou ``False``. \n",
    "\n",
    "- Qaundo você compara dois valores, a expressão é avaliada eo Python retorna resposta booleana: \n",
    "\n",
    "##### Exemplo: \n",
    "\n"
   ]
  },
  {
   "cell_type": "code",
   "execution_count": 1,
   "metadata": {},
   "outputs": [
    {
     "name": "stdout",
     "output_type": "stream",
     "text": [
      "True\n",
      "False\n",
      "False\n"
     ]
    }
   ],
   "source": [
    "print(10 > 9)\n",
    "print(10 == 9)\n",
    "print(10 < 9)"
   ]
  },
  {
   "cell_type": "markdown",
   "metadata": {},
   "source": [
    "Quando você executa uma condição em uma instrução if, Python retorna True ou False: \n",
    "\n",
    "##### Exemplo: \n",
    "\n",
    "Imprima uma mensagem com base se a condição é True ou False:"
   ]
  },
  {
   "cell_type": "code",
   "execution_count": 2,
   "metadata": {},
   "outputs": [
    {
     "name": "stdout",
     "output_type": "stream",
     "text": [
      "2500 é maior que 300\n"
     ]
    }
   ],
   "source": [
    "number_one = 2500 \n",
    "number_two = 300 \n",
    "\n",
    "if number_one > number_two: \n",
    "    print(f'{number_one} é maior que {number_two}')\n",
    "else: \n",
    "    print(f'{number_one} é maior que {number_two}')"
   ]
  },
  {
   "cell_type": "markdown",
   "metadata": {},
   "source": [
    "# Avalie Valores e Variáveis \n",
    "\n",
    "A bool() função permite avaliar qualquer valor e fornecer True ou False em troca \n",
    "\n",
    "#### Exemplo \n",
    "\n",
    "Avalie uma string e um número:"
   ]
  },
  {
   "cell_type": "code",
   "execution_count": 3,
   "metadata": {},
   "outputs": [
    {
     "name": "stdout",
     "output_type": "stream",
     "text": [
      "True\n",
      "True\n"
     ]
    }
   ],
   "source": [
    "print(bool('Hello'))\n",
    "print(bool(15))"
   ]
  },
  {
   "cell_type": "markdown",
   "metadata": {},
   "source": [
    "#### Exemplo\n",
    "\n",
    "Avalie duas variáveis:"
   ]
  },
  {
   "cell_type": "code",
   "execution_count": 4,
   "metadata": {},
   "outputs": [
    {
     "name": "stdout",
     "output_type": "stream",
     "text": [
      "True\n",
      "True\n"
     ]
    }
   ],
   "source": [
    "x = \"Hello\"\n",
    "y = 15\n",
    "\n",
    "print(bool(x))\n",
    "print(bool(y))"
   ]
  },
  {
   "cell_type": "markdown",
   "metadata": {},
   "source": [
    "# A maioria dos valores são verdadeiros \n",
    "\n",
    "Quase qualquer valor é avaliado `True` se tiver algum tipo de conteúdo. \n",
    "\n",
    "Qualquer string é `True`, exceto string vazias \n",
    "\n",
    "Qualquer número é `True`, exceto `0`.\n",
    "\n",
    "Qualquer lista, tupla, conjunto e dicionário são `True`, exceto os vazios. \n",
    "\n",
    "# Exemplo\n",
    "\n",
    "O seguinte retornará True:\n"
   ]
  },
  {
   "cell_type": "code",
   "execution_count": 8,
   "metadata": {},
   "outputs": [
    {
     "data": {
      "text/plain": [
       "True"
      ]
     },
     "execution_count": 8,
     "metadata": {},
     "output_type": "execute_result"
    }
   ],
   "source": [
    "bool(\"abc\")\n",
    "bool(123)\n",
    "bool([\"apple\", \"cherry\", \"banana\"])\n"
   ]
  },
  {
   "cell_type": "markdown",
   "metadata": {},
   "source": [
    "# Alguns Valores são falsos \n",
    "\n",
    "Na verdade, não há muitos valores avaliados como `False`, exceto valores vazios, como `()`,`[]`,`{}`,\"\", o número `0` e o valor `None`. E é claro que o valor `False` é avaliado como `False`.\n",
    "\n",
    "#### Exemplo \n",
    "\n",
    "O seguinte retornará False: "
   ]
  },
  {
   "cell_type": "code",
   "execution_count": 11,
   "metadata": {},
   "outputs": [
    {
     "data": {
      "text/plain": [
       "False"
      ]
     },
     "execution_count": 11,
     "metadata": {},
     "output_type": "execute_result"
    }
   ],
   "source": [
    "bool(False)\n",
    "bool(None)\n",
    "bool('')\n",
    "bool(0)\n",
    "bool([])\n",
    "bool({})\n",
    "bool(())\n"
   ]
  },
  {
   "cell_type": "markdown",
   "metadata": {},
   "source": [
    "Mais um valor, ou objeto neste caso, é avaliado como False, e isso se você tiver um objeto feito de uma classe com uma __len__função que retorna 0ou False:\n",
    "\n",
    "##### Exemplo \n",
    "\n"
   ]
  },
  {
   "cell_type": "code",
   "execution_count": 12,
   "metadata": {},
   "outputs": [
    {
     "name": "stdout",
     "output_type": "stream",
     "text": [
      "False\n"
     ]
    }
   ],
   "source": [
    "class myclass():\n",
    "  def __len__(self):\n",
    "    return 0\n",
    "\n",
    "myobj = myclass()\n",
    "print(bool(myobj))"
   ]
  },
  {
   "cell_type": "markdown",
   "metadata": {},
   "source": [
    "# Funções podem retornar um booleano \n",
    "\n",
    "Voce pode criar funções que retornem um valor booleano: \n",
    "\n",
    "#### Exemplo \n",
    "\n",
    "Implima a resposta de uma função: "
   ]
  },
  {
   "cell_type": "code",
   "execution_count": 16,
   "metadata": {},
   "outputs": [
    {
     "name": "stdout",
     "output_type": "stream",
     "text": [
      "(True, '55 é maior que 34')\n"
     ]
    }
   ],
   "source": [
    "def minha_funcao(a,b):\n",
    "    a > b\n",
    "    return True, f\"{a} é maior que {b}\"\n",
    "\n",
    "print(minha_funcao(55,34))"
   ]
  },
  {
   "cell_type": "markdown",
   "metadata": {},
   "source": [
    "Você pode executar código com base na resposta booleana de uma função:\n",
    "\n",
    "\n",
    "##### Exemplo\n",
    "\n",
    "Imprima `Sim` se a função retornar `True`, caso contrário imprima `Não!`: \n",
    "\n"
   ]
  },
  {
   "cell_type": "code",
   "execution_count": 22,
   "metadata": {},
   "outputs": [
    {
     "name": "stdout",
     "output_type": "stream",
     "text": [
      "Sim!\n"
     ]
    }
   ],
   "source": [
    "def minha_funcao(number_one, number_two): \n",
    "    if number_one > number_two:\n",
    "        return 'Sim!'\n",
    "    else:\n",
    "        return 'Não!'\n",
    "print(minha_funcao(34,33))"
   ]
  },
  {
   "cell_type": "markdown",
   "metadata": {},
   "source": [
    "Python também possui muitas funções integradas que retornam um valor booleano, como a ``isinstance()`` função, que pode ser usada para determinar se um objeto é de um determinado tipo de dados:\n",
    "\n",
    "#### Exemplo: \n",
    "\n",
    "Verifique se um objeto é um número inteiro ou não: "
   ]
  },
  {
   "cell_type": "code",
   "execution_count": 28,
   "metadata": {},
   "outputs": [
    {
     "name": "stdout",
     "output_type": "stream",
     "text": [
      "True\n",
      "True\n",
      "True\n"
     ]
    }
   ],
   "source": [
    "x = 30.01\n",
    "y = 'Olá'\n",
    "z = 1000\n",
    "print(isinstance(x, float))\n",
    "print(isinstance(y, str))\n",
    "print(isinstance(z, int))"
   ]
  }
 ],
 "metadata": {
  "kernelspec": {
   "display_name": "Python 3",
   "language": "python",
   "name": "python3"
  },
  "language_info": {
   "codemirror_mode": {
    "name": "ipython",
    "version": 3
   },
   "file_extension": ".py",
   "mimetype": "text/x-python",
   "name": "python",
   "nbconvert_exporter": "python",
   "pygments_lexer": "ipython3",
   "version": "3.11.9"
  }
 },
 "nbformat": 4,
 "nbformat_minor": 2
}
